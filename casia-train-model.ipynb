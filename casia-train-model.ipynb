{
 "cells": [
  {
   "cell_type": "code",
   "execution_count": 1,
   "id": "2fd81fad",
   "metadata": {
    "_cell_guid": "b1076dfc-b9ad-4769-8c92-a6c4dae69d19",
    "_uuid": "8f2839f25d086af736a60e9eeb907d3b93b6e0e5",
    "execution": {
     "iopub.execute_input": "2021-11-17T16:12:42.808946Z",
     "iopub.status.busy": "2021-11-17T16:12:42.808167Z",
     "iopub.status.idle": "2021-11-17T16:12:42.860751Z",
     "shell.execute_reply": "2021-11-17T16:12:42.861525Z",
     "shell.execute_reply.started": "2021-11-17T14:36:30.268307Z"
    },
    "papermill": {
     "duration": 0.085687,
     "end_time": "2021-11-17T16:12:42.861890",
     "exception": false,
     "start_time": "2021-11-17T16:12:42.776203",
     "status": "completed"
    },
    "tags": []
   },
   "outputs": [
    {
     "name": "stdout",
     "output_type": "stream",
     "text": [
      "./casia-train-model.ipynb\n",
      "./README.md\n",
      "./data/.gitignore\n",
      "./data/Train/Train/Y_train.csv\n",
      "./data/Train/Train/X_station_train.csv\n",
      "./data/Train/Train/X_forecast/2D_arpege_20170214.nc\n",
      "./data/Train/Train/X_forecast/arpege_3D_height_20170214.nc\n",
      "./data/Train/Train/X_forecast/2D_arome_20170214.nc\n",
      "./data/Train/Train/X_forecast/arpege_3D_isobar_20170214.nc\n",
      "./data/Train/Train/Baselines/Baseline_forecast_train.csv\n",
      "./data/Train/Train/Baselines/Baseline_observation_train.csv\n",
      "./data/Test/Test/Id_month_test.csv\n",
      "./data/Test/Test/X_station_test.csv\n",
      "./data/Test/Test/X_forecast/arpege_3D_isobar_118.nc\n",
      "./data/Test/Test/X_forecast/2D_arpege_119.nc\n",
      "./data/Test/Test/X_forecast/arpege_3D_height_119.nc\n",
      "./data/Test/Test/X_forecast/2D_arome_119.nc\n",
      "./data/Test/Test/Baselines/Baseline_forecast_test.csv\n",
      "./data/Test/Test/Baselines/Baseline_observation_test.csv\n",
      "./data/Other/Other/NW_masks.nc\n",
      "./data/Other/Other/stations_coordinates.csv\n",
      "./.git/config\n",
      "./.git/description\n",
      "./.git/packed-refs\n",
      "./.git/index\n",
      "./.git/ORIG_HEAD\n",
      "./.git/HEAD\n",
      "./.git/FETCH_HEAD\n",
      "./.git/logs/HEAD\n",
      "./.git/logs/refs/remotes/origin/main\n",
      "./.git/logs/refs/remotes/origin/HEAD\n",
      "./.git/logs/refs/heads/main\n",
      "./.git/objects/d2/ebfe45f6ff98e0d7cce363d6fc3d3018a00ec0\n",
      "./.git/objects/8b/3f5edcfec8ee41845ea6d10e301084651e0ca8\n",
      "./.git/objects/0a/a2231b72a7136ba3cbd6de568d59b84ff408c8\n",
      "./.git/objects/97/52e62f6cf03bcdff5cedbababfd07d7294c03a\n",
      "./.git/objects/17/d82798140175652290932564c12a091cbaec28\n",
      "./.git/objects/cc/1c43008372d7d0315add46ad6e8e3dbaceb5bf\n",
      "./.git/objects/a9/6bb2f8f7ad475a5e32f419a348b9bdde6ca81e\n",
      "./.git/objects/a9/4f29a3cbca34c73ba7e45508d99a53b8900a1e\n",
      "./.git/objects/c6/a7b1a83efb42f27dc1c0a2c944dbdc87af2fe9\n",
      "./.git/objects/c1/5cf535d558935f0e872c0cd68c169993215d6e\n",
      "./.git/objects/10/af9284608ccff8bdfd1361cbb6e9b0e4dfd225\n",
      "./.git/objects/72/e8ffc0db8aad71a934dd11e5968bd5109e54b4\n",
      "./.git/objects/57/08707e633550924fa13787435f3c9c255807ce\n",
      "./.git/objects/d5/b070efa6478c9c6c096b586c3937fead873583\n",
      "./.git/objects/d9/797c060a331efec3704215b57052fb22ad5e49\n",
      "./.git/objects/0f/c9cd10225c74a07ae7eab3329c2bf5e1ed81b2\n",
      "./.git/objects/ce/6f3efec6ecaaf1c5d96d579f0f3e1cb56abd90\n",
      "./.git/objects/c7/19609985e06cf0ebd326b8d8071e12feffbe64\n",
      "./.git/objects/47/00485f4047ae560779e3df22af7255dca52015\n",
      "./.git/objects/02/c478d2c1ddb84108bb395b3a3689b6cffcd7b2\n",
      "./.git/objects/02/593fe6cd681f0def6f6286227a6cafe71fff13\n",
      "./.git/objects/2e/1db2f533e01878be9e4ba6f8ec550d49d37aec\n",
      "./.git/objects/e7/6216a2a783f577374056d76d3064c5bc2d2f85\n",
      "./.git/objects/f8/7b93139b15c52c5cbf21c41af5779a28038691\n",
      "./.git/objects/ea/9b70d97dc6d21d8b5bfa50ff885398d485d4a4\n",
      "./.git/objects/00/0a9b4fd3e6faa8a06b1f00159d4a4b9d4c12cc\n",
      "./.git/objects/b2/6181062f47771010e93a0e76f69c24ef470730\n",
      "./.git/info/exclude\n",
      "./.git/hooks/applypatch-msg.sample\n",
      "./.git/hooks/pre-rebase.sample\n",
      "./.git/hooks/pre-receive.sample\n",
      "./.git/hooks/pre-applypatch.sample\n",
      "./.git/hooks/pre-commit.sample\n",
      "./.git/hooks/pre-push.sample\n",
      "./.git/hooks/update.sample\n",
      "./.git/hooks/fsmonitor-watchman.sample\n",
      "./.git/hooks/post-update.sample\n",
      "./.git/hooks/prepare-commit-msg.sample\n",
      "./.git/hooks/commit-msg.sample\n",
      "./.git/refs/remotes/origin/main\n",
      "./.git/refs/remotes/origin/HEAD\n",
      "./.git/refs/heads/main\n",
      "./working/my_baseline.csv\n",
      "./prise_en_main/open-mask-data.ipynb\n",
      "./prise_en_main/open-x-forecast-3d-test.ipynb\n",
      "./prise_en_main/open-x-forecast-3d-train.ipynb\n",
      "./prise_en_main/open-y-and-baselines.ipynb\n",
      "./prise_en_main/compute-baseline-obs.ipynb\n",
      "./prise_en_main/open-x-forecast-2d-train.ipynb\n",
      "./prise_en_main/open-x-station.ipynb\n",
      "./prise_en_main/open-x-forecast-2d-test.ipynb\n",
      "./prise_en_main/.ipynb_checkpoints/open-y-and-baselines-checkpoint.ipynb\n",
      "./prise_en_main/.ipynb_checkpoints/compute-baseline-obs-checkpoint.ipynb\n",
      "./prise_en_main/.ipynb_checkpoints/open-x-forecast-3d-train-checkpoint.ipynb\n",
      "./prise_en_main/.ipynb_checkpoints/open-x-station-checkpoint.ipynb\n",
      "./.ipynb_checkpoints/casia-train-model-checkpoint.ipynb\n"
     ]
    }
   ],
   "source": [
    "# This Python 3 environment comes with many helpful analytics libraries installed\n",
    "# It is defined by the kaggle/python Docker image: https://github.com/kaggle/docker-python\n",
    "# For example, here's several helpful packages to load\n",
    "\n",
    "import numpy as np # linear algebra\n",
    "import pandas as pd # data processing, CSV file I/O (e.g. pd.read_csv)\n",
    "import matplotlib.pyplot as plt\n",
    "import datetime\n",
    "import warnings\n",
    "warnings.filterwarnings(\"ignore\")\n",
    "# Input data files are available in the read-only \"../input/\" directory\n",
    "# For example, running this (by clicking run or pressing Shift+Enter) will list all files under the input directory\n",
    "\n",
    "import os\n",
    "for dirname, _, filenames in os.walk('./'):\n",
    "    for filename in filenames:\n",
    "        print(os.path.join(dirname, filename))\n",
    "\n",
    "# You can write up to 20GB to the current directory (/kaggle/working/) that gets preserved as output when you create a version using \"Save & Run All\" \n",
    "# You can also write temporary files to /kaggle/temp/, but they won't be saved outside of the current session"
   ]
  },
  {
   "cell_type": "markdown",
   "id": "0b373a2e",
   "metadata": {
    "papermill": {
     "duration": 0.023397,
     "end_time": "2021-11-17T16:12:42.907328",
     "exception": false,
     "start_time": "2021-11-17T16:12:42.883931",
     "status": "completed"
    },
    "tags": []
   },
   "source": [
    "### load X_train"
   ]
  },
  {
   "cell_type": "code",
   "execution_count": 2,
   "id": "1aef4493",
   "metadata": {
    "execution": {
     "iopub.execute_input": "2021-11-17T16:12:42.953597Z",
     "iopub.status.busy": "2021-11-17T16:12:42.952907Z",
     "iopub.status.idle": "2021-11-17T16:12:42.957549Z",
     "shell.execute_reply": "2021-11-17T16:12:42.956844Z",
     "shell.execute_reply.started": "2021-11-17T14:36:40.25291Z"
    },
    "papermill": {
     "duration": 0.028914,
     "end_time": "2021-11-17T16:12:42.957697",
     "exception": false,
     "start_time": "2021-11-17T16:12:42.928783",
     "status": "completed"
    },
    "tags": []
   },
   "outputs": [],
   "source": [
    "first_date = datetime.datetime(2016,1,1)    \n",
    "last_date = datetime.datetime(2017,12,31)\n",
    "coords_fname  = './data/Other/Other/stations_coordinates.csv'\n",
    "fname = './data/Train/Train/X_station_train.csv'"
   ]
  },
  {
   "cell_type": "code",
   "execution_count": 19,
   "id": "acd84f78",
   "metadata": {},
   "outputs": [],
   "source": [
    "def load_X_train(fname,coords_fname) :\n",
    "    coords = pd.read_csv(coords_fname)\n",
    "    train = pd.read_csv(fname,parse_dates=['date'],infer_datetime_format=True)\n",
    "    # reorganisation des données.\n",
    "    train['number_sta']=train['number_sta'].astype('category')\n",
    "    #sort by station, then by date \n",
    "    train = train.sort_values(['number_sta','date'])\n",
    "    method_traitements = [\"mean\",\"min\",\"max\",\"std\"]\n",
    "    dict_to_split = {\"ff\":method_traitements,\"t\":method_traitements,\"td\":method_traitements\n",
    "                     ,\"hu\":method_traitements,\"dd\":method_traitements,\"precip\":\"sum\"}\n",
    "    Base_obs = train[{\"number_sta\",\"date\",\"ff\",\"t\",\"td\",\"hu\",\"dd\",\"precip\"}].copy()\n",
    "    Base_obs.set_index('date',inplace = True)  \n",
    "\n",
    "    # type de traitement.\n",
    "    Base_obs_type = Base_obs.groupby('number_sta').resample('D').agg(dict_to_split)\n",
    "    Base_obs_type.columns = ['_'.join(col).strip() for col in Base_obs_type.columns.values]\n",
    "    Base_obs_type = Base_obs_type.reset_index(['date','number_sta'])\n",
    "    Base_obs_type['number_sta'] = Base_obs_type['number_sta'].astype('category')   \n",
    "    #Select the observations the day before\n",
    "\n",
    "    Base_obs_type['Prediction'] = Base_obs_type['precip_sum'].shift(1)\n",
    "    Base_obs_type = Base_obs_type.sort_values(by=[\"number_sta\",\"date\"])\n",
    "    #del Base_obs['precip']\n",
    "    #Base_obs = Base_obs.rename(columns={'baseline_obs':'precip'})\n",
    "    del Base_obs_type[\"precip_sum\"]\n",
    "    date = first_date\n",
    "    dates = []\n",
    "    while date <= (last_date - datetime.timedelta(days=1)):\n",
    "        date += datetime.timedelta(days=1)\n",
    "        dates.append(date)\n",
    "\n",
    "    d_dates =  pd.DataFrame(dates, columns = ['date'])\n",
    "    d_dates['day_index'] = d_dates.index\n",
    "    y_f = Base_obs_type.merge(d_dates,how=\"right\",on = [\"date\"])\n",
    "    y_f = y_f[y_f['date']!=last_date]\n",
    "    y_f['Id'] = y_f[list(y_f.columns)[0]].astype(str) + '_' + \\\n",
    "                      y_f['day_index'].astype(str) \n",
    "    #y_f[\"number_sta\"] = y_f[(\"number_sta\",\"\")]\n",
    "    y_f = y_f.merge(coords,on=[\"number_sta\"],how=\"right\")\n",
    "    X_train = y_f.copy()#drop([\"day_index\"],axis=1)\n",
    "    X_train[\"month\"] = X_train[\"date\"].dt.month\n",
    "    X_train[\"day\"] = X_train[\"date\"].dt.day\n",
    "    X_train.drop([\"date\"],axis=1,inplace=True)\n",
    "    return X_train"
   ]
  },
  {
   "cell_type": "code",
   "execution_count": 20,
   "id": "6d82930d",
   "metadata": {},
   "outputs": [],
   "source": [
    "train = load_X_train(fname,coords_fname)"
   ]
  },
  {
   "cell_type": "code",
   "execution_count": 21,
   "id": "signal-awareness",
   "metadata": {},
   "outputs": [
    {
     "data": {
      "text/html": [
       "<div>\n",
       "<style scoped>\n",
       "    .dataframe tbody tr th:only-of-type {\n",
       "        vertical-align: middle;\n",
       "    }\n",
       "\n",
       "    .dataframe tbody tr th {\n",
       "        vertical-align: top;\n",
       "    }\n",
       "\n",
       "    .dataframe thead th {\n",
       "        text-align: right;\n",
       "    }\n",
       "</style>\n",
       "<table border=\"1\" class=\"dataframe\">\n",
       "  <thead>\n",
       "    <tr style=\"text-align: right;\">\n",
       "      <th></th>\n",
       "      <th>number_sta</th>\n",
       "      <th>ff_mean</th>\n",
       "      <th>ff_min</th>\n",
       "      <th>ff_max</th>\n",
       "      <th>ff_std</th>\n",
       "      <th>t_mean</th>\n",
       "      <th>t_min</th>\n",
       "      <th>t_max</th>\n",
       "      <th>t_std</th>\n",
       "      <th>td_mean</th>\n",
       "      <th>...</th>\n",
       "      <th>dd_max</th>\n",
       "      <th>dd_std</th>\n",
       "      <th>Prediction</th>\n",
       "      <th>day_index</th>\n",
       "      <th>Id</th>\n",
       "      <th>lat</th>\n",
       "      <th>lon</th>\n",
       "      <th>height_sta</th>\n",
       "      <th>month</th>\n",
       "      <th>day</th>\n",
       "    </tr>\n",
       "  </thead>\n",
       "  <tbody>\n",
       "    <tr>\n",
       "      <th>0</th>\n",
       "      <td>86118001</td>\n",
       "      <td>NaN</td>\n",
       "      <td>NaN</td>\n",
       "      <td>NaN</td>\n",
       "      <td>NaN</td>\n",
       "      <td>282.168750</td>\n",
       "      <td>279.80</td>\n",
       "      <td>284.55</td>\n",
       "      <td>1.266441</td>\n",
       "      <td>NaN</td>\n",
       "      <td>...</td>\n",
       "      <td>NaN</td>\n",
       "      <td>NaN</td>\n",
       "      <td>0.5</td>\n",
       "      <td>0.0</td>\n",
       "      <td>86118001_0</td>\n",
       "      <td>46.477</td>\n",
       "      <td>0.985</td>\n",
       "      <td>120.0</td>\n",
       "      <td>1.0</td>\n",
       "      <td>2.0</td>\n",
       "    </tr>\n",
       "    <tr>\n",
       "      <th>1</th>\n",
       "      <td>86118001</td>\n",
       "      <td>NaN</td>\n",
       "      <td>NaN</td>\n",
       "      <td>NaN</td>\n",
       "      <td>NaN</td>\n",
       "      <td>280.466667</td>\n",
       "      <td>278.85</td>\n",
       "      <td>282.05</td>\n",
       "      <td>0.792446</td>\n",
       "      <td>NaN</td>\n",
       "      <td>...</td>\n",
       "      <td>NaN</td>\n",
       "      <td>NaN</td>\n",
       "      <td>2.5</td>\n",
       "      <td>1.0</td>\n",
       "      <td>86118001_1</td>\n",
       "      <td>46.477</td>\n",
       "      <td>0.985</td>\n",
       "      <td>120.0</td>\n",
       "      <td>1.0</td>\n",
       "      <td>3.0</td>\n",
       "    </tr>\n",
       "    <tr>\n",
       "      <th>2</th>\n",
       "      <td>86118001</td>\n",
       "      <td>NaN</td>\n",
       "      <td>NaN</td>\n",
       "      <td>NaN</td>\n",
       "      <td>NaN</td>\n",
       "      <td>280.500000</td>\n",
       "      <td>280.15</td>\n",
       "      <td>280.90</td>\n",
       "      <td>0.350000</td>\n",
       "      <td>NaN</td>\n",
       "      <td>...</td>\n",
       "      <td>NaN</td>\n",
       "      <td>NaN</td>\n",
       "      <td>12.0</td>\n",
       "      <td>2.0</td>\n",
       "      <td>86118001_2</td>\n",
       "      <td>46.477</td>\n",
       "      <td>0.985</td>\n",
       "      <td>120.0</td>\n",
       "      <td>1.0</td>\n",
       "      <td>4.0</td>\n",
       "    </tr>\n",
       "    <tr>\n",
       "      <th>3</th>\n",
       "      <td>86149001</td>\n",
       "      <td>NaN</td>\n",
       "      <td>NaN</td>\n",
       "      <td>NaN</td>\n",
       "      <td>NaN</td>\n",
       "      <td>282.195833</td>\n",
       "      <td>278.70</td>\n",
       "      <td>284.90</td>\n",
       "      <td>1.794915</td>\n",
       "      <td>NaN</td>\n",
       "      <td>...</td>\n",
       "      <td>NaN</td>\n",
       "      <td>NaN</td>\n",
       "      <td>0.0</td>\n",
       "      <td>0.0</td>\n",
       "      <td>86149001_0</td>\n",
       "      <td>46.917</td>\n",
       "      <td>0.025</td>\n",
       "      <td>60.0</td>\n",
       "      <td>1.0</td>\n",
       "      <td>2.0</td>\n",
       "    </tr>\n",
       "    <tr>\n",
       "      <th>4</th>\n",
       "      <td>86149001</td>\n",
       "      <td>NaN</td>\n",
       "      <td>NaN</td>\n",
       "      <td>NaN</td>\n",
       "      <td>NaN</td>\n",
       "      <td>280.516667</td>\n",
       "      <td>276.60</td>\n",
       "      <td>282.55</td>\n",
       "      <td>1.548749</td>\n",
       "      <td>NaN</td>\n",
       "      <td>...</td>\n",
       "      <td>NaN</td>\n",
       "      <td>NaN</td>\n",
       "      <td>0.0</td>\n",
       "      <td>1.0</td>\n",
       "      <td>86149001_1</td>\n",
       "      <td>46.917</td>\n",
       "      <td>0.025</td>\n",
       "      <td>60.0</td>\n",
       "      <td>1.0</td>\n",
       "      <td>3.0</td>\n",
       "    </tr>\n",
       "    <tr>\n",
       "      <th>...</th>\n",
       "      <td>...</td>\n",
       "      <td>...</td>\n",
       "      <td>...</td>\n",
       "      <td>...</td>\n",
       "      <td>...</td>\n",
       "      <td>...</td>\n",
       "      <td>...</td>\n",
       "      <td>...</td>\n",
       "      <td>...</td>\n",
       "      <td>...</td>\n",
       "      <td>...</td>\n",
       "      <td>...</td>\n",
       "      <td>...</td>\n",
       "      <td>...</td>\n",
       "      <td>...</td>\n",
       "      <td>...</td>\n",
       "      <td>...</td>\n",
       "      <td>...</td>\n",
       "      <td>...</td>\n",
       "      <td>...</td>\n",
       "      <td>...</td>\n",
       "    </tr>\n",
       "    <tr>\n",
       "      <th>183551</th>\n",
       "      <td>95690001</td>\n",
       "      <td>7.699167</td>\n",
       "      <td>4.50</td>\n",
       "      <td>12.28</td>\n",
       "      <td>1.966402</td>\n",
       "      <td>279.041667</td>\n",
       "      <td>277.38</td>\n",
       "      <td>280.63</td>\n",
       "      <td>1.008614</td>\n",
       "      <td>276.800000</td>\n",
       "      <td>...</td>\n",
       "      <td>259.0</td>\n",
       "      <td>28.574337</td>\n",
       "      <td>0.0</td>\n",
       "      <td>724.0</td>\n",
       "      <td>95690001_724</td>\n",
       "      <td>49.108</td>\n",
       "      <td>1.831</td>\n",
       "      <td>126.0</td>\n",
       "      <td>12.0</td>\n",
       "      <td>26.0</td>\n",
       "    </tr>\n",
       "    <tr>\n",
       "      <th>183552</th>\n",
       "      <td>95690001</td>\n",
       "      <td>8.134167</td>\n",
       "      <td>4.11</td>\n",
       "      <td>12.49</td>\n",
       "      <td>2.592839</td>\n",
       "      <td>277.274583</td>\n",
       "      <td>274.72</td>\n",
       "      <td>279.51</td>\n",
       "      <td>1.363101</td>\n",
       "      <td>275.160417</td>\n",
       "      <td>...</td>\n",
       "      <td>310.0</td>\n",
       "      <td>50.598161</td>\n",
       "      <td>2.4</td>\n",
       "      <td>725.0</td>\n",
       "      <td>95690001_725</td>\n",
       "      <td>49.108</td>\n",
       "      <td>1.831</td>\n",
       "      <td>126.0</td>\n",
       "      <td>12.0</td>\n",
       "      <td>27.0</td>\n",
       "    </tr>\n",
       "    <tr>\n",
       "      <th>183553</th>\n",
       "      <td>95690001</td>\n",
       "      <td>3.172500</td>\n",
       "      <td>1.29</td>\n",
       "      <td>6.96</td>\n",
       "      <td>1.459256</td>\n",
       "      <td>275.019583</td>\n",
       "      <td>273.10</td>\n",
       "      <td>278.44</td>\n",
       "      <td>1.570075</td>\n",
       "      <td>273.014583</td>\n",
       "      <td>...</td>\n",
       "      <td>295.0</td>\n",
       "      <td>18.572810</td>\n",
       "      <td>3.2</td>\n",
       "      <td>726.0</td>\n",
       "      <td>95690001_726</td>\n",
       "      <td>49.108</td>\n",
       "      <td>1.831</td>\n",
       "      <td>126.0</td>\n",
       "      <td>12.0</td>\n",
       "      <td>28.0</td>\n",
       "    </tr>\n",
       "    <tr>\n",
       "      <th>183554</th>\n",
       "      <td>95690001</td>\n",
       "      <td>6.341250</td>\n",
       "      <td>1.26</td>\n",
       "      <td>10.86</td>\n",
       "      <td>2.948950</td>\n",
       "      <td>277.452500</td>\n",
       "      <td>273.70</td>\n",
       "      <td>280.80</td>\n",
       "      <td>2.731512</td>\n",
       "      <td>275.341250</td>\n",
       "      <td>...</td>\n",
       "      <td>282.0</td>\n",
       "      <td>44.928929</td>\n",
       "      <td>0.0</td>\n",
       "      <td>727.0</td>\n",
       "      <td>95690001_727</td>\n",
       "      <td>49.108</td>\n",
       "      <td>1.831</td>\n",
       "      <td>126.0</td>\n",
       "      <td>12.0</td>\n",
       "      <td>29.0</td>\n",
       "    </tr>\n",
       "    <tr>\n",
       "      <th>183555</th>\n",
       "      <td>95690001</td>\n",
       "      <td>8.529583</td>\n",
       "      <td>5.62</td>\n",
       "      <td>10.74</td>\n",
       "      <td>1.349546</td>\n",
       "      <td>285.330833</td>\n",
       "      <td>280.47</td>\n",
       "      <td>287.09</td>\n",
       "      <td>2.115520</td>\n",
       "      <td>283.395417</td>\n",
       "      <td>...</td>\n",
       "      <td>256.0</td>\n",
       "      <td>19.720832</td>\n",
       "      <td>4.4</td>\n",
       "      <td>728.0</td>\n",
       "      <td>95690001_728</td>\n",
       "      <td>49.108</td>\n",
       "      <td>1.831</td>\n",
       "      <td>126.0</td>\n",
       "      <td>12.0</td>\n",
       "      <td>30.0</td>\n",
       "    </tr>\n",
       "  </tbody>\n",
       "</table>\n",
       "<p>183556 rows × 29 columns</p>\n",
       "</div>"
      ],
      "text/plain": [
       "        number_sta   ff_mean  ff_min  ff_max    ff_std      t_mean   t_min  \\\n",
       "0         86118001       NaN     NaN     NaN       NaN  282.168750  279.80   \n",
       "1         86118001       NaN     NaN     NaN       NaN  280.466667  278.85   \n",
       "2         86118001       NaN     NaN     NaN       NaN  280.500000  280.15   \n",
       "3         86149001       NaN     NaN     NaN       NaN  282.195833  278.70   \n",
       "4         86149001       NaN     NaN     NaN       NaN  280.516667  276.60   \n",
       "...            ...       ...     ...     ...       ...         ...     ...   \n",
       "183551    95690001  7.699167    4.50   12.28  1.966402  279.041667  277.38   \n",
       "183552    95690001  8.134167    4.11   12.49  2.592839  277.274583  274.72   \n",
       "183553    95690001  3.172500    1.29    6.96  1.459256  275.019583  273.10   \n",
       "183554    95690001  6.341250    1.26   10.86  2.948950  277.452500  273.70   \n",
       "183555    95690001  8.529583    5.62   10.74  1.349546  285.330833  280.47   \n",
       "\n",
       "         t_max     t_std     td_mean  ...  dd_max     dd_std  Prediction  \\\n",
       "0       284.55  1.266441         NaN  ...     NaN        NaN         0.5   \n",
       "1       282.05  0.792446         NaN  ...     NaN        NaN         2.5   \n",
       "2       280.90  0.350000         NaN  ...     NaN        NaN        12.0   \n",
       "3       284.90  1.794915         NaN  ...     NaN        NaN         0.0   \n",
       "4       282.55  1.548749         NaN  ...     NaN        NaN         0.0   \n",
       "...        ...       ...         ...  ...     ...        ...         ...   \n",
       "183551  280.63  1.008614  276.800000  ...   259.0  28.574337         0.0   \n",
       "183552  279.51  1.363101  275.160417  ...   310.0  50.598161         2.4   \n",
       "183553  278.44  1.570075  273.014583  ...   295.0  18.572810         3.2   \n",
       "183554  280.80  2.731512  275.341250  ...   282.0  44.928929         0.0   \n",
       "183555  287.09  2.115520  283.395417  ...   256.0  19.720832         4.4   \n",
       "\n",
       "        day_index            Id     lat    lon  height_sta  month   day  \n",
       "0             0.0    86118001_0  46.477  0.985       120.0    1.0   2.0  \n",
       "1             1.0    86118001_1  46.477  0.985       120.0    1.0   3.0  \n",
       "2             2.0    86118001_2  46.477  0.985       120.0    1.0   4.0  \n",
       "3             0.0    86149001_0  46.917  0.025        60.0    1.0   2.0  \n",
       "4             1.0    86149001_1  46.917  0.025        60.0    1.0   3.0  \n",
       "...           ...           ...     ...    ...         ...    ...   ...  \n",
       "183551      724.0  95690001_724  49.108  1.831       126.0   12.0  26.0  \n",
       "183552      725.0  95690001_725  49.108  1.831       126.0   12.0  27.0  \n",
       "183553      726.0  95690001_726  49.108  1.831       126.0   12.0  28.0  \n",
       "183554      727.0  95690001_727  49.108  1.831       126.0   12.0  29.0  \n",
       "183555      728.0  95690001_728  49.108  1.831       126.0   12.0  30.0  \n",
       "\n",
       "[183556 rows x 29 columns]"
      ]
     },
     "execution_count": 21,
     "metadata": {},
     "output_type": "execute_result"
    }
   ],
   "source": [
    "train"
   ]
  },
  {
   "cell_type": "markdown",
   "id": "82c7458a",
   "metadata": {},
   "source": [
    "### Load Y_test"
   ]
  },
  {
   "cell_type": "code",
   "execution_count": 165,
   "id": "8398f8ef",
   "metadata": {},
   "outputs": [],
   "source": [
    "fname_test = \"./data/Test/Test/X_station_test.csv\"\n",
    "coords_fname_test = './data/Other/Other/stations_coordinates.csv'\n",
    "coords = pd.read_csv(coords_fname_test)\n",
    "test = pd.read_csv(fname_test)\n",
    "test[\"Id\"] =test[\"Id\"].str.rsplit(\"_\",n=1,expand=True)[0]\n",
    "test.drop([\"precip\",\"month\"],axis = 1,inplace = True)\n",
    "method_traitements = [\"mean\",\"min\",\"max\",\"std\"]\n",
    "dict_to_split = {\"ff\":method_traitements,\"t\":method_traitements,\"td\":method_traitements\n",
    "                 ,\"hu\":method_traitements,\"dd\":method_traitements}\n",
    "test[\"Id\"] = test[\"Id\"].astype(\"category\")\n",
    "Base_obs = test[{\"Id\",\"ff\",\"t\",\"td\",\"hu\",\"dd\"}].copy()\n",
    "# type de traitement.\n",
    "Base_obs_type = Base_obs.groupby('Id').agg(dict_to_split)\n",
    "Base_obs_type = Base_obs_type.sort_values(by=[\"Id\"])\n",
    "test = Base_obs_type.copy()\n",
    "test.columns = ['_'.join(col).strip() for col in test.columns.values]\n",
    "test = test.reset_index(['Id'])\n",
    "base_test = pd.read_csv(\"./data/Test/Test/Baselines/Baseline_observation_test.csv\")\n",
    "test = test.merge(base_test,on=[\"Id\"],how=\"right\")\n",
    "test[[\"number_sta\",\"day_index\"]] = test[\"Id\"].str.split(\"_\",expand=True)\n",
    "test[\"number_sta\"] = test[\"number_sta\"].astype(int)\n",
    "test = test.merge(coords,on=\"number_sta\",how='right')\n",
    "date = first_date\n",
    "dates = []\n",
    "while date <= (last_date - datetime.timedelta(days=1)):\n",
    "    date += datetime.timedelta(days=1)\n",
    "    dates.append(date)\n",
    "\n",
    "d_dates =  pd.DataFrame(dates, columns = ['date'])\n",
    "d_dates['day_index'] = d_dates.index\n",
    "d_dates[\"month\"]=d_dates[\"date\"].dt.month\n",
    "d_dates[\"day\"] = d_dates[\"date\"].dt.day\n",
    "del d_dates[\"date\"]\n",
    "test.dropna(subset=[\"day_index\"],inplace=True)\n",
    "test[\"day_index\"] = test[\"day_index\"].astype(int)\n",
    "test = test.merge(d_dates,on=[\"day_index\"],how=\"right\")\n",
    "test = test.dropna(subset=[\"lat\"])"
   ]
  },
  {
   "cell_type": "markdown",
   "id": "0244934f",
   "metadata": {
    "papermill": {
     "duration": 0.019683,
     "end_time": "2021-11-17T16:13:26.335856",
     "exception": false,
     "start_time": "2021-11-17T16:13:26.316173",
     "status": "completed"
    },
    "tags": []
   },
   "source": [
    "### Load Y"
   ]
  },
  {
   "cell_type": "code",
   "execution_count": 47,
   "id": "14f74030",
   "metadata": {
    "execution": {
     "iopub.execute_input": "2021-11-17T16:13:26.379374Z",
     "iopub.status.busy": "2021-11-17T16:13:26.378681Z",
     "iopub.status.idle": "2021-11-17T16:13:26.755723Z",
     "shell.execute_reply": "2021-11-17T16:13:26.755120Z",
     "shell.execute_reply.started": "2021-11-17T15:30:46.764368Z"
    },
    "papermill": {
     "duration": 0.399977,
     "end_time": "2021-11-17T16:13:26.755869",
     "exception": false,
     "start_time": "2021-11-17T16:13:26.355892",
     "status": "completed"
    },
    "tags": []
   },
   "outputs": [],
   "source": [
    "fname = './data/Train/Train/Y_train.csv'\n",
    "param = 'Ground_truth'  #weather parameter name in the file ('Ground_truth' about Y and 'Prediction' about baseline)\n",
    "ytrain= pd.read_csv(fname, parse_dates=['date'], infer_datetime_format=True)\n",
    "ytrain['number_sta'] = ytrain['number_sta'].astype('category')"
   ]
  },
  {
   "cell_type": "code",
   "execution_count": 48,
   "id": "232261de",
   "metadata": {
    "execution": {
     "iopub.execute_input": "2021-11-17T16:13:26.866035Z",
     "iopub.status.busy": "2021-11-17T16:13:26.864633Z",
     "iopub.status.idle": "2021-11-17T16:13:26.878392Z",
     "shell.execute_reply": "2021-11-17T16:13:26.878934Z",
     "shell.execute_reply.started": "2021-11-17T15:34:18.140604Z"
    },
    "papermill": {
     "duration": 0.040193,
     "end_time": "2021-11-17T16:13:26.879138",
     "exception": false,
     "start_time": "2021-11-17T16:13:26.838945",
     "status": "completed"
    },
    "tags": []
   },
   "outputs": [],
   "source": [
    "ytrain = ytrain[ytrain[\"date\"]!=last_date].copy()"
   ]
  },
  {
   "cell_type": "code",
   "execution_count": 127,
   "id": "0df08ece",
   "metadata": {},
   "outputs": [],
   "source": [
    "X_full = train.dropna()\n",
    "Y_full = ytrain.dropna(subset=[\"Ground_truth\"])\n",
    "#X_full =X_full[X_full.index.isin(Y_full.index)].dropna()"
   ]
  },
  {
   "cell_type": "code",
   "execution_count": 128,
   "id": "tough-feeding",
   "metadata": {},
   "outputs": [],
   "source": [
    "X_full = X_full.sort_values(\"Id\")"
   ]
  },
  {
   "cell_type": "code",
   "execution_count": 129,
   "id": "electrical-oracle",
   "metadata": {},
   "outputs": [],
   "source": [
    "Y_full = Y_full.sort_values(\"Id\")"
   ]
  },
  {
   "cell_type": "code",
   "execution_count": 130,
   "id": "contained-triangle",
   "metadata": {},
   "outputs": [],
   "source": [
    "value_list = list(X_full[\"Id\"])\n",
    "boolean_series = Y_full.Id.isin(value_list)\n",
    "Y_full = Y_full[boolean_series]"
   ]
  },
  {
   "cell_type": "code",
   "execution_count": 131,
   "id": "russian-greensboro",
   "metadata": {},
   "outputs": [],
   "source": [
    "value_list = list(Y_full[\"Id\"])\n",
    "boolean_series = X_full.Id.isin(value_list)\n",
    "X_full = X_full[boolean_series]"
   ]
  },
  {
   "cell_type": "code",
   "execution_count": 135,
   "id": "attended-lindsay",
   "metadata": {},
   "outputs": [],
   "source": [
    "Ximp = X_full.drop([\"Id\",\"number_sta\",\"day_index\",\"lon\",\"lat\",\"height_sta\"],axis=1).values\n",
    "Yimp = np.array(Y_full[\"Ground_truth\"])"
   ]
  },
  {
   "cell_type": "code",
   "execution_count": 166,
   "id": "characteristic-defense",
   "metadata": {},
   "outputs": [],
   "source": [
    "### pour l'ensemble test\n",
    "x_full = test.dropna()"
   ]
  },
  {
   "cell_type": "code",
   "execution_count": 181,
   "id": "stuffed-heating",
   "metadata": {},
   "outputs": [
    {
     "ename": "AttributeError",
     "evalue": "'numpy.ndarray' object has no attribute 'drop'",
     "output_type": "error",
     "traceback": [
      "\u001b[0;31m---------------------------------------------------------------------------\u001b[0m",
      "\u001b[0;31mAttributeError\u001b[0m                            Traceback (most recent call last)",
      "\u001b[0;32m<ipython-input-181-ea89561b2ea1>\u001b[0m in \u001b[0;36m<module>\u001b[0;34m\u001b[0m\n\u001b[0;32m----> 1\u001b[0;31m \u001b[0mximp\u001b[0m \u001b[0;34m=\u001b[0m \u001b[0mx_full\u001b[0m\u001b[0;34m.\u001b[0m\u001b[0mdrop\u001b[0m\u001b[0;34m(\u001b[0m\u001b[0;34m[\u001b[0m\u001b[0;34m\"Id\"\u001b[0m\u001b[0;34m,\u001b[0m\u001b[0;34m\"number_sta\"\u001b[0m\u001b[0;34m,\u001b[0m\u001b[0;34m\"day_index\"\u001b[0m\u001b[0;34m,\u001b[0m\u001b[0;34m\"lon\"\u001b[0m\u001b[0;34m,\u001b[0m\u001b[0;34m\"lat\"\u001b[0m\u001b[0;34m,\u001b[0m\u001b[0;34m\"height_sta\"\u001b[0m\u001b[0;34m]\u001b[0m\u001b[0;34m,\u001b[0m\u001b[0maxis\u001b[0m\u001b[0;34m=\u001b[0m\u001b[0;36m1\u001b[0m\u001b[0;34m)\u001b[0m\u001b[0;34m.\u001b[0m\u001b[0mvalues\u001b[0m\u001b[0;34m\u001b[0m\u001b[0;34m\u001b[0m\u001b[0m\n\u001b[0m",
      "\u001b[0;31mAttributeError\u001b[0m: 'numpy.ndarray' object has no attribute 'drop'"
     ]
    }
   ],
   "source": [
    "ximp = x_full.drop([\"Id\",\"number_sta\",\"day_index\",\"lon\",\"lat\",\"height_sta\"],axis=1).values"
   ]
  },
  {
   "cell_type": "code",
   "execution_count": 50,
   "id": "ed845a4b",
   "metadata": {},
   "outputs": [],
   "source": [
    "from sklearn.model_selection import train_test_split"
   ]
  },
  {
   "cell_type": "code",
   "execution_count": 136,
   "id": "ff07e3bc",
   "metadata": {},
   "outputs": [],
   "source": [
    "X_train, X_test, y_train, y_test = train_test_split(\n",
    "...     Ximp, Yimp, test_size=0.33, random_state=42)"
   ]
  },
  {
   "cell_type": "markdown",
   "id": "18290a5d",
   "metadata": {
    "papermill": {
     "duration": 0.022743,
     "end_time": "2021-11-17T16:13:26.922939",
     "exception": false,
     "start_time": "2021-11-17T16:13:26.900196",
     "status": "completed"
    },
    "tags": []
   },
   "source": [
    "### Application du modèle."
   ]
  },
  {
   "cell_type": "code",
   "execution_count": 21,
   "id": "139e5d7d",
   "metadata": {},
   "outputs": [],
   "source": [
    "from sklearn.impute import KNNImputer"
   ]
  },
  {
   "cell_type": "code",
   "execution_count": 22,
   "id": "02975c06",
   "metadata": {
    "execution": {
     "iopub.execute_input": "2021-11-17T16:13:26.972229Z",
     "iopub.status.busy": "2021-11-17T16:13:26.971200Z",
     "iopub.status.idle": "2021-11-17T16:13:26.974302Z",
     "shell.execute_reply": "2021-11-17T16:13:26.974847Z"
    },
    "papermill": {
     "duration": 0.028077,
     "end_time": "2021-11-17T16:13:26.975026",
     "exception": false,
     "start_time": "2021-11-17T16:13:26.946949",
     "status": "completed"
    },
    "tags": []
   },
   "outputs": [
    {
     "data": {
      "text/plain": [
       "KNNImputer(n_neighbors=2)"
      ]
     },
     "execution_count": 22,
     "metadata": {},
     "output_type": "execute_result"
    }
   ],
   "source": [
    "### réaliser une imputation des données manquantes.\n",
    "\n",
    "X = X_train.drop(\"Id\",axis=1).values\n",
    "imputer = KNNImputer(n_neighbors=2)\n",
    "imputer.fit(X)"
   ]
  },
  {
   "cell_type": "code",
   "execution_count": 174,
   "id": "looking-center",
   "metadata": {},
   "outputs": [],
   "source": [
    "from sklearn.impute import SimpleImputer"
   ]
  },
  {
   "cell_type": "code",
   "execution_count": 175,
   "id": "aggregate-aquatic",
   "metadata": {},
   "outputs": [],
   "source": [
    "imp = SimpleImputer(missing_values=np.nan, strategy='mean')"
   ]
  },
  {
   "cell_type": "code",
   "execution_count": 182,
   "id": "starting-adjustment",
   "metadata": {},
   "outputs": [
    {
     "data": {
      "text/plain": [
       "SimpleImputer()"
      ]
     },
     "execution_count": 182,
     "metadata": {},
     "output_type": "execute_result"
    }
   ],
   "source": [
    "imp.fit(X_full.drop([\"Id\",\"number_sta\",\"day_index\",\"lon\",\"lat\",\"height_sta\"],axis=1).values)"
   ]
  },
  {
   "cell_type": "code",
   "execution_count": 184,
   "id": "hydraulic-working",
   "metadata": {},
   "outputs": [],
   "source": [
    "ximp=imp.transform(test.drop([\"Id\",\"number_sta\",\"day_index\",\"lon\",\"lat\",\"height_sta\"],axis=1).values)"
   ]
  },
  {
   "cell_type": "markdown",
   "id": "fc1c2ddb",
   "metadata": {},
   "source": [
    "### Fonction MAPE"
   ]
  },
  {
   "cell_type": "code",
   "execution_count": 137,
   "id": "83b8adb5",
   "metadata": {},
   "outputs": [],
   "source": [
    "def MAPE(yp,yt) :\n",
    "    taille = len(yp)\n",
    "    mape = 0\n",
    "    for i in range(taille) :\n",
    "        mape += abs((yt[i]-yp[i])/(yt[i]+1))\n",
    "    mape *= 100/taille\n",
    "    return mape"
   ]
  },
  {
   "cell_type": "markdown",
   "id": "02ac5e7e",
   "metadata": {},
   "source": [
    "### Linear regression"
   ]
  },
  {
   "cell_type": "code",
   "execution_count": 68,
   "id": "5a715322",
   "metadata": {},
   "outputs": [],
   "source": [
    "from sklearn.linear_model import LinearRegression"
   ]
  },
  {
   "cell_type": "code",
   "execution_count": 141,
   "id": "f2c078e2",
   "metadata": {},
   "outputs": [],
   "source": [
    "reg = LinearRegression().fit(X_train, y_train)"
   ]
  },
  {
   "cell_type": "code",
   "execution_count": 142,
   "id": "8272b6cf",
   "metadata": {},
   "outputs": [
    {
     "data": {
      "text/plain": [
       "0.23240890767167122"
      ]
     },
     "execution_count": 142,
     "metadata": {},
     "output_type": "execute_result"
    }
   ],
   "source": [
    "reg.score(X_train, y_train)"
   ]
  },
  {
   "cell_type": "code",
   "execution_count": 143,
   "id": "c7ae23b6",
   "metadata": {},
   "outputs": [
    {
     "data": {
      "text/plain": [
       "104.6640436654025"
      ]
     },
     "execution_count": 143,
     "metadata": {},
     "output_type": "execute_result"
    }
   ],
   "source": [
    "MAPE(reg.predict(X_train),y_train)"
   ]
  },
  {
   "cell_type": "code",
   "execution_count": 144,
   "id": "56c13960",
   "metadata": {},
   "outputs": [
    {
     "data": {
      "text/plain": [
       "104.24008913023096"
      ]
     },
     "execution_count": 144,
     "metadata": {},
     "output_type": "execute_result"
    }
   ],
   "source": [
    "MAPE(reg.predict(X_test),y_test)"
   ]
  },
  {
   "cell_type": "code",
   "execution_count": 133,
   "id": "a2647d58",
   "metadata": {},
   "outputs": [
    {
     "data": {
      "text/plain": [
       "(58097, 23)"
      ]
     },
     "execution_count": 133,
     "metadata": {},
     "output_type": "execute_result"
    }
   ],
   "source": [
    "X_train.shape"
   ]
  },
  {
   "cell_type": "markdown",
   "id": "bc152906",
   "metadata": {},
   "source": [
    "### RandomForestRegression"
   ]
  },
  {
   "cell_type": "code",
   "execution_count": 57,
   "id": "122347bc",
   "metadata": {},
   "outputs": [],
   "source": [
    "from sklearn.ensemble import RandomForestRegressor"
   ]
  },
  {
   "cell_type": "code",
   "execution_count": 138,
   "id": "b2819a9c",
   "metadata": {},
   "outputs": [
    {
     "data": {
      "text/plain": [
       "RandomForestRegressor()"
      ]
     },
     "execution_count": 138,
     "metadata": {},
     "output_type": "execute_result"
    }
   ],
   "source": [
    "regr = RandomForestRegressor()\n",
    "regr.fit(X_train, y_train)"
   ]
  },
  {
   "cell_type": "code",
   "execution_count": 139,
   "id": "d678703d",
   "metadata": {},
   "outputs": [
    {
     "data": {
      "text/plain": [
       "0.9292559757991831"
      ]
     },
     "execution_count": 139,
     "metadata": {},
     "output_type": "execute_result"
    }
   ],
   "source": [
    "regr.score(X_train,y_train)"
   ]
  },
  {
   "cell_type": "code",
   "execution_count": 140,
   "id": "946328ef",
   "metadata": {},
   "outputs": [
    {
     "data": {
      "text/plain": [
       "25.008112990761752"
      ]
     },
     "execution_count": 140,
     "metadata": {},
     "output_type": "execute_result"
    }
   ],
   "source": [
    "MAPE(regr.predict(X_train),y_train)"
   ]
  },
  {
   "cell_type": "code",
   "execution_count": 141,
   "id": "d8305782",
   "metadata": {},
   "outputs": [
    {
     "data": {
      "text/plain": [
       "66.102658584232"
      ]
     },
     "execution_count": 141,
     "metadata": {},
     "output_type": "execute_result"
    }
   ],
   "source": [
    "MAPE(regr.predict(X_test),y_test)"
   ]
  },
  {
   "cell_type": "code",
   "execution_count": 146,
   "id": "ccf44f95",
   "metadata": {},
   "outputs": [
    {
     "data": {
      "text/plain": [
       "17007       14066001_0\n",
       "17008       14066001_1\n",
       "17017      14066001_10\n",
       "17107     14066001_100\n",
       "17108     14066001_101\n",
       "              ...     \n",
       "183551    95690001_724\n",
       "183552    95690001_725\n",
       "183553    95690001_726\n",
       "183554    95690001_727\n",
       "183555    95690001_728\n",
       "Name: Id, Length: 86712, dtype: object"
      ]
     },
     "execution_count": 146,
     "metadata": {},
     "output_type": "execute_result"
    }
   ],
   "source": [
    "train[train.index.isin(X_full.index)][\"Id\"]"
   ]
  },
  {
   "cell_type": "code",
   "execution_count": 186,
   "id": "temporal-disclosure",
   "metadata": {},
   "outputs": [],
   "source": [
    "y_predicted = list(regr.predict(ximp))\n",
    "id_predicted = list(test[\"Id\"])"
   ]
  },
  {
   "cell_type": "code",
   "execution_count": 187,
   "id": "breeding-probe",
   "metadata": {},
   "outputs": [],
   "source": [
    "df_submit = pd.DataFrame()\n",
    "df_submit[\"Id\"] = id_predicted\n",
    "df_submit[\"Prediction\"] = y_predicted"
   ]
  },
  {
   "cell_type": "code",
   "execution_count": 188,
   "id": "blocked-barrier",
   "metadata": {},
   "outputs": [],
   "source": [
    "df_submit.to_csv('./working/' + \"submission.csv\",index=False)"
   ]
  },
  {
   "cell_type": "code",
   "execution_count": null,
   "id": "premium-typing",
   "metadata": {},
   "outputs": [],
   "source": []
  }
 ],
 "metadata": {
  "kernelspec": {
   "display_name": "Python 3",
   "language": "python",
   "name": "python3"
  },
  "language_info": {
   "codemirror_mode": {
    "name": "ipython",
    "version": 3
   },
   "file_extension": ".py",
   "mimetype": "text/x-python",
   "name": "python",
   "nbconvert_exporter": "python",
   "pygments_lexer": "ipython3",
   "version": "3.6.9"
  },
  "papermill": {
   "default_parameters": {},
   "duration": 54.798373,
   "end_time": "2021-11-17T16:13:27.806509",
   "environment_variables": {},
   "exception": null,
   "input_path": "__notebook__.ipynb",
   "output_path": "__notebook__.ipynb",
   "parameters": {},
   "start_time": "2021-11-17T16:12:33.008136",
   "version": "2.3.3"
  }
 },
 "nbformat": 4,
 "nbformat_minor": 5
}
