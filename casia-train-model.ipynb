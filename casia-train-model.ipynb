{
 "cells": [
  {
   "cell_type": "code",
   "execution_count": 1,
   "id": "2fd81fad",
   "metadata": {
    "_cell_guid": "b1076dfc-b9ad-4769-8c92-a6c4dae69d19",
    "_uuid": "8f2839f25d086af736a60e9eeb907d3b93b6e0e5",
    "execution": {
     "iopub.execute_input": "2021-11-17T16:12:42.808946Z",
     "iopub.status.busy": "2021-11-17T16:12:42.808167Z",
     "iopub.status.idle": "2021-11-17T16:12:42.860751Z",
     "shell.execute_reply": "2021-11-17T16:12:42.861525Z",
     "shell.execute_reply.started": "2021-11-17T14:36:30.268307Z"
    },
    "papermill": {
     "duration": 0.085687,
     "end_time": "2021-11-17T16:12:42.861890",
     "exception": false,
     "start_time": "2021-11-17T16:12:42.776203",
     "status": "completed"
    },
    "scrolled": true,
    "tags": []
   },
   "outputs": [
    {
     "name": "stdout",
     "output_type": "stream",
     "text": [
      "./.Rhistory\n",
      "./casia-train-model.ipynb\n",
      "./remotesensing-13-02468.pdf\n",
      "./s41598-021-96872-w.pdf\n",
      "./README.md\n",
      "./data/.gitignore\n",
      "./data/Train/Train/Y_train.csv\n",
      "./data/Train/Train/X_station_train.csv\n",
      "./data/Train/Train/X_forecast/2D_arpege_20170214.nc\n",
      "./data/Train/Train/X_forecast/arpege_3D_height_20170214.nc\n",
      "./data/Train/Train/X_forecast/2D_arome_20170214.nc\n",
      "./data/Train/Train/X_forecast/arpege_3D_isobar_20170214.nc\n",
      "./data/Train/Train/Baselines/Baseline_forecast_train.csv\n",
      "./data/Train/Train/Baselines/Baseline_observation_train.csv\n",
      "./data/Test/Test/Id_month_test.csv\n",
      "./data/Test/Test/X_station_test.csv\n",
      "./data/Test/Test/X_forecast/arpege_3D_isobar_118.nc\n",
      "./data/Test/Test/X_forecast/2D_arpege_119.nc\n",
      "./data/Test/Test/X_forecast/arpege_3D_height_119.nc\n",
      "./data/Test/Test/X_forecast/2D_arome_119.nc\n",
      "./data/Test/Test/Baselines/Baseline_forecast_test.csv\n",
      "./data/Test/Test/Baselines/Baseline_observation_test.csv\n",
      "./data/Other/Other/NW_masks.nc\n",
      "./data/Other/Other/stations_coordinates.csv\n",
      "./.git/COMMIT_EDITMSG\n",
      "./.git/config\n",
      "./.git/description\n",
      "./.git/packed-refs\n",
      "./.git/index\n",
      "./.git/ORIG_HEAD\n",
      "./.git/HEAD\n",
      "./.git/FETCH_HEAD\n",
      "./.git/logs/HEAD\n",
      "./.git/logs/refs/remotes/origin/main\n",
      "./.git/logs/refs/remotes/origin/HEAD\n",
      "./.git/logs/refs/heads/main\n",
      "./.git/objects/d2/ebfe45f6ff98e0d7cce363d6fc3d3018a00ec0\n",
      "./.git/objects/59/f71be20dda8e491ec9597c134d4886ca10b58b\n",
      "./.git/objects/af/56e2ec3305e7cbd242d7bc5330283a2732b67e\n",
      "./.git/objects/8b/f847667bfcd1c33587b36529e158f47eb50ee5\n",
      "./.git/objects/8b/3f5edcfec8ee41845ea6d10e301084651e0ca8\n",
      "./.git/objects/2b/daddbb3a1986a1b17cf5b168857866f1379e93\n",
      "./.git/objects/0a/a2231b72a7136ba3cbd6de568d59b84ff408c8\n",
      "./.git/objects/97/52e62f6cf03bcdff5cedbababfd07d7294c03a\n",
      "./.git/objects/ba/718ceb2d0d9b617cc5723eb660f6cc87396c80\n",
      "./.git/objects/c5/3f8a6a1554b0cfea8437524bbf8b623f6314db\n",
      "./.git/objects/f7/1f97c3e74c62b96c6a4cdf90c6e19b4a84b9f5\n",
      "./.git/objects/3e/fa2cbb8a51c726f878ed763184f483095af2f7\n",
      "./.git/objects/12/b38f93ed0bbcad8697068677a63bf96883d9ae\n",
      "./.git/objects/12/dc0bf5898fba111b57001f5eac26276ade7230\n",
      "./.git/objects/63/9ca0b1fd81e5f1305c28b93a65ee6e8734beb1\n",
      "./.git/objects/63/ecb7628a7048b7d537eb668b91e2856ffe2fa1\n",
      "./.git/objects/17/d82798140175652290932564c12a091cbaec28\n",
      "./.git/objects/cc/1c43008372d7d0315add46ad6e8e3dbaceb5bf\n",
      "./.git/objects/22/eebb73716e4a28bc7bfd301884ddc47ca9a9da\n",
      "./.git/objects/a9/0401a81ddb2eb80a01b586cb3bac4fe8395c21\n",
      "./.git/objects/a9/6bb2f8f7ad475a5e32f419a348b9bdde6ca81e\n",
      "./.git/objects/a9/4f29a3cbca34c73ba7e45508d99a53b8900a1e\n",
      "./.git/objects/f3/73eff936690ab2de119cae35c75366f7477e90\n",
      "./.git/objects/30/588fec1c1681eed096b31de41c6d1c817b52ce\n",
      "./.git/objects/ae/7a422bdd073482a59d16f4e9b950e5f811723c\n",
      "./.git/objects/44/248ef819fd1f949bb2521c0b736433eca306b1\n",
      "./.git/objects/c6/a7b1a83efb42f27dc1c0a2c944dbdc87af2fe9\n",
      "./.git/objects/c1/5cf535d558935f0e872c0cd68c169993215d6e\n",
      "./.git/objects/10/af9284608ccff8bdfd1361cbb6e9b0e4dfd225\n",
      "./.git/objects/d1/18ad41ae008ad0f4cdefdb136ac77fed1ad2de\n",
      "./.git/objects/72/e8ffc0db8aad71a934dd11e5968bd5109e54b4\n",
      "./.git/objects/57/08707e633550924fa13787435f3c9c255807ce\n",
      "./.git/objects/8c/61389c9d220a51c3b719735b3925ddc376d16a\n",
      "./.git/objects/0b/d4410c1a310a83203bd6a8931c27c101c517aa\n",
      "./.git/objects/d5/b070efa6478c9c6c096b586c3937fead873583\n",
      "./.git/objects/d9/797c060a331efec3704215b57052fb22ad5e49\n",
      "./.git/objects/48/67399e56079694ea6feb0037805c5042d09fb2\n",
      "./.git/objects/35/fc57703a3449d6867b3b06f829ef008d18081a\n",
      "./.git/objects/be/4c3973e835fa022d5e74cc2c7e6be030767182\n",
      "./.git/objects/0f/c9cd10225c74a07ae7eab3329c2bf5e1ed81b2\n",
      "./.git/objects/0f/86f978b4f7a9793b652d6f2de307c1f647e62e\n",
      "./.git/objects/0f/9525eb5ec335bf750126ba379340b8c6730481\n",
      "./.git/objects/20/6e393f0f64b7053254c7d6204348e0f805a4c3\n",
      "./.git/objects/ce/6f3efec6ecaaf1c5d96d579f0f3e1cb56abd90\n",
      "./.git/objects/4f/a5d2fd0b8162af327604f29d624a0d0b057d97\n",
      "./.git/objects/fc/127c08b8cffef506ae8861c1168f454d12a969\n",
      "./.git/objects/c7/19609985e06cf0ebd326b8d8071e12feffbe64\n",
      "./.git/objects/eb/7121d3837cc61f36f9ffd8ab393bf6d5d49fad\n",
      "./.git/objects/90/e7f93ead44b81881e4d2a2bc460fbe01fa7812\n",
      "./.git/objects/47/00485f4047ae560779e3df22af7255dca52015\n",
      "./.git/objects/02/c478d2c1ddb84108bb395b3a3689b6cffcd7b2\n",
      "./.git/objects/02/593fe6cd681f0def6f6286227a6cafe71fff13\n",
      "./.git/objects/05/17e567f270329fddc3672ab53d3bf3a7425d7c\n",
      "./.git/objects/05/8fe4d7101bd102451e2ff9e95e7ec307f668ba\n",
      "./.git/objects/8f/0baa0fd6df141be7e239a59038921d481e1fe5\n",
      "./.git/objects/da/b2ff85f3b0635fd5bd6689cc5b9ae87554732a\n",
      "./.git/objects/5b/fcbab3107808f5b7cc9b34daa999176e0cf03a\n",
      "./.git/objects/2e/1db2f533e01878be9e4ba6f8ec550d49d37aec\n",
      "./.git/objects/62/827c9a53946441983fb0539d7fa1d4c3efbd55\n",
      "./.git/objects/5f/b085d8b819dc244cba3dd674526e6935ff11f3\n",
      "./.git/objects/e7/6216a2a783f577374056d76d3064c5bc2d2f85\n",
      "./.git/objects/ef/e396fa9b59a966dbfa5705969152337067e173\n",
      "./.git/objects/84/00e8b0479f26dea14a0fcae8333090a87006ff\n",
      "./.git/objects/dc/b3666889f7d0e91a32d603f42c966b6211279b\n",
      "./.git/objects/03/012690a86fe84f551010295a161af397381287\n",
      "./.git/objects/03/b8a32367e35769f3a07190f4a87e98b3ee9ede\n",
      "./.git/objects/f8/7b93139b15c52c5cbf21c41af5779a28038691\n",
      "./.git/objects/1a/16a9bf23e27c83f1884ba199b63d5d317c7280\n",
      "./.git/objects/82/76ceffa62560454da7b0b93c86d205c52dc8da\n",
      "./.git/objects/ea/9b70d97dc6d21d8b5bfa50ff885398d485d4a4\n",
      "./.git/objects/ea/fb24729a83cbbdfa9aebf54e1f62699a41d6f5\n",
      "./.git/objects/ed/1a059b7a0ac7acc055bed00bdf0a5587c17c18\n",
      "./.git/objects/9c/4323b6c2e41b11b8bbe7d8c8a0f6d66fb89144\n",
      "./.git/objects/00/0a9b4fd3e6faa8a06b1f00159d4a4b9d4c12cc\n",
      "./.git/objects/87/e90c441565db1ad74767852edea155fd6e4c86\n",
      "./.git/objects/5e/8baef0d3d40017197c5256f72547282521595a\n",
      "./.git/objects/b2/6181062f47771010e93a0e76f69c24ef470730\n",
      "./.git/objects/d8/9d902acfab2abb893e4ae3a837c47e23c8c87a\n",
      "./.git/info/exclude\n",
      "./.git/hooks/applypatch-msg.sample\n",
      "./.git/hooks/pre-rebase.sample\n",
      "./.git/hooks/pre-receive.sample\n",
      "./.git/hooks/pre-applypatch.sample\n",
      "./.git/hooks/pre-commit.sample\n",
      "./.git/hooks/pre-push.sample\n",
      "./.git/hooks/update.sample\n",
      "./.git/hooks/fsmonitor-watchman.sample\n",
      "./.git/hooks/post-update.sample\n",
      "./.git/hooks/prepare-commit-msg.sample\n",
      "./.git/hooks/commit-msg.sample\n",
      "./.git/refs/remotes/origin/main\n",
      "./.git/refs/remotes/origin/HEAD\n",
      "./.git/refs/heads/main\n",
      "./working/submission.csv\n",
      "./working/my_baseline.csv\n",
      "./working/submission_svr.csv\n",
      "./working/test.csv\n",
      "./working/train.csv\n",
      "./prise_en_main/open-mask-data.ipynb\n",
      "./prise_en_main/open-x-forecast-3d-test.ipynb\n",
      "./prise_en_main/open-x-forecast-3d-train.ipynb\n",
      "./prise_en_main/open-y-and-baselines.ipynb\n",
      "./prise_en_main/compute-baseline-obs.ipynb\n",
      "./prise_en_main/open-x-forecast-2d-train.ipynb\n",
      "./prise_en_main/open-x-station.ipynb\n",
      "./prise_en_main/open-x-forecast-2d-test.ipynb\n",
      "./prise_en_main/.ipynb_checkpoints/open-y-and-baselines-checkpoint.ipynb\n",
      "./prise_en_main/.ipynb_checkpoints/compute-baseline-obs-checkpoint.ipynb\n",
      "./prise_en_main/.ipynb_checkpoints/open-x-forecast-2d-test-checkpoint.ipynb\n",
      "./prise_en_main/.ipynb_checkpoints/open-x-forecast-2d-train-checkpoint.ipynb\n",
      "./prise_en_main/.ipynb_checkpoints/open-x-forecast-3d-train-checkpoint.ipynb\n",
      "./prise_en_main/.ipynb_checkpoints/open-x-station-checkpoint.ipynb\n",
      "./prise_en_main/.ipynb_checkpoints/open-mask-data-checkpoint.ipynb\n",
      "./.ipynb_checkpoints/casia-train-model-checkpoint.ipynb\n"
     ]
    }
   ],
   "source": [
    "# This Python 3 environment comes with many helpful analytics libraries installed\n",
    "# It is defined by the kaggle/python Docker image: https://github.com/kaggle/docker-python\n",
    "# For example, here's several helpful packages to load\n",
    "\n",
    "import numpy as np # linear algebra\n",
    "import pandas as pd # data processing, CSV file I/O (e.g. pd.read_csv)\n",
    "import matplotlib.pyplot as plt\n",
    "import datetime\n",
    "import warnings\n",
    "warnings.filterwarnings(\"ignore\")\n",
    "# Input data files are available in the read-only \"../input/\" directory\n",
    "# For example, running this (by clicking run or pressing Shift+Enter) will list all files under the input directory\n",
    "\n",
    "import os\n",
    "for dirname, _, filenames in os.walk('./'):\n",
    "    for filename in filenames:\n",
    "        print(os.path.join(dirname, filename))\n",
    "\n",
    "# You can write up to 20GB to the current directory (/kaggle/working/) that gets preserved as output when you create a version using \"Save & Run All\" \n",
    "# You can also write temporary files to /kaggle/temp/, but they won't be saved outside of the current session"
   ]
  },
  {
   "cell_type": "code",
   "execution_count": 2,
   "id": "nominated-indie",
   "metadata": {},
   "outputs": [],
   "source": [
    "### Fonctions utiles :\n",
    "def percentile(n):\n",
    "    def percentile_(x):\n",
    "        return np.percentile(x, n)\n",
    "    percentile_.__name__ = 'percentile_%s' % n\n",
    "    return percentile_"
   ]
  },
  {
   "cell_type": "markdown",
   "id": "0b373a2e",
   "metadata": {
    "papermill": {
     "duration": 0.023397,
     "end_time": "2021-11-17T16:12:42.907328",
     "exception": false,
     "start_time": "2021-11-17T16:12:42.883931",
     "status": "completed"
    },
    "tags": []
   },
   "source": [
    "### load X_train"
   ]
  },
  {
   "cell_type": "code",
   "execution_count": 9,
   "id": "1aef4493",
   "metadata": {
    "execution": {
     "iopub.execute_input": "2021-11-17T16:12:42.953597Z",
     "iopub.status.busy": "2021-11-17T16:12:42.952907Z",
     "iopub.status.idle": "2021-11-17T16:12:42.957549Z",
     "shell.execute_reply": "2021-11-17T16:12:42.956844Z",
     "shell.execute_reply.started": "2021-11-17T14:36:40.25291Z"
    },
    "papermill": {
     "duration": 0.028914,
     "end_time": "2021-11-17T16:12:42.957697",
     "exception": false,
     "start_time": "2021-11-17T16:12:42.928783",
     "status": "completed"
    },
    "tags": []
   },
   "outputs": [],
   "source": [
    "first_date = datetime.datetime(2016,1,1)    \n",
    "last_date = datetime.datetime(2017,12,31)\n",
    "coords_fname  = './data/Other/Other/stations_coordinates.csv'\n",
    "fname = './data/Train/Train/X_station_train.csv'"
   ]
  },
  {
   "cell_type": "code",
   "execution_count": 34,
   "id": "naval-cologne",
   "metadata": {},
   "outputs": [],
   "source": [
    "coords = pd.read_csv(coords_fname)\n",
    "train = pd.read_csv(fname,parse_dates=['date'],infer_datetime_format=True)\n",
    "train['number_sta']=train['number_sta'].astype('category')\n",
    "#sort by station, then by date \n",
    "train = train.sort_values(['number_sta','date'])   \n",
    "method_traitements = [\"mean\",\"min\",\"max\",\"std\",\"median\",\"sum\",\"count\",percentile(10),percentile(25),percentile(80),percentile(95)]\n",
    "dict_to_split = {\"ff\":method_traitements,\"t\":method_traitements,\"td\":method_traitements\n",
    "                 ,\"hu\":method_traitements,\"dd\":method_traitements,\"precip\":\"sum\"}\n",
    "Base_obs = train[{\"number_sta\",\"date\",\"ff\",\"t\",\"td\",\"hu\",\"dd\",\"precip\"}].copy()\n",
    "Base_obs.set_index('date',inplace = True)  \n",
    "\n",
    "# type de traitement.\n",
    "Base_obs_type = Base_obs.groupby('number_sta').resample('D').agg(dict_to_split)\n",
    "Base_obs_type.columns = ['_'.join(col).strip() for col in Base_obs_type.columns.values]\n",
    "Base_obs_type = Base_obs_type.reset_index(['date','number_sta'])\n",
    "Base_obs_type['number_sta'] = Base_obs_type['number_sta'].astype('category')   \n",
    "#Select the observations the day before\n"
   ]
  },
  {
   "cell_type": "code",
   "execution_count": 35,
   "id": "grateful-orbit",
   "metadata": {},
   "outputs": [],
   "source": []
  },
  {
   "cell_type": "code",
   "execution_count": 36,
   "id": "behavioral-focus",
   "metadata": {},
   "outputs": [],
   "source": [
    "Base_obs_type[to_shift] = Base_obs_type.groupby(['number_sta'])[to_shift].shift(1)"
   ]
  },
  {
   "cell_type": "code",
   "execution_count": 37,
   "id": "innovative-family",
   "metadata": {},
   "outputs": [],
   "source": [
    "Base_obs_type = Base_obs_type.sort_values(by=[\"number_sta\",\"date\"])\n",
    "#del Base_obs['precip']\n",
    "#Base_obs = Base_obs.rename(columns={'baseline_obs':'precip'})\n",
    "#del Base_obs_type[\"precip_sum\"]\n",
    "date = first_date\n",
    "dates = []\n",
    "while date <= (last_date - datetime.timedelta(days=1)):\n",
    "    date += datetime.timedelta(days=1)\n",
    "    dates.append(date)\n",
    "\n",
    "d_dates =  pd.DataFrame(dates, columns = ['date'])\n",
    "d_dates['day_index'] = d_dates.index\n",
    "y_f = Base_obs_type.merge(d_dates,how=\"right\",on = [\"date\"])\n",
    "y_f = y_f[y_f['date']!=last_date]\n",
    "y_f['Id'] = y_f[list(y_f.columns)[0]].astype(str) + '_' + \\\n",
    "                  y_f['day_index'].astype(str) \n",
    "#y_f[\"number_sta\"] = y_f[(\"number_sta\",\"\")]\n",
    "y_f = y_f.merge(coords,on=[\"number_sta\"],how=\"right\")\n",
    "X_train = y_f.copy()#drop([\"day_index\"],axis=1)\n",
    "X_train[\"month\"] = X_train[\"date\"].dt.month\n",
    "X_train[\"day\"] = X_train[\"date\"].dt.day\n",
    "X_train.drop([\"date\"],axis=1,inplace=True)\n",
    "Xnew = X_train"
   ]
  },
  {
   "cell_type": "code",
   "execution_count": null,
   "id": "institutional-truck",
   "metadata": {},
   "outputs": [],
   "source": [
    "train"
   ]
  },
  {
   "cell_type": "code",
   "execution_count": 61,
   "id": "general-market",
   "metadata": {},
   "outputs": [
    {
     "ename": "KeyError",
     "evalue": "\"['Prediction'] not in index\"",
     "output_type": "error",
     "traceback": [
      "\u001b[0;31m---------------------------------------------------------------------------\u001b[0m",
      "\u001b[0;31mKeyError\u001b[0m                                  Traceback (most recent call last)",
      "\u001b[0;32m<ipython-input-61-7f974d9939d4>\u001b[0m in \u001b[0;36m<module>\u001b[0;34m\u001b[0m\n\u001b[0;32m----> 1\u001b[0;31m \u001b[0mtrain\u001b[0m\u001b[0;34m.\u001b[0m\u001b[0msort_values\u001b[0m\u001b[0;34m(\u001b[0m\u001b[0;34m\"Id\"\u001b[0m\u001b[0;34m)\u001b[0m\u001b[0;34m[\u001b[0m\u001b[0;34m[\u001b[0m\u001b[0;34m\"Id\"\u001b[0m\u001b[0;34m,\u001b[0m\u001b[0;34m\"Prediction\"\u001b[0m\u001b[0;34m]\u001b[0m\u001b[0;34m]\u001b[0m\u001b[0;34m.\u001b[0m\u001b[0mhead\u001b[0m\u001b[0;34m(\u001b[0m\u001b[0;36m100\u001b[0m\u001b[0;34m)\u001b[0m\u001b[0;34m\u001b[0m\u001b[0;34m\u001b[0m\u001b[0m\n\u001b[0m",
      "\u001b[0;32m~/.local/lib/python3.6/site-packages/pandas/core/frame.py\u001b[0m in \u001b[0;36m__getitem__\u001b[0;34m(self, key)\u001b[0m\n\u001b[1;32m   2910\u001b[0m             \u001b[0;32mif\u001b[0m \u001b[0mis_iterator\u001b[0m\u001b[0;34m(\u001b[0m\u001b[0mkey\u001b[0m\u001b[0;34m)\u001b[0m\u001b[0;34m:\u001b[0m\u001b[0;34m\u001b[0m\u001b[0;34m\u001b[0m\u001b[0m\n\u001b[1;32m   2911\u001b[0m                 \u001b[0mkey\u001b[0m \u001b[0;34m=\u001b[0m \u001b[0mlist\u001b[0m\u001b[0;34m(\u001b[0m\u001b[0mkey\u001b[0m\u001b[0;34m)\u001b[0m\u001b[0;34m\u001b[0m\u001b[0;34m\u001b[0m\u001b[0m\n\u001b[0;32m-> 2912\u001b[0;31m             \u001b[0mindexer\u001b[0m \u001b[0;34m=\u001b[0m \u001b[0mself\u001b[0m\u001b[0;34m.\u001b[0m\u001b[0mloc\u001b[0m\u001b[0;34m.\u001b[0m\u001b[0m_get_listlike_indexer\u001b[0m\u001b[0;34m(\u001b[0m\u001b[0mkey\u001b[0m\u001b[0;34m,\u001b[0m \u001b[0maxis\u001b[0m\u001b[0;34m=\u001b[0m\u001b[0;36m1\u001b[0m\u001b[0;34m,\u001b[0m \u001b[0mraise_missing\u001b[0m\u001b[0;34m=\u001b[0m\u001b[0;32mTrue\u001b[0m\u001b[0;34m)\u001b[0m\u001b[0;34m[\u001b[0m\u001b[0;36m1\u001b[0m\u001b[0;34m]\u001b[0m\u001b[0;34m\u001b[0m\u001b[0;34m\u001b[0m\u001b[0m\n\u001b[0m\u001b[1;32m   2913\u001b[0m \u001b[0;34m\u001b[0m\u001b[0m\n\u001b[1;32m   2914\u001b[0m         \u001b[0;31m# take() does not accept boolean indexers\u001b[0m\u001b[0;34m\u001b[0m\u001b[0;34m\u001b[0m\u001b[0;34m\u001b[0m\u001b[0m\n",
      "\u001b[0;32m~/.local/lib/python3.6/site-packages/pandas/core/indexing.py\u001b[0m in \u001b[0;36m_get_listlike_indexer\u001b[0;34m(self, key, axis, raise_missing)\u001b[0m\n\u001b[1;32m   1252\u001b[0m             \u001b[0mkeyarr\u001b[0m\u001b[0;34m,\u001b[0m \u001b[0mindexer\u001b[0m\u001b[0;34m,\u001b[0m \u001b[0mnew_indexer\u001b[0m \u001b[0;34m=\u001b[0m \u001b[0max\u001b[0m\u001b[0;34m.\u001b[0m\u001b[0m_reindex_non_unique\u001b[0m\u001b[0;34m(\u001b[0m\u001b[0mkeyarr\u001b[0m\u001b[0;34m)\u001b[0m\u001b[0;34m\u001b[0m\u001b[0;34m\u001b[0m\u001b[0m\n\u001b[1;32m   1253\u001b[0m \u001b[0;34m\u001b[0m\u001b[0m\n\u001b[0;32m-> 1254\u001b[0;31m         \u001b[0mself\u001b[0m\u001b[0;34m.\u001b[0m\u001b[0m_validate_read_indexer\u001b[0m\u001b[0;34m(\u001b[0m\u001b[0mkeyarr\u001b[0m\u001b[0;34m,\u001b[0m \u001b[0mindexer\u001b[0m\u001b[0;34m,\u001b[0m \u001b[0maxis\u001b[0m\u001b[0;34m,\u001b[0m \u001b[0mraise_missing\u001b[0m\u001b[0;34m=\u001b[0m\u001b[0mraise_missing\u001b[0m\u001b[0;34m)\u001b[0m\u001b[0;34m\u001b[0m\u001b[0;34m\u001b[0m\u001b[0m\n\u001b[0m\u001b[1;32m   1255\u001b[0m         \u001b[0;32mreturn\u001b[0m \u001b[0mkeyarr\u001b[0m\u001b[0;34m,\u001b[0m \u001b[0mindexer\u001b[0m\u001b[0;34m\u001b[0m\u001b[0;34m\u001b[0m\u001b[0m\n\u001b[1;32m   1256\u001b[0m \u001b[0;34m\u001b[0m\u001b[0m\n",
      "\u001b[0;32m~/.local/lib/python3.6/site-packages/pandas/core/indexing.py\u001b[0m in \u001b[0;36m_validate_read_indexer\u001b[0;34m(self, key, indexer, axis, raise_missing)\u001b[0m\n\u001b[1;32m   1302\u001b[0m             \u001b[0;32mif\u001b[0m \u001b[0mraise_missing\u001b[0m\u001b[0;34m:\u001b[0m\u001b[0;34m\u001b[0m\u001b[0;34m\u001b[0m\u001b[0m\n\u001b[1;32m   1303\u001b[0m                 \u001b[0mnot_found\u001b[0m \u001b[0;34m=\u001b[0m \u001b[0mlist\u001b[0m\u001b[0;34m(\u001b[0m\u001b[0mset\u001b[0m\u001b[0;34m(\u001b[0m\u001b[0mkey\u001b[0m\u001b[0;34m)\u001b[0m \u001b[0;34m-\u001b[0m \u001b[0mset\u001b[0m\u001b[0;34m(\u001b[0m\u001b[0max\u001b[0m\u001b[0;34m)\u001b[0m\u001b[0;34m)\u001b[0m\u001b[0;34m\u001b[0m\u001b[0;34m\u001b[0m\u001b[0m\n\u001b[0;32m-> 1304\u001b[0;31m                 \u001b[0;32mraise\u001b[0m \u001b[0mKeyError\u001b[0m\u001b[0;34m(\u001b[0m\u001b[0;34mf\"{not_found} not in index\"\u001b[0m\u001b[0;34m)\u001b[0m\u001b[0;34m\u001b[0m\u001b[0;34m\u001b[0m\u001b[0m\n\u001b[0m\u001b[1;32m   1305\u001b[0m \u001b[0;34m\u001b[0m\u001b[0m\n\u001b[1;32m   1306\u001b[0m             \u001b[0;31m# we skip the warning on Categorical\u001b[0m\u001b[0;34m\u001b[0m\u001b[0;34m\u001b[0m\u001b[0;34m\u001b[0m\u001b[0m\n",
      "\u001b[0;31mKeyError\u001b[0m: \"['Prediction'] not in index\""
     ]
    }
   ],
   "source": [
    "train.sort_values(\"Id\")[[\"Id\",\"Prediction\"]].head(100)"
   ]
  },
  {
   "cell_type": "code",
   "execution_count": 42,
   "id": "corresponding-bunch",
   "metadata": {},
   "outputs": [
    {
     "data": {
      "text/html": [
       "<div>\n",
       "<style scoped>\n",
       "    .dataframe tbody tr th:only-of-type {\n",
       "        vertical-align: middle;\n",
       "    }\n",
       "\n",
       "    .dataframe tbody tr th {\n",
       "        vertical-align: top;\n",
       "    }\n",
       "\n",
       "    .dataframe thead th {\n",
       "        text-align: right;\n",
       "    }\n",
       "</style>\n",
       "<table border=\"1\" class=\"dataframe\">\n",
       "  <thead>\n",
       "    <tr style=\"text-align: right;\">\n",
       "      <th></th>\n",
       "      <th>number_sta</th>\n",
       "      <th>ff_mean</th>\n",
       "      <th>ff_min</th>\n",
       "      <th>ff_max</th>\n",
       "      <th>ff_std</th>\n",
       "      <th>ff_median</th>\n",
       "      <th>ff_sum</th>\n",
       "      <th>ff_count</th>\n",
       "      <th>ff_percentile_10</th>\n",
       "      <th>ff_percentile_25</th>\n",
       "      <th>...</th>\n",
       "      <th>dd_percentile_95</th>\n",
       "      <th>Prediction</th>\n",
       "      <th>day_index</th>\n",
       "      <th>Id</th>\n",
       "      <th>lat</th>\n",
       "      <th>lon</th>\n",
       "      <th>height_sta</th>\n",
       "      <th>month</th>\n",
       "      <th>day</th>\n",
       "      <th>Forecasted</th>\n",
       "    </tr>\n",
       "  </thead>\n",
       "  <tbody>\n",
       "    <tr>\n",
       "      <th>31</th>\n",
       "      <td>14066001</td>\n",
       "      <td>8.041250</td>\n",
       "      <td>4.22</td>\n",
       "      <td>11.52</td>\n",
       "      <td>2.125735</td>\n",
       "      <td>7.690</td>\n",
       "      <td>192.99</td>\n",
       "      <td>24.0</td>\n",
       "      <td>5.995</td>\n",
       "      <td>6.5225</td>\n",
       "      <td>...</td>\n",
       "      <td>240.00</td>\n",
       "      <td>0.2</td>\n",
       "      <td>0.0</td>\n",
       "      <td>14066001_0</td>\n",
       "      <td>49.334</td>\n",
       "      <td>-0.431</td>\n",
       "      <td>2.0</td>\n",
       "      <td>1.0</td>\n",
       "      <td>2.0</td>\n",
       "      <td>5.545129</td>\n",
       "    </tr>\n",
       "    <tr>\n",
       "      <th>280</th>\n",
       "      <td>14066001</td>\n",
       "      <td>5.430417</td>\n",
       "      <td>2.88</td>\n",
       "      <td>8.32</td>\n",
       "      <td>1.401284</td>\n",
       "      <td>5.110</td>\n",
       "      <td>130.33</td>\n",
       "      <td>24.0</td>\n",
       "      <td>4.085</td>\n",
       "      <td>4.4350</td>\n",
       "      <td>...</td>\n",
       "      <td>229.25</td>\n",
       "      <td>3.4</td>\n",
       "      <td>1.0</td>\n",
       "      <td>14066001_1</td>\n",
       "      <td>49.334</td>\n",
       "      <td>-0.431</td>\n",
       "      <td>2.0</td>\n",
       "      <td>1.0</td>\n",
       "      <td>3.0</td>\n",
       "      <td>7.372426</td>\n",
       "    </tr>\n",
       "    <tr>\n",
       "      <th>2520</th>\n",
       "      <td>14066001</td>\n",
       "      <td>7.973333</td>\n",
       "      <td>4.90</td>\n",
       "      <td>12.46</td>\n",
       "      <td>2.590803</td>\n",
       "      <td>7.300</td>\n",
       "      <td>191.36</td>\n",
       "      <td>24.0</td>\n",
       "      <td>5.116</td>\n",
       "      <td>5.5600</td>\n",
       "      <td>...</td>\n",
       "      <td>284.70</td>\n",
       "      <td>6.0</td>\n",
       "      <td>10.0</td>\n",
       "      <td>14066001_10</td>\n",
       "      <td>49.334</td>\n",
       "      <td>-0.431</td>\n",
       "      <td>2.0</td>\n",
       "      <td>1.0</td>\n",
       "      <td>12.0</td>\n",
       "      <td>7.151256</td>\n",
       "    </tr>\n",
       "    <tr>\n",
       "      <th>25006</th>\n",
       "      <td>14066001</td>\n",
       "      <td>1.754583</td>\n",
       "      <td>0.86</td>\n",
       "      <td>2.83</td>\n",
       "      <td>0.607203</td>\n",
       "      <td>1.790</td>\n",
       "      <td>42.11</td>\n",
       "      <td>24.0</td>\n",
       "      <td>1.019</td>\n",
       "      <td>1.2000</td>\n",
       "      <td>...</td>\n",
       "      <td>256.70</td>\n",
       "      <td>11.6</td>\n",
       "      <td>100.0</td>\n",
       "      <td>14066001_100</td>\n",
       "      <td>49.334</td>\n",
       "      <td>-0.431</td>\n",
       "      <td>2.0</td>\n",
       "      <td>4.0</td>\n",
       "      <td>11.0</td>\n",
       "      <td>1.914063</td>\n",
       "    </tr>\n",
       "    <tr>\n",
       "      <th>25256</th>\n",
       "      <td>14066001</td>\n",
       "      <td>2.407083</td>\n",
       "      <td>0.95</td>\n",
       "      <td>4.13</td>\n",
       "      <td>0.952089</td>\n",
       "      <td>2.470</td>\n",
       "      <td>57.77</td>\n",
       "      <td>24.0</td>\n",
       "      <td>1.234</td>\n",
       "      <td>1.6175</td>\n",
       "      <td>...</td>\n",
       "      <td>207.65</td>\n",
       "      <td>5.6</td>\n",
       "      <td>101.0</td>\n",
       "      <td>14066001_101</td>\n",
       "      <td>49.334</td>\n",
       "      <td>-0.431</td>\n",
       "      <td>2.0</td>\n",
       "      <td>4.0</td>\n",
       "      <td>12.0</td>\n",
       "      <td>0.581547</td>\n",
       "    </tr>\n",
       "    <tr>\n",
       "      <th>...</th>\n",
       "      <td>...</td>\n",
       "      <td>...</td>\n",
       "      <td>...</td>\n",
       "      <td>...</td>\n",
       "      <td>...</td>\n",
       "      <td>...</td>\n",
       "      <td>...</td>\n",
       "      <td>...</td>\n",
       "      <td>...</td>\n",
       "      <td>...</td>\n",
       "      <td>...</td>\n",
       "      <td>...</td>\n",
       "      <td>...</td>\n",
       "      <td>...</td>\n",
       "      <td>...</td>\n",
       "      <td>...</td>\n",
       "      <td>...</td>\n",
       "      <td>...</td>\n",
       "      <td>...</td>\n",
       "      <td>...</td>\n",
       "      <td>...</td>\n",
       "    </tr>\n",
       "    <tr>\n",
       "      <th>46072</th>\n",
       "      <td>14066001</td>\n",
       "      <td>2.573333</td>\n",
       "      <td>0.19</td>\n",
       "      <td>5.09</td>\n",
       "      <td>1.214910</td>\n",
       "      <td>2.825</td>\n",
       "      <td>61.76</td>\n",
       "      <td>24.0</td>\n",
       "      <td>1.191</td>\n",
       "      <td>1.6850</td>\n",
       "      <td>...</td>\n",
       "      <td>312.65</td>\n",
       "      <td>3.2</td>\n",
       "      <td>184.0</td>\n",
       "      <td>14066001_184</td>\n",
       "      <td>49.334</td>\n",
       "      <td>-0.431</td>\n",
       "      <td>2.0</td>\n",
       "      <td>7.0</td>\n",
       "      <td>4.0</td>\n",
       "      <td>0.279321</td>\n",
       "    </tr>\n",
       "    <tr>\n",
       "      <th>46323</th>\n",
       "      <td>14066001</td>\n",
       "      <td>4.864583</td>\n",
       "      <td>2.95</td>\n",
       "      <td>6.99</td>\n",
       "      <td>1.184376</td>\n",
       "      <td>4.630</td>\n",
       "      <td>116.75</td>\n",
       "      <td>24.0</td>\n",
       "      <td>3.342</td>\n",
       "      <td>4.1250</td>\n",
       "      <td>...</td>\n",
       "      <td>326.70</td>\n",
       "      <td>0.2</td>\n",
       "      <td>185.0</td>\n",
       "      <td>14066001_185</td>\n",
       "      <td>49.334</td>\n",
       "      <td>-0.431</td>\n",
       "      <td>2.0</td>\n",
       "      <td>7.0</td>\n",
       "      <td>5.0</td>\n",
       "      <td>0.105605</td>\n",
       "    </tr>\n",
       "    <tr>\n",
       "      <th>46574</th>\n",
       "      <td>14066001</td>\n",
       "      <td>2.743750</td>\n",
       "      <td>1.07</td>\n",
       "      <td>3.79</td>\n",
       "      <td>0.606069</td>\n",
       "      <td>2.765</td>\n",
       "      <td>65.85</td>\n",
       "      <td>24.0</td>\n",
       "      <td>2.140</td>\n",
       "      <td>2.3100</td>\n",
       "      <td>...</td>\n",
       "      <td>339.80</td>\n",
       "      <td>0.4</td>\n",
       "      <td>186.0</td>\n",
       "      <td>14066001_186</td>\n",
       "      <td>49.334</td>\n",
       "      <td>-0.431</td>\n",
       "      <td>2.0</td>\n",
       "      <td>7.0</td>\n",
       "      <td>6.0</td>\n",
       "      <td>0.000788</td>\n",
       "    </tr>\n",
       "    <tr>\n",
       "      <th>46825</th>\n",
       "      <td>14066001</td>\n",
       "      <td>2.219583</td>\n",
       "      <td>0.65</td>\n",
       "      <td>4.03</td>\n",
       "      <td>0.995426</td>\n",
       "      <td>2.430</td>\n",
       "      <td>53.27</td>\n",
       "      <td>24.0</td>\n",
       "      <td>0.939</td>\n",
       "      <td>1.1650</td>\n",
       "      <td>...</td>\n",
       "      <td>212.00</td>\n",
       "      <td>0.0</td>\n",
       "      <td>187.0</td>\n",
       "      <td>14066001_187</td>\n",
       "      <td>49.334</td>\n",
       "      <td>-0.431</td>\n",
       "      <td>2.0</td>\n",
       "      <td>7.0</td>\n",
       "      <td>7.0</td>\n",
       "      <td>0.079659</td>\n",
       "    </tr>\n",
       "    <tr>\n",
       "      <th>47076</th>\n",
       "      <td>14066001</td>\n",
       "      <td>3.879167</td>\n",
       "      <td>0.94</td>\n",
       "      <td>6.15</td>\n",
       "      <td>1.692281</td>\n",
       "      <td>4.270</td>\n",
       "      <td>93.10</td>\n",
       "      <td>24.0</td>\n",
       "      <td>1.271</td>\n",
       "      <td>2.5600</td>\n",
       "      <td>...</td>\n",
       "      <td>326.80</td>\n",
       "      <td>0.0</td>\n",
       "      <td>188.0</td>\n",
       "      <td>14066001_188</td>\n",
       "      <td>49.334</td>\n",
       "      <td>-0.431</td>\n",
       "      <td>2.0</td>\n",
       "      <td>7.0</td>\n",
       "      <td>8.0</td>\n",
       "      <td>0.076158</td>\n",
       "    </tr>\n",
       "  </tbody>\n",
       "</table>\n",
       "<p>100 rows × 65 columns</p>\n",
       "</div>"
      ],
      "text/plain": [
       "       number_sta   ff_mean  ff_min  ff_max    ff_std  ff_median  ff_sum  \\\n",
       "31       14066001  8.041250    4.22   11.52  2.125735      7.690  192.99   \n",
       "280      14066001  5.430417    2.88    8.32  1.401284      5.110  130.33   \n",
       "2520     14066001  7.973333    4.90   12.46  2.590803      7.300  191.36   \n",
       "25006    14066001  1.754583    0.86    2.83  0.607203      1.790   42.11   \n",
       "25256    14066001  2.407083    0.95    4.13  0.952089      2.470   57.77   \n",
       "...           ...       ...     ...     ...       ...        ...     ...   \n",
       "46072    14066001  2.573333    0.19    5.09  1.214910      2.825   61.76   \n",
       "46323    14066001  4.864583    2.95    6.99  1.184376      4.630  116.75   \n",
       "46574    14066001  2.743750    1.07    3.79  0.606069      2.765   65.85   \n",
       "46825    14066001  2.219583    0.65    4.03  0.995426      2.430   53.27   \n",
       "47076    14066001  3.879167    0.94    6.15  1.692281      4.270   93.10   \n",
       "\n",
       "       ff_count  ff_percentile_10  ff_percentile_25  ...  dd_percentile_95  \\\n",
       "31         24.0             5.995            6.5225  ...            240.00   \n",
       "280        24.0             4.085            4.4350  ...            229.25   \n",
       "2520       24.0             5.116            5.5600  ...            284.70   \n",
       "25006      24.0             1.019            1.2000  ...            256.70   \n",
       "25256      24.0             1.234            1.6175  ...            207.65   \n",
       "...         ...               ...               ...  ...               ...   \n",
       "46072      24.0             1.191            1.6850  ...            312.65   \n",
       "46323      24.0             3.342            4.1250  ...            326.70   \n",
       "46574      24.0             2.140            2.3100  ...            339.80   \n",
       "46825      24.0             0.939            1.1650  ...            212.00   \n",
       "47076      24.0             1.271            2.5600  ...            326.80   \n",
       "\n",
       "       Prediction  day_index            Id     lat    lon  height_sta  month  \\\n",
       "31            0.2        0.0    14066001_0  49.334 -0.431         2.0    1.0   \n",
       "280           3.4        1.0    14066001_1  49.334 -0.431         2.0    1.0   \n",
       "2520          6.0       10.0   14066001_10  49.334 -0.431         2.0    1.0   \n",
       "25006        11.6      100.0  14066001_100  49.334 -0.431         2.0    4.0   \n",
       "25256         5.6      101.0  14066001_101  49.334 -0.431         2.0    4.0   \n",
       "...           ...        ...           ...     ...    ...         ...    ...   \n",
       "46072         3.2      184.0  14066001_184  49.334 -0.431         2.0    7.0   \n",
       "46323         0.2      185.0  14066001_185  49.334 -0.431         2.0    7.0   \n",
       "46574         0.4      186.0  14066001_186  49.334 -0.431         2.0    7.0   \n",
       "46825         0.0      187.0  14066001_187  49.334 -0.431         2.0    7.0   \n",
       "47076         0.0      188.0  14066001_188  49.334 -0.431         2.0    7.0   \n",
       "\n",
       "        day  Forecasted  \n",
       "31      2.0    5.545129  \n",
       "280     3.0    7.372426  \n",
       "2520   12.0    7.151256  \n",
       "25006  11.0    1.914063  \n",
       "25256  12.0    0.581547  \n",
       "...     ...         ...  \n",
       "46072   4.0    0.279321  \n",
       "46323   5.0    0.105605  \n",
       "46574   6.0    0.000788  \n",
       "46825   7.0    0.079659  \n",
       "47076   8.0    0.076158  \n",
       "\n",
       "[100 rows x 65 columns]"
      ]
     },
     "execution_count": 42,
     "metadata": {},
     "output_type": "execute_result"
    }
   ],
   "source": [
    "train_c.sort_values(\"Id\").head(100)"
   ]
  },
  {
   "cell_type": "code",
   "execution_count": 30,
   "id": "economic-central",
   "metadata": {},
   "outputs": [],
   "source": [
    "train_base = pd.read_csv(\"./data/Train/Train/Baselines/Baseline_observation_train.csv\")"
   ]
  },
  {
   "cell_type": "code",
   "execution_count": 43,
   "id": "electronic-simulation",
   "metadata": {},
   "outputs": [
    {
     "data": {
      "text/html": [
       "<div>\n",
       "<style scoped>\n",
       "    .dataframe tbody tr th:only-of-type {\n",
       "        vertical-align: middle;\n",
       "    }\n",
       "\n",
       "    .dataframe tbody tr th {\n",
       "        vertical-align: top;\n",
       "    }\n",
       "\n",
       "    .dataframe thead th {\n",
       "        text-align: right;\n",
       "    }\n",
       "</style>\n",
       "<table border=\"1\" class=\"dataframe\">\n",
       "  <thead>\n",
       "    <tr style=\"text-align: right;\">\n",
       "      <th></th>\n",
       "      <th>number_sta</th>\n",
       "      <th>date</th>\n",
       "      <th>Prediction</th>\n",
       "      <th>Id</th>\n",
       "    </tr>\n",
       "  </thead>\n",
       "  <tbody>\n",
       "    <tr>\n",
       "      <th>0</th>\n",
       "      <td>14066001</td>\n",
       "      <td>2016-01-02</td>\n",
       "      <td>0.2</td>\n",
       "      <td>14066001_0</td>\n",
       "    </tr>\n",
       "    <tr>\n",
       "      <th>249</th>\n",
       "      <td>14066001</td>\n",
       "      <td>2016-01-03</td>\n",
       "      <td>3.4</td>\n",
       "      <td>14066001_1</td>\n",
       "    </tr>\n",
       "    <tr>\n",
       "      <th>2491</th>\n",
       "      <td>14066001</td>\n",
       "      <td>2016-01-12</td>\n",
       "      <td>6.0</td>\n",
       "      <td>14066001_10</td>\n",
       "    </tr>\n",
       "    <tr>\n",
       "      <th>24978</th>\n",
       "      <td>14066001</td>\n",
       "      <td>2016-04-11</td>\n",
       "      <td>11.6</td>\n",
       "      <td>14066001_100</td>\n",
       "    </tr>\n",
       "    <tr>\n",
       "      <th>25228</th>\n",
       "      <td>14066001</td>\n",
       "      <td>2016-04-12</td>\n",
       "      <td>5.6</td>\n",
       "      <td>14066001_101</td>\n",
       "    </tr>\n",
       "    <tr>\n",
       "      <th>...</th>\n",
       "      <td>...</td>\n",
       "      <td>...</td>\n",
       "      <td>...</td>\n",
       "      <td>...</td>\n",
       "    </tr>\n",
       "    <tr>\n",
       "      <th>46044</th>\n",
       "      <td>14066001</td>\n",
       "      <td>2016-07-04</td>\n",
       "      <td>3.2</td>\n",
       "      <td>14066001_184</td>\n",
       "    </tr>\n",
       "    <tr>\n",
       "      <th>46295</th>\n",
       "      <td>14066001</td>\n",
       "      <td>2016-07-05</td>\n",
       "      <td>0.2</td>\n",
       "      <td>14066001_185</td>\n",
       "    </tr>\n",
       "    <tr>\n",
       "      <th>46546</th>\n",
       "      <td>14066001</td>\n",
       "      <td>2016-07-06</td>\n",
       "      <td>0.4</td>\n",
       "      <td>14066001_186</td>\n",
       "    </tr>\n",
       "    <tr>\n",
       "      <th>46797</th>\n",
       "      <td>14066001</td>\n",
       "      <td>2016-07-07</td>\n",
       "      <td>0.0</td>\n",
       "      <td>14066001_187</td>\n",
       "    </tr>\n",
       "    <tr>\n",
       "      <th>47048</th>\n",
       "      <td>14066001</td>\n",
       "      <td>2016-07-08</td>\n",
       "      <td>0.0</td>\n",
       "      <td>14066001_188</td>\n",
       "    </tr>\n",
       "  </tbody>\n",
       "</table>\n",
       "<p>100 rows × 4 columns</p>\n",
       "</div>"
      ],
      "text/plain": [
       "       number_sta        date  Prediction            Id\n",
       "0        14066001  2016-01-02         0.2    14066001_0\n",
       "249      14066001  2016-01-03         3.4    14066001_1\n",
       "2491     14066001  2016-01-12         6.0   14066001_10\n",
       "24978    14066001  2016-04-11        11.6  14066001_100\n",
       "25228    14066001  2016-04-12         5.6  14066001_101\n",
       "...           ...         ...         ...           ...\n",
       "46044    14066001  2016-07-04         3.2  14066001_184\n",
       "46295    14066001  2016-07-05         0.2  14066001_185\n",
       "46546    14066001  2016-07-06         0.4  14066001_186\n",
       "46797    14066001  2016-07-07         0.0  14066001_187\n",
       "47048    14066001  2016-07-08         0.0  14066001_188\n",
       "\n",
       "[100 rows x 4 columns]"
      ]
     },
     "execution_count": 43,
     "metadata": {},
     "output_type": "execute_result"
    }
   ],
   "source": [
    "train_base.sort_values(\"Id\").head(100)"
   ]
  },
  {
   "cell_type": "code",
   "execution_count": 4,
   "id": "dominican-selling",
   "metadata": {},
   "outputs": [],
   "source": [
    "# imputer = KNNImputer(n_neighbors=1)\n",
    "# imputer.fit(df_imput)\n",
    "# df_imput = train[[\"ff\",\"t\",\"td\",\"hu\",\"dd\",\"precip\"]].copy()\n",
    "# X = imputer.transform(df_imput)\n",
    "# print(\"Je commence l'imputation\")\n",
    "# df_imput= pd.DataFrame(X,columns = df_imput.columns)\n",
    "# train[[\"ff\",\"t\",\"td\",\"hu\",\"dd\",\"precip\"]] = df_imput[[\"ff\",\"t\",\"td\",\"hu\",\"dd\",\"precip\"]]\n",
    "# # reorganisation des données.\n",
    "# print(\"Fin de l'imputation\")"
   ]
  },
  {
   "cell_type": "code",
   "execution_count": 54,
   "id": "acd84f78",
   "metadata": {},
   "outputs": [],
   "source": [
    "# Cette fonction ne prend en compte que les données présentes dans Xstation\n",
    "def load_X_train(fname,coords_fname) :\n",
    "    to_shift = ['ff_mean', 'ff_min', 'ff_max', 'ff_std',\n",
    "       'ff_median', 'ff_sum', 'ff_count', 'ff_percentile_10',\n",
    "       'ff_percentile_25', 'ff_percentile_80', 'ff_percentile_95', 't_mean',\n",
    "       't_min', 't_max', 't_std', 't_median', 't_sum', 't_count',\n",
    "       't_percentile_10', 't_percentile_25', 't_percentile_80',\n",
    "       't_percentile_95', 'td_mean', 'td_min', 'td_max', 'td_std', 'td_median',\n",
    "       'td_sum', 'td_count', 'td_percentile_10', 'td_percentile_25',\n",
    "       'td_percentile_80', 'td_percentile_95', 'hu_mean', 'hu_min', 'hu_max',\n",
    "       'hu_std', 'hu_median', 'hu_sum', 'hu_count', 'hu_percentile_10',\n",
    "       'hu_percentile_25', 'hu_percentile_80', 'hu_percentile_95', 'dd_mean',\n",
    "       'dd_min', 'dd_max', 'dd_std', 'dd_median', 'dd_sum', 'dd_count',\n",
    "       'dd_percentile_10', 'dd_percentile_25', 'dd_percentile_80',\n",
    "       'dd_percentile_95', 'precip_sum']\n",
    "    coords = pd.read_csv(coords_fname)\n",
    "    train = pd.read_csv(fname,parse_dates=['date'],infer_datetime_format=True)\n",
    "    train['number_sta']=train['number_sta'].astype('category')\n",
    "    #sort by station, then by date \n",
    "    train = train.sort_values(['number_sta','date'])   \n",
    "    method_traitements = [\"mean\",\"min\",\"max\",\"std\",\"median\",\"sum\",\"count\",percentile(10),percentile(25),percentile(80),percentile(95)]\n",
    "    dict_to_split = {\"ff\":method_traitements,\"t\":method_traitements,\"td\":method_traitements\n",
    "                     ,\"hu\":method_traitements,\"dd\":method_traitements,\"precip\":\"sum\"}\n",
    "    Base_obs = train[{\"number_sta\",\"date\",\"ff\",\"t\",\"td\",\"hu\",\"dd\",\"precip\"}].copy()\n",
    "    Base_obs.set_index('date',inplace = True)  \n",
    "\n",
    "    # type de traitement.\n",
    "    Base_obs_type = Base_obs.groupby('number_sta').resample('D').agg(dict_to_split)\n",
    "    Base_obs_type.columns = ['_'.join(col).strip() for col in Base_obs_type.columns.values]\n",
    "    Base_obs_type = Base_obs_type.reset_index(['date','number_sta']) \n",
    "    Base_obs_type['number_sta'] = Base_obs_type['number_sta'].astype('category')   \n",
    "    #Select the observations the day before\n",
    "    Base_obs_type[to_shift] = Base_obs_type.groupby(['number_sta'])[to_shift].shift(1)    \n",
    "    Base_obs_type = Base_obs_type.sort_values(by=[\"number_sta\",\"date\"])\n",
    "    #del Base_obs['precip']\n",
    "    Base_obs_type.rename(columns={'Prediction':'precip_sum'},inplace=True)\n",
    "    del Base_obs_type[\"precip_sum\"]\n",
    "    date = first_date\n",
    "    dates = []\n",
    "    while date <= (last_date - datetime.timedelta(days=1)):\n",
    "        date += datetime.timedelta(days=1)\n",
    "        dates.append(date)\n",
    "\n",
    "    d_dates =  pd.DataFrame(dates, columns = ['date'])\n",
    "    d_dates['day_index'] = d_dates.index\n",
    "    y_f = Base_obs_type.merge(d_dates,how=\"right\",on = [\"date\"])\n",
    "    y_f = y_f[y_f['date']!=last_date]\n",
    "    y_f['Id'] = y_f[list(y_f.columns)[0]].astype(str) + '_' + \\\n",
    "                      y_f['day_index'].astype(str) \n",
    "    #y_f[\"number_sta\"] = y_f[(\"number_sta\",\"\")]\n",
    "    y_f = y_f.merge(coords,on=[\"number_sta\"],how=\"right\")\n",
    "    X_train = y_f.copy()#drop([\"day_index\"],axis=1)\n",
    "    X_train[\"month\"] = X_train[\"date\"].dt.month\n",
    "    X_train[\"day\"] = X_train[\"date\"].dt.day\n",
    "    X_train.drop([\"date\"],axis=1,inplace=True)\n",
    "    return X_train"
   ]
  },
  {
   "cell_type": "code",
   "execution_count": 55,
   "id": "fallen-sunday",
   "metadata": {},
   "outputs": [],
   "source": [
    "train = load_X_train(fname,coords_fname)"
   ]
  },
  {
   "cell_type": "code",
   "execution_count": 56,
   "id": "announced-trustee",
   "metadata": {},
   "outputs": [],
   "source": [
    "train_forecast = pd.read_csv(\"./data/Train/Train/Baselines/Baseline_forecast_train.csv\")"
   ]
  },
  {
   "cell_type": "code",
   "execution_count": 57,
   "id": "wrapped-acceptance",
   "metadata": {},
   "outputs": [],
   "source": [
    "train_forecast.rename(columns={\"Prediction\":\"Forecasted\"},inplace = True)\n",
    "train_forecast.drop([\"date\",\"number_sta\"],axis = 1 ,inplace = True)"
   ]
  },
  {
   "cell_type": "code",
   "execution_count": 58,
   "id": "aggregate-young",
   "metadata": {},
   "outputs": [],
   "source": [
    "value_list = list(train[\"Id\"])\n",
    "boolean_series = train_forecast.Id.isin(value_list)\n",
    "train_forecast = train_forecast[boolean_series]"
   ]
  },
  {
   "cell_type": "code",
   "execution_count": 59,
   "id": "least-choice",
   "metadata": {},
   "outputs": [],
   "source": [
    "train = train.merge(train_forecast,on=[\"Id\"],how=\"right\")"
   ]
  },
  {
   "cell_type": "markdown",
   "id": "82c7458a",
   "metadata": {},
   "source": [
    "### Load Y_test"
   ]
  },
  {
   "cell_type": "code",
   "execution_count": 13,
   "id": "8398f8ef",
   "metadata": {},
   "outputs": [],
   "source": [
    "fname_test = \"./data/Test/Test/X_station_test.csv\"\n",
    "coords_fname_test = './data/Other/Other/stations_coordinates.csv'\n",
    "coords = pd.read_csv(coords_fname_test)\n",
    "def load_X_test(fname_test,coords_fname_test) :\n",
    "    test = pd.read_csv(fname_test)\n",
    "    test[\"Id\"] =test[\"Id\"].str.rsplit(\"_\",n=1,expand=True)[0]\n",
    "    month = test[\"month\"]\n",
    "    test.drop([\"precip\",\"month\"],axis = 1,inplace = True)\n",
    "    method_traitements = [\"mean\",\"min\",\"max\",\"std\",\"median\",\"sum\",\"count\",percentile(10),percentile(25),percentile(80),percentile(95)]\n",
    "    dict_to_split = {\"ff\":method_traitements,\"t\":method_traitements,\"td\":method_traitements\n",
    "                     ,\"hu\":method_traitements,\"dd\":method_traitements}\n",
    "    test[\"Id\"] = test[\"Id\"].astype(\"category\")\n",
    "    Base_obs = test[{\"Id\",\"ff\",\"t\",\"td\",\"hu\",\"dd\"}].copy()\n",
    "    # type de traitement.\n",
    "    Base_obs_type = Base_obs.groupby('Id').agg(dict_to_split)\n",
    "    Base_obs_type = Base_obs_type.sort_values(by=[\"Id\"])\n",
    "    test = Base_obs_type.copy()\n",
    "    test.columns = ['_'.join(col).strip() for col in test.columns.values]\n",
    "    test = test.reset_index(['Id'])\n",
    "    base_test = pd.read_csv(\"./data/Test/Test/Baselines/Baseline_observation_test.csv\")\n",
    "    test = test.merge(base_test,on=[\"Id\"],how=\"right\")\n",
    "    test[[\"number_sta\",\"day_index\"]] = test[\"Id\"].str.split(\"_\",expand=True)\n",
    "    test[\"number_sta\"] = test[\"number_sta\"].astype(int)\n",
    "    test = test.merge(coords,on=\"number_sta\",how='right')\n",
    "    date = first_date\n",
    "    dates = []\n",
    "    while date <= (last_date - datetime.timedelta(days=1)):\n",
    "        date += datetime.timedelta(days=1)\n",
    "        dates.append(date)\n",
    "\n",
    "    d_dates =  pd.DataFrame(dates, columns = ['date'])\n",
    "    d_dates['day_index'] = d_dates.index\n",
    "    d_dates[\"month\"]=month\n",
    "    d_dates[\"day\"] = d_dates[\"date\"].dt.day\n",
    "    del d_dates[\"date\"]\n",
    "    test.dropna(subset=[\"day_index\"],inplace=True)\n",
    "    test[\"day_index\"] = test[\"day_index\"].astype(int)\n",
    "    test = test.merge(d_dates,on=[\"day_index\"],how=\"right\")\n",
    "    test = test.dropna(subset=[\"lat\"])\n",
    "    return test\n"
   ]
  },
  {
   "cell_type": "code",
   "execution_count": 14,
   "id": "bd2ad8d2",
   "metadata": {},
   "outputs": [],
   "source": [
    "test = load_X_test(fname_test,coords_fname_test)"
   ]
  },
  {
   "cell_type": "code",
   "execution_count": 15,
   "id": "6955cfc0",
   "metadata": {},
   "outputs": [],
   "source": [
    "test_forecast = pd.read_csv(\"./data/Test/Test/Baselines/Baseline_forecast_test.csv\")"
   ]
  },
  {
   "cell_type": "code",
   "execution_count": 16,
   "id": "cf75a587",
   "metadata": {},
   "outputs": [],
   "source": [
    "test_forecast.rename(columns={\"Prediction\":\"Forecasted\"},inplace = True)\n",
    "value_list = list(test[\"Id\"])\n",
    "boolean_series = test_forecast.Id.isin(value_list)\n",
    "test_forecast = test_forecast[boolean_series]\n",
    "test = test_forecast.merge(test,on=[\"Id\"],how=\"right\")"
   ]
  },
  {
   "cell_type": "code",
   "execution_count": 17,
   "id": "73de81d7",
   "metadata": {},
   "outputs": [],
   "source": [
    "forcasted = list(test[\"Forecasted\"])\n",
    "del test[\"Forecasted\"]\n",
    "test[\"Forecasted\"] = forcasted\n"
   ]
  },
  {
   "cell_type": "code",
   "execution_count": 18,
   "id": "a70e0d16",
   "metadata": {},
   "outputs": [],
   "source": [
    "test[\"Forecasted\"] = test[\"Forecasted\"].fillna(test[\"Prediction\"])"
   ]
  },
  {
   "cell_type": "code",
   "execution_count": 21,
   "id": "finite-guest",
   "metadata": {},
   "outputs": [],
   "source": [
    "### train et déja réalisé\n",
    "train_c = pd.read_csv(\"./working/train.csv\")"
   ]
  },
  {
   "cell_type": "code",
   "execution_count": 22,
   "id": "exotic-liberty",
   "metadata": {},
   "outputs": [],
   "source": [
    "test_c = pd.read_csv(\"./working/test.csv\")"
   ]
  },
  {
   "cell_type": "markdown",
   "id": "0244934f",
   "metadata": {
    "papermill": {
     "duration": 0.019683,
     "end_time": "2021-11-17T16:13:26.335856",
     "exception": false,
     "start_time": "2021-11-17T16:13:26.316173",
     "status": "completed"
    },
    "tags": []
   },
   "source": [
    "### Load Y"
   ]
  },
  {
   "cell_type": "code",
   "execution_count": 29,
   "id": "14f74030",
   "metadata": {
    "execution": {
     "iopub.execute_input": "2021-11-17T16:13:26.379374Z",
     "iopub.status.busy": "2021-11-17T16:13:26.378681Z",
     "iopub.status.idle": "2021-11-17T16:13:26.755723Z",
     "shell.execute_reply": "2021-11-17T16:13:26.755120Z",
     "shell.execute_reply.started": "2021-11-17T15:30:46.764368Z"
    },
    "papermill": {
     "duration": 0.399977,
     "end_time": "2021-11-17T16:13:26.755869",
     "exception": false,
     "start_time": "2021-11-17T16:13:26.355892",
     "status": "completed"
    },
    "tags": []
   },
   "outputs": [],
   "source": [
    "fname = './data/Train/Train/Y_train.csv'\n",
    "param = 'Ground_truth'  #weather parameter name in the file ('Ground_truth' about Y and 'Prediction' about baseline)\n",
    "ytrain= pd.read_csv(fname, parse_dates=['date'], infer_datetime_format=True)\n",
    "ytrain['number_sta'] = ytrain['number_sta'].astype('category')"
   ]
  },
  {
   "cell_type": "code",
   "execution_count": 30,
   "id": "232261de",
   "metadata": {
    "execution": {
     "iopub.execute_input": "2021-11-17T16:13:26.866035Z",
     "iopub.status.busy": "2021-11-17T16:13:26.864633Z",
     "iopub.status.idle": "2021-11-17T16:13:26.878392Z",
     "shell.execute_reply": "2021-11-17T16:13:26.878934Z",
     "shell.execute_reply.started": "2021-11-17T15:34:18.140604Z"
    },
    "papermill": {
     "duration": 0.040193,
     "end_time": "2021-11-17T16:13:26.879138",
     "exception": false,
     "start_time": "2021-11-17T16:13:26.838945",
     "status": "completed"
    },
    "tags": []
   },
   "outputs": [],
   "source": [
    "ytrain = ytrain[ytrain[\"date\"]!=last_date].copy()"
   ]
  },
  {
   "cell_type": "code",
   "execution_count": 31,
   "id": "0df08ece",
   "metadata": {},
   "outputs": [],
   "source": [
    "### Methodologie drop_all_na\n",
    "X_full = train.dropna()\n",
    "Y_full = ytrain.dropna(subset=[\"Ground_truth\"])\n",
    "#X_full =X_full[X_full.index.isin(Y_full.index)].dropna()\n",
    "X_full = X_full.sort_values(\"Id\")\n",
    "Y_full = Y_full.sort_values(\"Id\")\n",
    "value_list = list(X_full[\"Id\"])\n",
    "boolean_series = Y_full.Id.isin(value_list)\n",
    "Y_full = Y_full[boolean_series]\n",
    "value_list = list(Y_full[\"Id\"])\n",
    "boolean_series = X_full.Id.isin(value_list)\n",
    "X_full = X_full[boolean_series]"
   ]
  },
  {
   "cell_type": "code",
   "execution_count": null,
   "id": "22478096",
   "metadata": {},
   "outputs": [],
   "source": [
    "X_full = train.copy()"
   ]
  },
  {
   "cell_type": "code",
   "execution_count": null,
   "id": "tough-feeding",
   "metadata": {},
   "outputs": [],
   "source": [
    "### Methodologie drop_na from Ytrain\n",
    "Y_full = ytrain.dropna(subset=[\"Ground_truth\"])"
   ]
  },
  {
   "cell_type": "code",
   "execution_count": null,
   "id": "electrical-oracle",
   "metadata": {},
   "outputs": [],
   "source": [
    "value_list = list(Y_full[\"Id\"])\n",
    "boolean_series = X_full.Id.isin(value_list)\n",
    "X_full = X_full[boolean_series]"
   ]
  },
  {
   "cell_type": "code",
   "execution_count": null,
   "id": "e089e832",
   "metadata": {},
   "outputs": [],
   "source": [
    "train.columns"
   ]
  },
  {
   "cell_type": "code",
   "execution_count": 32,
   "id": "6f02eea2",
   "metadata": {},
   "outputs": [],
   "source": [
    "to_drop = [\"Id\",\"number_sta\",\"day_index\",\"day\"]#,'lat', 'lon', 'height_sta']"
   ]
  },
  {
   "cell_type": "code",
   "execution_count": 33,
   "id": "attended-lindsay",
   "metadata": {},
   "outputs": [],
   "source": [
    "Ximp = X_full.drop(to_drop,axis=1).values#],\"lon\",\"lat\",\"height_sta\"\n",
    "Yimp = np.array(Y_full[\"Ground_truth\"])"
   ]
  },
  {
   "cell_type": "code",
   "execution_count": 94,
   "id": "characteristic-defense",
   "metadata": {},
   "outputs": [],
   "source": [
    "### pour l'ensemble test\n",
    "x_full = test.copy()"
   ]
  },
  {
   "cell_type": "code",
   "execution_count": 107,
   "id": "stuffed-heating",
   "metadata": {},
   "outputs": [],
   "source": [
    "ximp = x_full.drop(to_drop,axis=1).values"
   ]
  },
  {
   "cell_type": "markdown",
   "id": "18290a5d",
   "metadata": {
    "papermill": {
     "duration": 0.022743,
     "end_time": "2021-11-17T16:13:26.922939",
     "exception": false,
     "start_time": "2021-11-17T16:13:26.900196",
     "status": "completed"
    },
    "tags": []
   },
   "source": [
    "### Application du modèle."
   ]
  },
  {
   "cell_type": "code",
   "execution_count": 96,
   "id": "139e5d7d",
   "metadata": {},
   "outputs": [],
   "source": [
    "from sklearn.impute import KNNImputer"
   ]
  },
  {
   "cell_type": "code",
   "execution_count": 108,
   "id": "graduate-produce",
   "metadata": {},
   "outputs": [],
   "source": [
    "X_concat = np.concatenate((Ximp, ximp))"
   ]
  },
  {
   "cell_type": "code",
   "execution_count": 109,
   "id": "02975c06",
   "metadata": {
    "execution": {
     "iopub.execute_input": "2021-11-17T16:13:26.972229Z",
     "iopub.status.busy": "2021-11-17T16:13:26.971200Z",
     "iopub.status.idle": "2021-11-17T16:13:26.974302Z",
     "shell.execute_reply": "2021-11-17T16:13:26.974847Z"
    },
    "papermill": {
     "duration": 0.028077,
     "end_time": "2021-11-17T16:13:26.975026",
     "exception": false,
     "start_time": "2021-11-17T16:13:26.946949",
     "status": "completed"
    },
    "tags": []
   },
   "outputs": [
    {
     "data": {
      "text/plain": [
       "KNNImputer(n_neighbors=1)"
      ]
     },
     "execution_count": 109,
     "metadata": {},
     "output_type": "execute_result"
    }
   ],
   "source": [
    "### réaliser une imputation des données manquantes.\n",
    "imputer = KNNImputer(n_neighbors=1)\n",
    "imputer.fit(X_concat)"
   ]
  },
  {
   "cell_type": "code",
   "execution_count": 112,
   "id": "b04a1151",
   "metadata": {},
   "outputs": [],
   "source": [
    "ximp = imputer.transform(ximp)"
   ]
  },
  {
   "cell_type": "code",
   "execution_count": null,
   "id": "looking-center",
   "metadata": {},
   "outputs": [],
   "source": [
    "from sklearn.impute import SimpleImputer"
   ]
  },
  {
   "cell_type": "code",
   "execution_count": null,
   "id": "aggregate-aquatic",
   "metadata": {},
   "outputs": [],
   "source": [
    "imp = SimpleImputer(missing_values=np.nan, strategy='mean')"
   ]
  },
  {
   "cell_type": "code",
   "execution_count": null,
   "id": "starting-adjustment",
   "metadata": {},
   "outputs": [],
   "source": [
    "imp.fit(Ximp)"
   ]
  },
  {
   "cell_type": "code",
   "execution_count": null,
   "id": "hydraulic-working",
   "metadata": {},
   "outputs": [],
   "source": [
    "ximp=imp.transform(ximp)"
   ]
  },
  {
   "cell_type": "markdown",
   "id": "fc1c2ddb",
   "metadata": {},
   "source": [
    "### Fonction MAPE"
   ]
  },
  {
   "cell_type": "code",
   "execution_count": 34,
   "id": "83b8adb5",
   "metadata": {},
   "outputs": [],
   "source": [
    "def MAPE(yp,yt) :\n",
    "    taille = len(yp)\n",
    "    mape = 0\n",
    "    for i in range(taille) :\n",
    "        mape += abs((yt[i]-yp[i])/(yt[i]+1))\n",
    "    mape *= 100/taille\n",
    "    return mape"
   ]
  },
  {
   "cell_type": "code",
   "execution_count": 26,
   "id": "3e4566db",
   "metadata": {},
   "outputs": [],
   "source": [
    "def MAPE2(Y_Predicted,Y_actual):\n",
    "    mape = np.mean(np.abs((Y_actual - Y_Predicted)/(Y_actual+1)))*100\n",
    "    return mape"
   ]
  },
  {
   "cell_type": "code",
   "execution_count": 35,
   "id": "looking-sweet",
   "metadata": {},
   "outputs": [],
   "source": [
    "from sklearn.preprocessing import StandardScaler\n",
    "from sklearn import preprocessing"
   ]
  },
  {
   "cell_type": "code",
   "execution_count": 36,
   "id": "silver-court",
   "metadata": {},
   "outputs": [
    {
     "data": {
      "text/plain": [
       "StandardScaler()"
      ]
     },
     "execution_count": 36,
     "metadata": {},
     "output_type": "execute_result"
    }
   ],
   "source": [
    "scaler = StandardScaler()\n",
    "scaler.fit(Ximp)"
   ]
  },
  {
   "cell_type": "code",
   "execution_count": 37,
   "id": "palestinian-mechanics",
   "metadata": {},
   "outputs": [],
   "source": [
    "\n",
    "Ximp = scaler.transform(Ximp)"
   ]
  },
  {
   "cell_type": "code",
   "execution_count": 39,
   "id": "ed845a4b",
   "metadata": {},
   "outputs": [],
   "source": [
    "from sklearn.model_selection import train_test_split"
   ]
  },
  {
   "cell_type": "code",
   "execution_count": 40,
   "id": "ff07e3bc",
   "metadata": {},
   "outputs": [],
   "source": [
    "X_train, X_test, y_train, y_test = train_test_split(\n",
    "...     Ximp, Yimp, test_size=0.33, random_state=42)"
   ]
  },
  {
   "cell_type": "markdown",
   "id": "02ac5e7e",
   "metadata": {},
   "source": [
    "### Linear regression"
   ]
  },
  {
   "cell_type": "code",
   "execution_count": 41,
   "id": "5a715322",
   "metadata": {},
   "outputs": [],
   "source": [
    "from sklearn.linear_model import LinearRegression"
   ]
  },
  {
   "cell_type": "code",
   "execution_count": 42,
   "id": "f2c078e2",
   "metadata": {},
   "outputs": [],
   "source": [
    "reg = LinearRegression().fit(X_train, y_train)"
   ]
  },
  {
   "cell_type": "code",
   "execution_count": 43,
   "id": "8272b6cf",
   "metadata": {},
   "outputs": [
    {
     "data": {
      "text/plain": [
       "0.5999928980495721"
      ]
     },
     "execution_count": 43,
     "metadata": {},
     "output_type": "execute_result"
    }
   ],
   "source": [
    "reg.score(X_train, y_train)"
   ]
  },
  {
   "cell_type": "code",
   "execution_count": 44,
   "id": "0601833e",
   "metadata": {},
   "outputs": [],
   "source": [
    "y_predicted = reg.predict(X_train)"
   ]
  },
  {
   "cell_type": "code",
   "execution_count": 45,
   "id": "b22cc5ec",
   "metadata": {},
   "outputs": [],
   "source": [
    "y_predicted = [elt if elt >=0 else 0 for elt in y_predicted ]"
   ]
  },
  {
   "cell_type": "code",
   "execution_count": 46,
   "id": "c7ae23b6",
   "metadata": {},
   "outputs": [
    {
     "data": {
      "text/plain": [
       "47.267968490217214"
      ]
     },
     "execution_count": 46,
     "metadata": {},
     "output_type": "execute_result"
    }
   ],
   "source": [
    "MAPE(y_predicted,y_train)"
   ]
  },
  {
   "cell_type": "code",
   "execution_count": 76,
   "id": "c52f7642",
   "metadata": {},
   "outputs": [],
   "source": [
    "y_predicted = reg.predict(X_test)"
   ]
  },
  {
   "cell_type": "code",
   "execution_count": 77,
   "id": "e3a9df18",
   "metadata": {},
   "outputs": [],
   "source": [
    "y_predicted = [elt if elt >=0 else 0 for elt in y_predicted ]"
   ]
  },
  {
   "cell_type": "code",
   "execution_count": 78,
   "id": "56c13960",
   "metadata": {},
   "outputs": [
    {
     "data": {
      "text/plain": [
       "47.11552061033593"
      ]
     },
     "execution_count": 78,
     "metadata": {},
     "output_type": "execute_result"
    }
   ],
   "source": [
    "MAPE(y_predicted,y_test)"
   ]
  },
  {
   "cell_type": "markdown",
   "id": "bc152906",
   "metadata": {},
   "source": [
    "### RandomForestRegression"
   ]
  },
  {
   "cell_type": "code",
   "execution_count": 28,
   "id": "122347bc",
   "metadata": {},
   "outputs": [],
   "source": [
    "from sklearn.ensemble import RandomForestRegressor"
   ]
  },
  {
   "cell_type": "code",
   "execution_count": null,
   "id": "d445c829",
   "metadata": {},
   "outputs": [],
   "source": [
    "X_train_plus = np.concatenate([np.array(X_train),np.array(y_predicted_train_smv).reshape(len(X_train),1)] , axis=1)"
   ]
  },
  {
   "cell_type": "code",
   "execution_count": null,
   "id": "b2819a9c",
   "metadata": {},
   "outputs": [],
   "source": [
    "regr = RandomForestRegressor(criterion=\"absolute_error\")\n",
    "regr.fit(X_train, y_train)"
   ]
  },
  {
   "cell_type": "code",
   "execution_count": null,
   "id": "d678703d",
   "metadata": {},
   "outputs": [],
   "source": [
    "regr.score(X_train,y_train)"
   ]
  },
  {
   "cell_type": "code",
   "execution_count": null,
   "id": "c6d60fb1",
   "metadata": {},
   "outputs": [],
   "source": [
    "y_predicted_rf_train = regr.predict(X_train)\n",
    "#y_predicted_rf = [elt if elt >=0 else 0 for elt in y_predicted ]"
   ]
  },
  {
   "cell_type": "code",
   "execution_count": null,
   "id": "expected-statistics",
   "metadata": {},
   "outputs": [],
   "source": [
    "MAPE(y_predicted_rf_train  ,y_train)"
   ]
  },
  {
   "cell_type": "code",
   "execution_count": null,
   "id": "cfa2d7ea",
   "metadata": {},
   "outputs": [],
   "source": [
    "X_test_plus = np.concatenate([np.array(X_test),np.array(y_predicted_svm_test).reshape(len(X_test),1)] , axis=1)"
   ]
  },
  {
   "cell_type": "code",
   "execution_count": null,
   "id": "42f75928",
   "metadata": {},
   "outputs": [],
   "source": [
    "y_predicted_rf_test = regr.predict(X_test)\n",
    "#y_predicted = [elt if elt >=0 else 0 for elt in y_predicted ]"
   ]
  },
  {
   "cell_type": "code",
   "execution_count": null,
   "id": "946328ef",
   "metadata": {},
   "outputs": [],
   "source": [
    "MAPE(y_predicted_rf_test ,y_test)"
   ]
  },
  {
   "cell_type": "markdown",
   "id": "standing-malpractice",
   "metadata": {},
   "source": [
    "### SVM"
   ]
  },
  {
   "cell_type": "code",
   "execution_count": 48,
   "id": "structured-productivity",
   "metadata": {},
   "outputs": [],
   "source": [
    "from sklearn import svm"
   ]
  },
  {
   "cell_type": "code",
   "execution_count": 49,
   "id": "split-drill",
   "metadata": {},
   "outputs": [],
   "source": [
    "#X_train_plus = np.concatenate([np.array(X_train),np.array(y_predicted_sgdr_train).reshape(len(X_train),1)] , axis=1)"
   ]
  },
  {
   "cell_type": "code",
   "execution_count": 50,
   "id": "distant-madison",
   "metadata": {},
   "outputs": [
    {
     "data": {
      "text/plain": [
       "SVR()"
      ]
     },
     "execution_count": 50,
     "metadata": {},
     "output_type": "execute_result"
    }
   ],
   "source": [
    "regr_svm = svm.SVR()\n",
    "regr_svm.fit(X_train,y_train)"
   ]
  },
  {
   "cell_type": "code",
   "execution_count": 51,
   "id": "leading-bhutan",
   "metadata": {},
   "outputs": [
    {
     "data": {
      "text/plain": [
       "0.6264793776043822"
      ]
     },
     "execution_count": 51,
     "metadata": {},
     "output_type": "execute_result"
    }
   ],
   "source": [
    "regr_svm.score(X_train,y_train)"
   ]
  },
  {
   "cell_type": "code",
   "execution_count": 52,
   "id": "91db1a52",
   "metadata": {},
   "outputs": [],
   "source": [
    "y_predicted_svm_train = regr_svm.predict(X_train)\n",
    "y_predicted_svm_train = [elt if elt >=0 else 0 for elt in y_predicted_svm_train ]"
   ]
  },
  {
   "cell_type": "code",
   "execution_count": 53,
   "id": "regional-assistant",
   "metadata": {},
   "outputs": [
    {
     "data": {
      "text/plain": [
       "26.534609937765524"
      ]
     },
     "execution_count": 53,
     "metadata": {},
     "output_type": "execute_result"
    }
   ],
   "source": [
    "MAPE(y_predicted_svm_train ,y_train)"
   ]
  },
  {
   "cell_type": "code",
   "execution_count": 91,
   "id": "operational-appreciation",
   "metadata": {},
   "outputs": [],
   "source": [
    "#X_test_plus = np.concatenate([np.array(X_test),np.array(y_predicted_sgdr_test).reshape(len(X_test),1)] , axis=1)"
   ]
  },
  {
   "cell_type": "code",
   "execution_count": 54,
   "id": "b9638e7b",
   "metadata": {},
   "outputs": [],
   "source": [
    "y_predicted_svm_test= regr_svm.predict(X_test)\n",
    "y_predicted_svm_test = [elt if elt >=0 else 0 for elt in y_predicted_svm_test ]"
   ]
  },
  {
   "cell_type": "code",
   "execution_count": 55,
   "id": "emotional-remark",
   "metadata": {},
   "outputs": [
    {
     "data": {
      "text/plain": [
       "27.453851248612036"
      ]
     },
     "execution_count": 55,
     "metadata": {},
     "output_type": "execute_result"
    }
   ],
   "source": [
    "MAPE(y_predicted_svm_test ,y_test)"
   ]
  },
  {
   "cell_type": "code",
   "execution_count": 56,
   "id": "bf092f32",
   "metadata": {},
   "outputs": [],
   "source": [
    "y_predicted_all = regr_svm.predict(Ximp)\n",
    "y_predicted_all = [elt if elt >=0 else 0 for elt in y_predicted_all ]\n"
   ]
  },
  {
   "cell_type": "code",
   "execution_count": 57,
   "id": "13ac38af",
   "metadata": {},
   "outputs": [],
   "source": [
    "#idée refaire une projection et faire de tels sorte que cela soit smooth"
   ]
  },
  {
   "cell_type": "code",
   "execution_count": 58,
   "id": "98af24fb",
   "metadata": {},
   "outputs": [
    {
     "data": {
      "text/plain": [
       "26.837967741976467"
      ]
     },
     "execution_count": 58,
     "metadata": {},
     "output_type": "execute_result"
    }
   ],
   "source": [
    "MAPE(y_predicted_all,Yimp)"
   ]
  },
  {
   "cell_type": "code",
   "execution_count": null,
   "id": "489854f0",
   "metadata": {},
   "outputs": [],
   "source": [
    "MAPE2(y_predicted_all,Yimp)"
   ]
  },
  {
   "cell_type": "code",
   "execution_count": null,
   "id": "8973d228",
   "metadata": {},
   "outputs": [],
   "source": []
  },
  {
   "cell_type": "code",
   "execution_count": null,
   "id": "26d53ec9",
   "metadata": {},
   "outputs": [],
   "source": [
    "len(y_predicted_all)"
   ]
  },
  {
   "cell_type": "code",
   "execution_count": null,
   "id": "advisory-research",
   "metadata": {},
   "outputs": [],
   "source": [
    "26.714607117563933,27.857640502040667"
   ]
  },
  {
   "cell_type": "markdown",
   "id": "d2d8a850",
   "metadata": {},
   "source": [
    "### SGD_REGRESSOR"
   ]
  },
  {
   "cell_type": "code",
   "execution_count": 40,
   "id": "1ca36260",
   "metadata": {},
   "outputs": [],
   "source": [
    "from sklearn.linear_model import SGDRegressor"
   ]
  },
  {
   "cell_type": "code",
   "execution_count": 41,
   "id": "64c28e43",
   "metadata": {},
   "outputs": [
    {
     "data": {
      "text/plain": [
       "SGDRegressor()"
      ]
     },
     "execution_count": 41,
     "metadata": {},
     "output_type": "execute_result"
    }
   ],
   "source": [
    "regr_sgdr = SGDRegressor()\n",
    "regr_sgdr.fit(X_train,y_train)"
   ]
  },
  {
   "cell_type": "code",
   "execution_count": 42,
   "id": "bdbfd784",
   "metadata": {},
   "outputs": [
    {
     "data": {
      "text/plain": [
       "0.5945258355900376"
      ]
     },
     "execution_count": 42,
     "metadata": {},
     "output_type": "execute_result"
    }
   ],
   "source": [
    "regr_sgdr.score(X_train,y_train)"
   ]
  },
  {
   "cell_type": "code",
   "execution_count": 43,
   "id": "17f8f548",
   "metadata": {},
   "outputs": [],
   "source": [
    "y_predicted_sgdr_train = regr_sgdr.predict(X_train)\n",
    "y_predicted_sgdr_train = [elt if elt >=0 else 0 for elt in y_predicted_sgdr_train ]"
   ]
  },
  {
   "cell_type": "code",
   "execution_count": 44,
   "id": "a6ee1616",
   "metadata": {},
   "outputs": [
    {
     "data": {
      "text/plain": [
       "47.03756631095443"
      ]
     },
     "execution_count": 44,
     "metadata": {},
     "output_type": "execute_result"
    }
   ],
   "source": [
    "MAPE( y_predicted_sgdr_train ,y_train)"
   ]
  },
  {
   "cell_type": "code",
   "execution_count": 45,
   "id": "d9edf179",
   "metadata": {},
   "outputs": [],
   "source": [
    "y_predicted_sgdr_test = regr_sgdr.predict(X_test)\n",
    "y_predicted_sgdr_test = [elt if elt >=0 else 0 for elt in y_predicted_sgdr_test ]"
   ]
  },
  {
   "cell_type": "code",
   "execution_count": 46,
   "id": "644724be",
   "metadata": {},
   "outputs": [
    {
     "data": {
      "text/plain": [
       "47.21716991888985"
      ]
     },
     "execution_count": 46,
     "metadata": {},
     "output_type": "execute_result"
    }
   ],
   "source": [
    "MAPE(y_predicted_sgdr_test ,y_test)"
   ]
  },
  {
   "cell_type": "markdown",
   "id": "close-melissa",
   "metadata": {},
   "source": [
    "### Lasso"
   ]
  },
  {
   "cell_type": "code",
   "execution_count": 47,
   "id": "copyrighted-brown",
   "metadata": {},
   "outputs": [],
   "source": [
    "from sklearn import linear_model"
   ]
  },
  {
   "cell_type": "code",
   "execution_count": 60,
   "id": "generous-fountain",
   "metadata": {},
   "outputs": [
    {
     "data": {
      "text/plain": [
       "Lasso(alpha=0.08)"
      ]
     },
     "execution_count": 60,
     "metadata": {},
     "output_type": "execute_result"
    }
   ],
   "source": [
    "reg_lasso = linear_model.Lasso(alpha=0.08)\n",
    "reg_lasso.fit(X_train,y_train)"
   ]
  },
  {
   "cell_type": "code",
   "execution_count": 81,
   "id": "united-national",
   "metadata": {},
   "outputs": [
    {
     "data": {
      "text/plain": [
       "0.5938253090608208"
      ]
     },
     "execution_count": 81,
     "metadata": {},
     "output_type": "execute_result"
    }
   ],
   "source": [
    "reg_lasso.score(X_train,y_train)"
   ]
  },
  {
   "cell_type": "code",
   "execution_count": 62,
   "id": "legal-powell",
   "metadata": {},
   "outputs": [
    {
     "data": {
      "text/plain": [
       "49.310606514719524"
      ]
     },
     "execution_count": 62,
     "metadata": {},
     "output_type": "execute_result"
    }
   ],
   "source": [
    "MAPE(reg_lasso.predict(X_train),y_train)"
   ]
  },
  {
   "cell_type": "code",
   "execution_count": 63,
   "id": "close-password",
   "metadata": {},
   "outputs": [
    {
     "data": {
      "text/plain": [
       "49.548805790555"
      ]
     },
     "execution_count": 63,
     "metadata": {},
     "output_type": "execute_result"
    }
   ],
   "source": [
    "MAPE(reg_lasso.predict(X_test),y_test)"
   ]
  },
  {
   "cell_type": "markdown",
   "id": "compound-philadelphia",
   "metadata": {},
   "source": [
    "### MLP-NN "
   ]
  },
  {
   "cell_type": "code",
   "execution_count": 64,
   "id": "functioning-italic",
   "metadata": {},
   "outputs": [],
   "source": [
    "from sklearn.neural_network import MLPRegressor"
   ]
  },
  {
   "cell_type": "code",
   "execution_count": 65,
   "id": "digital-tattoo",
   "metadata": {},
   "outputs": [],
   "source": [
    "regr_mlpr = MLPRegressor(random_state=1, max_iter=1000).fit(X_train, y_train)"
   ]
  },
  {
   "cell_type": "code",
   "execution_count": 66,
   "id": "applied-petersburg",
   "metadata": {},
   "outputs": [
    {
     "data": {
      "text/plain": [
       "0.7016811296269168"
      ]
     },
     "execution_count": 66,
     "metadata": {},
     "output_type": "execute_result"
    }
   ],
   "source": [
    "regr_mlpr.score(X_train,y_train)"
   ]
  },
  {
   "cell_type": "code",
   "execution_count": 67,
   "id": "classical-thermal",
   "metadata": {},
   "outputs": [
    {
     "data": {
      "text/plain": [
       "51.832148755492895"
      ]
     },
     "execution_count": 67,
     "metadata": {},
     "output_type": "execute_result"
    }
   ],
   "source": [
    "MAPE(regr_mlpr.predict(X_train),y_train)"
   ]
  },
  {
   "cell_type": "code",
   "execution_count": 68,
   "id": "capital-router",
   "metadata": {},
   "outputs": [
    {
     "data": {
      "text/plain": [
       "54.64467089989887"
      ]
     },
     "execution_count": 68,
     "metadata": {},
     "output_type": "execute_result"
    }
   ],
   "source": [
    "MAPE(regr_mlpr.predict(X_test),y_test)"
   ]
  },
  {
   "cell_type": "markdown",
   "id": "reasonable-latin",
   "metadata": {},
   "source": [
    "### Ridge"
   ]
  },
  {
   "cell_type": "code",
   "execution_count": 82,
   "id": "hidden-morris",
   "metadata": {},
   "outputs": [],
   "source": [
    "from sklearn.linear_model import Ridge"
   ]
  },
  {
   "cell_type": "code",
   "execution_count": 92,
   "id": "sufficient-lincoln",
   "metadata": {},
   "outputs": [
    {
     "data": {
      "text/plain": [
       "Ridge(alpha=0.5)"
      ]
     },
     "execution_count": 92,
     "metadata": {},
     "output_type": "execute_result"
    }
   ],
   "source": [
    "ridge= Ridge(alpha=0.50)\n",
    "ridge.fit(X_train,y_train)"
   ]
  },
  {
   "cell_type": "code",
   "execution_count": 95,
   "id": "sized-darkness",
   "metadata": {},
   "outputs": [
    {
     "data": {
      "text/plain": [
       "0.5999630706644143"
      ]
     },
     "execution_count": 95,
     "metadata": {},
     "output_type": "execute_result"
    }
   ],
   "source": [
    "ridge.score(X_train,y_train)"
   ]
  },
  {
   "cell_type": "code",
   "execution_count": 93,
   "id": "funded-socket",
   "metadata": {},
   "outputs": [
    {
     "data": {
      "text/plain": [
       "52.98441872854264"
      ]
     },
     "execution_count": 93,
     "metadata": {},
     "output_type": "execute_result"
    }
   ],
   "source": [
    "MAPE(ridge.predict(X_train),y_train)"
   ]
  },
  {
   "cell_type": "code",
   "execution_count": 94,
   "id": "ordered-vacation",
   "metadata": {},
   "outputs": [
    {
     "data": {
      "text/plain": [
       "53.295853004235795"
      ]
     },
     "execution_count": 94,
     "metadata": {},
     "output_type": "execute_result"
    }
   ],
   "source": [
    "MAPE(ridge.predict(X_test),y_test)"
   ]
  },
  {
   "cell_type": "markdown",
   "id": "greater-angle",
   "metadata": {},
   "source": [
    "### Ransac regression"
   ]
  },
  {
   "cell_type": "code",
   "execution_count": 96,
   "id": "vulnerable-crash",
   "metadata": {},
   "outputs": [],
   "source": [
    "from sklearn.linear_model import RANSACRegressor"
   ]
  },
  {
   "cell_type": "code",
   "execution_count": 98,
   "id": "becoming-cotton",
   "metadata": {},
   "outputs": [
    {
     "data": {
      "text/plain": [
       "RANSACRegressor()"
      ]
     },
     "execution_count": 98,
     "metadata": {},
     "output_type": "execute_result"
    }
   ],
   "source": [
    "ransac= RANSACRegressor()\n",
    "ransac.fit(X_train,y_train)"
   ]
  },
  {
   "cell_type": "code",
   "execution_count": 99,
   "id": "coastal-recording",
   "metadata": {},
   "outputs": [
    {
     "data": {
      "text/plain": [
       "0.17446199836671894"
      ]
     },
     "execution_count": 99,
     "metadata": {},
     "output_type": "execute_result"
    }
   ],
   "source": [
    "ransac.score(X_train,y_train)"
   ]
  },
  {
   "cell_type": "code",
   "execution_count": 100,
   "id": "daily-update",
   "metadata": {},
   "outputs": [
    {
     "data": {
      "text/plain": [
       "154.79309455898243"
      ]
     },
     "execution_count": 100,
     "metadata": {},
     "output_type": "execute_result"
    }
   ],
   "source": [
    "MAPE(ransac.predict(X_train),y_train)"
   ]
  },
  {
   "cell_type": "code",
   "execution_count": 101,
   "id": "genetic-consolidation",
   "metadata": {},
   "outputs": [
    {
     "data": {
      "text/plain": [
       "156.27591506440234"
      ]
     },
     "execution_count": 101,
     "metadata": {},
     "output_type": "execute_result"
    }
   ],
   "source": [
    "MAPE(ransac.predict(X_test),y_test)"
   ]
  },
  {
   "cell_type": "markdown",
   "id": "given-reflection",
   "metadata": {},
   "source": [
    "### Gaussian processor"
   ]
  },
  {
   "cell_type": "code",
   "execution_count": 77,
   "id": "swiss-aruba",
   "metadata": {},
   "outputs": [],
   "source": [
    "from sklearn.gaussian_process import GaussianProcessRegressor\n",
    "from sklearn.gaussian_process.kernels import DotProduct, WhiteKernel"
   ]
  },
  {
   "cell_type": "code",
   "execution_count": null,
   "id": "sunrise-telescope",
   "metadata": {},
   "outputs": [],
   "source": [
    "gpr = GaussianProcessRegressor().fit(X_train, y_train)"
   ]
  },
  {
   "cell_type": "code",
   "execution_count": null,
   "id": "sporting-witch",
   "metadata": {},
   "outputs": [],
   "source": [
    "MAPE(gpr.predict(X_test),y_test)"
   ]
  },
  {
   "cell_type": "markdown",
   "id": "forty-romania",
   "metadata": {},
   "source": [
    "### XG-Boost"
   ]
  },
  {
   "cell_type": "code",
   "execution_count": 69,
   "id": "welcome-panama",
   "metadata": {},
   "outputs": [],
   "source": [
    "from sklearn.ensemble import GradientBoostingRegressor"
   ]
  },
  {
   "cell_type": "code",
   "execution_count": 70,
   "id": "quality-check",
   "metadata": {},
   "outputs": [
    {
     "data": {
      "text/plain": [
       "GradientBoostingRegressor()"
      ]
     },
     "execution_count": 70,
     "metadata": {},
     "output_type": "execute_result"
    }
   ],
   "source": [
    "reg_xgBoost = GradientBoostingRegressor()\n",
    "reg_xgBoost.fit(X_train, y_train)"
   ]
  },
  {
   "cell_type": "code",
   "execution_count": 71,
   "id": "certified-natural",
   "metadata": {},
   "outputs": [
    {
     "data": {
      "text/plain": [
       "0.6779427917664771"
      ]
     },
     "execution_count": 71,
     "metadata": {},
     "output_type": "execute_result"
    }
   ],
   "source": [
    "reg_xgBoost.score(X_train,y_train)"
   ]
  },
  {
   "cell_type": "code",
   "execution_count": 72,
   "id": "female-klein",
   "metadata": {},
   "outputs": [
    {
     "data": {
      "text/plain": [
       "39.6185076790901"
      ]
     },
     "execution_count": 72,
     "metadata": {},
     "output_type": "execute_result"
    }
   ],
   "source": [
    "MAPE(reg_xgBoost.predict(X_train),y_train)"
   ]
  },
  {
   "cell_type": "code",
   "execution_count": 73,
   "id": "straight-burner",
   "metadata": {},
   "outputs": [
    {
     "data": {
      "text/plain": [
       "40.54026591221415"
      ]
     },
     "execution_count": 73,
     "metadata": {},
     "output_type": "execute_result"
    }
   ],
   "source": [
    "MAPE(reg_xgBoost.predict(X_test),y_test)"
   ]
  },
  {
   "cell_type": "markdown",
   "id": "f92f95f6",
   "metadata": {},
   "source": [
    "### Gérer les données manquantes"
   ]
  },
  {
   "cell_type": "code",
   "execution_count": 151,
   "id": "d5760d94",
   "metadata": {},
   "outputs": [],
   "source": [
    "Xna = train[~train.index.isin(train.dropna().index)]"
   ]
  },
  {
   "cell_type": "code",
   "execution_count": 152,
   "id": "85c18938",
   "metadata": {},
   "outputs": [],
   "source": [
    "# pour chaque station présente dans le Xna\n",
    "Xna_reduit = Xna[[\"Id\",\"lat\",\"lon\",\"height_sta\",\"day_index\"]].copy()\n",
    "Xna_reduit[\"Prediction\"] = None\n",
    "Xc_reduit = X_full[[\"Id\",\"lat\",\"lon\",\"height_sta\",\"day_index\"]].copy()\n",
    "Xc_reduit[\"Prediction\"] = list(y_predicted_all)\n",
    "Xna_reduit.set_index(\"Id\",inplace = True)\n",
    "Xc_reduit.set_index(\"Id\",inplace = True)"
   ]
  },
  {
   "cell_type": "code",
   "execution_count": 153,
   "id": "c79935f1",
   "metadata": {},
   "outputs": [],
   "source": [
    "from sklearn.impute import KNNImputer"
   ]
  },
  {
   "cell_type": "code",
   "execution_count": 154,
   "id": "cdb722db",
   "metadata": {},
   "outputs": [],
   "source": [
    "df_feed = pd.concat([Xc_reduit,Xna_reduit],ignore_index=True)"
   ]
  },
  {
   "cell_type": "code",
   "execution_count": 155,
   "id": "4a60227e",
   "metadata": {},
   "outputs": [
    {
     "data": {
      "text/plain": [
       "KNNImputer(n_neighbors=1)"
      ]
     },
     "execution_count": 155,
     "metadata": {},
     "output_type": "execute_result"
    }
   ],
   "source": [
    "### réaliser une imputation des données manquantes.\n",
    "imputer = KNNImputer(n_neighbors=1)\n",
    "imputer.fit(df_feed)"
   ]
  },
  {
   "cell_type": "code",
   "execution_count": 156,
   "id": "90a021fc",
   "metadata": {},
   "outputs": [],
   "source": [
    "result = imputer.transform(Xna_reduit)"
   ]
  },
  {
   "cell_type": "code",
   "execution_count": 157,
   "id": "60b2805e",
   "metadata": {},
   "outputs": [],
   "source": [
    "df = pd.DataFrame()\n",
    "df[\"Id\"] = ytrain.dropna(subset = [\"Ground_truth\"])[\"Id\"]\n",
    "df[\"Prediction\"] = ytrain.dropna(subset = [\"Ground_truth\"])[\"Ground_truth\"]"
   ]
  },
  {
   "cell_type": "code",
   "execution_count": 158,
   "id": "69043798",
   "metadata": {},
   "outputs": [],
   "source": [
    "Xna[\"result\"] = result[:,4]"
   ]
  },
  {
   "cell_type": "code",
   "execution_count": 159,
   "id": "dec78ff9",
   "metadata": {},
   "outputs": [],
   "source": [
    "Xna = Xna.merge(df,on=[\"Id\"],how=\"right\").dropna(subset=[\"lat\"])"
   ]
  },
  {
   "cell_type": "code",
   "execution_count": 160,
   "id": "b9441154",
   "metadata": {},
   "outputs": [
    {
     "data": {
      "text/plain": [
       "45.08321038190653"
      ]
     },
     "execution_count": 160,
     "metadata": {},
     "output_type": "execute_result"
    }
   ],
   "source": [
    "MAPE(list(Xna[\"result\"]),list(Xna[\"Prediction_y\"]))"
   ]
  },
  {
   "cell_type": "code",
   "execution_count": 161,
   "id": "cd4c0bf9",
   "metadata": {},
   "outputs": [],
   "source": [
    "Xasc = Xna[[\"lat\",\"lon\",\"height_sta\",\"Forecasted\",\"result\",\"month\",\"Prediction_x\"]].copy().values"
   ]
  },
  {
   "cell_type": "code",
   "execution_count": 162,
   "id": "6f069d7e",
   "metadata": {},
   "outputs": [],
   "source": [
    "Yasc = np.array(Xna[\"Prediction_y\"])"
   ]
  },
  {
   "cell_type": "code",
   "execution_count": 163,
   "id": "4f934d86",
   "metadata": {},
   "outputs": [],
   "source": [
    "Xasc = StandardScaler().fit_transform(Xasc)"
   ]
  },
  {
   "cell_type": "code",
   "execution_count": 164,
   "id": "ab394cff",
   "metadata": {},
   "outputs": [],
   "source": [
    "X_train, X_test, y_train, y_test = train_test_split(\n",
    "...     Xasc, Yasc, test_size=0.50, random_state=42)"
   ]
  },
  {
   "cell_type": "code",
   "execution_count": 165,
   "id": "69c0b967",
   "metadata": {},
   "outputs": [
    {
     "data": {
      "text/plain": [
       "SVR()"
      ]
     },
     "execution_count": 165,
     "metadata": {},
     "output_type": "execute_result"
    }
   ],
   "source": [
    "# modele to complete missing data \n",
    "regr_svm_na = svm.SVR()\n",
    "regr_svm_na.fit(Xasc,Yasc)"
   ]
  },
  {
   "cell_type": "code",
   "execution_count": 166,
   "id": "varying-alarm",
   "metadata": {},
   "outputs": [
    {
     "data": {
      "text/plain": [
       "30.493961912647947"
      ]
     },
     "execution_count": 166,
     "metadata": {},
     "output_type": "execute_result"
    }
   ],
   "source": [
    "MAPE(regr_svm_na.predict(Xasc),Yasc)"
   ]
  },
  {
   "cell_type": "code",
   "execution_count": null,
   "id": "103905a8",
   "metadata": {},
   "outputs": [],
   "source": [
    "xasc = Xna[[\"lat\",\"lon\",\"height_sta\",\"Forecasted\",\"result\",\"month\",\"day\",\"Prediction_x\"]].copy()\n",
    "xasc[\"Forecasted\"] = list(xasc[\"Forecasted\"])[0:50000] + [None]*(71829-50000)"
   ]
  },
  {
   "cell_type": "code",
   "execution_count": null,
   "id": "6a6ebb20",
   "metadata": {},
   "outputs": [],
   "source": [
    "xasc[\"Forecasted\"] = xasc[\"Prediction_x\"]"
   ]
  },
  {
   "cell_type": "code",
   "execution_count": null,
   "id": "0611763e",
   "metadata": {},
   "outputs": [],
   "source": [
    "xasc_v = xasc.values"
   ]
  },
  {
   "cell_type": "code",
   "execution_count": null,
   "id": "c7e0344c",
   "metadata": {},
   "outputs": [],
   "source": [
    "xasc_v = StandardScaler().fit_transform(xasc_v)"
   ]
  },
  {
   "cell_type": "code",
   "execution_count": null,
   "id": "e5e75f61",
   "metadata": {},
   "outputs": [],
   "source": [
    "MAPE(regr_svm_na.predict(xasc_v),Yasc)"
   ]
  },
  {
   "cell_type": "code",
   "execution_count": null,
   "id": "e89baa0d",
   "metadata": {},
   "outputs": [],
   "source": [
    "MAPE2(regr_svm_na.predict(xasc_v),Yasc)"
   ]
  },
  {
   "cell_type": "code",
   "execution_count": null,
   "id": "d4742f2c",
   "metadata": {},
   "outputs": [],
   "source": [
    "MAPE(list(Xna[\"Forecasted\"]),list(Xna[\"Prediction_y\"]))"
   ]
  },
  {
   "cell_type": "markdown",
   "id": "ce3b0e45",
   "metadata": {},
   "source": [
    "### Prédire la partie test:"
   ]
  },
  {
   "cell_type": "markdown",
   "id": "08fe9c78",
   "metadata": {},
   "source": [
    "#### Sans nan "
   ]
  },
  {
   "cell_type": "code",
   "execution_count": 167,
   "id": "1744ed6a",
   "metadata": {},
   "outputs": [],
   "source": [
    "X_full_tp = test.dropna() # tp stands for to predict\n",
    "id_predicted_1 = list(X_full_tp[\"Id\"])\n",
    "Ximp_tp = X_full_tp.drop(to_drop,axis=1).values\n",
    "Ximp_tp = StandardScaler().fit_transform(Ximp_tp)\n",
    "y_predicted_1 = list(regr_svm.predict(Ximp_tp))"
   ]
  },
  {
   "cell_type": "markdown",
   "id": "687eae87",
   "metadata": {},
   "source": [
    "#### Avec nan "
   ]
  },
  {
   "cell_type": "code",
   "execution_count": 168,
   "id": "ac7eee54",
   "metadata": {},
   "outputs": [],
   "source": [
    "Xna_tp = test[~test.index.isin(test.dropna().index)]"
   ]
  },
  {
   "cell_type": "code",
   "execution_count": 169,
   "id": "d1818bf0",
   "metadata": {},
   "outputs": [],
   "source": [
    "# pour chaque station présente dans le Xna\n",
    "Xna_reduit_tp = Xna_tp[[\"Id\",\"lat\",\"lon\",\"height_sta\",\"month\"]].copy()\n",
    "id_predicted_2 = list(Xna_tp[\"Id\"])\n",
    "Xna_reduit_tp[\"Prediction\"] = None\n",
    "Xna_reduit_tp.set_index(\"Id\",inplace = True)"
   ]
  },
  {
   "cell_type": "code",
   "execution_count": 170,
   "id": "4b417c97",
   "metadata": {},
   "outputs": [],
   "source": [
    "Xc_reduit_tp = X_full_tp[[\"Id\",\"lat\",\"lon\",\"height_sta\",\"month\"]].copy()\n",
    "Xc_reduit_tp[\"Prediction\"] = list(y_predicted_1)\n",
    "Xc_reduit_tp.set_index(\"Id\",inplace = True)"
   ]
  },
  {
   "cell_type": "code",
   "execution_count": 171,
   "id": "49cb47b5",
   "metadata": {},
   "outputs": [],
   "source": [
    "imputer = KNNImputer(n_neighbors=1).fit(Xc_reduit_tp)"
   ]
  },
  {
   "cell_type": "code",
   "execution_count": 172,
   "id": "44c9912b",
   "metadata": {},
   "outputs": [],
   "source": [
    "result_tp = imputer.transform(Xna_reduit_tp)"
   ]
  },
  {
   "cell_type": "code",
   "execution_count": 173,
   "id": "b56ec59c",
   "metadata": {},
   "outputs": [],
   "source": [
    "Xna_tp[\"result\"] = result_tp[:,4]"
   ]
  },
  {
   "cell_type": "code",
   "execution_count": 174,
   "id": "35c5505d",
   "metadata": {},
   "outputs": [],
   "source": [
    "Xasc_tp = Xna_tp[[\"lat\",\"lon\",\"height_sta\",\"Forecasted\",\"result\",\"month\",\"Prediction\"]].copy().values"
   ]
  },
  {
   "cell_type": "code",
   "execution_count": 175,
   "id": "d95a282f",
   "metadata": {},
   "outputs": [],
   "source": [
    "Xasc_tp = StandardScaler().fit_transform(Xasc_tp)"
   ]
  },
  {
   "cell_type": "code",
   "execution_count": 176,
   "id": "59ca9948",
   "metadata": {},
   "outputs": [],
   "source": [
    "y_predicted_2 = list(Xna_tp[\"Forecasted\"])#list(regr_svm_na.predict(Xasc_tp))"
   ]
  },
  {
   "cell_type": "code",
   "execution_count": null,
   "id": "e3f49f95",
   "metadata": {},
   "outputs": [],
   "source": [
    "backup_1 = 0.5 * np.array(X_full_tp[\"Forecasted\"]) + 0.5 * np.array(X_full_tp[\"Prediction\"])\n",
    "backup_2 = 0.5 * np.array(Xna_tp[\"Forecasted\"]) + 0.5 * np.array(Xna_tp[\"Prediction\"])"
   ]
  },
  {
   "cell_type": "code",
   "execution_count": 177,
   "id": "45cc0679",
   "metadata": {},
   "outputs": [],
   "source": [
    "y_pred_1 = [e1 if e1>=0 else 0 for e1 in y_predicted_1]\n",
    "y_pred_2 = [e1 if e1>=0 else 0 for e1 in y_predicted_2]"
   ]
  },
  {
   "cell_type": "code",
   "execution_count": 178,
   "id": "67627fe8",
   "metadata": {},
   "outputs": [],
   "source": [
    "df1 = pd.DataFrame()\n",
    "df1[\"Id\"] = id_predicted_1\n",
    "df1[\"Prediction\"] = y_pred_1"
   ]
  },
  {
   "cell_type": "code",
   "execution_count": 179,
   "id": "2825f06b",
   "metadata": {},
   "outputs": [],
   "source": [
    "df2 = pd.DataFrame()\n",
    "df2[\"Id\"] = id_predicted_2\n",
    "df2[\"Prediction\"] = y_pred_2"
   ]
  },
  {
   "cell_type": "code",
   "execution_count": 180,
   "id": "bbb69b48",
   "metadata": {},
   "outputs": [],
   "source": [
    "df_submit = pd.concat([df1,df2],ignore_index=True)"
   ]
  },
  {
   "cell_type": "markdown",
   "id": "339034da",
   "metadata": {},
   "source": [
    "### Partie submission"
   ]
  },
  {
   "cell_type": "code",
   "execution_count": 114,
   "id": "temporal-disclosure",
   "metadata": {},
   "outputs": [],
   "source": [
    "y_predicted = list(regr_svm.predict(ximp))\n",
    "id_predicted = list(test[\"Id\"])"
   ]
  },
  {
   "cell_type": "code",
   "execution_count": null,
   "id": "862f6178",
   "metadata": {},
   "outputs": [],
   "source": []
  },
  {
   "cell_type": "code",
   "execution_count": 115,
   "id": "breeding-probe",
   "metadata": {},
   "outputs": [],
   "source": [
    "df_submit = pd.DataFrame()\n",
    "df_submit[\"Id\"] = id_predicted\n",
    "df_submit[\"Prediction\"] = y_predicted"
   ]
  },
  {
   "cell_type": "markdown",
   "id": "1926d601",
   "metadata": {},
   "source": [
    "#### enregistrement"
   ]
  },
  {
   "cell_type": "code",
   "execution_count": 116,
   "id": "indian-fraction",
   "metadata": {},
   "outputs": [],
   "source": [
    "df_submit[\"Prediction\"] = df_submit.Prediction.apply(lambda s : s if s>=0 else 0)"
   ]
  },
  {
   "cell_type": "code",
   "execution_count": 181,
   "id": "fatal-establishment",
   "metadata": {},
   "outputs": [],
   "source": [
    "df_submit[\"Prediction\"] = df_submit.Prediction.apply(lambda s : s + 1)"
   ]
  },
  {
   "cell_type": "code",
   "execution_count": 182,
   "id": "blocked-barrier",
   "metadata": {},
   "outputs": [],
   "source": [
    "df_submit.to_csv('./working/' + \"submission.csv\",index=False)"
   ]
  },
  {
   "cell_type": "code",
   "execution_count": 184,
   "id": "f34e6df0",
   "metadata": {},
   "outputs": [
    {
     "data": {
      "text/plain": [
       "(85140, 2)"
      ]
     },
     "execution_count": 184,
     "metadata": {},
     "output_type": "execute_result"
    }
   ],
   "source": [
    "df_submit.shape"
   ]
  },
  {
   "cell_type": "markdown",
   "id": "42db81dc",
   "metadata": {},
   "source": [
    "#### reload"
   ]
  },
  {
   "cell_type": "code",
   "execution_count": null,
   "id": "165fb91f",
   "metadata": {},
   "outputs": [],
   "source": [
    "df_submit = pd.read_csv(\"./working/submission.csv\")"
   ]
  },
  {
   "cell_type": "code",
   "execution_count": null,
   "id": "c5bee62a",
   "metadata": {},
   "outputs": [],
   "source": [
    "df_submit"
   ]
  },
  {
   "cell_type": "code",
   "execution_count": 60,
   "id": "6d398e2d",
   "metadata": {},
   "outputs": [],
   "source": [
    "train.to_csv('./working/' + \"train.csv\",index=False)\n",
    "#test.to_csv('./working/' + \"test.csv\",index=False)"
   ]
  },
  {
   "cell_type": "markdown",
   "id": "cardiac-apparatus",
   "metadata": {},
   "source": [
    "### Data visualisation"
   ]
  },
  {
   "cell_type": "code",
   "execution_count": 24,
   "id": "interesting-polymer",
   "metadata": {},
   "outputs": [],
   "source": [
    "import matplotlib.pyplot as plt"
   ]
  },
  {
   "cell_type": "code",
   "execution_count": 20,
   "id": "unauthorized-preference",
   "metadata": {},
   "outputs": [],
   "source": [
    "viz = train.head(100000)"
   ]
  },
  {
   "cell_type": "code",
   "execution_count": 65,
   "id": "another-sewing",
   "metadata": {},
   "outputs": [
    {
     "data": {
      "text/plain": [
       "<matplotlib.collections.PathCollection at 0x7fe85f48eb38>"
      ]
     },
     "execution_count": 65,
     "metadata": {},
     "output_type": "execute_result"
    },
    {
     "data": {
      "image/png": "[encoded data removed]",
      "text/plain": [
       "<Figure size 432x288 with 1 Axes>"
      ]
     },
     "metadata": {
      "needs_background": "light"
     },
     "output_type": "display_data"
    }
   ],
   "source": [
    "plt.scatter(y_test,np.array(y_predicted_svm_test))"
   ]
  },
  {
   "cell_type": "code",
   "execution_count": 66,
   "id": "federal-ratio",
   "metadata": {},
   "outputs": [
    {
     "data": {
      "text/html": [
       "<div>\n",
       "<style scoped>\n",
       "    .dataframe tbody tr th:only-of-type {\n",
       "        vertical-align: middle;\n",
       "    }\n",
       "\n",
       "    .dataframe tbody tr th {\n",
       "        vertical-align: top;\n",
       "    }\n",
       "\n",
       "    .dataframe thead th {\n",
       "        text-align: right;\n",
       "    }\n",
       "</style>\n",
       "<table border=\"1\" class=\"dataframe\">\n",
       "  <thead>\n",
       "    <tr style=\"text-align: right;\">\n",
       "      <th></th>\n",
       "      <th>Ground_truth</th>\n",
       "    </tr>\n",
       "  </thead>\n",
       "  <tbody>\n",
       "    <tr>\n",
       "      <th>count</th>\n",
       "      <td>161879.000000</td>\n",
       "    </tr>\n",
       "    <tr>\n",
       "      <th>mean</th>\n",
       "      <td>1.942551</td>\n",
       "    </tr>\n",
       "    <tr>\n",
       "      <th>std</th>\n",
       "      <td>4.186512</td>\n",
       "    </tr>\n",
       "    <tr>\n",
       "      <th>min</th>\n",
       "      <td>0.000000</td>\n",
       "    </tr>\n",
       "    <tr>\n",
       "      <th>25%</th>\n",
       "      <td>0.000000</td>\n",
       "    </tr>\n",
       "    <tr>\n",
       "      <th>50%</th>\n",
       "      <td>0.200000</td>\n",
       "    </tr>\n",
       "    <tr>\n",
       "      <th>75%</th>\n",
       "      <td>1.600000</td>\n",
       "    </tr>\n",
       "    <tr>\n",
       "      <th>max</th>\n",
       "      <td>93.500000</td>\n",
       "    </tr>\n",
       "  </tbody>\n",
       "</table>\n",
       "</div>"
      ],
      "text/plain": [
       "        Ground_truth\n",
       "count  161879.000000\n",
       "mean        1.942551\n",
       "std         4.186512\n",
       "min         0.000000\n",
       "25%         0.000000\n",
       "50%         0.200000\n",
       "75%         1.600000\n",
       "max        93.500000"
      ]
     },
     "execution_count": 66,
     "metadata": {},
     "output_type": "execute_result"
    }
   ],
   "source": [
    "ytrain.describe()"
   ]
  },
  {
   "cell_type": "code",
   "execution_count": 67,
   "id": "tracked-playing",
   "metadata": {},
   "outputs": [
    {
     "data": {
      "text/plain": [
       "Index(['number_sta', 'ff_mean', 'ff_min', 'ff_max', 'ff_std', 'ff_median',\n",
       "       'ff_sum', 'ff_count', 'ff_percentile_10', 'ff_percentile_25',\n",
       "       'ff_percentile_80', 'ff_percentile_95', 't_mean', 't_min', 't_max',\n",
       "       't_std', 't_median', 't_sum', 't_count', 't_percentile_10',\n",
       "       't_percentile_25', 't_percentile_80', 't_percentile_95', 'td_mean',\n",
       "       'td_min', 'td_max', 'td_std', 'td_median', 'td_sum', 'td_count',\n",
       "       'td_percentile_10', 'td_percentile_25', 'td_percentile_80',\n",
       "       'td_percentile_95', 'hu_mean', 'hu_min', 'hu_max', 'hu_std',\n",
       "       'hu_median', 'hu_sum', 'hu_count', 'hu_percentile_10',\n",
       "       'hu_percentile_25', 'hu_percentile_80', 'hu_percentile_95', 'dd_mean',\n",
       "       'dd_min', 'dd_max', 'dd_std', 'dd_median', 'dd_sum', 'dd_count',\n",
       "       'dd_percentile_10', 'dd_percentile_25', 'dd_percentile_80',\n",
       "       'dd_percentile_95', 'Prediction', 'day_index', 'Id', 'lat', 'lon',\n",
       "       'height_sta', 'month', 'day', 'Forecasted'],\n",
       "      dtype='object')"
      ]
     },
     "execution_count": 67,
     "metadata": {},
     "output_type": "execute_result"
    }
   ],
   "source": [
    "train.columns"
   ]
  },
  {
   "cell_type": "code",
   "execution_count": null,
   "id": "thick-chocolate",
   "metadata": {},
   "outputs": [],
   "source": []
  }
 ],
 "metadata": {
  "kernelspec": {
   "display_name": "Python 3",
   "language": "python",
   "name": "python3"
  },
  "language_info": {
   "codemirror_mode": {
    "name": "ipython",
    "version": 3
   },
   "file_extension": ".py",
   "mimetype": "text/x-python",
   "name": "python",
   "nbconvert_exporter": "python",
   "pygments_lexer": "ipython3",
   "version": "3.6.9"
  },
  "papermill": {
   "default_parameters": {},
   "duration": 54.798373,
   "end_time": "2021-11-17T16:13:27.806509",
   "environment_variables": {},
   "exception": null,
   "input_path": "__notebook__.ipynb",
   "output_path": "__notebook__.ipynb",
   "parameters": {},
   "start_time": "2021-11-17T16:12:33.008136",
   "version": "2.3.3"
  }
 },
 "nbformat": 4,
 "nbformat_minor": 5
}
