{
 "cells": [
  {
   "cell_type": "code",
   "execution_count": null,
   "id": "2fd81fad",
   "metadata": {
    "_cell_guid": "b1076dfc-b9ad-4769-8c92-a6c4dae69d19",
    "_uuid": "8f2839f25d086af736a60e9eeb907d3b93b6e0e5",
    "execution": {
     "iopub.execute_input": "2021-11-17T16:12:42.808946Z",
     "iopub.status.busy": "2021-11-17T16:12:42.808167Z",
     "iopub.status.idle": "2021-11-17T16:12:42.860751Z",
     "shell.execute_reply": "2021-11-17T16:12:42.861525Z",
     "shell.execute_reply.started": "2021-11-17T14:36:30.268307Z"
    },
    "papermill": {
     "duration": 0.085687,
     "end_time": "2021-11-17T16:12:42.861890",
     "exception": false,
     "start_time": "2021-11-17T16:12:42.776203",
     "status": "completed"
    },
    "tags": []
   },
   "outputs": [],
   "source": [
    "# This Python 3 environment comes with many helpful analytics libraries installed\n",
    "# It is defined by the kaggle/python Docker image: https://github.com/kaggle/docker-python\n",
    "# For example, here's several helpful packages to load\n",
    "\n",
    "import numpy as np # linear algebra\n",
    "import pandas as pd # data processing, CSV file I/O (e.g. pd.read_csv)\n",
    "import matplotlib.pyplot as plt\n",
    "import datetime\n",
    "import warnings\n",
    "warnings.filterwarnings(\"ignore\")\n",
    "# Input data files are available in the read-only \"../input/\" directory\n",
    "# For example, running this (by clicking run or pressing Shift+Enter) will list all files under the input directory\n",
    "\n",
    "import os\n",
    "for dirname, _, filenames in os.walk('./'):\n",
    "    for filename in filenames:\n",
    "        print(os.path.join(dirname, filename))\n",
    "\n",
    "# You can write up to 20GB to the current directory (/kaggle/working/) that gets preserved as output when you create a version using \"Save & Run All\" \n",
    "# You can also write temporary files to /kaggle/temp/, but they won't be saved outside of the current session"
   ]
  },
  {
   "cell_type": "markdown",
   "id": "0b373a2e",
   "metadata": {
    "papermill": {
     "duration": 0.023397,
     "end_time": "2021-11-17T16:12:42.907328",
     "exception": false,
     "start_time": "2021-11-17T16:12:42.883931",
     "status": "completed"
    },
    "tags": []
   },
   "source": [
    "### load X_train"
   ]
  },
  {
   "cell_type": "code",
   "execution_count": null,
   "id": "1aef4493",
   "metadata": {
    "execution": {
     "iopub.execute_input": "2021-11-17T16:12:42.953597Z",
     "iopub.status.busy": "2021-11-17T16:12:42.952907Z",
     "iopub.status.idle": "2021-11-17T16:12:42.957549Z",
     "shell.execute_reply": "2021-11-17T16:12:42.956844Z",
     "shell.execute_reply.started": "2021-11-17T14:36:40.25291Z"
    },
    "papermill": {
     "duration": 0.028914,
     "end_time": "2021-11-17T16:12:42.957697",
     "exception": false,
     "start_time": "2021-11-17T16:12:42.928783",
     "status": "completed"
    },
    "tags": []
   },
   "outputs": [],
   "source": [
    "first_date = datetime.datetime(2016,1,1)    \n",
    "last_date = datetime.datetime(2017,12,31)\n",
    "coords_fname  = './data/Other/Other/stations_coordinates.csv'\n",
    "fname = './data/Train/Train/X_station_train.csv'"
   ]
  },
  {
   "cell_type": "code",
   "execution_count": null,
   "id": "acd84f78",
   "metadata": {},
   "outputs": [],
   "source": [
    "def load_X_train(fname,coords_fname) :\n",
    "    coords = pd.read_csv(coords_fname)\n",
    "    train = pd.read_csv(fname,parse_dates=['date'],infer_datetime_format=True)\n",
    "    # reorganisation des données.\n",
    "    train['number_sta']=train['number_sta'].astype('category')\n",
    "    #sort by station, then by date \n",
    "    train = train.sort_values(['number_sta','date'])\n",
    "    method_traitements = [\"mean\",\"min\",\"max\",\"std\"]\n",
    "    dict_to_split = {\"ff\":method_traitements,\"t\":method_traitements,\"td\":method_traitements\n",
    "                     ,\"hu\":method_traitements,\"dd\":method_traitements,\"precip\":\"sum\"}\n",
    "    Base_obs = train[{\"number_sta\",\"date\",\"ff\",\"t\",\"td\",\"hu\",\"dd\",\"precip\"}].copy()\n",
    "    Base_obs.set_index('date',inplace = True)  \n",
    "\n",
    "    # type de traitement.\n",
    "    Base_obs_type = Base_obs.groupby('number_sta').resample('D').agg(dict_to_split)\n",
    "    Base_obs_type.columns = ['_'.join(col).strip() for col in Base_obs_type.columns.values]\n",
    "    Base_obs_type = Base_obs_type.reset_index(['date','number_sta'])\n",
    "    Base_obs_type['number_sta'] = Base_obs_type['number_sta'].astype('category')   \n",
    "    #Select the observations the day before\n",
    "\n",
    "    Base_obs_type['Prediction'] = Base_obs_type['precip_sum'].shift(1)\n",
    "    Base_obs_type = Base_obs_type.sort_values(by=[\"number_sta\",\"date\"])\n",
    "    #del Base_obs['precip']\n",
    "    #Base_obs = Base_obs.rename(columns={'baseline_obs':'precip'})\n",
    "    del Base_obs_type[\"precip_sum\"]\n",
    "    date = first_date\n",
    "    dates = []\n",
    "    while date <= (last_date - datetime.timedelta(days=1)):\n",
    "        date += datetime.timedelta(days=1)\n",
    "        dates.append(date)\n",
    "\n",
    "    d_dates =  pd.DataFrame(dates, columns = ['date'])\n",
    "    d_dates['day_index'] = d_dates.index\n",
    "    y_f = Base_obs_type.merge(d_dates,how=\"right\",on = [\"date\"])\n",
    "    y_f = y_f[y_f['date']!=last_date]\n",
    "    y_f['Id'] = y_f[list(y_f.columns)[0]].astype(str) + '_' + \\\n",
    "                      y_f['day_index'].astype(str) \n",
    "    #y_f[\"number_sta\"] = y_f[(\"number_sta\",\"\")]\n",
    "    y_f = y_f.merge(coords,on=[\"number_sta\"],how=\"right\")\n",
    "    X_train = y_f.copy()#drop([\"day_index\"],axis=1)\n",
    "    X_train[\"month\"] = X_train[\"date\"].dt.month\n",
    "    X_train[\"day\"] = X_train[\"date\"].dt.day\n",
    "    X_train.drop([\"date\"],axis=1,inplace=True)\n",
    "    return X_train"
   ]
  },
  {
   "cell_type": "code",
   "execution_count": null,
   "id": "6d82930d",
   "metadata": {},
   "outputs": [],
   "source": [
    "train = load_X_train(fname,coords_fname)"
   ]
  },
  {
   "cell_type": "markdown",
   "id": "82c7458a",
   "metadata": {},
   "source": [
    "### Load Y_test"
   ]
  },
  {
   "cell_type": "code",
   "execution_count": null,
   "id": "8398f8ef",
   "metadata": {},
   "outputs": [],
   "source": [
    "fname_test = \"./data/Test/Test/X_station_test.csv\"\n",
    "coords_fname_test = './data/Other/Other/stations_coordinates.csv'\n",
    "coords = pd.read_csv(coords_fname_test)\n",
    "test = pd.read_csv(fname_test)\n",
    "test[\"Id\"] =test[\"Id\"].str.rsplit(\"_\",n=1,expand=True)[0]\n",
    "test.drop([\"precip\",\"month\"],axis = 1,inplace = True)\n",
    "method_traitements = [\"mean\",\"min\",\"max\",\"std\"]\n",
    "dict_to_split = {\"ff\":method_traitements,\"t\":method_traitements,\"td\":method_traitements\n",
    "                 ,\"hu\":method_traitements,\"dd\":method_traitements}\n",
    "test[\"Id\"] = test[\"Id\"].astype(\"category\")\n",
    "Base_obs = test[{\"Id\",\"ff\",\"t\",\"td\",\"hu\",\"dd\"}].copy()\n",
    "# type de traitement.\n",
    "Base_obs_type = Base_obs.groupby('Id').agg(dict_to_split)\n",
    "Base_obs_type = Base_obs_type.sort_values(by=[\"Id\"])\n",
    "test = Base_obs_type.copy()\n",
    "test.columns = ['_'.join(col).strip() for col in test.columns.values]\n",
    "test = test.reset_index(['Id'])\n",
    "base_test = pd.read_csv(\"./data/Test/Test/Baselines/Baseline_observation_test.csv\")\n",
    "test = test.merge(base_test,on=[\"Id\"],how=\"right\")\n",
    "test[[\"number_sta\",\"day_index\"]] = test[\"Id\"].str.split(\"_\",expand=True)\n",
    "test[\"number_sta\"] = test[\"number_sta\"].astype(int)\n",
    "test = test.merge(coords,on=\"number_sta\",how='right')\n",
    "date = first_date\n",
    "dates = []\n",
    "while date <= (last_date - datetime.timedelta(days=1)):\n",
    "    date += datetime.timedelta(days=1)\n",
    "    dates.append(date)\n",
    "\n",
    "d_dates =  pd.DataFrame(dates, columns = ['date'])\n",
    "d_dates['day_index'] = d_dates.index\n",
    "d_dates[\"month\"]=d_dates[\"date\"].dt.month\n",
    "d_dates[\"day\"] = d_dates[\"date\"].dt.day\n",
    "del d_dates[\"date\"]\n",
    "test.dropna(subset=[\"day_index\"],inplace=True)\n",
    "test[\"day_index\"] = test[\"day_index\"].astype(int)\n",
    "test = test.merge(d_dates,on=[\"day_index\"],how=\"right\")\n",
    "test = test.dropna(subset=[\"lat\"])"
   ]
  },
  {
   "cell_type": "markdown",
   "id": "0244934f",
   "metadata": {
    "papermill": {
     "duration": 0.019683,
     "end_time": "2021-11-17T16:13:26.335856",
     "exception": false,
     "start_time": "2021-11-17T16:13:26.316173",
     "status": "completed"
    },
    "tags": []
   },
   "source": [
    "### Load Y"
   ]
  },
  {
   "cell_type": "code",
   "execution_count": null,
   "id": "14f74030",
   "metadata": {
    "execution": {
     "iopub.execute_input": "2021-11-17T16:13:26.379374Z",
     "iopub.status.busy": "2021-11-17T16:13:26.378681Z",
     "iopub.status.idle": "2021-11-17T16:13:26.755723Z",
     "shell.execute_reply": "2021-11-17T16:13:26.755120Z",
     "shell.execute_reply.started": "2021-11-17T15:30:46.764368Z"
    },
    "papermill": {
     "duration": 0.399977,
     "end_time": "2021-11-17T16:13:26.755869",
     "exception": false,
     "start_time": "2021-11-17T16:13:26.355892",
     "status": "completed"
    },
    "tags": []
   },
   "outputs": [],
   "source": [
    "fname = './data/Train/Train/Y_train.csv'\n",
    "param = 'Ground_truth'  #weather parameter name in the file ('Ground_truth' about Y and 'Prediction' about baseline)\n",
    "ytrain= pd.read_csv(fname, parse_dates=['date'], infer_datetime_format=True)\n",
    "ytrain['number_sta'] = ytrain['number_sta'].astype('category')"
   ]
  },
  {
   "cell_type": "code",
   "execution_count": null,
   "id": "232261de",
   "metadata": {
    "execution": {
     "iopub.execute_input": "2021-11-17T16:13:26.866035Z",
     "iopub.status.busy": "2021-11-17T16:13:26.864633Z",
     "iopub.status.idle": "2021-11-17T16:13:26.878392Z",
     "shell.execute_reply": "2021-11-17T16:13:26.878934Z",
     "shell.execute_reply.started": "2021-11-17T15:34:18.140604Z"
    },
    "papermill": {
     "duration": 0.040193,
     "end_time": "2021-11-17T16:13:26.879138",
     "exception": false,
     "start_time": "2021-11-17T16:13:26.838945",
     "status": "completed"
    },
    "tags": []
   },
   "outputs": [],
   "source": [
    "ytrain = ytrain[ytrain[\"date\"]!=last_date].copy()"
   ]
  },
  {
   "cell_type": "code",
   "execution_count": null,
   "id": "0df08ece",
   "metadata": {},
   "outputs": [],
   "source": [
    "### Methodologie drop_all_na\n",
    "X_full = train.dropna()\n",
    "Y_full = ytrain.dropna(subset=[\"Ground_truth\"])\n",
    "#X_full =X_full[X_full.index.isin(Y_full.index)].dropna()\n",
    "X_full = X_full.sort_values(\"Id\")\n",
    "Y_full = Y_full.sort_values(\"Id\")\n",
    "value_list = list(X_full[\"Id\"])\n",
    "boolean_series = Y_full.Id.isin(value_list)\n",
    "Y_full = Y_full[boolean_series]\n",
    "value_list = list(Y_full[\"Id\"])\n",
    "boolean_series = X_full.Id.isin(value_list)\n",
    "X_full = X_full[boolean_series]"
   ]
  },
  {
   "cell_type": "code",
   "execution_count": null,
   "id": "22478096",
   "metadata": {},
   "outputs": [],
   "source": [
    "X_full = train.copy()"
   ]
  },
  {
   "cell_type": "code",
   "execution_count": null,
   "id": "tough-feeding",
   "metadata": {},
   "outputs": [],
   "source": [
    "### Methodologie drop_na from Ytrain\n",
    "Y_full = ytrain.dropna(subset=[\"Ground_truth\"])"
   ]
  },
  {
   "cell_type": "code",
   "execution_count": null,
   "id": "electrical-oracle",
   "metadata": {},
   "outputs": [],
   "source": [
    "value_list = list(Y_full[\"Id\"])\n",
    "boolean_series = X_full.Id.isin(value_list)\n",
    "X_full = X_full[boolean_series]"
   ]
  },
  {
   "cell_type": "code",
   "execution_count": null,
   "id": "attended-lindsay",
   "metadata": {},
   "outputs": [],
   "source": [
    "Ximp = X_full.drop([\"Id\",\"number_sta\",\"day_index\"],axis=1).values#],\"lon\",\"lat\",\"height_sta\"\n",
    "Yimp = np.array(Y_full[\"Ground_truth\"])"
   ]
  },
  {
   "cell_type": "code",
   "execution_count": null,
   "id": "characteristic-defense",
   "metadata": {},
   "outputs": [],
   "source": [
    "### pour l'ensemble test\n",
    "x_full = test.copy()"
   ]
  },
  {
   "cell_type": "code",
   "execution_count": null,
   "id": "stuffed-heating",
   "metadata": {},
   "outputs": [],
   "source": [
    "ximp = x_full.drop([\"Id\",\"number_sta\",\"day_index\"],axis=1).values"
   ]
  },
  {
   "cell_type": "code",
   "execution_count": null,
   "id": "ed845a4b",
   "metadata": {},
   "outputs": [],
   "source": [
    "from sklearn.model_selection import train_test_split"
   ]
  },
  {
   "cell_type": "code",
   "execution_count": null,
   "id": "f0d410d0",
   "metadata": {},
   "outputs": [],
   "source": [
    "Xfull = Ximp.copy()"
   ]
  },
  {
   "cell_type": "markdown",
   "id": "18290a5d",
   "metadata": {
    "papermill": {
     "duration": 0.022743,
     "end_time": "2021-11-17T16:13:26.922939",
     "exception": false,
     "start_time": "2021-11-17T16:13:26.900196",
     "status": "completed"
    },
    "tags": []
   },
   "source": [
    "### Application du modèle."
   ]
  },
  {
   "cell_type": "code",
   "execution_count": null,
   "id": "139e5d7d",
   "metadata": {},
   "outputs": [],
   "source": [
    "from sklearn.impute import KNNImputer"
   ]
  },
  {
   "cell_type": "code",
   "execution_count": null,
   "id": "02975c06",
   "metadata": {
    "execution": {
     "iopub.execute_input": "2021-11-17T16:13:26.972229Z",
     "iopub.status.busy": "2021-11-17T16:13:26.971200Z",
     "iopub.status.idle": "2021-11-17T16:13:26.974302Z",
     "shell.execute_reply": "2021-11-17T16:13:26.974847Z"
    },
    "papermill": {
     "duration": 0.028077,
     "end_time": "2021-11-17T16:13:26.975026",
     "exception": false,
     "start_time": "2021-11-17T16:13:26.946949",
     "status": "completed"
    },
    "tags": []
   },
   "outputs": [],
   "source": [
    "### réaliser une imputation des données manquantes.\n",
    "imputer = KNNImputer(n_neighbors=15)\n",
    "imputer.fit(ximp)"
   ]
  },
  {
   "cell_type": "code",
   "execution_count": null,
   "id": "b04a1151",
   "metadata": {},
   "outputs": [],
   "source": [
    "ximp = imputer.transform(ximp)"
   ]
  },
  {
   "cell_type": "code",
   "execution_count": null,
   "id": "looking-center",
   "metadata": {},
   "outputs": [],
   "source": [
    "from sklearn.impute import SimpleImputer"
   ]
  },
  {
   "cell_type": "code",
   "execution_count": null,
   "id": "aggregate-aquatic",
   "metadata": {},
   "outputs": [],
   "source": [
    "imp = SimpleImputer(missing_values=np.nan, strategy='mean')"
   ]
  },
  {
   "cell_type": "code",
   "execution_count": null,
   "id": "starting-adjustment",
   "metadata": {},
   "outputs": [],
   "source": [
    "imp.fit(Ximp)"
   ]
  },
  {
   "cell_type": "code",
   "execution_count": null,
   "id": "hydraulic-working",
   "metadata": {},
   "outputs": [],
   "source": [
    "ximp=imp.transform(ximp)"
   ]
  },
  {
   "cell_type": "markdown",
   "id": "fc1c2ddb",
   "metadata": {},
   "source": [
    "### Fonction MAPE"
   ]
  },
  {
   "cell_type": "code",
   "execution_count": null,
   "id": "83b8adb5",
   "metadata": {},
   "outputs": [],
   "source": [
    "def MAPE(yp,yt) :\n",
    "    taille = len(yp)\n",
    "    mape = 0\n",
    "    for i in range(taille) :\n",
    "        mape += abs((yt[i]-yp[i])/(yt[i]+1))\n",
    "    mape *= 100/taille\n",
    "    return mape"
   ]
  },
  {
   "cell_type": "code",
   "execution_count": null,
   "id": "ff07e3bc",
   "metadata": {},
   "outputs": [],
   "source": [
    "X_train, X_test, y_train, y_test = train_test_split(\n",
    "...     Ximp, Yimp, test_size=0.33, random_state=42)"
   ]
  },
  {
   "cell_type": "markdown",
   "id": "02ac5e7e",
   "metadata": {},
   "source": [
    "### Linear regression"
   ]
  },
  {
   "cell_type": "code",
   "execution_count": null,
   "id": "5a715322",
   "metadata": {},
   "outputs": [],
   "source": [
    "from sklearn.linear_model import LinearRegression"
   ]
  },
  {
   "cell_type": "code",
   "execution_count": null,
   "id": "f2c078e2",
   "metadata": {},
   "outputs": [],
   "source": [
    "reg = LinearRegression().fit(X_train, y_train)"
   ]
  },
  {
   "cell_type": "code",
   "execution_count": null,
   "id": "8272b6cf",
   "metadata": {},
   "outputs": [],
   "source": [
    "reg.score(X_train, y_train)"
   ]
  },
  {
   "cell_type": "code",
   "execution_count": null,
   "id": "c7ae23b6",
   "metadata": {},
   "outputs": [],
   "source": [
    "MAPE(reg.predict(X_train),y_train)"
   ]
  },
  {
   "cell_type": "code",
   "execution_count": null,
   "id": "56c13960",
   "metadata": {},
   "outputs": [],
   "source": [
    "MAPE(reg.predict(X_test),y_test)"
   ]
  },
  {
   "cell_type": "markdown",
   "id": "bc152906",
   "metadata": {},
   "source": [
    "### RandomForestRegression"
   ]
  },
  {
   "cell_type": "code",
   "execution_count": null,
   "id": "122347bc",
   "metadata": {},
   "outputs": [],
   "source": [
    "from sklearn.ensemble import RandomForestRegressor"
   ]
  },
  {
   "cell_type": "code",
   "execution_count": null,
   "id": "b2819a9c",
   "metadata": {},
   "outputs": [],
   "source": [
    "regr = RandomForestRegressor()\n",
    "regr.fit(X_train, y_train)"
   ]
  },
  {
   "cell_type": "code",
   "execution_count": null,
   "id": "d678703d",
   "metadata": {},
   "outputs": [],
   "source": [
    "regr.score(X_train,y_train)"
   ]
  },
  {
   "cell_type": "code",
   "execution_count": null,
   "id": "946328ef",
   "metadata": {},
   "outputs": [],
   "source": [
    "MAPE(regr.predict(X_train),y_train)"
   ]
  },
  {
   "cell_type": "code",
   "execution_count": null,
   "id": "d8305782",
   "metadata": {},
   "outputs": [],
   "source": [
    "MAPE(regr.predict(Xfull),Yimp)"
   ]
  },
  {
   "cell_type": "markdown",
   "id": "339034da",
   "metadata": {},
   "source": [
    "### Partie submission"
   ]
  },
  {
   "cell_type": "code",
   "execution_count": null,
   "id": "ccf44f95",
   "metadata": {},
   "outputs": [],
   "source": [
    "train[train.index.isin(X_full.index)][\"Id\"]"
   ]
  },
  {
   "cell_type": "code",
   "execution_count": null,
   "id": "temporal-disclosure",
   "metadata": {},
   "outputs": [],
   "source": [
    "y_predicted = list(regr.predict(ximp))\n",
    "id_predicted = list(test[\"Id\"])"
   ]
  },
  {
   "cell_type": "code",
   "execution_count": null,
   "id": "breeding-probe",
   "metadata": {},
   "outputs": [],
   "source": [
    "df_submit = pd.DataFrame()\n",
    "df_submit[\"Id\"] = id_predicted\n",
    "df_submit[\"Prediction\"] = y_predicted"
   ]
  },
  {
   "cell_type": "code",
   "execution_count": null,
   "id": "blocked-barrier",
   "metadata": {},
   "outputs": [],
   "source": [
    "df_submit.to_csv('./working/' + \"submission.csv\",index=False)"
   ]
  },
  {
   "cell_type": "code",
   "execution_count": null,
   "id": "premium-typing",
   "metadata": {},
   "outputs": [],
   "source": [
    "1"
   ]
  },
  {
   "cell_type": "code",
   "execution_count": null,
   "id": "e4524e58",
   "metadata": {},
   "outputs": [],
   "source": []
  }
 ],
 "metadata": {
  "kernelspec": {
   "display_name": "Python 3 (ipykernel)",
   "language": "python",
   "name": "python3"
  },
  "language_info": {
   "codemirror_mode": {
    "name": "ipython",
    "version": 3
   },
   "file_extension": ".py",
   "mimetype": "text/x-python",
   "name": "python",
   "nbconvert_exporter": "python",
   "pygments_lexer": "ipython3",
   "version": "3.9.7"
  },
  "papermill": {
   "default_parameters": {},
   "duration": 54.798373,
   "end_time": "2021-11-17T16:13:27.806509",
   "environment_variables": {},
   "exception": null,
   "input_path": "__notebook__.ipynb",
   "output_path": "__notebook__.ipynb",
   "parameters": {},
   "start_time": "2021-11-17T16:12:33.008136",
   "version": "2.3.3"
  }
 },
 "nbformat": 4,
 "nbformat_minor": 5
}
