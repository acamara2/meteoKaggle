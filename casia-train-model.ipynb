{
 "cells": [
  {
   "cell_type": "code",
   "execution_count": 1,
   "id": "2fd81fad",
   "metadata": {
    "_cell_guid": "b1076dfc-b9ad-4769-8c92-a6c4dae69d19",
    "_uuid": "8f2839f25d086af736a60e9eeb907d3b93b6e0e5",
    "execution": {
     "iopub.execute_input": "2021-11-17T16:12:42.808946Z",
     "iopub.status.busy": "2021-11-17T16:12:42.808167Z",
     "iopub.status.idle": "2021-11-17T16:12:42.860751Z",
     "shell.execute_reply": "2021-11-17T16:12:42.861525Z",
     "shell.execute_reply.started": "2021-11-17T14:36:30.268307Z"
    },
    "papermill": {
     "duration": 0.085687,
     "end_time": "2021-11-17T16:12:42.861890",
     "exception": false,
     "start_time": "2021-11-17T16:12:42.776203",
     "status": "completed"
    },
    "tags": []
   },
   "outputs": [
    {
     "name": "stdout",
     "output_type": "stream",
     "text": [
      "./casia-train-model.ipynb\n",
      "./README.md\n",
      "./data/.gitignore\n",
      "./data/Train/Train/Y_train.csv\n",
      "./data/Train/Train/X_station_train.csv\n",
      "./data/Train/Train/X_forecast/2D_arpege_20170214.nc\n",
      "./data/Train/Train/X_forecast/arpege_3D_height_20170214.nc\n",
      "./data/Train/Train/X_forecast/2D_arome_20170214.nc\n",
      "./data/Train/Train/X_forecast/arpege_3D_isobar_20170214.nc\n",
      "./data/Train/Train/Baselines/Baseline_forecast_train.csv\n",
      "./data/Train/Train/Baselines/Baseline_observation_train.csv\n",
      "./data/Test/Test/Id_month_test.csv\n",
      "./data/Test/Test/X_station_test.csv\n",
      "./data/Test/Test/X_forecast/arpege_3D_isobar_118.nc\n",
      "./data/Test/Test/X_forecast/2D_arpege_119.nc\n",
      "./data/Test/Test/X_forecast/arpege_3D_height_119.nc\n",
      "./data/Test/Test/X_forecast/2D_arome_119.nc\n",
      "./data/Test/Test/Baselines/Baseline_forecast_test.csv\n",
      "./data/Test/Test/Baselines/Baseline_observation_test.csv\n",
      "./data/Other/Other/NW_masks.nc\n",
      "./data/Other/Other/stations_coordinates.csv\n",
      "./.git/COMMIT_EDITMSG\n",
      "./.git/config\n",
      "./.git/description\n",
      "./.git/packed-refs\n",
      "./.git/index\n",
      "./.git/ORIG_HEAD\n",
      "./.git/HEAD\n",
      "./.git/FETCH_HEAD\n",
      "./.git/logs/HEAD\n",
      "./.git/logs/refs/remotes/origin/main\n",
      "./.git/logs/refs/remotes/origin/HEAD\n",
      "./.git/logs/refs/heads/main\n",
      "./.git/objects/d2/ebfe45f6ff98e0d7cce363d6fc3d3018a00ec0\n",
      "./.git/objects/59/f71be20dda8e491ec9597c134d4886ca10b58b\n",
      "./.git/objects/8b/3f5edcfec8ee41845ea6d10e301084651e0ca8\n",
      "./.git/objects/0a/a2231b72a7136ba3cbd6de568d59b84ff408c8\n",
      "./.git/objects/97/52e62f6cf03bcdff5cedbababfd07d7294c03a\n",
      "./.git/objects/ba/718ceb2d0d9b617cc5723eb660f6cc87396c80\n",
      "./.git/objects/3e/fa2cbb8a51c726f878ed763184f483095af2f7\n",
      "./.git/objects/17/d82798140175652290932564c12a091cbaec28\n",
      "./.git/objects/cc/1c43008372d7d0315add46ad6e8e3dbaceb5bf\n",
      "./.git/objects/a9/6bb2f8f7ad475a5e32f419a348b9bdde6ca81e\n",
      "./.git/objects/a9/4f29a3cbca34c73ba7e45508d99a53b8900a1e\n",
      "./.git/objects/c6/a7b1a83efb42f27dc1c0a2c944dbdc87af2fe9\n",
      "./.git/objects/c1/5cf535d558935f0e872c0cd68c169993215d6e\n",
      "./.git/objects/10/af9284608ccff8bdfd1361cbb6e9b0e4dfd225\n",
      "./.git/objects/72/e8ffc0db8aad71a934dd11e5968bd5109e54b4\n",
      "./.git/objects/57/08707e633550924fa13787435f3c9c255807ce\n",
      "./.git/objects/d5/b070efa6478c9c6c096b586c3937fead873583\n",
      "./.git/objects/d9/797c060a331efec3704215b57052fb22ad5e49\n",
      "./.git/objects/48/67399e56079694ea6feb0037805c5042d09fb2\n",
      "./.git/objects/0f/c9cd10225c74a07ae7eab3329c2bf5e1ed81b2\n",
      "./.git/objects/20/6e393f0f64b7053254c7d6204348e0f805a4c3\n",
      "./.git/objects/ce/6f3efec6ecaaf1c5d96d579f0f3e1cb56abd90\n",
      "./.git/objects/c7/19609985e06cf0ebd326b8d8071e12feffbe64\n",
      "./.git/objects/90/e7f93ead44b81881e4d2a2bc460fbe01fa7812\n",
      "./.git/objects/47/00485f4047ae560779e3df22af7255dca52015\n",
      "./.git/objects/02/c478d2c1ddb84108bb395b3a3689b6cffcd7b2\n",
      "./.git/objects/02/593fe6cd681f0def6f6286227a6cafe71fff13\n",
      "./.git/objects/8f/0baa0fd6df141be7e239a59038921d481e1fe5\n",
      "./.git/objects/2e/1db2f533e01878be9e4ba6f8ec550d49d37aec\n",
      "./.git/objects/e7/6216a2a783f577374056d76d3064c5bc2d2f85\n",
      "./.git/objects/03/012690a86fe84f551010295a161af397381287\n",
      "./.git/objects/f8/7b93139b15c52c5cbf21c41af5779a28038691\n",
      "./.git/objects/ea/9b70d97dc6d21d8b5bfa50ff885398d485d4a4\n",
      "./.git/objects/00/0a9b4fd3e6faa8a06b1f00159d4a4b9d4c12cc\n",
      "./.git/objects/b2/6181062f47771010e93a0e76f69c24ef470730\n",
      "./.git/info/exclude\n",
      "./.git/hooks/applypatch-msg.sample\n",
      "./.git/hooks/pre-rebase.sample\n",
      "./.git/hooks/pre-receive.sample\n",
      "./.git/hooks/pre-applypatch.sample\n",
      "./.git/hooks/pre-commit.sample\n",
      "./.git/hooks/pre-push.sample\n",
      "./.git/hooks/update.sample\n",
      "./.git/hooks/fsmonitor-watchman.sample\n",
      "./.git/hooks/post-update.sample\n",
      "./.git/hooks/prepare-commit-msg.sample\n",
      "./.git/hooks/commit-msg.sample\n",
      "./.git/refs/remotes/origin/main\n",
      "./.git/refs/remotes/origin/HEAD\n",
      "./.git/refs/heads/main\n",
      "./working/submission.csv\n",
      "./working/my_baseline.csv\n",
      "./prise_en_main/open-mask-data.ipynb\n",
      "./prise_en_main/open-x-forecast-3d-test.ipynb\n",
      "./prise_en_main/open-x-forecast-3d-train.ipynb\n",
      "./prise_en_main/open-y-and-baselines.ipynb\n",
      "./prise_en_main/compute-baseline-obs.ipynb\n",
      "./prise_en_main/open-x-forecast-2d-train.ipynb\n",
      "./prise_en_main/open-x-station.ipynb\n",
      "./prise_en_main/open-x-forecast-2d-test.ipynb\n",
      "./prise_en_main/.ipynb_checkpoints/open-y-and-baselines-checkpoint.ipynb\n",
      "./prise_en_main/.ipynb_checkpoints/compute-baseline-obs-checkpoint.ipynb\n",
      "./prise_en_main/.ipynb_checkpoints/open-x-forecast-3d-train-checkpoint.ipynb\n",
      "./prise_en_main/.ipynb_checkpoints/open-x-station-checkpoint.ipynb\n",
      "./.ipynb_checkpoints/casia-train-model-checkpoint.ipynb\n"
     ]
    }
   ],
   "source": [
    "# This Python 3 environment comes with many helpful analytics libraries installed\n",
    "# It is defined by the kaggle/python Docker image: https://github.com/kaggle/docker-python\n",
    "# For example, here's several helpful packages to load\n",
    "\n",
    "import numpy as np # linear algebra\n",
    "import pandas as pd # data processing, CSV file I/O (e.g. pd.read_csv)\n",
    "import matplotlib.pyplot as plt\n",
    "import datetime\n",
    "import warnings\n",
    "warnings.filterwarnings(\"ignore\")\n",
    "# Input data files are available in the read-only \"../input/\" directory\n",
    "# For example, running this (by clicking run or pressing Shift+Enter) will list all files under the input directory\n",
    "\n",
    "import os\n",
    "for dirname, _, filenames in os.walk('./'):\n",
    "    for filename in filenames:\n",
    "        print(os.path.join(dirname, filename))\n",
    "\n",
    "# You can write up to 20GB to the current directory (/kaggle/working/) that gets preserved as output when you create a version using \"Save & Run All\" \n",
    "# You can also write temporary files to /kaggle/temp/, but they won't be saved outside of the current session"
   ]
  },
  {
   "cell_type": "code",
   "execution_count": 64,
   "id": "nominated-indie",
   "metadata": {},
   "outputs": [],
   "source": [
    "### Fonctions utiles :\n",
    "def percentile(n):\n",
    "    def percentile_(x):\n",
    "        return np.percentile(x, n)\n",
    "    percentile_.__name__ = 'percentile_%s' % n\n",
    "    return percentile_"
   ]
  },
  {
   "cell_type": "markdown",
   "id": "0b373a2e",
   "metadata": {
    "papermill": {
     "duration": 0.023397,
     "end_time": "2021-11-17T16:12:42.907328",
     "exception": false,
     "start_time": "2021-11-17T16:12:42.883931",
     "status": "completed"
    },
    "tags": []
   },
   "source": [
    "### load X_train"
   ]
  },
  {
   "cell_type": "code",
   "execution_count": 65,
   "id": "1aef4493",
   "metadata": {
    "execution": {
     "iopub.execute_input": "2021-11-17T16:12:42.953597Z",
     "iopub.status.busy": "2021-11-17T16:12:42.952907Z",
     "iopub.status.idle": "2021-11-17T16:12:42.957549Z",
     "shell.execute_reply": "2021-11-17T16:12:42.956844Z",
     "shell.execute_reply.started": "2021-11-17T14:36:40.25291Z"
    },
    "papermill": {
     "duration": 0.028914,
     "end_time": "2021-11-17T16:12:42.957697",
     "exception": false,
     "start_time": "2021-11-17T16:12:42.928783",
     "status": "completed"
    },
    "tags": []
   },
   "outputs": [],
   "source": [
    "first_date = datetime.datetime(2016,1,1)    \n",
    "last_date = datetime.datetime(2017,12,31)\n",
    "coords_fname  = './data/Other/Other/stations_coordinates.csv'\n",
    "fname = './data/Train/Train/X_station_train.csv'"
   ]
  },
  {
   "cell_type": "code",
   "execution_count": 68,
   "id": "acd84f78",
   "metadata": {},
   "outputs": [],
   "source": [
    "# Cette fonction ne prend en compte que les données présentes dans Xstation\n",
    "def load_X_train(fname,coords_fname) :\n",
    "    coords = pd.read_csv(coords_fname)\n",
    "    train = pd.read_csv(fname,parse_dates=['date'],infer_datetime_format=True)\n",
    "    # reorganisation des données.\n",
    "    train['number_sta']=train['number_sta'].astype('category')\n",
    "    #sort by station, then by date \n",
    "    train = train.sort_values(['number_sta','date'])\n",
    "    method_traitements = [\"mean\",\"min\",\"max\",\"std\",percentile(15),percentile(25),percentile(50),percentile(75),percentile(85)]\n",
    "    dict_to_split = {\"ff\":method_traitements,\"t\":method_traitements,\"td\":method_traitements\n",
    "                     ,\"hu\":method_traitements,\"dd\":method_traitements,\"precip\":\"sum\"}\n",
    "    Base_obs = train[{\"number_sta\",\"date\",\"ff\",\"t\",\"td\",\"hu\",\"dd\",\"precip\"}].copy()\n",
    "    Base_obs.set_index('date',inplace = True)  \n",
    "\n",
    "    # type de traitement.\n",
    "    Base_obs_type = Base_obs.groupby('number_sta').resample('D').agg(dict_to_split)\n",
    "    Base_obs_type.columns = ['_'.join(col).strip() for col in Base_obs_type.columns.values]\n",
    "    Base_obs_type = Base_obs_type.reset_index(['date','number_sta'])\n",
    "    Base_obs_type['number_sta'] = Base_obs_type['number_sta'].astype('category')   \n",
    "    #Select the observations the day before\n",
    "\n",
    "    Base_obs_type['Prediction'] = Base_obs_type['precip_sum'].shift(1)\n",
    "    Base_obs_type = Base_obs_type.sort_values(by=[\"number_sta\",\"date\"])\n",
    "    #del Base_obs['precip']\n",
    "    #Base_obs = Base_obs.rename(columns={'baseline_obs':'precip'})\n",
    "    del Base_obs_type[\"precip_sum\"]\n",
    "    date = first_date\n",
    "    dates = []\n",
    "    while date <= (last_date - datetime.timedelta(days=1)):\n",
    "        date += datetime.timedelta(days=1)\n",
    "        dates.append(date)\n",
    "\n",
    "    d_dates =  pd.DataFrame(dates, columns = ['date'])\n",
    "    d_dates['day_index'] = d_dates.index\n",
    "    y_f = Base_obs_type.merge(d_dates,how=\"right\",on = [\"date\"])\n",
    "    y_f = y_f[y_f['date']!=last_date]\n",
    "    y_f['Id'] = y_f[list(y_f.columns)[0]].astype(str) + '_' + \\\n",
    "                      y_f['day_index'].astype(str) \n",
    "    #y_f[\"number_sta\"] = y_f[(\"number_sta\",\"\")]\n",
    "    y_f = y_f.merge(coords,on=[\"number_sta\"],how=\"right\")\n",
    "    X_train = y_f.copy()#drop([\"day_index\"],axis=1)\n",
    "    X_train[\"month\"] = X_train[\"date\"].dt.month\n",
    "    X_train[\"day\"] = X_train[\"date\"].dt.day\n",
    "    X_train.drop([\"date\"],axis=1,inplace=True)\n",
    "    return X_train"
   ]
  },
  {
   "cell_type": "code",
   "execution_count": 69,
   "id": "fallen-sunday",
   "metadata": {},
   "outputs": [],
   "source": [
    "train = load_X_train(fname,coords_fname)"
   ]
  },
  {
   "cell_type": "code",
   "execution_count": 106,
   "id": "announced-trustee",
   "metadata": {},
   "outputs": [],
   "source": [
    "train_forecast = pd.read_csv(\"./data/Train/Train/Baselines/Baseline_forecast_train.csv\")"
   ]
  },
  {
   "cell_type": "code",
   "execution_count": null,
   "id": "wrapped-acceptance",
   "metadata": {},
   "outputs": [],
   "source": [
    "train_forecast.rename(columns={\"Prediction\":\"Forecasted\"},inplace = True)\n",
    "train_forecast.drop([\"date\",\"number_sta\"],axis = 1 ,inplace = True)"
   ]
  },
  {
   "cell_type": "code",
   "execution_count": 114,
   "id": "aggregate-young",
   "metadata": {},
   "outputs": [],
   "source": [
    "value_list = list(train[\"Id\"])\n",
    "boolean_series = train_forecast.Id.isin(value_list)\n",
    "train_forecast = train_forecast[boolean_series]"
   ]
  },
  {
   "cell_type": "code",
   "execution_count": 117,
   "id": "least-choice",
   "metadata": {},
   "outputs": [],
   "source": [
    "train = train.merge(train_forecast,on=[\"Id\"],how=\"right\")"
   ]
  },
  {
   "cell_type": "markdown",
   "id": "82c7458a",
   "metadata": {},
   "source": [
    "### Load Y_test"
   ]
  },
  {
   "cell_type": "code",
   "execution_count": 70,
   "id": "8398f8ef",
   "metadata": {},
   "outputs": [],
   "source": [
    "fname_test = \"./data/Test/Test/X_station_test.csv\"\n",
    "coords_fname_test = './data/Other/Other/stations_coordinates.csv'\n",
    "coords = pd.read_csv(coords_fname_test)\n",
    "def load_X_test(fname_test,coords_fname_test) :\n",
    "    test = pd.read_csv(fname_test)\n",
    "    test[\"Id\"] =test[\"Id\"].str.rsplit(\"_\",n=1,expand=True)[0]\n",
    "    test.drop([\"precip\",\"month\"],axis = 1,inplace = True)\n",
    "    method_traitements = [\"mean\",\"min\",\"max\",\"std\",percentile(15),percentile(25),percentile(50),percentile(75),percentile(85)]\n",
    "    dict_to_split = {\"ff\":method_traitements,\"t\":method_traitements,\"td\":method_traitements\n",
    "                     ,\"hu\":method_traitements,\"dd\":method_traitements}\n",
    "    test[\"Id\"] = test[\"Id\"].astype(\"category\")\n",
    "    Base_obs = test[{\"Id\",\"ff\",\"t\",\"td\",\"hu\",\"dd\"}].copy()\n",
    "    # type de traitement.\n",
    "    Base_obs_type = Base_obs.groupby('Id').agg(dict_to_split)\n",
    "    Base_obs_type = Base_obs_type.sort_values(by=[\"Id\"])\n",
    "    test = Base_obs_type.copy()\n",
    "    test.columns = ['_'.join(col).strip() for col in test.columns.values]\n",
    "    test = test.reset_index(['Id'])\n",
    "    base_test = pd.read_csv(\"./data/Test/Test/Baselines/Baseline_observation_test.csv\")\n",
    "    test = test.merge(base_test,on=[\"Id\"],how=\"right\")\n",
    "    test[[\"number_sta\",\"day_index\"]] = test[\"Id\"].str.split(\"_\",expand=True)\n",
    "    test[\"number_sta\"] = test[\"number_sta\"].astype(int)\n",
    "    test = test.merge(coords,on=\"number_sta\",how='right')\n",
    "    date = first_date\n",
    "    dates = []\n",
    "    while date <= (last_date - datetime.timedelta(days=1)):\n",
    "        date += datetime.timedelta(days=1)\n",
    "        dates.append(date)\n",
    "\n",
    "    d_dates =  pd.DataFrame(dates, columns = ['date'])\n",
    "    d_dates['day_index'] = d_dates.index\n",
    "    d_dates[\"month\"]=d_dates[\"date\"].dt.month\n",
    "    d_dates[\"day\"] = d_dates[\"date\"].dt.day\n",
    "    del d_dates[\"date\"]\n",
    "    test.dropna(subset=[\"day_index\"],inplace=True)\n",
    "    test[\"day_index\"] = test[\"day_index\"].astype(int)\n",
    "    test = test.merge(d_dates,on=[\"day_index\"],how=\"right\")\n",
    "    test = test.dropna(subset=[\"lat\"])\n",
    "    return test\n",
    "test = load_X_test(fname_test,coords_fname_test)"
   ]
  },
  {
   "cell_type": "markdown",
   "id": "0244934f",
   "metadata": {
    "papermill": {
     "duration": 0.019683,
     "end_time": "2021-11-17T16:13:26.335856",
     "exception": false,
     "start_time": "2021-11-17T16:13:26.316173",
     "status": "completed"
    },
    "tags": []
   },
   "source": [
    "### Load Y"
   ]
  },
  {
   "cell_type": "code",
   "execution_count": 72,
   "id": "14f74030",
   "metadata": {
    "execution": {
     "iopub.execute_input": "2021-11-17T16:13:26.379374Z",
     "iopub.status.busy": "2021-11-17T16:13:26.378681Z",
     "iopub.status.idle": "2021-11-17T16:13:26.755723Z",
     "shell.execute_reply": "2021-11-17T16:13:26.755120Z",
     "shell.execute_reply.started": "2021-11-17T15:30:46.764368Z"
    },
    "papermill": {
     "duration": 0.399977,
     "end_time": "2021-11-17T16:13:26.755869",
     "exception": false,
     "start_time": "2021-11-17T16:13:26.355892",
     "status": "completed"
    },
    "tags": []
   },
   "outputs": [],
   "source": [
    "fname = './data/Train/Train/Y_train.csv'\n",
    "param = 'Ground_truth'  #weather parameter name in the file ('Ground_truth' about Y and 'Prediction' about baseline)\n",
    "ytrain= pd.read_csv(fname, parse_dates=['date'], infer_datetime_format=True)\n",
    "ytrain['number_sta'] = ytrain['number_sta'].astype('category')"
   ]
  },
  {
   "cell_type": "code",
   "execution_count": 73,
   "id": "232261de",
   "metadata": {
    "execution": {
     "iopub.execute_input": "2021-11-17T16:13:26.866035Z",
     "iopub.status.busy": "2021-11-17T16:13:26.864633Z",
     "iopub.status.idle": "2021-11-17T16:13:26.878392Z",
     "shell.execute_reply": "2021-11-17T16:13:26.878934Z",
     "shell.execute_reply.started": "2021-11-17T15:34:18.140604Z"
    },
    "papermill": {
     "duration": 0.040193,
     "end_time": "2021-11-17T16:13:26.879138",
     "exception": false,
     "start_time": "2021-11-17T16:13:26.838945",
     "status": "completed"
    },
    "tags": []
   },
   "outputs": [],
   "source": [
    "ytrain = ytrain[ytrain[\"date\"]!=last_date].copy()"
   ]
  },
  {
   "cell_type": "code",
   "execution_count": 118,
   "id": "0df08ece",
   "metadata": {},
   "outputs": [],
   "source": [
    "### Methodologie drop_all_na\n",
    "X_full = train.dropna()\n",
    "Y_full = ytrain.dropna(subset=[\"Ground_truth\"])\n",
    "#X_full =X_full[X_full.index.isin(Y_full.index)].dropna()\n",
    "X_full = X_full.sort_values(\"Id\")\n",
    "Y_full = Y_full.sort_values(\"Id\")\n",
    "value_list = list(X_full[\"Id\"])\n",
    "boolean_series = Y_full.Id.isin(value_list)\n",
    "Y_full = Y_full[boolean_series]\n",
    "value_list = list(Y_full[\"Id\"])\n",
    "boolean_series = X_full.Id.isin(value_list)\n",
    "X_full = X_full[boolean_series]"
   ]
  },
  {
   "cell_type": "code",
   "execution_count": null,
   "id": "22478096",
   "metadata": {},
   "outputs": [],
   "source": [
    "X_full = train.copy()"
   ]
  },
  {
   "cell_type": "code",
   "execution_count": null,
   "id": "tough-feeding",
   "metadata": {},
   "outputs": [],
   "source": [
    "### Methodologie drop_na from Ytrain\n",
    "Y_full = ytrain.dropna(subset=[\"Ground_truth\"])"
   ]
  },
  {
   "cell_type": "code",
   "execution_count": null,
   "id": "electrical-oracle",
   "metadata": {},
   "outputs": [],
   "source": [
    "value_list = list(Y_full[\"Id\"])\n",
    "boolean_series = X_full.Id.isin(value_list)\n",
    "X_full = X_full[boolean_series]"
   ]
  },
  {
   "cell_type": "code",
   "execution_count": 119,
   "id": "attended-lindsay",
   "metadata": {},
   "outputs": [],
   "source": [
    "Ximp = X_full.drop([\"Id\",\"number_sta\",\"day_index\"],axis=1).values#],\"lon\",\"lat\",\"height_sta\"\n",
    "Yimp = np.array(Y_full[\"Ground_truth\"])"
   ]
  },
  {
   "cell_type": "code",
   "execution_count": 29,
   "id": "characteristic-defense",
   "metadata": {},
   "outputs": [],
   "source": [
    "### pour l'ensemble test\n",
    "x_full = test.copy()"
   ]
  },
  {
   "cell_type": "code",
   "execution_count": 30,
   "id": "stuffed-heating",
   "metadata": {},
   "outputs": [],
   "source": [
    "ximp = x_full.drop([\"Id\",\"number_sta\",\"day_index\"],axis=1).values"
   ]
  },
  {
   "cell_type": "code",
   "execution_count": null,
   "id": "f0d410d0",
   "metadata": {},
   "outputs": [],
   "source": [
    "Xfull = Ximp.copy()"
   ]
  },
  {
   "cell_type": "markdown",
   "id": "18290a5d",
   "metadata": {
    "papermill": {
     "duration": 0.022743,
     "end_time": "2021-11-17T16:13:26.922939",
     "exception": false,
     "start_time": "2021-11-17T16:13:26.900196",
     "status": "completed"
    },
    "tags": []
   },
   "source": [
    "### Application du modèle."
   ]
  },
  {
   "cell_type": "code",
   "execution_count": 31,
   "id": "139e5d7d",
   "metadata": {},
   "outputs": [],
   "source": [
    "from sklearn.impute import KNNImputer"
   ]
  },
  {
   "cell_type": "code",
   "execution_count": 32,
   "id": "02975c06",
   "metadata": {
    "execution": {
     "iopub.execute_input": "2021-11-17T16:13:26.972229Z",
     "iopub.status.busy": "2021-11-17T16:13:26.971200Z",
     "iopub.status.idle": "2021-11-17T16:13:26.974302Z",
     "shell.execute_reply": "2021-11-17T16:13:26.974847Z"
    },
    "papermill": {
     "duration": 0.028077,
     "end_time": "2021-11-17T16:13:26.975026",
     "exception": false,
     "start_time": "2021-11-17T16:13:26.946949",
     "status": "completed"
    },
    "tags": []
   },
   "outputs": [
    {
     "data": {
      "text/plain": [
       "KNNImputer(n_neighbors=1)"
      ]
     },
     "execution_count": 32,
     "metadata": {},
     "output_type": "execute_result"
    }
   ],
   "source": [
    "### réaliser une imputation des données manquantes.\n",
    "imputer = KNNImputer(n_neighbors=1)\n",
    "imputer.fit(ximp)"
   ]
  },
  {
   "cell_type": "code",
   "execution_count": 33,
   "id": "b04a1151",
   "metadata": {},
   "outputs": [],
   "source": [
    "ximp = imputer.transform(ximp)"
   ]
  },
  {
   "cell_type": "code",
   "execution_count": null,
   "id": "looking-center",
   "metadata": {},
   "outputs": [],
   "source": [
    "from sklearn.impute import SimpleImputer"
   ]
  },
  {
   "cell_type": "code",
   "execution_count": null,
   "id": "aggregate-aquatic",
   "metadata": {},
   "outputs": [],
   "source": [
    "imp = SimpleImputer(missing_values=np.nan, strategy='mean')"
   ]
  },
  {
   "cell_type": "code",
   "execution_count": null,
   "id": "starting-adjustment",
   "metadata": {},
   "outputs": [],
   "source": [
    "imp.fit(Ximp)"
   ]
  },
  {
   "cell_type": "code",
   "execution_count": null,
   "id": "hydraulic-working",
   "metadata": {},
   "outputs": [],
   "source": [
    "ximp=imp.transform(ximp)"
   ]
  },
  {
   "cell_type": "markdown",
   "id": "fc1c2ddb",
   "metadata": {},
   "source": [
    "### Fonction MAPE"
   ]
  },
  {
   "cell_type": "code",
   "execution_count": 19,
   "id": "83b8adb5",
   "metadata": {},
   "outputs": [],
   "source": [
    "def MAPE(yp,yt) :\n",
    "    taille = len(yp)\n",
    "    mape = 0\n",
    "    for i in range(taille) :\n",
    "        mape += abs((yt[i]-yp[i])/(yt[i]+1))\n",
    "    mape *= 100/taille\n",
    "    return mape"
   ]
  },
  {
   "cell_type": "code",
   "execution_count": 9,
   "id": "looking-sweet",
   "metadata": {},
   "outputs": [],
   "source": [
    "from sklearn.preprocessing import StandardScaler"
   ]
  },
  {
   "cell_type": "code",
   "execution_count": 10,
   "id": "silver-court",
   "metadata": {},
   "outputs": [],
   "source": [
    "scaler = StandardScaler()"
   ]
  },
  {
   "cell_type": "code",
   "execution_count": 120,
   "id": "palestinian-mechanics",
   "metadata": {},
   "outputs": [],
   "source": [
    "scaler.fit(Ximp)\n",
    "Ximp = scaler.transform(Ximp)"
   ]
  },
  {
   "cell_type": "code",
   "execution_count": 77,
   "id": "ed845a4b",
   "metadata": {},
   "outputs": [],
   "source": [
    "from sklearn.model_selection import train_test_split"
   ]
  },
  {
   "cell_type": "code",
   "execution_count": 121,
   "id": "ff07e3bc",
   "metadata": {},
   "outputs": [],
   "source": [
    "X_train, X_test, y_train, y_test = train_test_split(\n",
    "...     Ximp, Yimp, test_size=0.33, random_state=42)"
   ]
  },
  {
   "cell_type": "markdown",
   "id": "02ac5e7e",
   "metadata": {},
   "source": [
    "### Linear regression"
   ]
  },
  {
   "cell_type": "code",
   "execution_count": 15,
   "id": "5a715322",
   "metadata": {},
   "outputs": [],
   "source": [
    "from sklearn.linear_model import LinearRegression"
   ]
  },
  {
   "cell_type": "code",
   "execution_count": 122,
   "id": "f2c078e2",
   "metadata": {},
   "outputs": [],
   "source": [
    "reg = LinearRegression().fit(X_train, y_train)"
   ]
  },
  {
   "cell_type": "code",
   "execution_count": 123,
   "id": "8272b6cf",
   "metadata": {},
   "outputs": [
    {
     "data": {
      "text/plain": [
       "0.599825757351211"
      ]
     },
     "execution_count": 123,
     "metadata": {},
     "output_type": "execute_result"
    }
   ],
   "source": [
    "reg.score(X_train, y_train)"
   ]
  },
  {
   "cell_type": "code",
   "execution_count": 124,
   "id": "c7ae23b6",
   "metadata": {},
   "outputs": [
    {
     "data": {
      "text/plain": [
       "53.02318730448354"
      ]
     },
     "execution_count": 124,
     "metadata": {},
     "output_type": "execute_result"
    }
   ],
   "source": [
    "MAPE(reg.predict(X_train),y_train)"
   ]
  },
  {
   "cell_type": "code",
   "execution_count": 125,
   "id": "56c13960",
   "metadata": {},
   "outputs": [
    {
     "data": {
      "text/plain": [
       "53.289136247602414"
      ]
     },
     "execution_count": 125,
     "metadata": {},
     "output_type": "execute_result"
    }
   ],
   "source": [
    "MAPE(reg.predict(X_test),y_test)"
   ]
  },
  {
   "cell_type": "markdown",
   "id": "bc152906",
   "metadata": {},
   "source": [
    "### RandomForestRegression"
   ]
  },
  {
   "cell_type": "code",
   "execution_count": 22,
   "id": "122347bc",
   "metadata": {},
   "outputs": [],
   "source": [
    "from sklearn.ensemble import RandomForestRegressor"
   ]
  },
  {
   "cell_type": "code",
   "execution_count": 126,
   "id": "b2819a9c",
   "metadata": {},
   "outputs": [
    {
     "data": {
      "text/plain": [
       "RandomForestRegressor()"
      ]
     },
     "execution_count": 126,
     "metadata": {},
     "output_type": "execute_result"
    }
   ],
   "source": [
    "regr = RandomForestRegressor()\n",
    "regr.fit(X_train, y_train)"
   ]
  },
  {
   "cell_type": "code",
   "execution_count": 127,
   "id": "d678703d",
   "metadata": {},
   "outputs": [
    {
     "data": {
      "text/plain": [
       "0.952445706605137"
      ]
     },
     "execution_count": 127,
     "metadata": {},
     "output_type": "execute_result"
    }
   ],
   "source": [
    "regr.score(X_train,y_train)"
   ]
  },
  {
   "cell_type": "code",
   "execution_count": 145,
   "id": "expected-statistics",
   "metadata": {},
   "outputs": [
    {
     "data": {
      "text/plain": [
       "14.515045100497591"
      ]
     },
     "execution_count": 145,
     "metadata": {},
     "output_type": "execute_result"
    }
   ],
   "source": [
    "MAPE(regr.predict(X_train),y_train)"
   ]
  },
  {
   "cell_type": "code",
   "execution_count": 128,
   "id": "946328ef",
   "metadata": {},
   "outputs": [
    {
     "data": {
      "text/plain": [
       "38.793523027967865"
      ]
     },
     "execution_count": 128,
     "metadata": {},
     "output_type": "execute_result"
    }
   ],
   "source": [
    "MAPE(regr.predict(X_test),y_test)"
   ]
  },
  {
   "cell_type": "markdown",
   "id": "standing-malpractice",
   "metadata": {},
   "source": [
    "### SVM"
   ]
  },
  {
   "cell_type": "code",
   "execution_count": 41,
   "id": "structured-productivity",
   "metadata": {},
   "outputs": [],
   "source": [
    "from sklearn import svm"
   ]
  },
  {
   "cell_type": "code",
   "execution_count": null,
   "id": "distant-madison",
   "metadata": {},
   "outputs": [],
   "source": [
    "regr_svm = svm.SVR(kernel=\"linear\")\n",
    "regr_svm.fit(X_train,y_train)"
   ]
  },
  {
   "cell_type": "code",
   "execution_count": null,
   "id": "leading-bhutan",
   "metadata": {},
   "outputs": [],
   "source": [
    "regr_svm.score(X_train,y_train)"
   ]
  },
  {
   "cell_type": "code",
   "execution_count": null,
   "id": "regional-assistant",
   "metadata": {},
   "outputs": [],
   "source": [
    "MAPE(regr_svm.predict(X_train),y_train)"
   ]
  },
  {
   "cell_type": "code",
   "execution_count": null,
   "id": "emotional-remark",
   "metadata": {},
   "outputs": [],
   "source": [
    "MAPE(regr_svm.predict(X_test),y_test)"
   ]
  },
  {
   "cell_type": "code",
   "execution_count": null,
   "id": "advisory-research",
   "metadata": {},
   "outputs": [],
   "source": [
    "26.714607117563933,27.857640502040667"
   ]
  },
  {
   "cell_type": "markdown",
   "id": "close-melissa",
   "metadata": {},
   "source": [
    "### Lasso"
   ]
  },
  {
   "cell_type": "code",
   "execution_count": 46,
   "id": "copyrighted-brown",
   "metadata": {},
   "outputs": [],
   "source": [
    "from sklearn import linear_model"
   ]
  },
  {
   "cell_type": "code",
   "execution_count": 133,
   "id": "generous-fountain",
   "metadata": {},
   "outputs": [
    {
     "data": {
      "text/plain": [
       "Lasso(alpha=0.1)"
      ]
     },
     "execution_count": 133,
     "metadata": {},
     "output_type": "execute_result"
    }
   ],
   "source": [
    "reg_lasso = linear_model.Lasso(alpha=0.1)\n",
    "reg_lasso.fit(X_train,y_train)"
   ]
  },
  {
   "cell_type": "code",
   "execution_count": 134,
   "id": "united-national",
   "metadata": {},
   "outputs": [
    {
     "data": {
      "text/plain": [
       "0.5929825913168887"
      ]
     },
     "execution_count": 134,
     "metadata": {},
     "output_type": "execute_result"
    }
   ],
   "source": [
    "reg_lasso.score(X_train,y_train)"
   ]
  },
  {
   "cell_type": "code",
   "execution_count": 135,
   "id": "legal-powell",
   "metadata": {},
   "outputs": [
    {
     "data": {
      "text/plain": [
       "49.01571487165535"
      ]
     },
     "execution_count": 135,
     "metadata": {},
     "output_type": "execute_result"
    }
   ],
   "source": [
    "MAPE(reg_lasso.predict(X_train),y_train)"
   ]
  },
  {
   "cell_type": "code",
   "execution_count": 136,
   "id": "close-password",
   "metadata": {},
   "outputs": [
    {
     "data": {
      "text/plain": [
       "49.239045847560725"
      ]
     },
     "execution_count": 136,
     "metadata": {},
     "output_type": "execute_result"
    }
   ],
   "source": [
    "MAPE(reg_lasso.predict(X_test),y_test)"
   ]
  },
  {
   "cell_type": "markdown",
   "id": "compound-philadelphia",
   "metadata": {},
   "source": [
    "### MLP-NN "
   ]
  },
  {
   "cell_type": "code",
   "execution_count": 95,
   "id": "functioning-italic",
   "metadata": {},
   "outputs": [],
   "source": [
    "from sklearn.neural_network import MLPRegressor"
   ]
  },
  {
   "cell_type": "code",
   "execution_count": 137,
   "id": "digital-tattoo",
   "metadata": {},
   "outputs": [],
   "source": [
    "regr_mlpr = MLPRegressor(random_state=1, max_iter=1000).fit(X_train, y_train)"
   ]
  },
  {
   "cell_type": "code",
   "execution_count": 138,
   "id": "applied-petersburg",
   "metadata": {},
   "outputs": [
    {
     "data": {
      "text/plain": [
       "0.6979424330891131"
      ]
     },
     "execution_count": 138,
     "metadata": {},
     "output_type": "execute_result"
    }
   ],
   "source": [
    "regr_mlpr.score(X_train,y_train)"
   ]
  },
  {
   "cell_type": "code",
   "execution_count": 139,
   "id": "classical-thermal",
   "metadata": {},
   "outputs": [
    {
     "data": {
      "text/plain": [
       "57.027055171108245"
      ]
     },
     "execution_count": 139,
     "metadata": {},
     "output_type": "execute_result"
    }
   ],
   "source": [
    "MAPE(regr_mlpr.predict(X_train),y_train)"
   ]
  },
  {
   "cell_type": "code",
   "execution_count": 140,
   "id": "capital-router",
   "metadata": {},
   "outputs": [
    {
     "data": {
      "text/plain": [
       "59.27871081848988"
      ]
     },
     "execution_count": 140,
     "metadata": {},
     "output_type": "execute_result"
    }
   ],
   "source": [
    "MAPE(regr_mlpr.predict(X_test),y_test)"
   ]
  },
  {
   "cell_type": "markdown",
   "id": "forty-romania",
   "metadata": {},
   "source": [
    "### XG-Boost"
   ]
  },
  {
   "cell_type": "code",
   "execution_count": 100,
   "id": "welcome-panama",
   "metadata": {},
   "outputs": [],
   "source": [
    "from sklearn.ensemble import GradientBoostingRegressor"
   ]
  },
  {
   "cell_type": "code",
   "execution_count": 141,
   "id": "quality-check",
   "metadata": {},
   "outputs": [
    {
     "data": {
      "text/plain": [
       "GradientBoostingRegressor()"
      ]
     },
     "execution_count": 141,
     "metadata": {},
     "output_type": "execute_result"
    }
   ],
   "source": [
    "reg_xgBoost = GradientBoostingRegressor()\n",
    "reg_xgBoost.fit(X_train, y_train)"
   ]
  },
  {
   "cell_type": "code",
   "execution_count": 142,
   "id": "certified-natural",
   "metadata": {},
   "outputs": [
    {
     "data": {
      "text/plain": [
       "0.6751925422323366"
      ]
     },
     "execution_count": 142,
     "metadata": {},
     "output_type": "execute_result"
    }
   ],
   "source": [
    "reg_xgBoost.score(X_train,y_train)"
   ]
  },
  {
   "cell_type": "code",
   "execution_count": 143,
   "id": "female-klein",
   "metadata": {},
   "outputs": [
    {
     "data": {
      "text/plain": [
       "39.46120119176254"
      ]
     },
     "execution_count": 143,
     "metadata": {},
     "output_type": "execute_result"
    }
   ],
   "source": [
    "MAPE(reg_xgBoost.predict(X_train),y_train)"
   ]
  },
  {
   "cell_type": "code",
   "execution_count": 144,
   "id": "straight-burner",
   "metadata": {},
   "outputs": [
    {
     "data": {
      "text/plain": [
       "40.34704834120971"
      ]
     },
     "execution_count": 144,
     "metadata": {},
     "output_type": "execute_result"
    }
   ],
   "source": [
    "MAPE(reg_xgBoost.predict(X_test),y_test)"
   ]
  },
  {
   "cell_type": "markdown",
   "id": "339034da",
   "metadata": {},
   "source": [
    "### Partie submission"
   ]
  },
  {
   "cell_type": "code",
   "execution_count": null,
   "id": "ccf44f95",
   "metadata": {},
   "outputs": [],
   "source": [
    "train[train.index.isin(X_full.index)][\"Id\"]"
   ]
  },
  {
   "cell_type": "code",
   "execution_count": 54,
   "id": "temporal-disclosure",
   "metadata": {},
   "outputs": [],
   "source": [
    "y_predicted = list(regr_svm.predict(ximp))\n",
    "id_predicted = list(test[\"Id\"])"
   ]
  },
  {
   "cell_type": "code",
   "execution_count": 55,
   "id": "breeding-probe",
   "metadata": {},
   "outputs": [],
   "source": [
    "df_submit = pd.DataFrame()\n",
    "df_submit[\"Id\"] = id_predicted\n",
    "df_submit[\"Prediction\"] = y_predicted"
   ]
  },
  {
   "cell_type": "code",
   "execution_count": null,
   "id": "fatal-establishment",
   "metadata": {},
   "outputs": [],
   "source": [
    "df_submit[\"Prediction\"] = df.Prediction.apply(lambda s : s if s>=0 else 0 )"
   ]
  },
  {
   "cell_type": "code",
   "execution_count": 61,
   "id": "blocked-barrier",
   "metadata": {},
   "outputs": [],
   "source": [
    "df_submit.to_csv('./working/' + \"submission.csv\",index=False)"
   ]
  }
 ],
 "metadata": {
  "kernelspec": {
   "display_name": "Python 3",
   "language": "python",
   "name": "python3"
  },
  "language_info": {
   "codemirror_mode": {
    "name": "ipython",
    "version": 3
   },
   "file_extension": ".py",
   "mimetype": "text/x-python",
   "name": "python",
   "nbconvert_exporter": "python",
   "pygments_lexer": "ipython3",
   "version": "3.6.9"
  },
  "papermill": {
   "default_parameters": {},
   "duration": 54.798373,
   "end_time": "2021-11-17T16:13:27.806509",
   "environment_variables": {},
   "exception": null,
   "input_path": "__notebook__.ipynb",
   "output_path": "__notebook__.ipynb",
   "parameters": {},
   "start_time": "2021-11-17T16:12:33.008136",
   "version": "2.3.3"
  }
 },
 "nbformat": 4,
 "nbformat_minor": 5
}
