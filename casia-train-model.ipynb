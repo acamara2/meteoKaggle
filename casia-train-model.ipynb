{
 "cells": [
  {
   "cell_type": "code",
   "execution_count": 1,
   "id": "2fd81fad",
   "metadata": {
    "_cell_guid": "b1076dfc-b9ad-4769-8c92-a6c4dae69d19",
    "_uuid": "8f2839f25d086af736a60e9eeb907d3b93b6e0e5",
    "execution": {
     "iopub.execute_input": "2021-11-17T16:12:42.808946Z",
     "iopub.status.busy": "2021-11-17T16:12:42.808167Z",
     "iopub.status.idle": "2021-11-17T16:12:42.860751Z",
     "shell.execute_reply": "2021-11-17T16:12:42.861525Z",
     "shell.execute_reply.started": "2021-11-17T14:36:30.268307Z"
    },
    "papermill": {
     "duration": 0.085687,
     "end_time": "2021-11-17T16:12:42.861890",
     "exception": false,
     "start_time": "2021-11-17T16:12:42.776203",
     "status": "completed"
    },
    "scrolled": true,
    "tags": []
   },
   "outputs": [
    {
     "name": "stdout",
     "output_type": "stream",
     "text": [
      "./casia-train-model.ipynb\n",
      "./s41598-021-96872-w.pdf\n",
      "./remotesensing-13-02468.pdf\n",
      "./README.md\n",
      "./prise_en_main/open-y-and-baselines.ipynb\n",
      "./prise_en_main/compute-baseline-obs.ipynb\n",
      "./prise_en_main/open-x-forecast-3d-train.ipynb\n",
      "./prise_en_main/open-x-station.ipynb\n",
      "./prise_en_main/open-x-forecast-2d-train.ipynb\n",
      "./prise_en_main/open-mask-data.ipynb\n",
      "./prise_en_main/open-x-forecast-3d-test.ipynb\n",
      "./prise_en_main/open-x-forecast-2d-test.ipynb\n",
      "./data/.gitignore\n",
      "./data/df_tot.csv\n",
      "./data/Other/Other/stations_coordinates.csv\n",
      "./data/Other/Other/NW_masks.nc\n",
      "./data/Test/Test/Id_month_test.csv\n",
      "./data/Test/Test/X_station_test.csv\n",
      "./data/Test/Test/X_forecast/2D_arpege_119.nc\n",
      "./data/Test/Test/X_forecast/arpege_3D_isobar_118.nc\n",
      "./data/Test/Test/X_forecast/2D_arome_119.nc\n",
      "./data/Test/Test/X_forecast/arpege_3D_height_119.nc\n",
      "./data/Test/Test/Baselines/Baseline_forecast_test.csv\n",
      "./data/Test/Test/Baselines/Baseline_observation_test.csv\n",
      "./data/Train/Train/Y_train.csv\n",
      "./data/Train/Train/X_station_train.csv\n",
      "./data/Train/Train/X_forecast/arpege_3D_isobar_20170823.nc\n",
      "./data/Train/Train/X_forecast/2D_arome_20160629.nc\n",
      "./data/Train/Train/X_forecast/arpege_3D_height_20170724.nc\n",
      "./data/Train/Train/X_forecast/arpege_3D_height_20161225.nc\n",
      "./data/Train/Train/X_forecast/arpege_3D_height_20170421.nc\n",
      "./data/Train/Train/X_forecast/arpege_3D_isobar_20170619.nc\n",
      "./data/Train/Train/X_forecast/2D_arpege_20161005.nc\n",
      "./data/Train/Train/X_forecast/2D_arome_20170218.nc\n",
      "./data/Train/Train/X_forecast/arpege_3D_isobar_20160213.nc\n",
      "./data/Train/Train/X_forecast/2D_arpege_20170710.nc\n",
      "./data/Train/Train/X_forecast/2D_arpege_20161107.nc\n",
      "./data/Train/Train/X_forecast/arpege_3D_height_20170220.nc\n",
      "./data/Train/Train/X_forecast/arpege_3D_isobar_20161128.nc\n",
      "./data/Train/Train/X_forecast/2D_arpege_20170108.nc\n",
      "./data/Train/Train/X_forecast/arpege_3D_height_20160828.nc\n",
      "./data/Train/Train/X_forecast/2D_arpege_20160516.nc\n",
      "./data/Train/Train/X_forecast/arpege_3D_height_20160611.nc\n",
      "./data/Train/Train/X_forecast/2D_arpege_20170509.nc\n",
      "./data/Train/Train/X_forecast/arpege_3D_height_20170205.nc\n",
      "./data/Train/Train/X_forecast/2D_arome_20160930.nc\n",
      "./data/Train/Train/X_forecast/2D_arpege_20160606.nc\n",
      "./data/Train/Train/X_forecast/arpege_3D_height_20161201.nc\n",
      "./data/Train/Train/X_forecast/2D_arome_20160124.nc\n",
      "./data/Train/Train/X_forecast/arpege_3D_isobar_20170912.nc\n",
      "./data/Train/Train/X_forecast/2D_arome_20161219.nc\n",
      "./data/Train/Train/X_forecast/arpege_3D_height_20160210.nc\n",
      "./data/Train/Train/X_forecast/arpege_3D_height_20171215.nc\n",
      "./data/Train/Train/X_forecast/arpege_3D_isobar_20160523.nc\n",
      "./data/Train/Train/X_forecast/arpege_3D_height_20160601.nc\n",
      "./data/Train/Train/X_forecast/arpege_3D_height_20160417.nc\n",
      "./data/Train/Train/X_forecast/2D_arome_20160209.nc\n",
      "./data/Train/Train/X_forecast/2D_arpege_20160922.nc\n",
      "./data/Train/Train/X_forecast/2D_arpege_20170131.nc\n",
      "./data/Train/Train/X_forecast/2D_arpege_20160916.nc\n",
      "./data/Train/Train/X_forecast/arpege_3D_isobar_20171111.nc\n",
      "./data/Train/Train/X_forecast/2D_arpege_20160527.nc\n",
      "./data/Train/Train/X_forecast/2D_arome_20161214.nc\n",
      "./data/Train/Train/X_forecast/arpege_3D_isobar_20160508.nc\n",
      "./data/Train/Train/X_forecast/2D_arome_20170323.nc\n",
      "./data/Train/Train/X_forecast/2D_arome_20160130.nc\n",
      "./data/Train/Train/X_forecast/2D_arome_20160410.nc\n",
      "./data/Train/Train/X_forecast/arpege_3D_isobar_20170518.nc\n",
      "./data/Train/Train/X_forecast/2D_arpege_20160921.nc\n",
      "./data/Train/Train/X_forecast/arpege_3D_height_20161116.nc\n",
      "./data/Train/Train/X_forecast/2D_arpege_20161216.nc\n",
      "./data/Train/Train/X_forecast/2D_arpege_20170225.nc\n",
      "./data/Train/Train/X_forecast/2D_arpege_20160125.nc\n",
      "./data/Train/Train/X_forecast/2D_arpege_20161219.nc\n",
      "./data/Train/Train/X_forecast/2D_arome_20170618.nc\n",
      "./data/Train/Train/X_forecast/arpege_3D_isobar_20170610.nc\n",
      "./data/Train/Train/X_forecast/2D_arome_20171006.nc\n",
      "./data/Train/Train/X_forecast/arpege_3D_isobar_20160908.nc\n",
      "./data/Train/Train/X_forecast/arpege_3D_height_20160714.nc\n",
      "./data/Train/Train/X_forecast/arpege_3D_isobar_20171107.nc\n",
      "./data/Train/Train/X_forecast/arpege_3D_height_20160906.nc\n",
      "./data/Train/Train/X_forecast/arpege_3D_height_20160326.nc\n",
      "./data/Train/Train/X_forecast/arpege_3D_isobar_20170709.nc\n",
      "./data/Train/Train/X_forecast/2D_arome_20161013.nc\n",
      "./data/Train/Train/X_forecast/arpege_3D_height_20161219.nc\n",
      "./data/Train/Train/X_forecast/2D_arpege_20160708.nc\n",
      "./data/Train/Train/X_forecast/arpege_3D_height_20171011.nc\n",
      "./data/Train/Train/X_forecast/arpege_3D_isobar_20160117.nc\n",
      "./data/Train/Train/X_forecast/arpege_3D_isobar_20160122.nc\n",
      "./data/Train/Train/X_forecast/arpege_3D_isobar_20170908.nc\n",
      "./data/Train/Train/X_forecast/arpege_3D_height_20171218.nc\n",
      "./data/Train/Train/X_forecast/2D_arpege_20171223.nc\n",
      "./data/Train/Train/X_forecast/2D_arpege_20160417.nc\n",
      "./data/Train/Train/X_forecast/arpege_3D_height_20160205.nc\n",
      "./data/Train/Train/X_forecast/2D_arpege_20161010.nc\n",
      "./data/Train/Train/X_forecast/2D_arome_20170126.nc\n",
      "./data/Train/Train/X_forecast/2D_arpege_20170331.nc\n",
      "./data/Train/Train/X_forecast/2D_arpege_20170617.nc\n",
      "./data/Train/Train/X_forecast/2D_arpege_20170329.nc\n",
      "./data/Train/Train/X_forecast/arpege_3D_height_20160607.nc\n",
      "./data/Train/Train/X_forecast/2D_arome_20161128.nc\n",
      "./data/Train/Train/X_forecast/arpege_3D_height_20160616.nc\n",
      "./data/Train/Train/X_forecast/arpege_3D_height_20170422.nc\n",
      "./data/Train/Train/X_forecast/2D_arome_20171126.nc\n",
      "./data/Train/Train/X_forecast/2D_arpege_20160509.nc\n",
      "./data/Train/Train/X_forecast/arpege_3D_height_20170124.nc\n",
      "./data/Train/Train/X_forecast/arpege_3D_isobar_20161017.nc\n",
      "./data/Train/Train/X_forecast/arpege_3D_height_20160725.nc\n",
      "./data/Train/Train/X_forecast/2D_arome_20160826.nc\n",
      "./data/Train/Train/X_forecast/arpege_3D_height_20171104.nc\n",
      "./data/Train/Train/X_forecast/2D_arome_20171110.nc\n",
      "./data/Train/Train/X_forecast/2D_arpege_20170307.nc\n",
      "./data/Train/Train/X_forecast/2D_arome_20170605.nc\n",
      "./data/Train/Train/X_forecast/2D_arome_20160127.nc\n",
      "./data/Train/Train/X_forecast/arpege_3D_height_20170811.nc\n",
      "./data/Train/Train/X_forecast/arpege_3D_isobar_20160804.nc\n",
      "./data/Train/Train/X_forecast/2D_arpege_20160706.nc\n",
      "./data/Train/Train/X_forecast/2D_arome_20161010.nc\n",
      "./data/Train/Train/X_forecast/2D_arome_20160805.nc\n",
      "./data/Train/Train/X_forecast/arpege_3D_height_20170410.nc\n",
      "./data/Train/Train/X_forecast/arpege_3D_isobar_20170612.nc\n",
      "./data/Train/Train/X_forecast/arpege_3D_height_20160821.nc\n",
      "./data/Train/Train/X_forecast/2D_arpege_20170606.nc\n",
      "./data/Train/Train/X_forecast/arpege_3D_height_20161229.nc\n",
      "./data/Train/Train/X_forecast/arpege_3D_isobar_20170714.nc\n",
      "./data/Train/Train/X_forecast/2D_arpege_20161117.nc\n",
      "./data/Train/Train/X_forecast/arpege_3D_height_20171031.nc\n",
      "./data/Train/Train/X_forecast/2D_arome_20170417.nc\n",
      "./data/Train/Train/X_forecast/2D_arome_20160816.nc\n",
      "./data/Train/Train/X_forecast/2D_arpege_20170525.nc\n",
      "./data/Train/Train/X_forecast/arpege_3D_height_20170511.nc\n",
      "./data/Train/Train/X_forecast/arpege_3D_height_20170819.nc\n",
      "./data/Train/Train/X_forecast/arpege_3D_isobar_20170628.nc\n",
      "./data/Train/Train/X_forecast/arpege_3D_height_20171122.nc\n",
      "./data/Train/Train/X_forecast/2D_arpege_20160725.nc\n",
      "./data/Train/Train/X_forecast/2D_arome_20171221.nc\n",
      "./data/Train/Train/X_forecast/2D_arome_20170410.nc\n",
      "./data/Train/Train/X_forecast/arpege_3D_height_20170907.nc\n",
      "./data/Train/Train/X_forecast/arpege_3D_height_20171022.nc\n",
      "./data/Train/Train/X_forecast/2D_arome_20160829.nc\n",
      "./data/Train/Train/X_forecast/arpege_3D_height_20160403.nc\n",
      "./data/Train/Train/X_forecast/2D_arpege_20171107.nc\n",
      "./data/Train/Train/X_forecast/arpege_3D_height_20170106.nc\n",
      "./data/Train/Train/X_forecast/2D_arpege_20161016.nc\n",
      "./data/Train/Train/X_forecast/2D_arome_20161129.nc\n",
      "./data/Train/Train/X_forecast/arpege_3D_isobar_20170117.nc\n",
      "./data/Train/Train/X_forecast/arpege_3D_isobar_20170604.nc\n",
      "./data/Train/Train/X_forecast/2D_arome_20161005.nc\n",
      "./data/Train/Train/X_forecast/2D_arpege_20160712.nc\n",
      "./data/Train/Train/X_forecast/arpege_3D_height_20160813.nc\n",
      "./data/Train/Train/X_forecast/arpege_3D_isobar_20170601.nc\n",
      "./data/Train/Train/X_forecast/2D_arome_20170705.nc\n",
      "./data/Train/Train/X_forecast/arpege_3D_height_20160124.nc\n",
      "./data/Train/Train/X_forecast/arpege_3D_isobar_20170621.nc\n",
      "./data/Train/Train/X_forecast/arpege_3D_isobar_20171207.nc\n",
      "./data/Train/Train/X_forecast/arpege_3D_isobar_20171022.nc\n",
      "./data/Train/Train/X_forecast/2D_arome_20170503.nc\n",
      "./data/Train/Train/X_forecast/arpege_3D_height_20160118.nc\n",
      "./data/Train/Train/X_forecast/2D_arome_20171114.nc\n",
      "./data/Train/Train/X_forecast/arpege_3D_isobar_20160318.nc\n",
      "./data/Train/Train/X_forecast/arpege_3D_height_20171219.nc\n",
      "./data/Train/Train/X_forecast/2D_arome_20170516.nc\n",
      "./data/Train/Train/X_forecast/arpege_3D_height_20170314.nc\n",
      "./data/Train/Train/X_forecast/2D_arome_20170910.nc\n",
      "./data/Train/Train/X_forecast/arpege_3D_height_20170226.nc\n",
      "./data/Train/Train/X_forecast/2D_arome_20160630.nc\n",
      "./data/Train/Train/X_forecast/2D_arome_20170328.nc\n",
      "./data/Train/Train/X_forecast/2D_arpege_20160223.nc\n",
      "./data/Train/Train/X_forecast/2D_arome_20170315.nc\n",
      "./data/Train/Train/X_forecast/arpege_3D_height_20160610.nc\n",
      "./data/Train/Train/X_forecast/arpege_3D_isobar_20171011.nc\n",
      "./data/Train/Train/X_forecast/2D_arome_20160823.nc\n",
      "./data/Train/Train/X_forecast/2D_arome_20160903.nc\n",
      "./data/Train/Train/X_forecast/arpege_3D_height_20170624.nc\n",
      "./data/Train/Train/X_forecast/arpege_3D_height_20171101.nc\n",
      "./data/Train/Train/X_forecast/2D_arome_20161023.nc\n",
      "./data/Train/Train/X_forecast/arpege_3D_height_20171029.nc\n",
      "./data/Train/Train/X_forecast/2D_arpege_20160824.nc\n",
      "./data/Train/Train/X_forecast/arpege_3D_isobar_20170811.nc\n",
      "./data/Train/Train/X_forecast/arpege_3D_height_20160627.nc\n",
      "./data/Train/Train/X_forecast/arpege_3D_height_20160401.nc\n",
      "./data/Train/Train/X_forecast/arpege_3D_isobar_20171002.nc\n",
      "./data/Train/Train/X_forecast/arpege_3D_isobar_20161023.nc\n",
      "./data/Train/Train/X_forecast/arpege_3D_height_20160921.nc\n",
      "./data/Train/Train/X_forecast/2D_arpege_20170529.nc\n",
      "./data/Train/Train/X_forecast/arpege_3D_isobar_20160624.nc\n",
      "./data/Train/Train/X_forecast/arpege_3D_height_20160225.nc\n",
      "./data/Train/Train/X_forecast/2D_arome_20160627.nc\n",
      "./data/Train/Train/X_forecast/2D_arpege_20170104.nc\n",
      "./data/Train/Train/X_forecast/arpege_3D_height_20171127.nc\n",
      "./data/Train/Train/X_forecast/2D_arpege_20170528.nc\n",
      "./data/Train/Train/X_forecast/2D_arpege_20160210.nc\n",
      "./data/Train/Train/X_forecast/2D_arome_20160518.nc\n",
      "./data/Train/Train/X_forecast/2D_arpege_20160204.nc\n",
      "./data/Train/Train/X_forecast/2D_arome_20160729.nc\n",
      "./data/Train/Train/X_forecast/2D_arpege_20161211.nc\n",
      "./data/Train/Train/X_forecast/2D_arome_20161002.nc\n",
      "./data/Train/Train/X_forecast/2D_arome_20160912.nc\n",
      "./data/Train/Train/X_forecast/arpege_3D_height_20160331.nc\n",
      "./data/Train/Train/X_forecast/2D_arpege_20160906.nc\n",
      "./data/Train/Train/X_forecast/2D_arome_20161205.nc\n",
      "./data/Train/Train/X_forecast/2D_arome_20170527.nc\n",
      "./data/Train/Train/X_forecast/arpege_3D_isobar_20171028.nc\n",
      "./data/Train/Train/X_forecast/2D_arpege_20160719.nc\n",
      "./data/Train/Train/X_forecast/arpege_3D_isobar_20170329.nc\n",
      "./data/Train/Train/X_forecast/arpege_3D_height_20160204.nc\n",
      "./data/Train/Train/X_forecast/2D_arpege_20160619.nc\n",
      "./data/Train/Train/X_forecast/2D_arpege_20170625.nc\n",
      "./data/Train/Train/X_forecast/2D_arome_20170802.nc\n",
      "./data/Train/Train/X_forecast/arpege_3D_height_20171229.nc\n",
      "./data/Train/Train/X_forecast/arpege_3D_height_20170315.nc\n",
      "./data/Train/Train/X_forecast/2D_arome_20160927.nc\n",
      "./data/Train/Train/X_forecast/2D_arpege_20161221.nc\n",
      "./data/Train/Train/X_forecast/2D_arome_20170821.nc\n",
      "./data/Train/Train/X_forecast/2D_arome_20160331.nc\n",
      "./data/Train/Train/X_forecast/arpege_3D_isobar_20170828.nc\n",
      "./data/Train/Train/X_forecast/arpege_3D_height_20160420.nc\n",
      "./data/Train/Train/X_forecast/2D_arpege_20161023.nc\n",
      "./data/Train/Train/X_forecast/2D_arome_20171124.nc\n",
      "./data/Train/Train/X_forecast/arpege_3D_isobar_20170218.nc\n",
      "./data/Train/Train/X_forecast/arpege_3D_isobar_20160831.nc\n",
      "./data/Train/Train/X_forecast/2D_arome_20170901.nc\n",
      "./data/Train/Train/X_forecast/2D_arpege_20160911.nc\n",
      "./data/Train/Train/X_forecast/2D_arpege_20160224.nc\n",
      "./data/Train/Train/X_forecast/2D_arome_20171118.nc\n",
      "./data/Train/Train/X_forecast/2D_arome_20170110.nc\n",
      "./data/Train/Train/X_forecast/2D_arome_20170728.nc\n",
      "./data/Train/Train/X_forecast/2D_arpege_20161207.nc\n",
      "./data/Train/Train/X_forecast/2D_arpege_20160826.nc\n",
      "./data/Train/Train/X_forecast/2D_arome_20160117.nc\n",
      "./data/Train/Train/X_forecast/arpege_3D_isobar_20171013.nc\n",
      "./data/Train/Train/X_forecast/2D_arome_20170617.nc\n",
      "./data/Train/Train/X_forecast/2D_arpege_20160530.nc\n",
      "./data/Train/Train/X_forecast/2D_arpege_20170222.nc\n",
      "./data/Train/Train/X_forecast/2D_arome_20170810.nc\n",
      "./data/Train/Train/X_forecast/arpege_3D_isobar_20170213.nc\n",
      "./data/Train/Train/X_forecast/2D_arpege_20170209.nc\n",
      "./data/Train/Train/X_forecast/2D_arome_20171115.nc\n",
      "./data/Train/Train/X_forecast/2D_arpege_20160605.nc\n",
      "./data/Train/Train/X_forecast/arpege_3D_height_20161103.nc\n",
      "./data/Train/Train/X_forecast/2D_arpege_20160215.nc\n",
      "./data/Train/Train/X_forecast/arpege_3D_isobar_20170315.nc\n",
      "./data/Train/Train/X_forecast/arpege_3D_height_20170113.nc\n",
      "./data/Train/Train/X_forecast/arpege_3D_isobar_20161129.nc\n",
      "./data/Train/Train/X_forecast/arpege_3D_height_20160304.nc\n",
      "./data/Train/Train/X_forecast/2D_arome_20170208.nc\n",
      "./data/Train/Train/X_forecast/arpege_3D_height_20160203.nc\n",
      "./data/Train/Train/X_forecast/2D_arpege_20171123.nc\n",
      "./data/Train/Train/X_forecast/2D_arome_20170518.nc\n",
      "./data/Train/Train/X_forecast/arpege_3D_height_20170328.nc\n",
      "./data/Train/Train/X_forecast/2D_arome_20161024.nc\n",
      "./data/Train/Train/X_forecast/2D_arome_20170514.nc\n",
      "./data/Train/Train/X_forecast/2D_arpege_20161028.nc\n",
      "./data/Train/Train/X_forecast/arpege_3D_height_20171112.nc\n",
      "./data/Train/Train/X_forecast/arpege_3D_isobar_20160521.nc\n",
      "./data/Train/Train/X_forecast/arpege_3D_height_20170228.nc\n",
      "./data/Train/Train/X_forecast/arpege_3D_height_20160320.nc\n",
      "./data/Train/Train/X_forecast/2D_arome_20170420.nc\n",
      "./data/Train/Train/X_forecast/arpege_3D_height_20170701.nc\n",
      "./data/Train/Train/X_forecast/arpege_3D_height_20160308.nc\n",
      "./data/Train/Train/X_forecast/2D_arome_20160920.nc\n",
      "./data/Train/Train/X_forecast/arpege_3D_isobar_20161018.nc\n",
      "./data/Train/Train/X_forecast/2D_arpege_20170907.nc\n",
      "./data/Train/Train/X_forecast/arpege_3D_height_20160508.nc\n",
      "./data/Train/Train/X_forecast/arpege_3D_height_20160909.nc\n",
      "./data/Train/Train/X_forecast/arpege_3D_isobar_20160816.nc\n",
      "./data/Train/Train/X_forecast/2D_arome_20160929.nc\n",
      "./data/Train/Train/X_forecast/arpege_3D_height_20161124.nc\n",
      "./data/Train/Train/X_forecast/2D_arome_20160802.nc\n",
      "./data/Train/Train/X_forecast/arpege_3D_isobar_20170513.nc\n",
      "./data/Train/Train/X_forecast/2D_arome_20160625.nc\n",
      "./data/Train/Train/X_forecast/2D_arome_20160928.nc\n",
      "./data/Train/Train/X_forecast/2D_arome_20160713.nc\n",
      "./data/Train/Train/X_forecast/arpege_3D_isobar_20170708.nc\n",
      "./data/Train/Train/X_forecast/2D_arpege_20160711.nc\n",
      "./data/Train/Train/X_forecast/2D_arpege_20170902.nc\n",
      "./data/Train/Train/X_forecast/2D_arpege_20170305.nc\n",
      "./data/Train/Train/X_forecast/2D_arome_20160818.nc\n",
      "./data/Train/Train/X_forecast/arpege_3D_isobar_20160328.nc\n",
      "./data/Train/Train/X_forecast/arpege_3D_isobar_20171105.nc\n",
      "./data/Train/Train/X_forecast/2D_arome_20170221.nc\n",
      "./data/Train/Train/X_forecast/2D_arome_20161123.nc\n",
      "./data/Train/Train/X_forecast/2D_arpege_20171116.nc\n",
      "./data/Train/Train/X_forecast/2D_arome_20160125.nc\n",
      "./data/Train/Train/X_forecast/2D_arome_20161106.nc\n",
      "./data/Train/Train/X_forecast/arpege_3D_isobar_20160729.nc\n",
      "./data/Train/Train/X_forecast/2D_arpege_20160416.nc\n",
      "./data/Train/Train/X_forecast/2D_arome_20170413.nc\n",
      "./data/Train/Train/X_forecast/arpege_3D_isobar_20170314.nc\n",
      "./data/Train/Train/X_forecast/2D_arpege_20170125.nc\n",
      "./data/Train/Train/X_forecast/2D_arome_20170405.nc\n",
      "./data/Train/Train/X_forecast/2D_arome_20161226.nc\n",
      "./data/Train/Train/X_forecast/2D_arome_20160531.nc\n",
      "./data/Train/Train/X_forecast/2D_arome_20170902.nc\n",
      "./data/Train/Train/X_forecast/2D_arome_20170707.nc\n",
      "./data/Train/Train/X_forecast/2D_arome_20160722.nc\n",
      "./data/Train/Train/X_forecast/2D_arpege_20171231.nc\n",
      "./data/Train/Train/X_forecast/2D_arome_20171206.nc\n",
      "./data/Train/Train/X_forecast/arpege_3D_isobar_20171215.nc\n",
      "./data/Train/Train/X_forecast/arpege_3D_isobar_20161009.nc\n",
      "./data/Train/Train/X_forecast/arpege_3D_isobar_20170509.nc\n",
      "./data/Train/Train/X_forecast/arpege_3D_isobar_20160618.nc\n",
      "./data/Train/Train/X_forecast/2D_arpege_20160807.nc\n",
      "./data/Train/Train/X_forecast/2D_arome_20160417.nc\n",
      "./data/Train/Train/X_forecast/arpege_3D_isobar_20171206.nc\n",
      "./data/Train/Train/X_forecast/arpege_3D_height_20170305.nc\n",
      "./data/Train/Train/X_forecast/arpege_3D_height_20170303.nc\n",
      "./data/Train/Train/X_forecast/2D_arpege_20161125.nc\n",
      "./data/Train/Train/X_forecast/2D_arpege_20170921.nc\n",
      "./data/Train/Train/X_forecast/2D_arome_20170903.nc\n",
      "./data/Train/Train/X_forecast/arpege_3D_height_20160208.nc\n",
      "./data/Train/Train/X_forecast/arpege_3D_height_20171217.nc\n",
      "./data/Train/Train/X_forecast/2D_arpege_20161201.nc\n",
      "./data/Train/Train/X_forecast/arpege_3D_height_20161121.nc\n",
      "./data/Train/Train/X_forecast/2D_arpege_20170226.nc\n",
      "./data/Train/Train/X_forecast/arpege_3D_isobar_20160305.nc\n",
      "./data/Train/Train/X_forecast/arpege_3D_height_20171016.nc\n",
      "./data/Train/Train/X_forecast/arpege_3D_height_20170720.nc\n",
      "./data/Train/Train/X_forecast/arpege_3D_isobar_20160814.nc\n",
      "./data/Train/Train/X_forecast/2D_arpege_20170708.nc\n",
      "./data/Train/Train/X_forecast/arpege_3D_isobar_20160419.nc\n",
      "./data/Train/Train/X_forecast/arpege_3D_isobar_20160612.nc\n",
      "./data/Train/Train/X_forecast/arpege_3D_height_20171030.nc\n",
      "./data/Train/Train/X_forecast/2D_arpege_20160206.nc\n",
      "./data/Train/Train/X_forecast/2D_arome_20171127.nc\n",
      "./data/Train/Train/X_forecast/2D_arome_20170927.nc\n",
      "./data/Train/Train/X_forecast/2D_arome_20160828.nc\n",
      "./data/Train/Train/X_forecast/2D_arpege_20170707.nc\n",
      "./data/Train/Train/X_forecast/2D_arpege_20170706.nc\n",
      "./data/Train/Train/X_forecast/arpege_3D_isobar_20160301.nc\n",
      "./data/Train/Train/X_forecast/2D_arome_20160623.nc\n",
      "./data/Train/Train/X_forecast/2D_arome_20170711.nc\n",
      "./data/Train/Train/X_forecast/2D_arome_20160128.nc\n",
      "./data/Train/Train/X_forecast/arpege_3D_height_20161228.nc\n",
      "./data/Train/Train/X_forecast/2D_arome_20160719.nc\n",
      "./data/Train/Train/X_forecast/arpege_3D_height_20170705.nc\n",
      "./data/Train/Train/X_forecast/2D_arpege_20160531.nc\n",
      "./data/Train/Train/X_forecast/arpege_3D_isobar_20160917.nc\n",
      "./data/Train/Train/X_forecast/2D_arome_20160517.nc\n",
      "./data/Train/Train/X_forecast/arpege_3D_isobar_20160530.nc\n",
      "./data/Train/Train/X_forecast/2D_arome_20171228.nc\n",
      "./data/Train/Train/X_forecast/2D_arome_20160408.nc\n",
      "./data/Train/Train/X_forecast/arpege_3D_isobar_20160810.nc\n",
      "./data/Train/Train/X_forecast/arpege_3D_height_20161016.nc\n",
      "./data/Train/Train/X_forecast/arpege_3D_height_20160513.nc\n",
      "./data/Train/Train/X_forecast/2D_arome_20171104.nc\n",
      "./data/Train/Train/X_forecast/2D_arpege_20160615.nc\n",
      "./data/Train/Train/X_forecast/arpege_3D_height_20170814.nc\n",
      "./data/Train/Train/X_forecast/arpege_3D_height_20160215.nc\n",
      "./data/Train/Train/X_forecast/arpege_3D_isobar_20160215.nc\n",
      "./data/Train/Train/X_forecast/arpege_3D_height_20160311.nc\n",
      "./data/Train/Train/X_forecast/2D_arpege_20171210.nc\n",
      "./data/Train/Train/X_forecast/arpege_3D_isobar_20160619.nc\n",
      "./data/Train/Train/X_forecast/arpege_3D_height_20160826.nc\n",
      "./data/Train/Train/X_forecast/2D_arome_20171229.nc\n",
      "./data/Train/Train/X_forecast/2D_arome_20170702.nc\n",
      "./data/Train/Train/X_forecast/arpege_3D_isobar_20161026.nc\n",
      "./data/Train/Train/X_forecast/arpege_3D_height_20171107.nc\n",
      "./data/Train/Train/X_forecast/arpege_3D_height_20160623.nc\n",
      "./data/Train/Train/X_forecast/2D_arpege_20170727.nc\n",
      "./data/Train/Train/X_forecast/arpege_3D_isobar_20170824.nc\n",
      "./data/Train/Train/X_forecast/2D_arpege_20160923.nc\n",
      "./data/Train/Train/X_forecast/2D_arpege_20171220.nc\n",
      "./data/Train/Train/X_forecast/2D_arome_20160608.nc\n",
      "./data/Train/Train/X_forecast/arpege_3D_height_20160614.nc\n",
      "./data/Train/Train/X_forecast/2D_arpege_20160822.nc\n",
      "./data/Train/Train/X_forecast/arpege_3D_isobar_20171116.nc\n",
      "./data/Train/Train/X_forecast/arpege_3D_height_20170820.nc\n",
      "./data/Train/Train/X_forecast/2D_arpege_20170215.nc\n",
      "./data/Train/Train/X_forecast/arpege_3D_height_20161022.nc\n",
      "./data/Train/Train/X_forecast/2D_arome_20171019.nc\n",
      "./data/Train/Train/X_forecast/2D_arpege_20160809.nc\n",
      "./data/Train/Train/X_forecast/arpege_3D_isobar_20171030.nc\n",
      "./data/Train/Train/X_forecast/2D_arome_20170129.nc\n",
      "./data/Train/Train/X_forecast/2D_arpege_20160129.nc\n",
      "./data/Train/Train/X_forecast/2D_arome_20170710.nc\n",
      "./data/Train/Train/X_forecast/arpege_3D_height_20161107.nc\n",
      "./data/Train/Train/X_forecast/2D_arpege_20160813.nc\n",
      "./data/Train/Train/X_forecast/arpege_3D_isobar_20170808.nc\n",
      "./data/Train/Train/X_forecast/arpege_3D_isobar_20160229.nc\n",
      "./data/Train/Train/X_forecast/arpege_3D_isobar_20171023.nc\n",
      "./data/Train/Train/X_forecast/2D_arome_20160607.nc\n",
      "./data/Train/Train/X_forecast/2D_arpege_20160228.nc\n",
      "./data/Train/Train/X_forecast/2D_arome_20170103.nc\n",
      "./data/Train/Train/X_forecast/arpege_3D_isobar_20160725.nc\n",
      "./data/Train/Train/X_forecast/arpege_3D_height_20160608.nc\n",
      "./data/Train/Train/X_forecast/2D_arpege_20170110.nc\n",
      "./data/Train/Train/X_forecast/2D_arpege_20170615.nc\n",
      "./data/Train/Train/X_forecast/arpege_3D_height_20170326.nc\n",
      "./data/Train/Train/X_forecast/2D_arpege_20160424.nc\n",
      "./data/Train/Train/X_forecast/arpege_3D_isobar_20160128.nc\n",
      "./data/Train/Train/X_forecast/2D_arome_20170912.nc\n",
      "./data/Train/Train/X_forecast/2D_arome_20170916.nc\n",
      "./data/Train/Train/X_forecast/arpege_3D_height_20170222.nc\n",
      "./data/Train/Train/X_forecast/arpege_3D_height_20170725.nc\n",
      "./data/Train/Train/X_forecast/arpege_3D_isobar_20171006.nc\n",
      "./data/Train/Train/X_forecast/2D_arome_20170620.nc\n",
      "./data/Train/Train/X_forecast/arpege_3D_height_20160410.nc\n",
      "./data/Train/Train/X_forecast/2D_arome_20160414.nc\n",
      "./data/Train/Train/X_forecast/arpege_3D_height_20160411.nc\n",
      "./data/Train/Train/X_forecast/arpege_3D_height_20161223.nc\n",
      "./data/Train/Train/X_forecast/2D_arome_20170602.nc\n",
      "./data/Train/Train/X_forecast/2D_arpege_20171118.nc\n",
      "./data/Train/Train/X_forecast/2D_arpege_20161018.nc\n",
      "./data/Train/Train/X_forecast/arpege_3D_height_20160809.nc\n",
      "./data/Train/Train/X_forecast/arpege_3D_height_20161227.nc\n",
      "./data/Train/Train/X_forecast/2D_arome_20171227.nc\n",
      "./data/Train/Train/X_forecast/arpege_3D_height_20160110.nc\n",
      "./data/Train/Train/X_forecast/arpege_3D_isobar_20160510.nc\n",
      "./data/Train/Train/X_forecast/arpege_3D_height_20170718.nc\n",
      "./data/Train/Train/X_forecast/2D_arpege_20160917.nc\n",
      "./data/Train/Train/X_forecast/2D_arome_20161028.nc\n",
      "./data/Train/Train/X_forecast/2D_arpege_20170301.nc\n",
      "./data/Train/Train/X_forecast/arpege_3D_isobar_20160211.nc\n",
      "./data/Train/Train/X_forecast/arpege_3D_height_20170930.nc\n",
      "./data/Train/Train/X_forecast/arpege_3D_height_20170425.nc\n",
      "./data/Train/Train/X_forecast/arpege_3D_isobar_20160316.nc\n",
      "./data/Train/Train/X_forecast/2D_arome_20160316.nc\n",
      "./data/Train/Train/X_forecast/arpege_3D_isobar_20170120.nc\n",
      "./data/Train/Train/X_forecast/arpege_3D_height_20170120.nc\n",
      "./data/Train/Train/X_forecast/arpege_3D_isobar_20171228.nc\n",
      "./data/Train/Train/X_forecast/arpege_3D_height_20160507.nc\n",
      "./data/Train/Train/X_forecast/arpege_3D_height_20170318.nc\n",
      "./data/Train/Train/X_forecast/arpege_3D_height_20170910.nc\n",
      "./data/Train/Train/X_forecast/arpege_3D_height_20170119.nc\n",
      "./data/Train/Train/X_forecast/arpege_3D_height_20161215.nc\n",
      "./data/Train/Train/X_forecast/2D_arpege_20160116.nc\n",
      "./data/Train/Train/X_forecast/arpege_3D_isobar_20171210.nc\n",
      "./data/Train/Train/X_forecast/2D_arome_20171013.nc\n",
      "./data/Train/Train/X_forecast/arpege_3D_height_20170125.nc\n",
      "./data/Train/Train/X_forecast/2D_arpege_20160918.nc\n",
      "./data/Train/Train/X_forecast/2D_arome_20170608.nc\n",
      "./data/Train/Train/X_forecast/2D_arome_20171003.nc\n",
      "./data/Train/Train/X_forecast/arpege_3D_height_20170630.nc\n",
      "./data/Train/Train/X_forecast/arpege_3D_isobar_20161104.nc\n",
      "./data/Train/Train/X_forecast/arpege_3D_isobar_20170101.nc\n",
      "./data/Train/Train/X_forecast/arpege_3D_height_20160402.nc\n",
      "./data/Train/Train/X_forecast/arpege_3D_height_20171214.nc\n",
      "./data/Train/Train/X_forecast/arpege_3D_isobar_20171219.nc\n",
      "./data/Train/Train/X_forecast/2D_arpege_20160319.nc\n",
      "./data/Train/Train/X_forecast/2D_arpege_20161106.nc\n",
      "./data/Train/Train/X_forecast/arpege_3D_height_20170817.nc\n",
      "./data/Train/Train/X_forecast/arpege_3D_isobar_20161008.nc\n",
      "./data/Train/Train/X_forecast/arpege_3D_isobar_20171018.nc\n",
      "./data/Train/Train/X_forecast/2D_arpege_20170930.nc\n",
      "./data/Train/Train/X_forecast/arpege_3D_isobar_20160806.nc\n",
      "./data/Train/Train/X_forecast/arpege_3D_isobar_20170208.nc\n",
      "./data/Train/Train/X_forecast/2D_arome_20170508.nc\n",
      "./data/Train/Train/X_forecast/arpege_3D_isobar_20170606.nc\n",
      "./data/Train/Train/X_forecast/2D_arome_20170401.nc\n",
      "./data/Train/Train/X_forecast/arpege_3D_isobar_20170326.nc\n",
      "./data/Train/Train/X_forecast/arpege_3D_isobar_20171212.nc\n",
      "./data/Train/Train/X_forecast/arpege_3D_isobar_20170312.nc\n",
      "./data/Train/Train/X_forecast/arpege_3D_height_20161202.nc\n",
      "./data/Train/Train/X_forecast/2D_arpege_20161110.nc\n",
      "./data/Train/Train/X_forecast/arpege_3D_height_20170428.nc\n",
      "./data/Train/Train/X_forecast/arpege_3D_height_20160718.nc\n",
      "./data/Train/Train/X_forecast/arpege_3D_isobar_20160311.nc\n",
      "./data/Train/Train/X_forecast/2D_arome_20170803.nc\n",
      "./data/Train/Train/X_forecast/2D_arome_20160315.nc\n",
      "./data/Train/Train/X_forecast/2D_arome_20170223.nc\n",
      "./data/Train/Train/X_forecast/arpege_3D_height_20160415.nc\n",
      "./data/Train/Train/X_forecast/2D_arome_20170326.nc\n",
      "./data/Train/Train/X_forecast/arpege_3D_isobar_20160228.nc\n",
      "./data/Train/Train/X_forecast/arpege_3D_isobar_20160224.nc\n",
      "./data/Train/Train/X_forecast/2D_arome_20170511.nc\n",
      "./data/Train/Train/X_forecast/arpege_3D_isobar_20171211.nc\n",
      "./data/Train/Train/X_forecast/arpege_3D_isobar_20171119.nc\n",
      "./data/Train/Train/X_forecast/2D_arome_20160415.nc\n",
      "./data/Train/Train/X_forecast/2D_arome_20170320.nc\n",
      "./data/Train/Train/X_forecast/2D_arome_20160227.nc\n",
      "./data/Train/Train/X_forecast/2D_arpege_20160421.nc\n",
      "./data/Train/Train/X_forecast/arpege_3D_isobar_20161124.nc\n",
      "./data/Train/Train/X_forecast/2D_arome_20160613.nc\n",
      "./data/Train/Train/X_forecast/2D_arpege_20160707.nc\n",
      "./data/Train/Train/X_forecast/arpege_3D_isobar_20170820.nc\n",
      "./data/Train/Train/X_forecast/arpege_3D_height_20171009.nc\n",
      "./data/Train/Train/X_forecast/2D_arome_20171201.nc\n",
      "./data/Train/Train/X_forecast/arpege_3D_height_20161006.nc\n",
      "./data/Train/Train/X_forecast/2D_arpege_20170126.nc\n",
      "./data/Train/Train/X_forecast/2D_arome_20171008.nc\n",
      "./data/Train/Train/X_forecast/2D_arpege_20160419.nc\n",
      "./data/Train/Train/X_forecast/2D_arome_20170721.nc\n",
      "./data/Train/Train/X_forecast/2D_arome_20160403.nc\n",
      "./data/Train/Train/X_forecast/2D_arpege_20170915.nc\n",
      "./data/Train/Train/X_forecast/arpege_3D_height_20160113.nc\n",
      "./data/Train/Train/X_forecast/arpege_3D_height_20161017.nc\n",
      "./data/Train/Train/X_forecast/arpege_3D_isobar_20160514.nc\n",
      "./data/Train/Train/X_forecast/arpege_3D_isobar_20170222.nc\n",
      "./data/Train/Train/X_forecast/2D_arome_20161125.nc\n",
      "./data/Train/Train/X_forecast/arpege_3D_isobar_20170127.nc\n",
      "./data/Train/Train/X_forecast/arpege_3D_height_20160819.nc\n",
      "./data/Train/Train/X_forecast/arpege_3D_isobar_20161105.nc\n",
      "./data/Train/Train/X_forecast/2D_arome_20170107.nc\n",
      "./data/Train/Train/X_forecast/2D_arpege_20170103.nc\n",
      "./data/Train/Train/X_forecast/arpege_3D_isobar_20170915.nc\n",
      "./data/Train/Train/X_forecast/2D_arpege_20171224.nc\n",
      "./data/Train/Train/X_forecast/2D_arome_20161021.nc\n",
      "./data/Train/Train/X_forecast/2D_arome_20160701.nc\n",
      "./data/Train/Train/X_forecast/arpege_3D_isobar_20170906.nc\n",
      "./data/Train/Train/X_forecast/2D_arpege_20160412.nc\n",
      "./data/Train/Train/X_forecast/2D_arpege_20171230.nc\n",
      "./data/Train/Train/X_forecast/2D_arome_20170530.nc\n",
      "./data/Train/Train/X_forecast/2D_arpege_20160329.nc\n",
      "./data/Train/Train/X_forecast/arpege_3D_height_20170308.nc\n",
      "./data/Train/Train/X_forecast/2D_arome_20161228.nc\n",
      "./data/Train/Train/X_forecast/arpege_3D_height_20160128.nc\n",
      "./data/Train/Train/X_forecast/2D_arpege_20160218.nc\n",
      "./data/Train/Train/X_forecast/2D_arpege_20161209.nc\n",
      "./data/Train/Train/X_forecast/arpege_3D_height_20170101.nc\n",
      "./data/Train/Train/X_forecast/2D_arpege_20160622.nc\n",
      "./data/Train/Train/X_forecast/arpege_3D_isobar_20170924.nc\n",
      "./data/Train/Train/X_forecast/arpege_3D_height_20160624.nc\n",
      "./data/Train/Train/X_forecast/arpege_3D_height_20170619.nc\n",
      "./data/Train/Train/X_forecast/arpege_3D_height_20170916.nc\n",
      "./data/Train/Train/X_forecast/arpege_3D_height_20171007.nc\n",
      "./data/Train/Train/X_forecast/2D_arome_20171231.nc\n",
      "./data/Train/Train/X_forecast/2D_arpege_20171108.nc\n",
      "./data/Train/Train/X_forecast/arpege_3D_isobar_20160505.nc\n",
      "./data/Train/Train/X_forecast/arpege_3D_isobar_20160921.nc\n",
      "./data/Train/Train/X_forecast/arpege_3D_height_20160429.nc\n",
      "./data/Train/Train/X_forecast/2D_arpege_20161124.nc\n",
      "./data/Train/Train/X_forecast/2D_arome_20160716.nc\n",
      "./data/Train/Train/X_forecast/2D_arpege_20160131.nc\n",
      "./data/Train/Train/X_forecast/arpege_3D_height_20170827.nc\n",
      "./data/Train/Train/X_forecast/arpege_3D_isobar_20161125.nc\n",
      "./data/Train/Train/X_forecast/2D_arome_20160504.nc\n",
      "./data/Train/Train/X_forecast/arpege_3D_height_20160523.nc\n",
      "./data/Train/Train/X_forecast/arpege_3D_height_20160801.nc\n",
      "./data/Train/Train/X_forecast/arpege_3D_height_20160603.nc\n",
      "./data/Train/Train/X_forecast/2D_arpege_20160724.nc\n",
      "./data/Train/Train/X_forecast/arpege_3D_height_20170424.nc\n",
      "./data/Train/Train/X_forecast/2D_arome_20170214.nc\n",
      "./data/Train/Train/X_forecast/arpege_3D_isobar_20170330.nc\n",
      "./data/Train/Train/X_forecast/2D_arome_20170719.nc\n",
      "./data/Train/Train/X_forecast/arpege_3D_isobar_20160718.nc\n",
      "./data/Train/Train/X_forecast/arpege_3D_isobar_20171123.nc\n",
      "./data/Train/Train/X_forecast/2D_arpege_20170629.nc\n",
      "./data/Train/Train/X_forecast/arpege_3D_isobar_20160528.nc\n",
      "./data/Train/Train/X_forecast/2D_arpege_20161019.nc\n",
      "./data/Train/Train/X_forecast/arpege_3D_isobar_20161030.nc\n",
      "./data/Train/Train/X_forecast/arpege_3D_height_20170208.nc\n",
      "./data/Train/Train/X_forecast/arpege_3D_height_20171004.nc\n",
      "./data/Train/Train/X_forecast/2D_arome_20160516.nc\n",
      "./data/Train/Train/X_forecast/2D_arpege_20170109.nc\n",
      "./data/Train/Train/X_forecast/2D_arome_20171102.nc\n",
      "./data/Train/Train/X_forecast/arpege_3D_height_20170523.nc\n",
      "./data/Train/Train/X_forecast/2D_arpege_20160924.nc\n",
      "./data/Train/Train/X_forecast/arpege_3D_height_20160219.nc\n",
      "./data/Train/Train/X_forecast/2D_arome_20160721.nc\n",
      "./data/Train/Train/X_forecast/arpege_3D_isobar_20161120.nc\n",
      "./data/Train/Train/X_forecast/arpege_3D_isobar_20160802.nc\n",
      "./data/Train/Train/X_forecast/arpege_3D_isobar_20161003.nc\n",
      "./data/Train/Train/X_forecast/arpege_3D_height_20160817.nc\n",
      "./data/Train/Train/X_forecast/arpege_3D_height_20170515.nc\n",
      "./data/Train/Train/X_forecast/arpege_3D_height_20170917.nc\n",
      "./data/Train/Train/X_forecast/2D_arpege_20160317.nc\n",
      "./data/Train/Train/X_forecast/2D_arome_20160107.nc\n",
      "./data/Train/Train/X_forecast/2D_arpege_20170926.nc\n",
      "./data/Train/Train/X_forecast/arpege_3D_height_20170502.nc\n",
      "./data/Train/Train/X_forecast/arpege_3D_height_20161112.nc\n",
      "./data/Train/Train/X_forecast/2D_arome_20160726.nc\n",
      "./data/Train/Train/X_forecast/arpege_3D_height_20160901.nc\n",
      "./data/Train/Train/X_forecast/arpege_3D_height_20170611.nc\n",
      "./data/Train/Train/X_forecast/2D_arpege_20160429.nc\n",
      "./data/Train/Train/X_forecast/arpege_3D_height_20161019.nc\n",
      "./data/Train/Train/X_forecast/arpege_3D_height_20170414.nc\n",
      "./data/Train/Train/X_forecast/2D_arome_20161016.nc\n",
      "./data/Train/Train/X_forecast/arpege_3D_height_20170525.nc\n",
      "./data/Train/Train/X_forecast/2D_arome_20170921.nc\n",
      "./data/Train/Train/X_forecast/2D_arome_20160225.nc\n",
      "./data/Train/Train/X_forecast/2D_arpege_20160403.nc\n",
      "./data/Train/Train/X_forecast/2D_arpege_20171104.nc\n",
      "./data/Train/Train/X_forecast/arpege_3D_isobar_20160604.nc\n",
      "./data/Train/Train/X_forecast/2D_arome_20170626.nc\n",
      "./data/Train/Train/X_forecast/2D_arpege_20160107.nc\n",
      "./data/Train/Train/X_forecast/2D_arome_20171213.nc\n",
      "./data/Train/Train/X_forecast/arpege_3D_height_20160609.nc\n",
      "./data/Train/Train/X_forecast/arpege_3D_height_20170926.nc\n",
      "./data/Train/Train/X_forecast/arpege_3D_isobar_20170722.nc\n",
      "./data/Train/Train/X_forecast/arpege_3D_height_20170330.nc\n",
      "./data/Train/Train/X_forecast/arpege_3D_height_20161208.nc\n",
      "./data/Train/Train/X_forecast/2D_arome_20160122.nc\n",
      "./data/Train/Train/X_forecast/2D_arpege_20161116.nc\n",
      "./data/Train/Train/X_forecast/2D_arpege_20171213.nc\n",
      "./data/Train/Train/X_forecast/arpege_3D_isobar_20160425.nc\n",
      "./data/Train/Train/X_forecast/2D_arpege_20170221.nc\n",
      "./data/Train/Train/X_forecast/2D_arpege_20170714.nc\n",
      "./data/Train/Train/X_forecast/2D_arpege_20170611.nc\n",
      "./data/Train/Train/X_forecast/arpege_3D_height_20170601.nc\n",
      "./data/Train/Train/X_forecast/2D_arpege_20160124.nc\n",
      "./data/Train/Train/X_forecast/arpege_3D_height_20171125.nc\n",
      "./data/Train/Train/X_forecast/2D_arome_20160112.nc\n",
      "./data/Train/Train/X_forecast/arpege_3D_isobar_20160509.nc\n",
      "./data/Train/Train/X_forecast/arpege_3D_height_20160929.nc\n",
      "./data/Train/Train/X_forecast/arpege_3D_height_20170524.nc\n",
      "./data/Train/Train/X_forecast/2D_arome_20170330.nc\n",
      "./data/Train/Train/X_forecast/arpege_3D_height_20161027.nc\n",
      "./data/Train/Train/X_forecast/arpege_3D_isobar_20160711.nc\n",
      "./data/Train/Train/X_forecast/2D_arome_20170627.nc\n",
      "./data/Train/Train/X_forecast/arpege_3D_isobar_20171124.nc\n",
      "./data/Train/Train/X_forecast/2D_arpege_20160726.nc\n",
      "./data/Train/Train/X_forecast/2D_arome_20160304.nc\n",
      "./data/Train/Train/X_forecast/arpege_3D_isobar_20171118.nc\n",
      "./data/Train/Train/X_forecast/2D_arpege_20170501.nc\n",
      "./data/Train/Train/X_forecast/arpege_3D_height_20170816.nc\n",
      "./data/Train/Train/X_forecast/arpege_3D_height_20170122.nc\n",
      "./data/Train/Train/X_forecast/2D_arpege_20160519.nc\n",
      "./data/Train/Train/X_forecast/2D_arome_20160424.nc\n",
      "./data/Train/Train/X_forecast/arpege_3D_isobar_20171112.nc\n",
      "./data/Train/Train/X_forecast/arpege_3D_height_20170415.nc\n",
      "./data/Train/Train/X_forecast/arpege_3D_height_20161204.nc\n",
      "./data/Train/Train/X_forecast/2D_arome_20160527.nc\n",
      "./data/Train/Train/X_forecast/arpege_3D_height_20170603.nc\n",
      "./data/Train/Train/X_forecast/2D_arome_20160106.nc\n",
      "./data/Train/Train/X_forecast/arpege_3D_isobar_20170801.nc\n",
      "./data/Train/Train/X_forecast/2D_arpege_20160601.nc\n",
      "./data/Train/Train/X_forecast/arpege_3D_isobar_20160309.nc\n",
      "./data/Train/Train/X_forecast/2D_arpege_20170304.nc\n",
      "./data/Train/Train/X_forecast/arpege_3D_isobar_20161214.nc\n",
      "./data/Train/Train/X_forecast/2D_arpege_20161205.nc\n",
      "./data/Train/Train/X_forecast/arpege_3D_height_20170107.nc\n",
      "./data/Train/Train/X_forecast/2D_arome_20170104.nc\n",
      "./data/Train/Train/X_forecast/arpege_3D_height_20160630.nc\n",
      "./data/Train/Train/X_forecast/arpege_3D_height_20170612.nc\n",
      "./data/Train/Train/X_forecast/arpege_3D_height_20160105.nc\n",
      "./data/Train/Train/X_forecast/2D_arome_20160416.nc\n",
      "./data/Train/Train/X_forecast/2D_arpege_20161009.nc\n",
      "./data/Train/Train/X_forecast/2D_arome_20160612.nc\n",
      "./data/Train/Train/X_forecast/2D_arpege_20160226.nc\n",
      "./data/Train/Train/X_forecast/2D_arome_20170125.nc\n",
      "./data/Train/Train/X_forecast/2D_arpege_20170523.nc\n",
      "./data/Train/Train/X_forecast/arpege_3D_height_20161126.nc\n",
      "./data/Train/Train/X_forecast/2D_arome_20160426.nc\n",
      "./data/Train/Train/X_forecast/arpege_3D_isobar_20160423.nc\n",
      "./data/Train/Train/X_forecast/arpege_3D_height_20160226.nc\n",
      "./data/Train/Train/X_forecast/arpege_3D_isobar_20160314.nc\n",
      "./data/Train/Train/X_forecast/arpege_3D_isobar_20160915.nc\n",
      "./data/Train/Train/X_forecast/arpege_3D_height_20171203.nc\n",
      "./data/Train/Train/X_forecast/arpege_3D_height_20160111.nc\n",
      "./data/Train/Train/X_forecast/2D_arome_20170310.nc\n",
      "./data/Train/Train/X_forecast/arpege_3D_isobar_20170214.nc\n",
      "./data/Train/Train/X_forecast/2D_arome_20161124.nc\n",
      "./data/Train/Train/X_forecast/arpege_3D_height_20160309.nc\n",
      "./data/Train/Train/X_forecast/2D_arome_20161107.nc\n",
      "./data/Train/Train/X_forecast/arpege_3D_isobar_20160126.nc\n",
      "./data/Train/Train/X_forecast/arpege_3D_isobar_20170311.nc\n",
      "./data/Train/Train/X_forecast/arpege_3D_height_20160827.nc\n",
      "./data/Train/Train/X_forecast/arpege_3D_height_20171212.nc\n",
      "./data/Train/Train/X_forecast/arpege_3D_height_20171231.nc\n",
      "./data/Train/Train/X_forecast/2D_arpege_20161128.nc\n",
      "./data/Train/Train/X_forecast/2D_arpege_20160311.nc\n",
      "./data/Train/Train/X_forecast/arpege_3D_height_20160123.nc\n",
      "./data/Train/Train/X_forecast/2D_arome_20160220.nc\n",
      "./data/Train/Train/X_forecast/2D_arpege_20160803.nc\n",
      "./data/Train/Train/X_forecast/2D_arome_20170317.nc\n",
      "./data/Train/Train/X_forecast/arpege_3D_isobar_20160607.nc\n",
      "./data/Train/Train/X_forecast/2D_arome_20160321.nc\n",
      "./data/Train/Train/X_forecast/2D_arome_20170105.nc\n",
      "./data/Train/Train/X_forecast/2D_arpege_20161027.nc\n",
      "./data/Train/Train/X_forecast/arpege_3D_height_20160527.nc\n",
      "./data/Train/Train/X_forecast/arpege_3D_isobar_20170125.nc\n",
      "./data/Train/Train/X_forecast/arpege_3D_isobar_20170623.nc\n",
      "./data/Train/Train/X_forecast/arpege_3D_height_20160804.nc\n",
      "./data/Train/Train/X_forecast/arpege_3D_height_20160918.nc\n",
      "./data/Train/Train/X_forecast/2D_arpege_20160616.nc\n",
      "./data/Train/Train/X_forecast/2D_arome_20170922.nc\n",
      "./data/Train/Train/X_forecast/arpege_3D_isobar_20160114.nc\n",
      "./data/Train/Train/X_forecast/2D_arome_20160714.nc\n",
      "./data/Train/Train/X_forecast/arpege_3D_isobar_20171113.nc\n",
      "./data/Train/Train/X_forecast/arpege_3D_isobar_20160626.nc\n",
      "./data/Train/Train/X_forecast/2D_arome_20170823.nc\n",
      "./data/Train/Train/X_forecast/2D_arome_20161224.nc\n",
      "./data/Train/Train/X_forecast/2D_arpege_20160629.nc\n",
      "./data/Train/Train/X_forecast/arpege_3D_isobar_20160905.nc\n",
      "./data/Train/Train/X_forecast/2D_arpege_20160106.nc\n",
      "./data/Train/Train/X_forecast/2D_arome_20171001.nc\n",
      "./data/Train/Train/X_forecast/2D_arpege_20161220.nc\n",
      "./data/Train/Train/X_forecast/arpege_3D_height_20161002.nc\n",
      "./data/Train/Train/X_forecast/arpege_3D_height_20160107.nc\n",
      "./data/Train/Train/X_forecast/2D_arome_20170424.nc\n",
      "./data/Train/Train/X_forecast/arpege_3D_isobar_20171101.nc\n",
      "./data/Train/Train/X_forecast/2D_arome_20170211.nc\n",
      "./data/Train/Train/X_forecast/arpege_3D_height_20160330.nc\n",
      "./data/Train/Train/X_forecast/2D_arome_20160229.nc\n",
      "./data/Train/Train/X_forecast/2D_arome_20171113.nc\n",
      "./data/Train/Train/X_forecast/arpege_3D_height_20160228.nc\n",
      "./data/Train/Train/X_forecast/arpege_3D_isobar_20171121.nc\n",
      "./data/Train/Train/X_forecast/2D_arome_20161101.nc\n",
      "./data/Train/Train/X_forecast/2D_arpege_20161025.nc\n",
      "./data/Train/Train/X_forecast/arpege_3D_height_20170311.nc\n",
      "./data/Train/Train/X_forecast/2D_arome_20161121.nc\n",
      "./data/Train/Train/X_forecast/2D_arome_20160421.nc\n",
      "./data/Train/Train/X_forecast/arpege_3D_height_20171024.nc\n",
      "./data/Train/Train/X_forecast/2D_arome_20171112.nc\n",
      "./data/Train/Train/X_forecast/2D_arpege_20170314.nc\n",
      "./data/Train/Train/X_forecast/arpege_3D_isobar_20160902.nc\n",
      "./data/Train/Train/X_forecast/2D_arome_20170415.nc\n",
      "./data/Train/Train/X_forecast/2D_arome_20160203.nc\n",
      "./data/Train/Train/X_forecast/arpege_3D_height_20171105.nc\n",
      "./data/Train/Train/X_forecast/arpege_3D_isobar_20160830.nc\n",
      "./data/Train/Train/X_forecast/arpege_3D_height_20170721.nc\n",
      "./data/Train/Train/X_forecast/2D_arome_20170730.nc\n",
      "./data/Train/Train/X_forecast/arpege_3D_isobar_20160812.nc\n",
      "./data/Train/Train/X_forecast/2D_arome_20161218.nc\n",
      "./data/Train/Train/X_forecast/arpege_3D_height_20160625.nc\n",
      "./data/Train/Train/X_forecast/2D_arpege_20160310.nc\n",
      "./data/Train/Train/X_forecast/arpege_3D_isobar_20161113.nc\n",
      "./data/Train/Train/X_forecast/2D_arpege_20160314.nc\n",
      "./data/Train/Train/X_forecast/2D_arome_20171111.nc\n",
      "./data/Train/Train/X_forecast/arpege_3D_height_20160502.nc\n",
      "./data/Train/Train/X_forecast/arpege_3D_isobar_20170723.nc\n",
      "./data/Train/Train/X_forecast/arpege_3D_isobar_20170110.nc\n",
      "./data/Train/Train/X_forecast/arpege_3D_isobar_20160808.nc\n",
      "./data/Train/Train/X_forecast/2D_arpege_20160404.nc\n",
      "./data/Train/Train/X_forecast/arpege_3D_height_20160706.nc\n",
      "./data/Train/Train/X_forecast/arpege_3D_height_20171117.nc\n",
      "./data/Train/Train/X_forecast/2D_arome_20160308.nc\n",
      "./data/Train/Train/X_forecast/arpege_3D_isobar_20160401.nc\n",
      "./data/Train/Train/X_forecast/2D_arome_20160514.nc\n",
      "./data/Train/Train/X_forecast/arpege_3D_height_20170904.nc\n",
      "./data/Train/Train/X_forecast/2D_arpege_20160227.nc\n",
      "./data/Train/Train/X_forecast/arpege_3D_height_20160206.nc\n",
      "./data/Train/Train/X_forecast/2D_arpege_20160216.nc\n",
      "./data/Train/Train/X_forecast/arpege_3D_isobar_20170717.nc\n",
      "./data/Train/Train/X_forecast/arpege_3D_isobar_20161108.nc\n",
      "./data/Train/Train/X_forecast/arpege_3D_height_20170807.nc\n",
      "./data/Train/Train/X_forecast/arpege_3D_height_20171128.nc\n",
      "./data/Train/Train/X_forecast/arpege_3D_height_20170331.nc\n",
      "./data/Train/Train/X_forecast/arpege_3D_isobar_20160727.nc\n",
      "./data/Train/Train/X_forecast/2D_arome_20170708.nc\n",
      "./data/Train/Train/X_forecast/2D_arome_20161017.nc\n",
      "./data/Train/Train/X_forecast/2D_arpege_20170117.nc\n",
      "./data/Train/Train/X_forecast/arpege_3D_isobar_20160106.nc\n",
      "./data/Train/Train/X_forecast/arpege_3D_isobar_20160610.nc\n",
      "./data/Train/Train/X_forecast/2D_arpege_20170624.nc\n",
      "./data/Train/Train/X_forecast/arpege_3D_isobar_20160712.nc\n",
      "./data/Train/Train/X_forecast/2D_arome_20170905.nc\n",
      "./data/Train/Train/X_forecast/2D_arpege_20160209.nc\n",
      "./data/Train/Train/X_forecast/arpege_3D_isobar_20160222.nc\n",
      "./data/Train/Train/X_forecast/arpege_3D_isobar_20170202.nc\n",
      "./data/Train/Train/X_forecast/arpege_3D_height_20170902.nc\n",
      "./data/Train/Train/X_forecast/2D_arpege_20170722.nc\n",
      "./data/Train/Train/X_forecast/arpege_3D_height_20170821.nc\n",
      "./data/Train/Train/X_forecast/2D_arome_20170118.nc\n",
      "./data/Train/Train/X_forecast/arpege_3D_height_20170922.nc\n",
      "./data/Train/Train/X_forecast/2D_arpege_20170513.nc\n",
      "./data/Train/Train/X_forecast/2D_arome_20160222.nc\n",
      "./data/Train/Train/X_forecast/2D_arpege_20160727.nc\n",
      "./data/Train/Train/X_forecast/2D_arpege_20170506.nc\n",
      "./data/Train/Train/X_forecast/2D_arome_20160909.nc\n",
      "./data/Train/Train/X_forecast/arpege_3D_height_20170609.nc\n",
      "./data/Train/Train/X_forecast/2D_arome_20161014.nc\n",
      "./data/Train/Train/X_forecast/2D_arome_20161204.nc\n",
      "./data/Train/Train/X_forecast/arpege_3D_height_20170105.nc\n",
      "./data/Train/Train/X_forecast/2D_arome_20170804.nc\n",
      "./data/Train/Train/X_forecast/arpege_3D_height_20171026.nc\n",
      "./data/Train/Train/X_forecast/2D_arpege_20170128.nc\n",
      "./data/Train/Train/X_forecast/2D_arome_20160707.nc\n",
      "./data/Train/Train/X_forecast/2D_arpege_20160503.nc\n",
      "./data/Train/Train/X_forecast/2D_arome_20170207.nc\n",
      "./data/Train/Train/X_forecast/arpege_3D_height_20160712.nc\n",
      "./data/Train/Train/X_forecast/arpege_3D_isobar_20170508.nc\n",
      "./data/Train/Train/X_forecast/2D_arpege_20170116.nc\n",
      "./data/Train/Train/X_forecast/arpege_3D_height_20161119.nc\n",
      "./data/Train/Train/X_forecast/2D_arome_20160911.nc\n",
      "./data/Train/Train/X_forecast/arpege_3D_isobar_20161102.nc\n",
      "./data/Train/Train/X_forecast/2D_arome_20170701.nc\n",
      "./data/Train/Train/X_forecast/arpege_3D_isobar_20170209.nc\n",
      "./data/Train/Train/X_forecast/arpege_3D_isobar_20160803.nc\n",
      "./data/Train/Train/X_forecast/2D_arome_20161026.nc\n",
      "./data/Train/Train/X_forecast/arpege_3D_height_20161030.nc\n",
      "./data/Train/Train/X_forecast/2D_arome_20160817.nc\n",
      "./data/Train/Train/X_forecast/2D_arpege_20160322.nc\n",
      "./data/Train/Train/X_forecast/2D_arome_20170303.nc\n",
      "./data/Train/Train/X_forecast/2D_arome_20170302.nc\n",
      "./data/Train/Train/X_forecast/arpege_3D_isobar_20160210.nc\n",
      "./data/Train/Train/X_forecast/arpege_3D_isobar_20160329.nc\n",
      "./data/Train/Train/X_forecast/arpege_3D_height_20170915.nc\n",
      "./data/Train/Train/X_forecast/2D_arome_20160522.nc\n",
      "./data/Train/Train/X_forecast/2D_arome_20170131.nc\n",
      "./data/Train/Train/X_forecast/arpege_3D_height_20160424.nc\n",
      "./data/Train/Train/X_forecast/arpege_3D_height_20160122.nc\n",
      "./data/Train/Train/X_forecast/2D_arpege_20170709.nc\n",
      "./data/Train/Train/X_forecast/2D_arpege_20161224.nc\n",
      "./data/Train/Train/X_forecast/arpege_3D_height_20160201.nc\n",
      "./data/Train/Train/X_forecast/arpege_3D_isobar_20160527.nc\n",
      "./data/Train/Train/X_forecast/arpege_3D_isobar_20170129.nc\n",
      "./data/Train/Train/X_forecast/arpege_3D_height_20160919.nc\n",
      "./data/Train/Train/X_forecast/arpege_3D_height_20161127.nc\n",
      "./data/Train/Train/X_forecast/arpege_3D_isobar_20171227.nc\n",
      "./data/Train/Train/X_forecast/2D_arpege_20161002.nc\n",
      "./data/Train/Train/X_forecast/2D_arome_20161114.nc\n",
      "./data/Train/Train/X_forecast/2D_arome_20171120.nc\n",
      "./data/Train/Train/X_forecast/arpege_3D_isobar_20170914.nc\n",
      "./data/Train/Train/X_forecast/2D_arome_20161127.nc\n",
      "./data/Train/Train/X_forecast/arpege_3D_isobar_20160405.nc\n",
      "./data/Train/Train/X_forecast/arpege_3D_isobar_20170625.nc\n",
      "./data/Train/Train/X_forecast/arpege_3D_height_20160903.nc\n",
      "./data/Train/Train/X_forecast/arpege_3D_isobar_20160817.nc\n",
      "./data/Train/Train/X_forecast/2D_arome_20160704.nc\n",
      "./data/Train/Train/X_forecast/2D_arpege_20160514.nc\n",
      "./data/Train/Train/X_forecast/2D_arome_20171121.nc\n",
      "./data/Train/Train/X_forecast/2D_arome_20170119.nc\n",
      "./data/Train/Train/X_forecast/arpege_3D_isobar_20160407.nc\n",
      "./data/Train/Train/X_forecast/arpege_3D_isobar_20170114.nc\n",
      "./data/Train/Train/X_forecast/arpege_3D_isobar_20160416.nc\n",
      "./data/Train/Train/X_forecast/arpege_3D_height_20160114.nc\n",
      "./data/Train/Train/X_forecast/2D_arome_20170914.nc\n",
      "./data/Train/Train/X_forecast/arpege_3D_isobar_20170111.nc\n",
      "./data/Train/Train/X_forecast/2D_arome_20170307.nc\n",
      "./data/Train/Train/X_forecast/arpege_3D_isobar_20170707.nc\n",
      "./data/Train/Train/X_forecast/2D_arpege_20170321.nc\n",
      "./data/Train/Train/X_forecast/2D_arpege_20160602.nc\n",
      "./data/Train/Train/X_forecast/2D_arome_20160430.nc\n",
      "./data/Train/Train/X_forecast/arpege_3D_height_20170823.nc\n",
      "./data/Train/Train/X_forecast/arpege_3D_height_20170430.nc\n",
      "./data/Train/Train/X_forecast/arpege_3D_height_20161213.nc\n",
      "./data/Train/Train/X_forecast/arpege_3D_isobar_20170331.nc\n",
      "./data/Train/Train/X_forecast/2D_arpege_20170107.nc\n",
      "./data/Train/Train/X_forecast/arpege_3D_height_20161023.nc\n",
      "./data/Train/Train/X_forecast/arpege_3D_height_20170509.nc\n",
      "./data/Train/Train/X_forecast/arpege_3D_height_20160717.nc\n",
      "./data/Train/Train/X_forecast/arpege_3D_height_20171028.nc\n",
      "./data/Train/Train/X_forecast/2D_arome_20160810.nc\n",
      "./data/Train/Train/X_forecast/arpege_3D_height_20160217.nc\n",
      "./data/Train/Train/X_forecast/arpege_3D_height_20161110.nc\n",
      "./data/Train/Train/X_forecast/arpege_3D_isobar_20160924.nc\n",
      "./data/Train/Train/X_forecast/arpege_3D_isobar_20161116.nc\n",
      "./data/Train/Train/X_forecast/2D_arome_20161115.nc\n",
      "./data/Train/Train/X_forecast/arpege_3D_isobar_20160822.nc\n",
      "./data/Train/Train/X_forecast/arpege_3D_isobar_20170927.nc\n",
      "./data/Train/Train/X_forecast/arpege_3D_height_20160406.nc\n",
      "./data/Train/Train/X_forecast/arpege_3D_height_20170202.nc\n",
      "./data/Train/Train/X_forecast/arpege_3D_isobar_20161025.nc\n",
      "./data/Train/Train/X_forecast/2D_arpege_20171102.nc\n",
      "./data/Train/Train/X_forecast/2D_arpege_20160202.nc\n",
      "./data/Train/Train/X_forecast/2D_arpege_20170105.nc\n",
      "./data/Train/Train/X_forecast/2D_arome_20160314.nc\n",
      "./data/Train/Train/X_forecast/arpege_3D_height_20160318.nc\n",
      "./data/Train/Train/X_forecast/2D_arpege_20170918.nc\n",
      "./data/Train/Train/X_forecast/2D_arpege_20161021.nc\n",
      "./data/Train/Train/X_forecast/arpege_3D_height_20160517.nc\n",
      "./data/Train/Train/X_forecast/arpege_3D_isobar_20160414.nc\n",
      "./data/Train/Train/X_forecast/arpege_3D_height_20170309.nc\n",
      "./data/Train/Train/X_forecast/2D_arpege_20170219.nc\n",
      "./data/Train/Train/X_forecast/arpege_3D_isobar_20160121.nc\n",
      "./data/Train/Train/X_forecast/2D_arome_20170909.nc\n",
      "./data/Train/Train/X_forecast/arpege_3D_isobar_20160516.nc\n",
      "./data/Train/Train/X_forecast/arpege_3D_height_20170321.nc\n",
      "./data/Train/Train/X_forecast/arpege_3D_isobar_20160218.nc\n",
      "./data/Train/Train/X_forecast/arpege_3D_height_20171129.nc\n",
      "./data/Train/Train/X_forecast/2D_arpege_20160729.nc\n",
      "./data/Train/Train/X_forecast/arpege_3D_height_20161101.nc\n",
      "./data/Train/Train/X_forecast/2D_arome_20160711.nc\n",
      "./data/Train/Train/X_forecast/arpege_3D_isobar_20161111.nc\n",
      "./data/Train/Train/X_forecast/arpege_3D_height_20160707.nc\n",
      "./data/Train/Train/X_forecast/arpege_3D_height_20170301.nc\n",
      "./data/Train/Train/X_forecast/2D_arome_20160530.nc\n",
      "./data/Train/Train/X_forecast/arpege_3D_isobar_20170121.nc\n",
      "./data/Train/Train/X_forecast/2D_arpege_20171212.nc\n",
      "./data/Train/Train/X_forecast/arpege_3D_height_20160824.nc\n",
      "./data/Train/Train/X_forecast/2D_arpege_20170619.nc\n",
      "./data/Train/Train/X_forecast/arpege_3D_height_20170924.nc\n",
      "./data/Train/Train/X_forecast/arpege_3D_isobar_20171220.nc\n",
      "./data/Train/Train/X_forecast/arpege_3D_height_20170528.nc\n",
      "./data/Train/Train/X_forecast/2D_arpege_20171113.nc\n",
      "./data/Train/Train/X_forecast/arpege_3D_height_20160317.nc\n",
      "./data/Train/Train/X_forecast/2D_arpege_20170322.nc\n",
      "./data/Train/Train/X_forecast/arpege_3D_height_20160814.nc\n",
      "./data/Train/Train/X_forecast/arpege_3D_isobar_20170618.nc\n",
      "./data/Train/Train/X_forecast/2D_arome_20170122.nc\n",
      "./data/Train/Train/X_forecast/arpege_3D_isobar_20170304.nc\n",
      "./data/Train/Train/X_forecast/2D_arome_20160105.nc\n",
      "./data/Train/Train/X_forecast/2D_arpege_20160203.nc\n",
      "./data/Train/Train/X_forecast/2D_arome_20160803.nc\n",
      "./data/Train/Train/X_forecast/arpege_3D_isobar_20160524.nc\n",
      "./data/Train/Train/X_forecast/arpege_3D_height_20170225.nc\n",
      "./data/Train/Train/X_forecast/2D_arpege_20160325.nc\n",
      "./data/Train/Train/X_forecast/2D_arpege_20170114.nc\n",
      "./data/Train/Train/X_forecast/2D_arome_20170717.nc\n",
      "./data/Train/Train/X_forecast/2D_arpege_20171211.nc\n",
      "./data/Train/Train/X_forecast/arpege_3D_height_20161018.nc\n",
      "./data/Train/Train/X_forecast/arpege_3D_isobar_20170827.nc\n",
      "./data/Train/Train/X_forecast/2D_arome_20160622.nc\n",
      "./data/Train/Train/X_forecast/2D_arome_20160427.nc\n",
      "./data/Train/Train/X_forecast/arpege_3D_height_20160928.nc\n",
      "./data/Train/Train/X_forecast/2D_arpege_20160110.nc\n",
      "./data/Train/Train/X_forecast/2D_arome_20171129.nc\n",
      "./data/Train/Train/X_forecast/2D_arpege_20160919.nc\n",
      "./data/Train/Train/X_forecast/2D_arpege_20160307.nc\n",
      "./data/Train/Train/X_forecast/2D_arome_20160521.nc\n",
      "./data/Train/Train/X_forecast/arpege_3D_height_20170427.nc\n",
      "./data/Train/Train/X_forecast/2D_arpege_20170129.nc\n",
      "./data/Train/Train/X_forecast/2D_arpege_20160903.nc\n",
      "./data/Train/Train/X_forecast/arpege_3D_isobar_20170506.nc\n",
      "./data/Train/Train/X_forecast/arpege_3D_height_20160501.nc\n",
      "./data/Train/Train/X_forecast/2D_arpege_20171122.nc\n",
      "./data/Train/Train/X_forecast/2D_arome_20170601.nc\n",
      "./data/Train/Train/X_forecast/arpege_3D_isobar_20170715.nc\n",
      "./data/Train/Train/X_forecast/arpege_3D_isobar_20160208.nc\n",
      "./data/Train/Train/X_forecast/arpege_3D_height_20170625.nc\n",
      "./data/Train/Train/X_forecast/arpege_3D_height_20170510.nc\n",
      "./data/Train/Train/X_forecast/arpege_3D_isobar_20171231.nc\n",
      "./data/Train/Train/X_forecast/arpege_3D_height_20161221.nc\n",
      "./data/Train/Train/X_forecast/2D_arome_20170923.nc\n",
      "./data/Train/Train/X_forecast/arpege_3D_height_20161120.nc\n",
      "./data/Train/Train/X_forecast/2D_arome_20170102.nc\n",
      "./data/Train/Train/X_forecast/2D_arpege_20170614.nc\n",
      "./data/Train/Train/X_forecast/arpege_3D_height_20170409.nc\n",
      "./data/Train/Train/X_forecast/arpege_3D_height_20171209.nc\n",
      "./data/Train/Train/X_forecast/2D_arpege_20160108.nc\n",
      "./data/Train/Train/X_forecast/2D_arome_20160219.nc\n",
      "./data/Train/Train/X_forecast/2D_arome_20160919.nc\n",
      "./data/Train/Train/X_forecast/arpege_3D_isobar_20161022.nc\n",
      "./data/Train/Train/X_forecast/arpege_3D_height_20160324.nc\n",
      "./data/Train/Train/X_forecast/arpege_3D_height_20170909.nc\n",
      "./data/Train/Train/X_forecast/2D_arome_20170629.nc\n",
      "./data/Train/Train/X_forecast/arpege_3D_isobar_20170807.nc\n",
      "./data/Train/Train/X_forecast/2D_arome_20170930.nc\n",
      "./data/Train/Train/X_forecast/arpege_3D_height_20171015.nc\n",
      "./data/Train/Train/X_forecast/2D_arome_20160210.nc\n",
      "./data/Train/Train/X_forecast/arpege_3D_isobar_20171010.nc\n",
      "./data/Train/Train/X_forecast/2D_arome_20160515.nc\n",
      "./data/Train/Train/X_forecast/2D_arpege_20160501.nc\n",
      "./data/Train/Train/X_forecast/2D_arpege_20160801.nc\n",
      "./data/Train/Train/X_forecast/arpege_3D_isobar_20160827.nc\n",
      "./data/Train/Train/X_forecast/arpege_3D_isobar_20160601.nc\n",
      "./data/Train/Train/X_forecast/2D_arpege_20171109.nc\n",
      "./data/Train/Train/X_forecast/2D_arpege_20160220.nc\n",
      "./data/Train/Train/X_forecast/arpege_3D_height_20171210.nc\n",
      "./data/Train/Train/X_forecast/2D_arome_20161015.nc\n",
      "./data/Train/Train/X_forecast/2D_arome_20170524.nc\n",
      "./data/Train/Train/X_forecast/2D_arpege_20160222.nc\n",
      "./data/Train/Train/X_forecast/arpege_3D_isobar_20170705.nc\n",
      "./data/Train/Train/X_forecast/arpege_3D_height_20170531.nc\n",
      "./data/Train/Train/X_forecast/arpege_3D_isobar_20170627.nc\n",
      "./data/Train/Train/X_forecast/2D_arome_20160520.nc\n",
      "./data/Train/Train/X_forecast/arpege_3D_isobar_20160724.nc\n",
      "./data/Train/Train/X_forecast/2D_arome_20170224.nc\n",
      "./data/Train/Train/X_forecast/arpege_3D_height_20171230.nc\n",
      "./data/Train/Train/X_forecast/2D_arpege_20170510.nc\n",
      "./data/Train/Train/X_forecast/2D_arpege_20160928.nc\n",
      "./data/Train/Train/X_forecast/2D_arome_20171123.nc\n",
      "./data/Train/Train/X_forecast/2D_arpege_20170923.nc\n",
      "./data/Train/Train/X_forecast/2D_arpege_20160428.nc\n",
      "./data/Train/Train/X_forecast/2D_arpege_20161215.nc\n",
      "./data/Train/Train/X_forecast/2D_arome_20160614.nc\n",
      "./data/Train/Train/X_forecast/arpege_3D_isobar_20171017.nc\n",
      "./data/Train/Train/X_forecast/arpege_3D_height_20160922.nc\n",
      "./data/Train/Train/X_forecast/arpege_3D_isobar_20170309.nc\n",
      "./data/Train/Train/X_forecast/2D_arpege_20160420.nc\n",
      "./data/Train/Train/X_forecast/2D_arpege_20170912.nc\n",
      "./data/Train/Train/X_forecast/arpege_3D_isobar_20160701.nc\n",
      "./data/Train/Train/X_forecast/2D_arome_20170406.nc\n",
      "./data/Train/Train/X_forecast/2D_arome_20161213.nc\n",
      "./data/Train/Train/X_forecast/arpege_3D_height_20170616.nc\n",
      "./data/Train/Train/X_forecast/arpege_3D_isobar_20160602.nc\n",
      "./data/Train/Train/X_forecast/2D_arome_20171015.nc\n",
      "./data/Train/Train/X_forecast/2D_arome_20160216.nc\n",
      "./data/Train/Train/X_forecast/2D_arome_20170322.nc\n",
      "./data/Train/Train/X_forecast/2D_arome_20161209.nc\n",
      "./data/Train/Train/X_forecast/2D_arome_20171017.nc\n",
      "./data/Train/Train/X_forecast/2D_arpege_20170205.nc\n",
      "./data/Train/Train/X_forecast/2D_arome_20171002.nc\n",
      "./data/Train/Train/X_forecast/2D_arpege_20170319.nc\n",
      "./data/Train/Train/X_forecast/2D_arome_20161210.nc\n",
      "./data/Train/Train/X_forecast/2D_arome_20170311.nc\n",
      "./data/Train/Train/X_forecast/arpege_3D_isobar_20160504.nc\n",
      "./data/Train/Train/X_forecast/arpege_3D_isobar_20171216.nc\n",
      "./data/Train/Train/X_forecast/2D_arpege_20170618.nc\n",
      "./data/Train/Train/X_forecast/2D_arpege_20160505.nc\n",
      "./data/Train/Train/X_forecast/2D_arome_20160923.nc\n",
      "./data/Train/Train/X_forecast/2D_arpege_20160301.nc\n",
      "./data/Train/Train/X_forecast/2D_arome_20161216.nc\n",
      "./data/Train/Train/X_forecast/arpege_3D_height_20161013.nc\n",
      "./data/Train/Train/X_forecast/2D_arpege_20160713.nc\n",
      "./data/Train/Train/X_forecast/arpege_3D_height_20160808.nc\n",
      "./data/Train/Train/X_forecast/arpege_3D_height_20170130.nc\n",
      "./data/Train/Train/X_forecast/2D_arpege_20160802.nc\n",
      "./data/Train/Train/X_forecast/arpege_3D_isobar_20160506.nc\n",
      "./data/Train/Train/X_forecast/2D_arpege_20171121.nc\n",
      "./data/Train/Train/X_forecast/arpege_3D_height_20170317.nc\n",
      "./data/Train/Train/X_forecast/arpege_3D_height_20171018.nc\n",
      "./data/Train/Train/X_forecast/2D_arome_20170422.nc\n",
      "./data/Train/Train/X_forecast/2D_arpege_20160105.nc\n",
      "./data/Train/Train/X_forecast/2D_arpege_20160212.nc\n",
      "./data/Train/Train/X_forecast/arpege_3D_isobar_20170119.nc\n",
      "./data/Train/Train/X_forecast/arpege_3D_isobar_20160503.nc\n",
      "./data/Train/Train/X_forecast/2D_arome_20160320.nc\n",
      "./data/Train/Train/X_forecast/2D_arome_20170308.nc\n",
      "./data/Train/Train/X_forecast/2D_arome_20170814.nc\n",
      "./data/Train/Train/X_forecast/2D_arpege_20160411.nc\n",
      "./data/Train/Train/X_forecast/2D_arpege_20160517.nc\n",
      "./data/Train/Train/X_forecast/arpege_3D_isobar_20160217.nc\n",
      "./data/Train/Train/X_forecast/2D_arome_20170613.nc\n",
      "./data/Train/Train/X_forecast/2D_arpege_20160618.nc\n",
      "./data/Train/Train/X_forecast/arpege_3D_isobar_20170118.nc\n",
      "./data/Train/Train/X_forecast/arpege_3D_isobar_20160525.nc\n",
      "./data/Train/Train/X_forecast/2D_arome_20160305.nc\n",
      "./data/Train/Train/X_forecast/2D_arome_20160728.nc\n",
      "./data/Train/Train/X_forecast/2D_arome_20170312.nc\n",
      "./data/Train/Train/X_forecast/arpege_3D_height_20170102.nc\n",
      "./data/Train/Train/X_forecast/arpege_3D_isobar_20170812.nc\n",
      "./data/Train/Train/X_forecast/arpege_3D_isobar_20171202.nc\n",
      "./data/Train/Train/X_forecast/2D_arome_20160217.nc\n",
      "./data/Train/Train/X_forecast/2D_arpege_20170613.nc\n",
      "./data/Train/Train/X_forecast/2D_arpege_20170519.nc\n",
      "./data/Train/Train/X_forecast/2D_arome_20161201.nc\n",
      "./data/Train/Train/X_forecast/arpege_3D_height_20170323.nc\n",
      "./data/Train/Train/X_forecast/2D_arpege_20170130.nc\n",
      "./data/Train/Train/X_forecast/2D_arome_20160121.nc\n",
      "./data/Train/Train/X_forecast/2D_arome_20170411.nc\n",
      "./data/Train/Train/X_forecast/arpege_3D_height_20171113.nc\n",
      "./data/Train/Train/X_forecast/arpege_3D_height_20160306.nc\n",
      "./data/Train/Train/X_forecast/2D_arome_20160806.nc\n",
      "./data/Train/Train/X_forecast/arpege_3D_isobar_20171104.nc\n",
      "./data/Train/Train/X_forecast/2D_arpege_20161113.nc\n",
      "./data/Train/Train/X_forecast/arpege_3D_isobar_20170608.nc\n",
      "./data/Train/Train/X_forecast/arpege_3D_height_20160528.nc\n",
      "./data/Train/Train/X_forecast/arpege_3D_height_20170929.nc\n",
      "./data/Train/Train/X_forecast/2D_arpege_20160511.nc\n",
      "./data/Train/Train/X_forecast/arpege_3D_height_20160108.nc\n",
      "./data/Train/Train/X_forecast/arpege_3D_isobar_20160225.nc\n",
      "./data/Train/Train/X_forecast/2D_arome_20171007.nc\n",
      "./data/Train/Train/X_forecast/2D_arpege_20160808.nc\n",
      "./data/Train/Train/X_forecast/2D_arpege_20160521.nc\n",
      "./data/Train/Train/X_forecast/2D_arome_20161227.nc\n",
      "./data/Train/Train/X_forecast/2D_arome_20160809.nc\n",
      "./data/Train/Train/X_forecast/arpege_3D_height_20170908.nc\n",
      "./data/Train/Train/X_forecast/arpege_3D_height_20161015.nc\n",
      "./data/Train/Train/X_forecast/2D_arpege_20161213.nc\n",
      "./data/Train/Train/X_forecast/2D_arome_20160129.nc\n",
      "./data/Train/Train/X_forecast/arpege_3D_height_20171225.nc\n",
      "./data/Train/Train/X_forecast/arpege_3D_isobar_20170224.nc\n",
      "./data/Train/Train/X_forecast/2D_arome_20170526.nc\n",
      "./data/Train/Train/X_forecast/arpege_3D_height_20160802.nc\n",
      "./data/Train/Train/X_forecast/2D_arpege_20160617.nc\n",
      "./data/Train/Train/X_forecast/2D_arome_20170510.nc\n",
      "./data/Train/Train/X_forecast/arpege_3D_height_20161003.nc\n",
      "./data/Train/Train/X_forecast/arpege_3D_height_20170216.nc\n",
      "./data/Train/Train/X_forecast/2D_arome_20160819.nc\n",
      "./data/Train/Train/X_forecast/arpege_3D_height_20161203.nc\n",
      "./data/Train/Train/X_forecast/arpege_3D_isobar_20160415.nc\n",
      "./data/Train/Train/X_forecast/arpege_3D_height_20171224.nc\n",
      "./data/Train/Train/X_forecast/2D_arome_20170812.nc\n",
      "./data/Train/Train/X_forecast/2D_arpege_20160828.nc\n",
      "./data/Train/Train/X_forecast/2D_arpege_20160229.nc\n",
      "./data/Train/Train/X_forecast/arpege_3D_height_20170911.nc\n",
      "./data/Train/Train/X_forecast/arpege_3D_height_20170131.nc\n",
      "./data/Train/Train/X_forecast/arpege_3D_height_20171206.nc\n",
      "./data/Train/Train/X_forecast/2D_arome_20170911.nc\n",
      "./data/Train/Train/X_forecast/arpege_3D_height_20160628.nc\n",
      "./data/Train/Train/X_forecast/arpege_3D_height_20160722.nc\n",
      "./data/Train/Train/X_forecast/arpege_3D_height_20160530.nc\n",
      "./data/Train/Train/X_forecast/arpege_3D_height_20160805.nc\n",
      "./data/Train/Train/X_forecast/2D_arpege_20161011.nc\n",
      "./data/Train/Train/X_forecast/arpege_3D_isobar_20170615.nc\n",
      "./data/Train/Train/X_forecast/2D_arpege_20161119.nc\n",
      "./data/Train/Train/X_forecast/2D_arome_20161112.nc\n",
      "./data/Train/Train/X_forecast/2D_arpege_20160620.nc\n",
      "./data/Train/Train/X_forecast/2D_arpege_20160123.nc\n",
      "./data/Train/Train/X_forecast/2D_arome_20170614.nc\n",
      "./data/Train/Train/X_forecast/2D_arome_20160924.nc\n",
      "./data/Train/Train/X_forecast/2D_arpege_20170612.nc\n",
      "./data/Train/Train/X_forecast/arpege_3D_height_20171010.nc\n",
      "./data/Train/Train/X_forecast/2D_arpege_20170726.nc\n",
      "./data/Train/Train/X_forecast/2D_arome_20170210.nc\n",
      "./data/Train/Train/X_forecast/arpege_3D_isobar_20170614.nc\n",
      "./data/Train/Train/X_forecast/arpege_3D_height_20160414.nc\n",
      "./data/Train/Train/X_forecast/arpege_3D_height_20170419.nc\n",
      "./data/Train/Train/X_forecast/2D_arpege_20161020.nc\n",
      "./data/Train/Train/X_forecast/arpege_3D_isobar_20170802.nc\n",
      "./data/Train/Train/X_forecast/2D_arome_20171122.nc\n",
      "./data/Train/Train/X_forecast/2D_arome_20170713.nc\n",
      "./data/Train/Train/X_forecast/2D_arpege_20161015.nc\n",
      "./data/Train/Train/X_forecast/2D_arome_20160725.nc\n",
      "./data/Train/Train/X_forecast/arpege_3D_isobar_20161013.nc\n",
      "./data/Train/Train/X_forecast/2D_arome_20170404.nc\n",
      "./data/Train/Train/X_forecast/2D_arpege_20170602.nc\n",
      "./data/Train/Train/X_forecast/arpege_3D_height_20171118.nc\n",
      "./data/Train/Train/X_forecast/arpege_3D_height_20160622.nc\n",
      "./data/Train/Train/X_forecast/2D_arpege_20170703.nc\n",
      "./data/Train/Train/X_forecast/2D_arpege_20160323.nc\n",
      "./data/Train/Train/X_forecast/2D_arpege_20160201.nc\n",
      "./data/Train/Train/X_forecast/2D_arpege_20170911.nc\n",
      "./data/Train/Train/X_forecast/2D_arome_20170606.nc\n",
      "./data/Train/Train/X_forecast/arpege_3D_height_20171207.nc\n",
      "./data/Train/Train/X_forecast/2D_arpege_20170914.nc\n",
      "./data/Train/Train/X_forecast/arpege_3D_height_20160127.nc\n",
      "./data/Train/Train/X_forecast/2D_arome_20160402.nc\n",
      "./data/Train/Train/X_forecast/2D_arpege_20161031.nc\n",
      "./data/Train/Train/X_forecast/2D_arome_20160710.nc\n",
      "./data/Train/Train/X_forecast/2D_arome_20160101.nc\n",
      "./data/Train/Train/X_forecast/2D_arpege_20160815.nc\n",
      "./data/Train/Train/X_forecast/arpege_3D_height_20160305.nc\n",
      "./data/Train/Train/X_forecast/arpege_3D_height_20170607.nc\n",
      "./data/Train/Train/X_forecast/2D_arome_20170924.nc\n",
      "./data/Train/Train/X_forecast/arpege_3D_height_20170923.nc\n",
      "./data/Train/Train/X_forecast/2D_arome_20170703.nc\n",
      "./data/Train/Train/X_forecast/arpege_3D_height_20160716.nc\n",
      "./data/Train/Train/X_forecast/arpege_3D_height_20170405.nc\n",
      "./data/Train/Train/X_forecast/arpege_3D_isobar_20171229.nc\n",
      "./data/Train/Train/X_forecast/arpege_3D_isobar_20171214.nc\n",
      "./data/Train/Train/X_forecast/2D_arome_20160104.nc\n",
      "./data/Train/Train/X_forecast/2D_arpege_20160723.nc\n",
      "./data/Train/Train/X_forecast/arpege_3D_height_20160618.nc\n",
      "./data/Train/Train/X_forecast/arpege_3D_height_20170606.nc\n",
      "./data/Train/Train/X_forecast/2D_arome_20160605.nc\n",
      "./data/Train/Train/X_forecast/2D_arpege_20160905.nc\n",
      "./data/Train/Train/X_forecast/arpege_3D_isobar_20170729.nc\n",
      "./data/Train/Train/X_forecast/arpege_3D_isobar_20170620.nc\n",
      "./data/Train/Train/X_forecast/2D_arpege_20160315.nc\n",
      "./data/Train/Train/X_forecast/arpege_3D_height_20170503.nc\n",
      "./data/Train/Train/X_forecast/2D_arome_20160727.nc\n",
      "./data/Train/Train/X_forecast/arpege_3D_isobar_20171203.nc\n",
      "./data/Train/Train/X_forecast/2D_arome_20160201.nc\n",
      "./data/Train/Train/X_forecast/2D_arome_20170727.nc\n",
      "./data/Train/Train/X_forecast/2D_arome_20161117.nc\n",
      "./data/Train/Train/X_forecast/2D_arome_20160718.nc\n",
      "./data/Train/Train/X_forecast/arpege_3D_height_20170407.nc\n",
      "./data/Train/Train/X_forecast/arpege_3D_height_20160720.nc\n",
      "./data/Train/Train/X_forecast/arpege_3D_isobar_20171012.nc\n",
      "./data/Train/Train/X_forecast/2D_arome_20170209.nc\n",
      "./data/Train/Train/X_forecast/2D_arome_20160523.nc\n",
      "./data/Train/Train/X_forecast/2D_arome_20170227.nc\n",
      "./data/Train/Train/X_forecast/2D_arome_20160529.nc\n",
      "./data/Train/Train/X_forecast/arpege_3D_isobar_20170130.nc\n",
      "./data/Train/Train/X_forecast/2D_arpege_20160127.nc\n",
      "./data/Train/Train/X_forecast/arpege_3D_height_20170219.nc\n",
      "./data/Train/Train/X_forecast/arpege_3D_isobar_20161130.nc\n",
      "./data/Train/Train/X_forecast/2D_arome_20160119.nc\n",
      "./data/Train/Train/X_forecast/arpege_3D_height_20170824.nc\n",
      "./data/Train/Train/X_forecast/arpege_3D_height_20170215.nc\n",
      "./data/Train/Train/X_forecast/2D_arome_20160420.nc\n",
      "./data/Train/Train/X_forecast/arpege_3D_height_20170403.nc\n",
      "./data/Train/Train/X_forecast/2D_arome_20171021.nc\n",
      "./data/Train/Train/X_forecast/2D_arpege_20160112.nc\n",
      "./data/Train/Train/X_forecast/2D_arome_20160904.nc\n",
      "./data/Train/Train/X_forecast/arpege_3D_isobar_20160702.nc\n",
      "./data/Train/Train/X_forecast/2D_arpege_20171125.nc\n",
      "./data/Train/Train/X_forecast/2D_arpege_20160730.nc\n",
      "./data/Train/Train/X_forecast/arpege_3D_isobar_20160805.nc\n",
      "./data/Train/Train/X_forecast/2D_arome_20170215.nc\n",
      "./data/Train/Train/X_forecast/2D_arpege_20170520.nc\n",
      "./data/Train/Train/X_forecast/arpege_3D_isobar_20160330.nc\n",
      "./data/Train/Train/X_forecast/2D_arpege_20160122.nc\n",
      "./data/Train/Train/X_forecast/arpege_3D_isobar_20161228.nc\n",
      "./data/Train/Train/X_forecast/2D_arome_20161206.nc\n",
      "./data/Train/Train/X_forecast/arpege_3D_height_20161115.nc\n",
      "./data/Train/Train/X_forecast/2D_arome_20170725.nc\n",
      "./data/Train/Train/X_forecast/2D_arpege_20170316.nc\n",
      "./data/Train/Train/X_forecast/arpege_3D_isobar_20160731.nc\n",
      "./data/Train/Train/X_forecast/arpege_3D_height_20171223.nc\n",
      "./data/Train/Train/X_forecast/2D_arome_20160830.nc\n",
      "./data/Train/Train/X_forecast/2D_arome_20160503.nc\n",
      "./data/Train/Train/X_forecast/arpege_3D_height_20170530.nc\n",
      "./data/Train/Train/X_forecast/2D_arpege_20170505.nc\n",
      "./data/Train/Train/X_forecast/arpege_3D_isobar_20160203.nc\n",
      "./data/Train/Train/X_forecast/2D_arome_20170619.nc\n",
      "./data/Train/Train/X_forecast/arpege_3D_isobar_20170809.nc\n",
      "./data/Train/Train/X_forecast/2D_arpege_20160702.nc\n",
      "./data/Train/Train/X_forecast/2D_arpege_20160308.nc\n",
      "./data/Train/Train/X_forecast/2D_arpege_20170605.nc\n",
      "./data/Train/Train/X_forecast/arpege_3D_height_20170729.nc\n",
      "./data/Train/Train/X_forecast/arpege_3D_height_20160131.nc\n",
      "./data/Train/Train/X_forecast/arpege_3D_isobar_20170911.nc\n",
      "./data/Train/Train/X_forecast/arpege_3D_isobar_20161029.nc\n",
      "./data/Train/Train/X_forecast/2D_arpege_20171124.nc\n",
      "./data/Train/Train/X_forecast/arpege_3D_height_20160503.nc\n",
      "./data/Train/Train/X_forecast/2D_arpege_20160902.nc\n",
      "./data/Train/Train/X_forecast/2D_arome_20160519.nc\n",
      "./data/Train/Train/X_forecast/2D_arome_20170925.nc\n",
      "./data/Train/Train/X_forecast/2D_arome_20160915.nc\n",
      "./data/Train/Train/X_forecast/2D_arpege_20170502.nc\n",
      "./data/Train/Train/X_forecast/arpege_3D_height_20160927.nc\n",
      "./data/Train/Train/X_forecast/2D_arpege_20160901.nc\n",
      "./data/Train/Train/X_forecast/arpege_3D_height_20171108.nc\n",
      "./data/Train/Train/X_forecast/2D_arpege_20170202.nc\n",
      "./data/Train/Train/X_forecast/2D_arome_20161022.nc\n",
      "./data/Train/Train/X_forecast/arpege_3D_isobar_20161110.nc\n",
      "./data/Train/Train/X_forecast/arpege_3D_isobar_20171217.nc\n",
      "./data/Train/Train/X_forecast/2D_arpege_20160522.nc\n",
      "./data/Train/Train/X_forecast/arpege_3D_height_20161001.nc\n",
      "./data/Train/Train/X_forecast/arpege_3D_isobar_20170916.nc\n",
      "./data/Train/Train/X_forecast/arpege_3D_height_20160514.nc\n",
      "./data/Train/Train/X_forecast/2D_arpege_20160407.nc\n",
      "./data/Train/Train/X_forecast/2D_arpege_20170901.nc\n",
      "./data/Train/Train/X_forecast/arpege_3D_height_20170828.nc\n",
      "./data/Train/Train/X_forecast/2D_arpege_20161217.nc\n",
      "./data/Train/Train/X_forecast/2D_arpege_20161214.nc\n",
      "./data/Train/Train/X_forecast/arpege_3D_isobar_20160929.nc\n",
      "./data/Train/Train/X_forecast/arpege_3D_height_20170507.nc\n",
      "./data/Train/Train/X_forecast/2D_arome_20171230.nc\n",
      "./data/Train/Train/X_forecast/arpege_3D_isobar_20171117.nc\n",
      "./data/Train/Train/X_forecast/arpege_3D_height_20160302.nc\n",
      "./data/Train/Train/X_forecast/2D_arpege_20161101.nc\n",
      "./data/Train/Train/X_forecast/arpege_3D_isobar_20160422.nc\n",
      "./data/Train/Train/X_forecast/2D_arpege_20170925.nc\n",
      "./data/Train/Train/X_forecast/arpege_3D_height_20170722.nc\n",
      "./data/Train/Train/X_forecast/2D_arpege_20160430.nc\n",
      "./data/Train/Train/X_forecast/arpege_3D_isobar_20170929.nc\n",
      "./data/Train/Train/X_forecast/2D_arome_20170101.nc\n",
      "./data/Train/Train/X_forecast/2D_arpege_20160627.nc\n",
      "./data/Train/Train/X_forecast/2D_arome_20170609.nc\n",
      "./data/Train/Train/X_forecast/arpege_3D_isobar_20170818.nc\n",
      "./data/Train/Train/X_forecast/2D_arpege_20170729.nc\n",
      "./data/Train/Train/X_forecast/arpege_3D_height_20170527.nc\n",
      "./data/Train/Train/X_forecast/2D_arome_20170801.nc\n",
      "./data/Train/Train/X_forecast/arpege_3D_isobar_20160829.nc\n",
      "./data/Train/Train/X_forecast/arpege_3D_isobar_20161031.nc\n",
      "./data/Train/Train/X_forecast/2D_arpege_20160829.nc\n",
      "./data/Train/Train/X_forecast/2D_arome_20170712.nc\n",
      "./data/Train/Train/X_forecast/arpege_3D_isobar_20170221.nc\n",
      "./data/Train/Train/X_forecast/2D_arpege_20161001.nc\n",
      "./data/Train/Train/X_forecast/2D_arpege_20160614.nc\n",
      "./data/Train/Train/X_forecast/2D_arome_20160528.nc\n",
      "./data/Train/Train/X_forecast/arpege_3D_height_20161224.nc\n",
      "./data/Train/Train/X_forecast/arpege_3D_isobar_20170220.nc\n",
      "./data/Train/Train/X_forecast/2D_arpege_20170325.nc\n",
      "./data/Train/Train/X_forecast/2D_arpege_20161202.nc\n",
      "./data/Train/Train/X_forecast/2D_arome_20160926.nc\n",
      "./data/Train/Train/X_forecast/2D_arpege_20170607.nc\n",
      "./data/Train/Train/X_forecast/2D_arpege_20170719.nc\n",
      "./data/Train/Train/X_forecast/2D_arome_20170313.nc\n",
      "./data/Train/Train/X_forecast/arpege_3D_height_20171213.nc\n",
      "./data/Train/Train/X_forecast/arpege_3D_height_20171012.nc\n",
      "./data/Train/Train/X_forecast/arpege_3D_height_20160815.nc\n",
      "./data/Train/Train/X_forecast/arpege_3D_isobar_20160327.nc\n",
      "./data/Train/Train/X_forecast/2D_arpege_20160821.nc\n",
      "./data/Train/Train/X_forecast/arpege_3D_isobar_20170104.nc\n",
      "./data/Train/Train/X_forecast/2D_arome_20170130.nc\n",
      "./data/Train/Train/X_forecast/arpege_3D_height_20160524.nc\n",
      "./data/Train/Train/X_forecast/2D_arome_20170319.nc\n",
      "./data/Train/Train/X_forecast/2D_arome_20170603.nc\n",
      "./data/Train/Train/X_forecast/arpege_3D_isobar_20161127.nc\n",
      "./data/Train/Train/X_forecast/arpege_3D_height_20170501.nc\n",
      "./data/Train/Train/X_forecast/2D_arpege_20160703.nc\n",
      "./data/Train/Train/X_forecast/2D_arpege_20160102.nc\n",
      "./data/Train/Train/X_forecast/arpege_3D_height_20160419.nc\n",
      "./data/Train/Train/X_forecast/arpege_3D_isobar_20170727.nc\n",
      "./data/Train/Train/X_forecast/arpege_3D_height_20170620.nc\n",
      "./data/Train/Train/X_forecast/arpege_3D_height_20171120.nc\n",
      "./data/Train/Train/X_forecast/2D_arome_20170124.nc\n",
      "./data/Train/Train/X_forecast/arpege_3D_isobar_20160625.nc\n",
      "./data/Train/Train/X_forecast/arpege_3D_isobar_20161027.nc\n",
      "./data/Train/Train/X_forecast/2D_arome_20171103.nc\n",
      "./data/Train/Train/X_forecast/arpege_3D_isobar_20171027.nc\n",
      "./data/Train/Train/X_forecast/arpege_3D_height_20161113.nc\n",
      "./data/Train/Train/X_forecast/arpege_3D_isobar_20160720.nc\n",
      "./data/Train/Train/X_forecast/arpege_3D_isobar_20160927.nc\n",
      "./data/Train/Train/X_forecast/arpege_3D_height_20170903.nc\n",
      "./data/Train/Train/X_forecast/arpege_3D_isobar_20160417.nc\n",
      "./data/Train/Train/X_forecast/arpege_3D_isobar_20171007.nc\n",
      "./data/Train/Train/X_forecast/2D_arpege_20170721.nc\n",
      "./data/Train/Train/X_forecast/arpege_3D_height_20170818.nc\n",
      "./data/Train/Train/X_forecast/2D_arome_20170623.nc\n",
      "./data/Train/Train/X_forecast/2D_arpege_20160103.nc\n",
      "./data/Train/Train/X_forecast/arpege_3D_isobar_20160125.nc\n",
      "./data/Train/Train/X_forecast/2D_arome_20170716.nc\n",
      "./data/Train/Train/X_forecast/2D_arpege_20160717.nc\n",
      "./data/Train/Train/X_forecast/arpege_3D_height_20161028.nc\n",
      "./data/Train/Train/X_forecast/arpege_3D_isobar_20170918.nc\n",
      "./data/Train/Train/X_forecast/2D_arome_20161004.nc\n",
      "./data/Train/Train/X_forecast/2D_arpege_20160405.nc\n",
      "./data/Train/Train/X_forecast/2D_arome_20160611.nc\n",
      "./data/Train/Train/X_forecast/arpege_3D_height_20170506.nc\n",
      "./data/Train/Train/X_forecast/arpege_3D_isobar_20160923.nc\n",
      "./data/Train/Train/X_forecast/2D_arome_20160120.nc\n",
      "./data/Train/Train/X_forecast/arpege_3D_height_20160613.nc\n",
      "./data/Train/Train/X_forecast/arpege_3D_isobar_20170804.nc\n",
      "./data/Train/Train/X_forecast/2D_arome_20170109.nc\n",
      "./data/Train/Train/X_forecast/arpege_3D_isobar_20171020.nc\n",
      "./data/Train/Train/X_forecast/2D_arome_20160323.nc\n",
      "./data/Train/Train/X_forecast/arpege_3D_height_20170712.nc\n",
      "./data/Train/Train/X_forecast/arpege_3D_isobar_20160124.nc\n",
      "./data/Train/Train/X_forecast/2D_arpege_20170928.nc\n",
      "./data/Train/Train/X_forecast/2D_arome_20171215.nc\n",
      "./data/Train/Train/X_forecast/2D_arpege_20160316.nc\n",
      "./data/Train/Train/X_forecast/2D_arpege_20161212.nc\n",
      "./data/Train/Train/X_forecast/arpege_3D_height_20171116.nc\n",
      "./data/Train/Train/X_forecast/2D_arpege_20170705.nc\n",
      "./data/Train/Train/X_forecast/2D_arome_20160822.nc\n",
      "./data/Train/Train/X_forecast/2D_arome_20160103.nc\n",
      "./data/Train/Train/X_forecast/arpege_3D_isobar_20160704.nc\n",
      "./data/Train/Train/X_forecast/2D_arome_20170409.nc\n",
      "./data/Train/Train/X_forecast/2D_arome_20171208.nc\n",
      "./data/Train/Train/X_forecast/arpege_3D_height_20160112.nc\n",
      "./data/Train/Train/X_forecast/arpege_3D_isobar_20170703.nc\n",
      "./data/Train/Train/X_forecast/arpege_3D_height_20160407.nc\n",
      "./data/Train/Train/X_forecast/2D_arpege_20170204.nc\n",
      "./data/Train/Train/X_forecast/2D_arpege_20171117.nc\n",
      "./data/Train/Train/X_forecast/arpege_3D_isobar_20160901.nc\n",
      "./data/Train/Train/X_forecast/arpege_3D_isobar_20160409.nc\n",
      "./data/Train/Train/X_forecast/arpege_3D_height_20170224.nc\n",
      "./data/Train/Train/X_forecast/2D_arpege_20170621.nc\n",
      "./data/Train/Train/X_forecast/2D_arpege_20170306.nc\n",
      "./data/Train/Train/X_forecast/arpege_3D_height_20170813.nc\n",
      "./data/Train/Train/X_forecast/arpege_3D_height_20160807.nc\n",
      "./data/Train/Train/X_forecast/2D_arpege_20160805.nc\n",
      "./data/Train/Train/X_forecast/2D_arpege_20170120.nc\n",
      "./data/Train/Train/X_forecast/arpege_3D_isobar_20160303.nc\n",
      "./data/Train/Train/X_forecast/2D_arome_20161018.nc\n",
      "./data/Train/Train/X_forecast/2D_arome_20170811.nc\n",
      "./data/Train/Train/X_forecast/arpege_3D_height_20170210.nc\n",
      "./data/Train/Train/X_forecast/arpege_3D_isobar_20171208.nc\n",
      "./data/Train/Train/X_forecast/2D_arpege_20160504.nc\n",
      "./data/Train/Train/X_forecast/2D_arpege_20160819.nc\n",
      "./data/Train/Train/X_forecast/2D_arome_20160914.nc\n",
      "./data/Train/Train/X_forecast/2D_arome_20160916.nc\n",
      "./data/Train/Train/X_forecast/arpege_3D_height_20160325.nc\n",
      "./data/Train/Train/X_forecast/arpege_3D_isobar_20160529.nc\n",
      "./data/Train/Train/X_forecast/arpege_3D_isobar_20160708.nc\n",
      "./data/Train/Train/X_forecast/2D_arpege_20160219.nc\n",
      "./data/Train/Train/X_forecast/2D_arpege_20170524.nc\n",
      "./data/Train/Train/X_forecast/2D_arome_20170505.nc\n",
      "./data/Train/Train/X_forecast/2D_arome_20160901.nc\n",
      "./data/Train/Train/X_forecast/2D_arpege_20160910.nc\n",
      "./data/Train/Train/X_forecast/arpege_3D_isobar_20161019.nc\n",
      "./data/Train/Train/X_forecast/2D_arome_20160712.nc\n",
      "./data/Train/Train/X_forecast/2D_arpege_20161003.nc\n",
      "./data/Train/Train/X_forecast/2D_arome_20160606.nc\n",
      "./data/Train/Train/X_forecast/arpege_3D_isobar_20161015.nc\n",
      "./data/Train/Train/X_forecast/2D_arome_20171101.nc\n",
      "./data/Train/Train/X_forecast/2D_arpege_20170518.nc\n",
      "./data/Train/Train/X_forecast/arpege_3D_isobar_20160424.nc\n",
      "./data/Train/Train/X_forecast/2D_arpege_20160812.nc\n",
      "./data/Train/Train/X_forecast/2D_arpege_20160207.nc\n",
      "./data/Train/Train/X_forecast/arpege_3D_isobar_20161007.nc\n",
      "./data/Train/Train/X_forecast/2D_arpege_20171111.nc\n",
      "./data/Train/Train/X_forecast/2D_arpege_20170919.nc\n",
      "./data/Train/Train/X_forecast/2D_arpege_20171226.nc\n",
      "./data/Train/Train/X_forecast/2D_arome_20160206.nc\n",
      "./data/Train/Train/X_forecast/arpege_3D_isobar_20171109.nc\n",
      "./data/Train/Train/X_forecast/arpege_3D_height_20161217.nc\n",
      "./data/Train/Train/X_forecast/arpege_3D_isobar_20170919.nc\n",
      "./data/Train/Train/X_forecast/arpege_3D_height_20170128.nc\n",
      "./data/Train/Train/X_forecast/2D_arpege_20160120.nc\n",
      "./data/Train/Train/X_forecast/2D_arpege_20170723.nc\n",
      "./data/Train/Train/X_forecast/arpege_3D_isobar_20170109.nc\n",
      "./data/Train/Train/X_forecast/arpege_3D_height_20160522.nc\n",
      "./data/Train/Train/X_forecast/arpege_3D_height_20160129.nc\n",
      "./data/Train/Train/X_forecast/2D_arome_20160118.nc\n",
      "./data/Train/Train/X_forecast/arpege_3D_height_20171106.nc\n",
      "./data/Train/Train/X_forecast/2D_arpege_20161029.nc\n",
      "./data/Train/Train/X_forecast/2D_arome_20160214.nc\n",
      "./data/Train/Train/X_forecast/2D_arpege_20170124.nc\n",
      "./data/Train/Train/X_forecast/2D_arpege_20160721.nc\n",
      "./data/Train/Train/X_forecast/arpege_3D_height_20160705.nc\n",
      "./data/Train/Train/X_forecast/arpege_3D_isobar_20170116.nc\n",
      "./data/Train/Train/X_forecast/arpege_3D_height_20160702.nc\n",
      "./data/Train/Train/X_forecast/arpege_3D_height_20161021.nc\n",
      "./data/Train/Train/X_forecast/arpege_3D_height_20161111.nc\n",
      "./data/Train/Train/X_forecast/2D_arpege_20161208.nc\n",
      "./data/Train/Train/X_forecast/2D_arpege_20170318.nc\n",
      "./data/Train/Train/X_forecast/arpege_3D_height_20160319.nc\n",
      "./data/Train/Train/X_forecast/arpege_3D_height_20161214.nc\n",
      "./data/Train/Train/X_forecast/2D_arpege_20160326.nc\n",
      "./data/Train/Train/X_forecast/arpege_3D_height_20161014.nc\n",
      "./data/Train/Train/X_forecast/arpege_3D_height_20160617.nc\n",
      "./data/Train/Train/X_forecast/2D_arome_20170213.nc\n",
      "./data/Train/Train/X_forecast/2D_arome_20170820.nc\n",
      "./data/Train/Train/X_forecast/2D_arpege_20171120.nc\n",
      "./data/Train/Train/X_forecast/2D_arome_20170116.nc\n",
      "./data/Train/Train/X_forecast/arpege_3D_isobar_20160906.nc\n",
      "./data/Train/Train/X_forecast/arpege_3D_isobar_20160928.nc\n",
      "./data/Train/Train/X_forecast/arpege_3D_isobar_20161005.nc\n",
      "./data/Train/Train/X_forecast/arpege_3D_isobar_20160317.nc\n",
      "./data/Train/Train/X_forecast/2D_arome_20170929.nc\n",
      "./data/Train/Train/X_forecast/arpege_3D_isobar_20170206.nc\n",
      "./data/Train/Train/X_forecast/2D_arome_20171016.nc\n",
      "./data/Train/Train/X_forecast/2D_arome_20170704.nc\n",
      "./data/Train/Train/X_forecast/2D_arpege_20170720.nc\n",
      "./data/Train/Train/X_forecast/2D_arome_20161009.nc\n",
      "./data/Train/Train/X_forecast/arpege_3D_height_20161125.nc\n",
      "./data/Train/Train/X_forecast/2D_arome_20171224.nc\n",
      "./data/Train/Train/X_forecast/2D_arpege_20171101.nc\n",
      "./data/Train/Train/X_forecast/2D_arpege_20170330.nc\n",
      "./data/Train/Train/X_forecast/2D_arome_20170515.nc\n",
      "./data/Train/Train/X_forecast/2D_arpege_20161022.nc\n",
      "./data/Train/Train/X_forecast/arpege_3D_height_20170815.nc\n",
      "./data/Train/Train/X_forecast/arpege_3D_height_20161029.nc\n",
      "./data/Train/Train/X_forecast/arpege_3D_height_20171003.nc\n",
      "./data/Train/Train/X_forecast/arpege_3D_isobar_20160226.nc\n",
      "./data/Train/Train/X_forecast/2D_arome_20171222.nc\n",
      "./data/Train/Train/X_forecast/2D_arpege_20171218.nc\n",
      "./data/Train/Train/X_forecast/arpege_3D_height_20160723.nc\n",
      "./data/Train/Train/X_forecast/arpege_3D_isobar_20160916.nc\n",
      "./data/Train/Train/X_forecast/arpege_3D_isobar_20170201.nc\n",
      "./data/Train/Train/X_forecast/arpege_3D_isobar_20170825.nc\n",
      "./data/Train/Train/X_forecast/2D_arpege_20160816.nc\n",
      "./data/Train/Train/X_forecast/2D_arpege_20160410.nc\n",
      "./data/Train/Train/X_forecast/2D_arome_20170806.nc\n",
      "./data/Train/Train/X_forecast/2D_arpege_20160710.nc\n",
      "./data/Train/Train/X_forecast/2D_arome_20170120.nc\n",
      "./data/Train/Train/X_forecast/2D_arpege_20170212.nc\n",
      "./data/Train/Train/X_forecast/arpege_3D_isobar_20171127.nc\n",
      "./data/Train/Train/X_forecast/arpege_3D_height_20160703.nc\n",
      "./data/Train/Train/X_forecast/2D_arome_20161202.nc\n",
      "./data/Train/Train/X_forecast/arpege_3D_isobar_20171115.nc\n",
      "./data/Train/Train/X_forecast/2D_arpege_20170916.nc\n",
      "./data/Train/Train/X_forecast/arpege_3D_height_20161102.nc\n",
      "./data/Train/Train/X_forecast/2D_arome_20160407.nc\n",
      "./data/Train/Train/X_forecast/2D_arpege_20160524.nc\n",
      "./data/Train/Train/X_forecast/2D_arpege_20160305.nc\n",
      "./data/Train/Train/X_forecast/2D_arome_20170309.nc\n",
      "./data/Train/Train/X_forecast/2D_arpege_20160518.nc\n",
      "./data/Train/Train/X_forecast/2D_arpege_20161108.nc\n",
      "./data/Train/Train/X_forecast/arpege_3D_height_20160512.nc\n",
      "./data/Train/Train/X_forecast/arpege_3D_isobar_20170123.nc\n",
      "./data/Train/Train/X_forecast/2D_arome_20160405.nc\n",
      "./data/Train/Train/X_forecast/arpege_3D_height_20160316.nc\n",
      "./data/Train/Train/X_forecast/2D_arpege_20170622.nc\n",
      "./data/Train/Train/X_forecast/arpege_3D_height_20160812.nc\n",
      "./data/Train/Train/X_forecast/2D_arome_20170412.nc\n",
      "./data/Train/Train/X_forecast/arpege_3D_isobar_20160809.nc\n",
      "./data/Train/Train/X_forecast/2D_arpege_20171207.nc\n",
      "./data/Train/Train/X_forecast/2D_arome_20161113.nc\n",
      "./data/Train/Train/X_forecast/2D_arome_20161122.nc\n",
      "./data/Train/Train/X_forecast/2D_arome_20160604.nc\n",
      "./data/Train/Train/X_forecast/arpege_3D_height_20160829.nc\n",
      "./data/Train/Train/X_forecast/arpege_3D_isobar_20170122.nc\n",
      "./data/Train/Train/X_forecast/2D_arome_20160202.nc\n",
      "./data/Train/Train/X_forecast/2D_arpege_20170908.nc\n",
      "./data/Train/Train/X_forecast/2D_arome_20160910.nc\n",
      "./data/Train/Train/X_forecast/arpege_3D_height_20170121.nc\n",
      "./data/Train/Train/X_forecast/arpege_3D_isobar_20160108.nc\n",
      "./data/Train/Train/X_forecast/arpege_3D_height_20170512.nc\n",
      "./data/Train/Train/X_forecast/arpege_3D_isobar_20170819.nc\n",
      "./data/Train/Train/X_forecast/arpege_3D_height_20170103.nc\n",
      "./data/Train/Train/X_forecast/arpege_3D_height_20160520.nc\n",
      "./data/Train/Train/X_forecast/2D_arpege_20170218.nc\n",
      "./data/Train/Train/X_forecast/arpege_3D_height_20170508.nc\n",
      "./data/Train/Train/X_forecast/arpege_3D_isobar_20171226.nc\n",
      "./data/Train/Train/X_forecast/arpege_3D_isobar_20161213.nc\n",
      "./data/Train/Train/X_forecast/arpege_3D_isobar_20171213.nc\n",
      "./data/Train/Train/X_forecast/2D_arome_20170706.nc\n",
      "./data/Train/Train/X_forecast/arpege_3D_height_20160121.nc\n",
      "./data/Train/Train/X_forecast/2D_arpege_20161127.nc\n",
      "./data/Train/Train/X_forecast/2D_arpege_20160831.nc\n",
      "./data/Train/Train/X_forecast/arpege_3D_height_20170325.nc\n",
      "./data/Train/Train/X_forecast/arpege_3D_height_20160220.nc\n",
      "./data/Train/Train/X_forecast/2D_arome_20170225.nc\n",
      "./data/Train/Train/X_forecast/2D_arpege_20160926.nc\n",
      "./data/Train/Train/X_forecast/arpege_3D_height_20170514.nc\n",
      "./data/Train/Train/X_forecast/arpege_3D_isobar_20160131.nc\n",
      "./data/Train/Train/X_forecast/arpege_3D_height_20171002.nc\n",
      "./data/Train/Train/X_forecast/arpege_3D_isobar_20160912.nc\n",
      "./data/Train/Train/X_forecast/2D_arpege_20161103.nc\n",
      "./data/Train/Train/X_forecast/2D_arome_20161020.nc\n",
      "./data/Train/Train/X_forecast/arpege_3D_height_20170822.nc\n",
      "./data/Train/Train/X_forecast/arpege_3D_height_20160218.nc\n",
      "./data/Train/Train/X_forecast/2D_arome_20170807.nc\n",
      "./data/Train/Train/X_forecast/2D_arpege_20170121.nc\n",
      "./data/Train/Train/X_forecast/2D_arome_20170502.nc\n",
      "./data/Train/Train/X_forecast/2D_arome_20170906.nc\n",
      "./data/Train/Train/X_forecast/arpege_3D_height_20170704.nc\n",
      "./data/Train/Train/X_forecast/arpege_3D_isobar_20160111.nc\n",
      "./data/Train/Train/X_forecast/arpege_3D_height_20160229.nc\n",
      "./data/Train/Train/X_forecast/2D_arpege_20170323.nc\n",
      "./data/Train/Train/X_forecast/2D_arome_20160327.nc\n",
      "./data/Train/Train/X_forecast/2D_arpege_20170227.nc\n",
      "./data/Train/Train/X_forecast/arpege_3D_height_20160322.nc\n",
      "./data/Train/Train/X_forecast/2D_arome_20161007.nc\n",
      "./data/Train/Train/X_forecast/2D_arome_20160626.nc\n",
      "./data/Train/Train/X_forecast/arpege_3D_isobar_20170913.nc\n",
      "./data/Train/Train/X_forecast/2D_arome_20170301.nc\n",
      "./data/Train/Train/X_forecast/2D_arpege_20170903.nc\n",
      "./data/Train/Train/X_forecast/arpege_3D_isobar_20160321.nc\n",
      "./data/Train/Train/X_forecast/2D_arpege_20160720.nc\n",
      "./data/Train/Train/X_forecast/arpege_3D_isobar_20171021.nc\n",
      "./data/Train/Train/X_forecast/arpege_3D_height_20170708.nc\n",
      "./data/Train/Train/X_forecast/arpege_3D_height_20170731.nc\n",
      "./data/Train/Train/X_forecast/arpege_3D_isobar_20171125.nc\n",
      "./data/Train/Train/X_forecast/arpege_3D_height_20170615.nc\n",
      "./data/Train/Train/X_forecast/arpege_3D_height_20171102.nc\n",
      "./data/Train/Train/X_forecast/2D_arpege_20160825.nc\n",
      "./data/Train/Train/X_forecast/2D_arome_20160907.nc\n",
      "./data/Train/Train/X_forecast/2D_arome_20170822.nc\n",
      "./data/Train/Train/X_forecast/2D_arpege_20170516.nc\n",
      "./data/Train/Train/X_forecast/arpege_3D_isobar_20160703.nc\n",
      "./data/Train/Train/X_forecast/2D_arpege_20160609.nc\n",
      "./data/Train/Train/X_forecast/2D_arome_20160401.nc\n",
      "./data/Train/Train/X_forecast/2D_arpege_20171225.nc\n",
      "./data/Train/Train/X_forecast/2D_arpege_20160415.nc\n",
      "./data/Train/Train/X_forecast/arpege_3D_height_20170621.nc\n",
      "./data/Train/Train/X_forecast/2D_arome_20160322.nc\n",
      "./data/Train/Train/X_forecast/arpege_3D_isobar_20160304.nc\n",
      "./data/Train/Train/X_forecast/2D_arome_20161025.nc\n",
      "./data/Train/Train/X_forecast/2D_arome_20170316.nc\n",
      "./data/Train/Train/X_forecast/arpege_3D_height_20161130.nc\n",
      "./data/Train/Train/X_forecast/2D_arome_20160215.nc\n",
      "./data/Train/Train/X_forecast/2D_arome_20160502.nc\n",
      "./data/Train/Train/X_forecast/arpege_3D_isobar_20161114.nc\n",
      "./data/Train/Train/X_forecast/2D_arome_20171011.nc\n",
      "./data/Train/Train/X_forecast/arpege_3D_height_20160729.nc\n",
      "./data/Train/Train/X_forecast/2D_arome_20161027.nc\n",
      "./data/Train/Train/X_forecast/arpege_3D_isobar_20171223.nc\n",
      "./data/Train/Train/X_forecast/2D_arpege_20160508.nc\n",
      "./data/Train/Train/X_forecast/2D_arpege_20170715.nc\n",
      "./data/Train/Train/X_forecast/2D_arome_20170818.nc\n",
      "./data/Train/Train/X_forecast/2D_arome_20170621.nc\n",
      "./data/Train/Train/X_forecast/arpege_3D_isobar_20160214.nc\n",
      "./data/Train/Train/X_forecast/2D_arpege_20161111.nc\n",
      "./data/Train/Train/X_forecast/2D_arpege_20160320.nc\n",
      "./data/Train/Train/X_forecast/2D_arome_20160506.nc\n",
      "./data/Train/Train/X_forecast/2D_arome_20161225.nc\n",
      "./data/Train/Train/X_forecast/2D_arome_20170808.nc\n",
      "./data/Train/Train/X_forecast/2D_arome_20170504.nc\n",
      "./data/Train/Train/X_forecast/arpege_3D_isobar_20160109.nc\n",
      "./data/Train/Train/X_forecast/2D_arpege_20160507.nc\n",
      "./data/Train/Train/X_forecast/2D_arome_20160330.nc\n",
      "./data/Train/Train/X_forecast/2D_arome_20161109.nc\n",
      "./data/Train/Train/X_forecast/arpege_3D_isobar_20171004.nc\n",
      "./data/Train/Train/X_forecast/arpege_3D_isobar_20160717.nc\n",
      "./data/Train/Train/X_forecast/2D_arome_20160918.nc\n",
      "./data/Train/Train/X_forecast/arpege_3D_height_20170204.nc\n",
      "./data/Train/Train/X_forecast/2D_arome_20170722.nc\n",
      "./data/Train/Train/X_forecast/arpege_3D_height_20170110.nc\n",
      "./data/Train/Train/X_forecast/2D_arpege_20160704.nc\n",
      "./data/Train/Train/X_forecast/arpege_3D_height_20160213.nc\n",
      "./data/Train/Train/X_forecast/2D_arome_20160902.nc\n",
      "./data/Train/Train/X_forecast/arpege_3D_height_20161122.nc\n",
      "./data/Train/Train/X_forecast/2D_arome_20160825.nc\n",
      "./data/Train/Train/X_forecast/arpege_3D_height_20160223.nc\n",
      "./data/Train/Train/X_forecast/arpege_3D_isobar_20161020.nc\n",
      "./data/Train/Train/X_forecast/2D_arome_20160228.nc\n",
      "./data/Train/Train/X_forecast/2D_arome_20170226.nc\n",
      "./data/Train/Train/X_forecast/arpege_3D_isobar_20160406.nc\n",
      "./data/Train/Train/X_forecast/arpege_3D_isobar_20171014.nc\n",
      "./data/Train/Train/X_forecast/2D_arpege_20171229.nc\n",
      "./data/Train/Train/X_forecast/arpege_3D_isobar_20170830.nc\n",
      "./data/Train/Train/X_forecast/2D_arpege_20170603.nc\n",
      "./data/Train/Train/X_forecast/2D_arpege_20170701.nc\n",
      "./data/Train/Train/X_forecast/arpege_3D_isobar_20160206.nc\n",
      "./data/Train/Train/X_forecast/arpege_3D_height_20170830.nc\n",
      "./data/Train/Train/X_forecast/arpege_3D_isobar_20170322.nc\n",
      "./data/Train/Train/X_forecast/2D_arome_20161118.nc\n",
      "./data/Train/Train/X_forecast/2D_arome_20170112.nc\n",
      "./data/Train/Train/X_forecast/2D_arome_20171020.nc\n",
      "./data/Train/Train/X_forecast/2D_arome_20170610.nc\n",
      "./data/Train/Train/X_forecast/2D_arome_20170304.nc\n",
      "./data/Train/Train/X_forecast/2D_arome_20160116.nc\n",
      "./data/Train/Train/X_forecast/arpege_3D_height_20161114.nc\n",
      "./data/Train/Train/X_forecast/arpege_3D_isobar_20160609.nc\n",
      "./data/Train/Train/X_forecast/2D_arome_20160510.nc\n",
      "./data/Train/Train/X_forecast/2D_arpege_20160513.nc\n",
      "./data/Train/Train/X_forecast/arpege_3D_height_20160930.nc\n",
      "./data/Train/Train/X_forecast/arpege_3D_isobar_20171001.nc\n",
      "./data/Train/Train/X_forecast/arpege_3D_height_20170905.nc\n",
      "./data/Train/Train/X_forecast/arpege_3D_height_20161025.nc\n",
      "./data/Train/Train/X_forecast/2D_arpege_20170201.nc\n",
      "./data/Train/Train/X_forecast/arpege_3D_height_20160307.nc\n",
      "./data/Train/Train/X_forecast/arpege_3D_height_20170206.nc\n",
      "./data/Train/Train/X_forecast/2D_arome_20160423.nc\n",
      "./data/Train/Train/X_forecast/arpege_3D_isobar_20161107.nc\n",
      "./data/Train/Train/X_forecast/2D_arome_20170203.nc\n",
      "./data/Train/Train/X_forecast/arpege_3D_height_20170617.nc\n",
      "./data/Train/Train/X_forecast/2D_arome_20160814.nc\n",
      "./data/Train/Train/X_forecast/arpege_3D_isobar_20160202.nc\n",
      "./data/Train/Train/X_forecast/arpege_3D_isobar_20160825.nc\n",
      "./data/Train/Train/X_forecast/arpege_3D_height_20160823.nc\n",
      "./data/Train/Train/X_forecast/arpege_3D_isobar_20171114.nc\n",
      "./data/Train/Train/X_forecast/arpege_3D_height_20170504.nc\n",
      "./data/Train/Train/X_forecast/2D_arome_20170418.nc\n",
      "./data/Train/Train/X_forecast/2D_arpege_20161104.nc\n",
      "./data/Train/Train/X_forecast/2D_arome_20160615.nc\n",
      "./data/Train/Train/X_forecast/arpege_3D_isobar_20160707.nc\n",
      "./data/Train/Train/X_forecast/2D_arome_20160913.nc\n",
      "./data/Train/Train/X_forecast/arpege_3D_height_20170730.nc\n",
      "./data/Train/Train/X_forecast/2D_arome_20170327.nc\n",
      "./data/Train/Train/X_forecast/arpege_3D_height_20161129.nc\n",
      "./data/Train/Train/X_forecast/2D_arpege_20160908.nc\n",
      "./data/Train/Train/X_forecast/2D_arpege_20161218.nc\n",
      "./data/Train/Train/X_forecast/2D_arpege_20170324.nc\n",
      "./data/Train/Train/X_forecast/2D_arpege_20171209.nc\n",
      "./data/Train/Train/X_forecast/2D_arpege_20160214.nc\n",
      "./data/Train/Train/X_forecast/arpege_3D_height_20161008.nc\n",
      "./data/Train/Train/X_forecast/arpege_3D_isobar_20170602.nc\n",
      "./data/Train/Train/X_forecast/arpege_3D_height_20170710.nc\n",
      "./data/Train/Train/X_forecast/arpege_3D_height_20171211.nc\n",
      "./data/Train/Train/X_forecast/arpege_3D_isobar_20160306.nc\n",
      "./data/Train/Train/X_forecast/arpege_3D_height_20160619.nc\n",
      "./data/Train/Train/X_forecast/arpege_3D_isobar_20161014.nc\n",
      "./data/Train/Train/X_forecast/arpege_3D_height_20160125.nc\n",
      "./data/Train/Train/X_forecast/arpege_3D_height_20161123.nc\n",
      "./data/Train/Train/X_forecast/2D_arpege_20160414.nc\n",
      "./data/Train/Train/X_forecast/2D_arome_20170402.nc\n",
      "./data/Train/Train/X_forecast/2D_arome_20160925.nc\n",
      "./data/Train/Train/X_forecast/2D_arome_20161222.nc\n",
      "./data/Train/Train/X_forecast/2D_arpege_20170122.nc\n",
      "./data/Train/Train/X_forecast/2D_arome_20160702.nc\n",
      "./data/Train/Train/X_forecast/arpege_3D_isobar_20160313.nc\n",
      "./data/Train/Train/X_forecast/arpege_3D_height_20160224.nc\n",
      "./data/Train/Train/X_forecast/2D_arpege_20160626.nc\n",
      "./data/Train/Train/X_forecast/2D_arpege_20170718.nc\n",
      "./data/Train/Train/X_forecast/2D_arome_20171214.nc\n",
      "./data/Train/Train/X_forecast/arpege_3D_height_20170114.nc\n",
      "./data/Train/Train/X_forecast/arpege_3D_height_20161118.nc\n",
      "./data/Train/Train/X_forecast/arpege_3D_height_20170112.nc\n",
      "./data/Train/Train/X_forecast/arpege_3D_height_20161024.nc\n",
      "./data/Train/Train/X_forecast/2D_arome_20161108.nc\n",
      "./data/Train/Train/X_forecast/2D_arpege_20170118.nc\n",
      "./data/Train/Train/X_forecast/arpege_3D_isobar_20160621.nc\n",
      "./data/Train/Train/X_forecast/arpege_3D_isobar_20160428.nc\n",
      "./data/Train/Train/X_forecast/2D_arome_20170611.nc\n",
      "./data/Train/Train/X_forecast/2D_arome_20160703.nc\n",
      "./data/Train/Train/X_forecast/arpege_3D_isobar_20160105.nc\n",
      "./data/Train/Train/X_forecast/arpege_3D_height_20170214.nc\n",
      "./data/Train/Train/X_forecast/2D_arpege_20161024.nc\n",
      "./data/Train/Train/X_forecast/arpege_3D_height_20160526.nc\n",
      "./data/Train/Train/X_forecast/arpege_3D_height_20171228.nc\n",
      "./data/Train/Train/X_forecast/2D_arome_20161217.nc\n",
      "./data/Train/Train/X_forecast/arpege_3D_height_20160115.nc\n",
      "./data/Train/Train/X_forecast/arpege_3D_isobar_20160614.nc\n",
      "./data/Train/Train/X_forecast/arpege_3D_height_20161220.nc\n",
      "./data/Train/Train/X_forecast/arpege_3D_height_20160606.nc\n",
      "./data/Train/Train/X_forecast/2D_arpege_20170113.nc\n",
      "./data/Train/Train/X_forecast/2D_arpege_20170315.nc\n",
      "./data/Train/Train/X_forecast/arpege_3D_height_20170921.nc\n",
      "./data/Train/Train/X_forecast/2D_arome_20170321.nc\n",
      "./data/Train/Train/X_forecast/arpege_3D_isobar_20160823.nc\n",
      "./data/Train/Train/X_forecast/2D_arome_20170127.nc\n",
      "./data/Train/Train/X_forecast/2D_arome_20160226.nc\n",
      "./data/Train/Train/X_forecast/2D_arpege_20170704.nc\n",
      "./data/Train/Train/X_forecast/arpege_3D_isobar_20170921.nc\n",
      "./data/Train/Train/X_forecast/2D_arome_20171203.nc\n",
      "./data/Train/Train/X_forecast/2D_arpege_20160814.nc\n",
      "./data/Train/Train/X_forecast/arpege_3D_height_20170914.nc\n",
      "./data/Train/Train/X_forecast/2D_arome_20171128.nc\n",
      "./data/Train/Train/X_forecast/2D_arpege_20170312.nc\n",
      "./data/Train/Train/X_forecast/2D_arome_20160624.nc\n",
      "./data/Train/Train/X_forecast/arpege_3D_height_20170826.nc\n",
      "./data/Train/Train/X_forecast/2D_arpege_20170127.nc\n",
      "./data/Train/Train/X_forecast/arpege_3D_height_20170801.nc\n",
      "./data/Train/Train/X_forecast/2D_arome_20160102.nc\n",
      "./data/Train/Train/X_forecast/arpege_3D_height_20170213.nc\n",
      "./data/Train/Train/X_forecast/2D_arpege_20160823.nc\n",
      "./data/Train/Train/X_forecast/arpege_3D_height_20161009.nc\n",
      "./data/Train/Train/X_forecast/2D_arpege_20160731.nc\n",
      "./data/Train/Train/X_forecast/arpege_3D_isobar_20170103.nc\n",
      "./data/Train/Train/X_forecast/2D_arpege_20170328.nc\n",
      "./data/Train/Train/X_forecast/2D_arome_20170815.nc\n",
      "./data/Train/Train/X_forecast/2D_arome_20171107.nc\n",
      "./data/Train/Train/X_forecast/arpege_3D_isobar_20160721.nc\n",
      "./data/Train/Train/X_forecast/arpege_3D_height_20171220.nc\n",
      "./data/Train/Train/X_forecast/2D_arpege_20161230.nc\n",
      "./data/Train/Train/X_forecast/arpege_3D_height_20160412.nc\n",
      "./data/Train/Train/X_forecast/arpege_3D_height_20170610.nc\n",
      "./data/Train/Train/X_forecast/arpege_3D_isobar_20160630.nc\n",
      "./data/Train/Train/X_forecast/2D_arpege_20170730.nc\n",
      "./data/Train/Train/X_forecast/arpege_3D_height_20160708.nc\n",
      "./data/Train/Train/X_forecast/2D_arome_20170219.nc\n",
      "./data/Train/Train/X_forecast/arpege_3D_isobar_20160427.nc\n",
      "./data/Train/Train/X_forecast/2D_arpege_20170123.nc\n",
      "./data/Train/Train/X_forecast/2D_arpege_20171127.nc\n",
      "./data/Train/Train/X_forecast/arpege_3D_height_20170623.nc\n",
      "./data/Train/Train/X_forecast/2D_arpege_20170507.nc\n",
      "./data/Train/Train/X_forecast/2D_arpege_20170326.nc\n",
      "./data/Train/Train/X_forecast/2D_arome_20170917.nc\n",
      "./data/Train/Train/X_forecast/2D_arome_20170628.nc\n",
      "./data/Train/Train/X_forecast/2D_arpege_20160502.nc\n",
      "./data/Train/Train/X_forecast/arpege_3D_height_20160509.nc\n",
      "./data/Train/Train/X_forecast/arpege_3D_isobar_20160116.nc\n",
      "./data/Train/Train/X_forecast/2D_arome_20160204.nc\n",
      "./data/Train/Train/X_forecast/2D_arpege_20170929.nc\n",
      "./data/Train/Train/X_forecast/arpege_3D_height_20170727.nc\n",
      "./data/Train/Train/X_forecast/2D_arome_20170714.nc\n",
      "./data/Train/Train/X_forecast/arpege_3D_isobar_20160623.nc\n",
      "./data/Train/Train/X_forecast/arpege_3D_isobar_20171122.nc\n",
      "./data/Train/Train/X_forecast/2D_arpege_20160811.nc\n",
      "./data/Train/Train/X_forecast/arpege_3D_height_20170517.nc\n",
      "./data/Train/Train/X_forecast/2D_arome_20161102.nc\n",
      "./data/Train/Train/X_forecast/arpege_3D_height_20160612.nc\n",
      "./data/Train/Train/X_forecast/arpege_3D_isobar_20160207.nc\n",
      "./data/Train/Train/X_forecast/arpege_3D_height_20160715.nc\n",
      "./data/Train/Train/X_forecast/2D_arpege_20170203.nc\n",
      "./data/Train/Train/X_forecast/arpege_3D_isobar_20170616.nc\n",
      "./data/Train/Train/X_forecast/2D_arpege_20161014.nc\n",
      "./data/Train/Train/X_forecast/2D_arome_20160111.nc\n",
      "./data/Train/Train/X_forecast/2D_arpege_20170731.nc\n",
      "./data/Train/Train/X_forecast/arpege_3D_height_20161230.nc\n",
      "./data/Train/Train/X_forecast/arpege_3D_height_20170327.nc\n",
      "./data/Train/Train/X_forecast/2D_arome_20161030.nc\n",
      "./data/Train/Train/X_forecast/2D_arome_20171116.nc\n",
      "./data/Train/Train/X_forecast/2D_arome_20160821.nc\n",
      "./data/Train/Train/X_forecast/arpege_3D_height_20160505.nc\n",
      "./data/Train/Train/X_forecast/arpege_3D_height_20161108.nc\n",
      "./data/Train/Train/X_forecast/arpege_3D_height_20170319.nc\n",
      "./data/Train/Train/X_forecast/2D_arome_20171012.nc\n",
      "./data/Train/Train/X_forecast/2D_arpege_20170224.nc\n",
      "./data/Train/Train/X_forecast/2D_arome_20160411.nc\n",
      "./data/Train/Train/X_forecast/2D_arpege_20160528.nc\n",
      "./data/Train/Train/X_forecast/arpege_3D_isobar_20170816.nc\n",
      "./data/Train/Train/X_forecast/arpege_3D_height_20170429.nc\n",
      "./data/Train/Train/X_forecast/arpege_3D_height_20170123.nc\n",
      "./data/Train/Train/X_forecast/2D_arome_20160429.nc\n",
      "./data/Train/Train/X_forecast/2D_arome_20171005.nc\n",
      "./data/Train/Train/X_forecast/2D_arome_20170612.nc\n",
      "./data/Train/Train/X_forecast/2D_arome_20171210.nc\n",
      "./data/Train/Train/X_forecast/2D_arpege_20160611.nc\n",
      "./data/Train/Train/X_forecast/arpege_3D_height_20160825.nc\n",
      "./data/Train/Train/X_forecast/2D_arome_20160328.nc\n",
      "./data/Train/Train/X_forecast/2D_arpege_20170214.nc\n",
      "./data/Train/Train/X_forecast/arpege_3D_isobar_20160824.nc\n",
      "./data/Train/Train/X_forecast/2D_arome_20160113.nc\n",
      "./data/Train/Train/X_forecast/2D_arome_20170220.nc\n",
      "./data/Train/Train/X_forecast/2D_arome_20170826.nc\n",
      "./data/Train/Train/X_forecast/2D_arome_20160905.nc\n",
      "./data/Train/Train/X_forecast/2D_arpege_20160510.nc\n",
      "./data/Train/Train/X_forecast/arpege_3D_isobar_20171102.nc\n",
      "./data/Train/Train/X_forecast/2D_arome_20160812.nc\n",
      "./data/Train/Train/X_forecast/arpege_3D_height_20160726.nc\n",
      "./data/Train/Train/X_forecast/2D_arome_20170318.nc\n",
      "./data/Train/Train/X_forecast/2D_arome_20170201.nc\n",
      "./data/Train/Train/X_forecast/2D_arome_20161111.nc\n",
      "./data/Train/Train/X_forecast/arpege_3D_height_20160731.nc\n",
      "./data/Train/Train/X_forecast/arpege_3D_isobar_20160408.nc\n",
      "./data/Train/Train/X_forecast/2D_arpege_20160113.nc\n",
      "./data/Train/Train/X_forecast/arpege_3D_height_20170212.nc\n",
      "./data/Train/Train/X_forecast/2D_arome_20160422.nc\n",
      "./data/Train/Train/X_forecast/2D_arpege_20161231.nc\n",
      "./data/Train/Train/X_forecast/arpege_3D_isobar_20170124.nc\n",
      "./data/Train/Train/X_forecast/arpege_3D_height_20170717.nc\n",
      "./data/Train/Train/X_forecast/2D_arpege_20170630.nc\n",
      "./data/Train/Train/X_forecast/2D_arome_20170329.nc\n",
      "./data/Train/Train/X_forecast/2D_arome_20160709.nc\n",
      "./data/Train/Train/X_forecast/arpege_3D_isobar_20170815.nc\n",
      "./data/Train/Train/X_forecast/arpege_3D_isobar_20160119.nc\n",
      "./data/Train/Train/X_forecast/2D_arome_20160601.nc\n",
      "./data/Train/Train/X_forecast/arpege_3D_isobar_20170126.nc\n",
      "./data/Train/Train/X_forecast/2D_arpege_20161004.nc\n",
      "./data/Train/Train/X_forecast/2D_arome_20160815.nc\n",
      "./data/Train/Train/X_forecast/arpege_3D_isobar_20170831.nc\n",
      "./data/Train/Train/X_forecast/arpege_3D_height_20160416.nc\n",
      "./data/Train/Train/X_forecast/arpege_3D_height_20171006.nc\n",
      "./data/Train/Train/X_forecast/2D_arome_20161229.nc\n",
      "./data/Train/Train/X_forecast/2D_arome_20160425.nc\n",
      "./data/Train/Train/X_forecast/arpege_3D_height_20170520.nc\n",
      "./data/Train/Train/X_forecast/arpege_3D_height_20170602.nc\n",
      "./data/Train/Train/X_forecast/arpege_3D_height_20160701.nc\n",
      "./data/Train/Train/X_forecast/arpege_3D_height_20160920.nc\n",
      "./data/Train/Train/X_forecast/2D_arome_20170204.nc\n",
      "./data/Train/Train/X_forecast/arpege_3D_isobar_20170629.nc\n",
      "./data/Train/Train/X_forecast/arpege_3D_isobar_20160418.nc\n",
      "./data/Train/Train/X_forecast/2D_arpege_20170716.nc\n",
      "./data/Train/Train/X_forecast/2D_arome_20161215.nc\n",
      "./data/Train/Train/X_forecast/arpege_3D_isobar_20160412.nc\n",
      "./data/Train/Train/X_forecast/2D_arpege_20160327.nc\n",
      "./data/Train/Train/X_forecast/2D_arome_20161003.nc\n",
      "./data/Train/Train/X_forecast/arpege_3D_height_20160212.nc\n",
      "./data/Train/Train/X_forecast/arpege_3D_isobar_20160319.nc\n",
      "./data/Train/Train/X_forecast/arpege_3D_height_20171226.nc\n",
      "./data/Train/Train/X_forecast/arpege_3D_isobar_20160714.nc\n",
      "./data/Train/Train/X_forecast/2D_arpege_20171215.nc\n",
      "./data/Train/Train/X_forecast/arpege_3D_height_20170803.nc\n",
      "./data/Train/Train/X_forecast/arpege_3D_height_20170804.nc\n",
      "./data/Train/Train/X_forecast/2D_arpege_20170101.nc\n",
      "./data/Train/Train/X_forecast/arpege_3D_height_20160315.nc\n",
      "./data/Train/Train/X_forecast/2D_arpege_20171129.nc\n",
      "./data/Train/Train/X_forecast/2D_arpege_20170208.nc\n",
      "./data/Train/Train/X_forecast/arpege_3D_height_20160227.nc\n",
      "./data/Train/Train/X_forecast/arpege_3D_isobar_20171016.nc\n",
      "./data/Train/Train/X_forecast/arpege_3D_height_20170812.nc\n",
      "./data/Train/Train/X_forecast/arpege_3D_height_20170404.nc\n",
      "./data/Train/Train/X_forecast/2D_arome_20171223.nc\n",
      "./data/Train/Train/X_forecast/2D_arpege_20170206.nc\n",
      "./data/Train/Train/X_forecast/arpege_3D_isobar_20160515.nc\n",
      "./data/Train/Train/X_forecast/arpege_3D_isobar_20160324.nc\n",
      "./data/Train/Train/X_forecast/2D_arome_20170421.nc\n",
      "./data/Train/Train/X_forecast/2D_arome_20170509.nc\n",
      "./data/Train/Train/X_forecast/2D_arpege_20171222.nc\n",
      "./data/Train/Train/X_forecast/arpege_3D_height_20170108.nc\n",
      "./data/Train/Train/X_forecast/2D_arome_20160301.nc\n",
      "./data/Train/Train/X_forecast/arpege_3D_isobar_20161002.nc\n",
      "./data/Train/Train/X_forecast/2D_arpege_20171204.nc\n",
      "./data/Train/Train/X_forecast/2D_arome_20170423.nc\n",
      "./data/Train/Train/X_forecast/arpege_3D_height_20170207.nc\n",
      "./data/Train/Train/X_forecast/arpege_3D_height_20170104.nc\n",
      "./data/Train/Train/X_forecast/arpege_3D_isobar_20170108.nc\n",
      "./data/Train/Train/X_forecast/arpege_3D_height_20170519.nc\n",
      "./data/Train/Train/X_forecast/2D_arome_20170519.nc\n",
      "./data/Train/Train/X_forecast/2D_arpege_20160115.nc\n",
      "./data/Train/Train/X_forecast/2D_arome_20171117.nc\n",
      "./data/Train/Train/X_forecast/arpege_3D_isobar_20160307.nc\n",
      "./data/Train/Train/X_forecast/arpege_3D_height_20160423.nc\n",
      "./data/Train/Train/X_forecast/2D_arome_20170616.nc\n",
      "./data/Train/Train/X_forecast/arpege_3D_height_20160421.nc\n",
      "./data/Train/Train/X_forecast/2D_arome_20161103.nc\n",
      "./data/Train/Train/X_forecast/arpege_3D_isobar_20160320.nc\n",
      "./data/Train/Train/X_forecast/arpege_3D_height_20170629.nc\n",
      "./data/Train/Train/X_forecast/arpege_3D_height_20171115.nc\n",
      "./data/Train/Train/X_forecast/arpege_3D_height_20160629.nc\n",
      "./data/Train/Train/X_forecast/arpege_3D_height_20160405.nc\n",
      "./data/Train/Train/X_forecast/2D_arpege_20170503.nc\n",
      "./data/Train/Train/X_forecast/arpege_3D_height_20170831.nc\n",
      "./data/Train/Train/X_forecast/arpege_3D_height_20160221.nc\n",
      "./data/Train/Train/X_forecast/2D_arpege_20170601.nc\n",
      "./data/Train/Train/X_forecast/arpege_3D_isobar_20170829.nc\n",
      "./data/Train/Train/X_forecast/arpege_3D_isobar_20160430.nc\n",
      "./data/Train/Train/X_forecast/2D_arpege_20160907.nc\n",
      "./data/Train/Train/X_forecast/arpege_3D_isobar_20160903.nc\n",
      "./data/Train/Train/X_forecast/2D_arome_20170512.nc\n",
      "./data/Train/Train/X_forecast/2D_arome_20171106.nc\n",
      "./data/Train/Train/X_forecast/2D_arome_20160526.nc\n",
      "./data/Train/Train/X_forecast/arpege_3D_height_20161005.nc\n",
      "./data/Train/Train/X_forecast/arpege_3D_isobar_20160205.nc\n",
      "./data/Train/Train/X_forecast/2D_arpege_20160830.nc\n",
      "./data/Train/Train/X_forecast/2D_arpege_20160221.nc\n",
      "./data/Train/Train/X_forecast/2D_arome_20160123.nc\n",
      "./data/Train/Train/X_forecast/2D_arpege_20161008.nc\n",
      "./data/Train/Train/X_forecast/2D_arpege_20160806.nc\n",
      "./data/Train/Train/X_forecast/arpege_3D_isobar_20160517.nc\n",
      "./data/Train/Train/X_forecast/arpege_3D_isobar_20160223.nc\n",
      "./data/Train/Train/X_forecast/2D_arpege_20160810.nc\n",
      "./data/Train/Train/X_forecast/2D_arpege_20170112.nc\n",
      "./data/Train/Train/X_forecast/arpege_3D_height_20160425.nc\n",
      "./data/Train/Train/X_forecast/2D_arpege_20161017.nc\n",
      "./data/Train/Train/X_forecast/2D_arome_20160317.nc\n",
      "./data/Train/Train/X_forecast/arpege_3D_height_20171110.nc\n",
      "./data/Train/Train/X_forecast/2D_arpege_20160623.nc\n",
      "./data/Train/Train/X_forecast/2D_arpege_20170504.nc\n",
      "./data/Train/Train/X_forecast/2D_arpege_20170531.nc\n",
      "./data/Train/Train/X_forecast/2D_arpege_20160716.nc\n",
      "./data/Train/Train/X_forecast/2D_arome_20160620.nc\n",
      "./data/Train/Train/X_forecast/2D_arpege_20160925.nc\n",
      "./data/Train/Train/X_forecast/2D_arpege_20161105.nc\n",
      "./data/Train/Train/X_forecast/arpege_3D_height_20170613.nc\n",
      "./data/Train/Train/X_forecast/arpege_3D_isobar_20160113.nc\n",
      "./data/Train/Train/X_forecast/2D_arpege_20161223.nc\n",
      "./data/Train/Train/X_forecast/arpege_3D_isobar_20160608.nc\n",
      "./data/Train/Train/X_forecast/2D_arpege_20170223.nc\n",
      "./data/Train/Train/X_forecast/2D_arpege_20161109.nc\n",
      "./data/Train/Train/X_forecast/2D_arome_20160724.nc\n",
      "./data/Train/Train/X_forecast/arpege_3D_height_20160917.nc\n",
      "./data/Train/Train/X_forecast/2D_arpege_20160425.nc\n",
      "./data/Train/Train/X_forecast/2D_arpege_20170217.nc\n",
      "./data/Train/Train/X_forecast/arpege_3D_height_20171202.nc\n",
      "./data/Train/Train/X_forecast/arpege_3D_isobar_20170712.nc\n",
      "./data/Train/Train/X_forecast/2D_arpege_20160526.nc\n",
      "./data/Train/Train/X_forecast/arpege_3D_height_20170918.nc\n",
      "./data/Train/Train/X_forecast/arpege_3D_isobar_20160110.nc\n",
      "./data/Train/Train/X_forecast/arpege_3D_isobar_20170826.nc\n",
      "./data/Train/Train/X_forecast/2D_arome_20160211.nc\n",
      "./data/Train/Train/X_forecast/2D_arome_20160309.nc\n",
      "./data/Train/Train/X_forecast/arpege_3D_height_20160106.nc\n",
      "./data/Train/Train/X_forecast/arpege_3D_height_20160216.nc\n",
      "./data/Train/Train/X_forecast/2D_arpege_20160608.nc\n",
      "./data/Train/Train/X_forecast/arpege_3D_isobar_20160710.nc\n",
      "./data/Train/Train/X_forecast/2D_arpege_20160331.nc\n",
      "./data/Train/Train/X_forecast/arpege_3D_height_20161004.nc\n",
      "./data/Train/Train/X_forecast/2D_arpege_20161204.nc\n",
      "./data/Train/Train/X_forecast/arpege_3D_isobar_20160828.nc\n",
      "./data/Train/Train/X_forecast/2D_arome_20160706.nc\n",
      "./data/Train/Train/X_forecast/2D_arpege_20170910.nc\n",
      "./data/Train/Train/X_forecast/2D_arpege_20161226.nc\n",
      "./data/Train/Train/X_forecast/2D_arome_20161001.nc\n",
      "./data/Train/Train/X_forecast/arpege_3D_height_20171017.nc\n",
      "./data/Train/Train/X_forecast/arpege_3D_height_20170116.nc\n",
      "./data/Train/Train/X_forecast/2D_arpege_20161115.nc\n",
      "./data/Train/Train/X_forecast/arpege_3D_height_20161117.nc\n",
      "./data/Train/Train/X_forecast/2D_arpege_20160213.nc\n",
      "./data/Train/Train/X_forecast/arpege_3D_isobar_20160404.nc\n",
      "./data/Train/Train/X_forecast/2D_arpege_20161210.nc\n",
      "./data/Train/Train/X_forecast/arpege_3D_isobar_20170716.nc\n",
      "./data/Train/Train/X_forecast/arpege_3D_height_20160905.nc\n",
      "./data/Train/Train/X_forecast/arpege_3D_isobar_20170725.nc\n",
      "./data/Train/Train/X_forecast/2D_arome_20160131.nc\n",
      "./data/Train/Train/X_forecast/2D_arpege_20171208.nc\n",
      "./data/Train/Train/X_forecast/arpege_3D_isobar_20160322.nc\n",
      "./data/Train/Train/X_forecast/arpege_3D_isobar_20171204.nc\n",
      "./data/Train/Train/X_forecast/2D_arome_20171204.nc\n",
      "./data/Train/Train/X_forecast/arpege_3D_height_20170714.nc\n",
      "./data/Train/Train/X_forecast/2D_arome_20160313.nc\n",
      "./data/Train/Train/X_forecast/2D_arpege_20170320.nc\n",
      "./data/Train/Train/X_forecast/2D_arome_20160213.nc\n",
      "./data/Train/Train/X_forecast/arpege_3D_height_20160413.nc\n",
      "./data/Train/Train/X_forecast/arpege_3D_height_20171216.nc\n",
      "./data/Train/Train/X_forecast/arpege_3D_height_20170614.nc\n",
      "./data/Train/Train/X_forecast/2D_arpege_20170724.nc\n",
      "./data/Train/Train/X_forecast/2D_arome_20170128.nc\n",
      "./data/Train/Train/X_forecast/arpege_3D_height_20170711.nc\n",
      "./data/Train/Train/X_forecast/arpege_3D_height_20171222.nc\n",
      "./data/Train/Train/X_forecast/arpege_3D_isobar_20160104.nc\n",
      "./data/Train/Train/X_forecast/2D_arome_20160325.nc\n",
      "./data/Train/Train/X_forecast/arpege_3D_height_20160621.nc\n",
      "./data/Train/Train/X_forecast/arpege_3D_height_20160207.nc\n",
      "./data/Train/Train/X_forecast/arpege_3D_height_20160626.nc\n",
      "./data/Train/Train/X_forecast/2D_arpege_20160126.nc\n",
      "./data/Train/Train/X_forecast/2D_arpege_20160523.nc\n",
      "./data/Train/Train/X_forecast/2D_arome_20171216.nc\n",
      "./data/Train/Train/X_forecast/arpege_3D_height_20170118.nc\n",
      "./data/Train/Train/X_forecast/arpege_3D_isobar_20170223.nc\n",
      "./data/Train/Train/X_forecast/2D_arome_20160717.nc\n",
      "./data/Train/Train/X_forecast/2D_arome_20161221.nc\n",
      "./data/Train/Train/X_forecast/2D_arpege_20171216.nc\n",
      "./data/Train/Train/X_forecast/2D_arome_20170724.nc\n",
      "./data/Train/Train/X_forecast/arpege_3D_height_20170513.nc\n",
      "./data/Train/Train/X_forecast/2D_arome_20161208.nc\n",
      "./data/Train/Train/X_forecast/2D_arome_20170305.nc\n",
      "./data/Train/Train/X_forecast/arpege_3D_isobar_20160512.nc\n",
      "./data/Train/Train/X_forecast/2D_arpege_20170211.nc\n",
      "./data/Train/Train/X_forecast/arpege_3D_isobar_20160713.nc\n",
      "./data/Train/Train/X_forecast/arpege_3D_isobar_20170106.nc\n",
      "./data/Train/Train/X_forecast/arpege_3D_height_20160516.nc\n",
      "./data/Train/Train/X_forecast/2D_arpege_20170905.nc\n",
      "./data/Train/Train/X_forecast/2D_arome_20160602.nc\n",
      "./data/Train/Train/X_forecast/arpege_3D_isobar_20170113.nc\n",
      "./data/Train/Train/X_forecast/arpege_3D_height_20160910.nc\n",
      "./data/Train/Train/X_forecast/2D_arpege_20171110.nc\n",
      "./data/Train/Train/X_forecast/arpege_3D_height_20160925.nc\n",
      "./data/Train/Train/X_forecast/arpege_3D_height_20170426.nc\n",
      "./data/Train/Train/X_forecast/2D_arpege_20161013.nc\n",
      "./data/Train/Train/X_forecast/arpege_3D_height_20171121.nc\n",
      "./data/Train/Train/X_forecast/arpege_3D_height_20171119.nc\n",
      "./data/Train/Train/X_forecast/arpege_3D_height_20160328.nc\n",
      "./data/Train/Train/X_forecast/2D_arome_20170904.nc\n",
      "./data/Train/Train/X_forecast/2D_arome_20170108.nc\n",
      "./data/Train/Train/X_forecast/2D_arome_20170506.nc\n",
      "./data/Train/Train/X_forecast/arpege_3D_height_20170304.nc\n",
      "./data/Train/Train/X_forecast/arpege_3D_height_20170505.nc\n",
      "./data/Train/Train/X_forecast/2D_arome_20161029.nc\n",
      "./data/Train/Train/X_forecast/2D_arpege_20171227.nc\n",
      "./data/Train/Train/X_forecast/2D_arpege_20160422.nc\n",
      "./data/Train/Train/X_forecast/2D_arpege_20170514.nc\n",
      "./data/Train/Train/X_forecast/2D_arome_20170115.nc\n",
      "./data/Train/Train/X_forecast/arpege_3D_height_20161231.nc\n",
      "./data/Train/Train/X_forecast/2D_arpege_20160306.nc\n",
      "./data/Train/Train/X_forecast/arpege_3D_isobar_20170731.nc\n",
      "./data/Train/Train/X_forecast/arpege_3D_isobar_20160925.nc\n",
      "./data/Train/Train/X_forecast/arpege_3D_isobar_20161004.nc\n",
      "./data/Train/Train/X_forecast/2D_arpege_20160909.nc\n",
      "./data/Train/Train/X_forecast/arpege_3D_height_20170209.nc\n",
      "./data/Train/Train/X_forecast/2D_arome_20170625.nc\n",
      "./data/Train/Train/X_forecast/arpege_3D_isobar_20160620.nc\n",
      "./data/Train/Train/X_forecast/2D_arpege_20160208.nc\n",
      "./data/Train/Train/X_forecast/arpege_3D_height_20160427.nc\n",
      "./data/Train/Train/X_forecast/arpege_3D_isobar_20161118.nc\n",
      "./data/Train/Train/X_forecast/arpege_3D_isobar_20160709.nc\n",
      "./data/Train/Train/X_forecast/2D_arome_20160511.nc\n",
      "./data/Train/Train/X_forecast/2D_arome_20171010.nc\n",
      "./data/Train/Train/X_forecast/2D_arome_20160318.nc\n",
      "./data/Train/Train/X_forecast/arpege_3D_isobar_20160209.nc\n",
      "./data/Train/Train/X_forecast/2D_arome_20170528.nc\n",
      "./data/Train/Train/X_forecast/arpege_3D_isobar_20171031.nc\n",
      "./data/Train/Train/X_forecast/2D_arpege_20160804.nc\n",
      "./data/Train/Train/X_forecast/arpege_3D_height_20160803.nc\n",
      "./data/Train/Train/X_forecast/arpege_3D_height_20170925.nc\n",
      "./data/Train/Train/X_forecast/2D_arome_20161223.nc\n",
      "./data/Train/Train/X_forecast/arpege_3D_isobar_20160807.nc\n",
      "./data/Train/Train/X_forecast/arpege_3D_height_20171019.nc\n",
      "./data/Train/Train/X_forecast/arpege_3D_isobar_20160813.nc\n",
      "./data/Train/Train/X_forecast/2D_arpege_20170922.nc\n",
      "./data/Train/Train/X_forecast/2D_arpege_20160330.nc\n",
      "./data/Train/Train/X_forecast/arpege_3D_isobar_20170527.nc\n",
      "./data/Train/Train/X_forecast/2D_arome_20170407.nc\n",
      "./data/Train/Train/X_forecast/2D_arpege_20170728.nc\n",
      "./data/Train/Train/X_forecast/2D_arome_20160807.nc\n",
      "./data/Train/Train/X_forecast/2D_arome_20170926.nc\n",
      "./data/Train/Train/X_forecast/arpege_3D_isobar_20171029.nc\n",
      "./data/Train/Train/X_forecast/arpege_3D_height_20170203.nc\n",
      "./data/Train/Train/X_forecast/arpege_3D_isobar_20160220.nc\n",
      "./data/Train/Train/X_forecast/2D_arome_20170121.nc\n",
      "./data/Train/Train/X_forecast/2D_arpege_20161121.nc\n",
      "./data/Train/Train/X_forecast/2D_arpege_20171115.nc\n",
      "./data/Train/Train/X_forecast/2D_arpege_20160610.nc\n",
      "./data/Train/Train/X_forecast/arpege_3D_isobar_20160507.nc\n",
      "./data/Train/Train/X_forecast/arpege_3D_isobar_20160410.nc\n",
      "./data/Train/Train/X_forecast/2D_arome_20170117.nc\n",
      "./data/Train/Train/X_forecast/2D_arpege_20160114.nc\n",
      "./data/Train/Train/X_forecast/2D_arpege_20170712.nc\n",
      "./data/Train/Train/X_forecast/2D_arome_20170718.nc\n",
      "./data/Train/Train/X_forecast/arpege_3D_isobar_20160919.nc\n",
      "./data/Train/Train/X_forecast/arpege_3D_height_20171008.nc\n",
      "./data/Train/Train/X_forecast/2D_arome_20170206.nc\n",
      "./data/Train/Train/X_forecast/2D_arpege_20170313.nc\n",
      "./data/Train/Train/X_forecast/2D_arpege_20170924.nc\n",
      "./data/Train/Train/X_forecast/2D_arpege_20161227.nc\n",
      "./data/Train/Train/X_forecast/2D_arpege_20171203.nc\n",
      "./data/Train/Train/X_forecast/2D_arome_20160419.nc\n",
      "./data/Train/Train/X_forecast/arpege_3D_height_20170302.nc\n",
      "./data/Train/Train/X_forecast/arpege_3D_height_20170223.nc\n",
      "./data/Train/Train/X_forecast/arpege_3D_height_20160913.nc\n",
      "./data/Train/Train/X_forecast/2D_arome_20161230.nc\n",
      "./data/Train/Train/X_forecast/arpege_3D_height_20170919.nc\n",
      "./data/Train/Train/X_forecast/arpege_3D_height_20160704.nc\n",
      "./data/Train/Train/X_forecast/2D_arome_20170507.nc\n",
      "./data/Train/Train/X_forecast/arpege_3D_height_20160511.nc\n",
      "./data/Train/Train/X_forecast/2D_arome_20170816.nc\n",
      "./data/Train/Train/X_forecast/2D_arome_20170501.nc\n",
      "./data/Train/Train/X_forecast/arpege_3D_height_20170316.nc\n",
      "./data/Train/Train/X_forecast/arpege_3D_isobar_20160216.nc\n",
      "./data/Train/Train/X_forecast/arpege_3D_height_20171123.nc\n",
      "./data/Train/Train/X_forecast/arpege_3D_isobar_20171015.nc\n",
      "./data/Train/Train/X_forecast/2D_arpege_20170220.nc\n",
      "./data/Train/Train/X_forecast/arpege_3D_height_20161109.nc\n",
      "./data/Train/Train/X_forecast/2D_arpege_20160718.nc\n",
      "./data/Train/Train/X_forecast/arpege_3D_height_20170728.nc\n",
      "./data/Train/Train/X_forecast/2D_arpege_20171130.nc\n",
      "./data/Train/Train/X_forecast/2D_arome_20170729.nc\n",
      "./data/Train/Train/X_forecast/2D_arpege_20170702.nc\n",
      "./data/Train/Train/X_forecast/2D_arome_20160302.nc\n",
      "./data/Train/Train/X_forecast/arpege_3D_isobar_20160323.nc\n",
      "./data/Train/Train/X_forecast/2D_arpege_20170527.nc\n",
      "./data/Train/Train/X_forecast/2D_arpege_20160418.nc\n",
      "./data/Train/Train/X_forecast/2D_arome_20160208.nc\n",
      "./data/Train/Train/X_forecast/arpege_3D_isobar_20160201.nc\n",
      "./data/Train/Train/X_forecast/2D_arome_20160513.nc\n",
      "./data/Train/Train/X_forecast/2D_arome_20160723.nc\n",
      "./data/Train/Train/X_forecast/arpege_3D_height_20170715.nc\n",
      "./data/Train/Train/X_forecast/2D_arome_20160303.nc\n",
      "./data/Train/Train/X_forecast/arpege_3D_height_20160409.nc\n",
      "./data/Train/Train/X_forecast/2D_arome_20160813.nc\n",
      "./data/Train/Train/X_forecast/2D_arome_20171018.nc\n",
      "./data/Train/Train/X_forecast/2D_arpege_20161112.nc\n",
      "./data/Train/Train/X_forecast/arpege_3D_isobar_20170706.nc\n",
      "./data/Train/Train/X_forecast/arpege_3D_isobar_20170718.nc\n",
      "./data/Train/Train/X_forecast/arpege_3D_height_20171201.nc\n",
      "./data/Train/Train/X_forecast/2D_arpege_20160827.nc\n",
      "./data/Train/Train/X_forecast/2D_arome_20161105.nc\n",
      "./data/Train/Train/X_forecast/2D_arpege_20170623.nc\n",
      "./data/Train/Train/X_forecast/arpege_3D_height_20161218.nc\n",
      "./data/Train/Train/X_forecast/2D_arpege_20170530.nc\n",
      "./data/Train/Train/X_forecast/2D_arpege_20160525.nc\n",
      "./data/Train/Train/X_forecast/2D_arome_20160801.nc\n",
      "./data/Train/Train/X_forecast/arpege_3D_height_20170310.nc\n",
      "./data/Train/Train/X_forecast/arpege_3D_height_20170726.nc\n",
      "./data/Train/Train/X_forecast/2D_arome_20170113.nc\n",
      "./data/Train/Train/X_forecast/2D_arpege_20161126.nc\n",
      "./data/Train/Train/X_forecast/2D_arpege_20161206.nc\n",
      "./data/Train/Train/X_forecast/2D_arome_20171004.nc\n",
      "./data/Train/Train/X_forecast/arpege_3D_isobar_20170115.nc\n",
      "./data/Train/Train/X_forecast/arpege_3D_isobar_20160115.nc\n",
      "./data/Train/Train/X_forecast/arpege_3D_height_20170516.nc\n",
      "./data/Train/Train/X_forecast/2D_arpege_20170210.nc\n",
      "./data/Train/Train/X_forecast/2D_arpege_20160402.nc\n",
      "./data/Train/Train/X_forecast/arpege_3D_isobar_20160519.nc\n",
      "./data/Train/Train/X_forecast/arpege_3D_isobar_20170713.nc\n",
      "./data/Train/Train/X_forecast/arpege_3D_height_20170307.nc\n",
      "./data/Train/Train/X_forecast/arpege_3D_height_20170604.nc\n",
      "./data/Train/Train/X_forecast/arpege_3D_height_20170408.nc\n",
      "./data/Train/Train/X_forecast/arpege_3D_height_20170306.nc\n",
      "./data/Train/Train/X_forecast/2D_arpege_20170511.nc\n",
      "./data/Train/Train/X_forecast/arpege_3D_isobar_20171221.nc\n",
      "./data/Train/Train/X_forecast/2D_arome_20170306.nc\n",
      "./data/Train/Train/X_forecast/2D_arpege_20161120.nc\n",
      "./data/Train/Train/X_forecast/2D_arome_20160418.nc\n",
      "./data/Train/Train/X_forecast/arpege_3D_height_20170420.nc\n",
      "./data/Train/Train/X_forecast/2D_arpege_20170111.nc\n",
      "./data/Train/Train/X_forecast/2D_arome_20170202.nc\n",
      "./data/Train/Train/X_forecast/arpege_3D_height_20171013.nc\n",
      "./data/Train/Train/X_forecast/2D_arpege_20160303.nc\n",
      "./data/Train/Train/X_forecast/2D_arome_20170414.nc\n",
      "./data/Train/Train/X_forecast/arpege_3D_isobar_20170102.nc\n",
      "./data/Train/Train/X_forecast/arpege_3D_height_20161207.nc\n",
      "./data/Train/Train/X_forecast/arpege_3D_isobar_20160728.nc\n",
      "./data/Train/Train/X_forecast/arpege_3D_isobar_20160120.nc\n",
      "./data/Train/Train/X_forecast/arpege_3D_isobar_20160107.nc\n",
      "./data/Train/Train/X_forecast/2D_arpege_20160328.nc\n",
      "./data/Train/Train/X_forecast/2D_arome_20170624.nc\n",
      "./data/Train/Train/X_forecast/2D_arome_20170615.nc\n",
      "./data/Train/Train/X_forecast/arpege_3D_height_20170928.nc\n",
      "./data/Train/Train/X_forecast/arpege_3D_height_20170126.nc\n",
      "./data/Train/Train/X_forecast/2D_arpege_20170213.nc\n",
      "./data/Train/Train/X_forecast/arpege_3D_isobar_20160112.nc\n",
      "./data/Train/Train/X_forecast/2D_arome_20170531.nc\n",
      "./data/Train/Train/X_forecast/arpege_3D_isobar_20161112.nc\n",
      "./data/Train/Train/X_forecast/2D_arome_20160731.nc\n",
      "./data/Train/Train/X_forecast/arpege_3D_height_20161007.nc\n",
      "./data/Train/Train/X_forecast/arpege_3D_isobar_20160312.nc\n",
      "./data/Train/Train/X_forecast/2D_arpege_20170115.nc\n",
      "./data/Train/Train/X_forecast/arpege_3D_height_20160126.nc\n",
      "./data/Train/Train/X_forecast/arpege_3D_isobar_20161010.nc\n",
      "./data/Train/Train/X_forecast/arpege_3D_isobar_20160726.nc\n",
      "./data/Train/Train/X_forecast/arpege_3D_height_20160926.nc\n",
      "./data/Train/Train/X_forecast/arpege_3D_height_20161128.nc\n",
      "./data/Train/Train/X_forecast/arpege_3D_height_20160329.nc\n",
      "./data/Train/Train/X_forecast/arpege_3D_isobar_20170923.nc\n",
      "./data/Train/Train/X_forecast/arpege_3D_height_20170707.nc\n",
      "./data/Train/Train/X_forecast/arpege_3D_height_20171124.nc\n",
      "./data/Train/Train/X_forecast/arpege_3D_height_20161105.nc\n",
      "./data/Train/Train/X_forecast/arpege_3D_height_20171014.nc\n",
      "./data/Train/Train/X_forecast/arpege_3D_height_20160710.nc\n",
      "./data/Train/Train/X_forecast/arpege_3D_height_20170417.nc\n",
      "./data/Train/Train/X_forecast/2D_arpege_20161118.nc\n",
      "./data/Train/Train/X_forecast/arpege_3D_isobar_20160918.nc\n",
      "./data/Train/Train/X_forecast/2D_arome_20171207.nc\n",
      "./data/Train/Train/X_forecast/2D_arome_20171130.nc\n",
      "./data/Train/Train/X_forecast/2D_arpege_20171106.nc\n",
      "./data/Train/Train/X_forecast/2D_arpege_20160818.nc\n",
      "./data/Train/Train/X_forecast/2D_arpege_20160406.nc\n",
      "./data/Train/Train/X_forecast/2D_arpege_20160927.nc\n",
      "./data/Train/Train/X_forecast/arpege_3D_height_20160620.nc\n",
      "./data/Train/Train/X_forecast/arpege_3D_height_20170706.nc\n",
      "./data/Train/Train/X_forecast/2D_arpege_20171214.nc\n",
      "./data/Train/Train/X_forecast/arpege_3D_height_20160730.nc\n",
      "./data/Train/Train/X_forecast/2D_arome_20171109.nc\n",
      "./data/Train/Train/X_forecast/2D_arome_20160412.nc\n",
      "./data/Train/Train/X_forecast/arpege_3D_height_20170608.nc\n",
      "./data/Train/Train/X_forecast/2D_arpege_20161122.nc\n",
      "./data/Train/Train/X_forecast/2D_arome_20170928.nc\n",
      "./data/Train/Train/X_forecast/2D_arome_20160126.nc\n",
      "./data/Train/Train/X_forecast/2D_arome_20161207.nc\n",
      "./data/Train/Train/X_forecast/arpege_3D_height_20160728.nc\n",
      "./data/Train/Train/X_forecast/arpege_3D_height_20171103.nc\n",
      "./data/Train/Train/X_forecast/arpege_3D_height_20170808.nc\n",
      "./data/Train/Train/X_forecast/arpege_3D_isobar_20160617.nc\n",
      "./data/Train/Train/X_forecast/arpege_3D_isobar_20160911.nc\n",
      "./data/Train/Train/X_forecast/arpege_3D_height_20170115.nc\n",
      "./data/Train/Train/X_forecast/2D_arome_20160827.nc\n",
      "./data/Train/Train/X_forecast/2D_arome_20170908.nc\n",
      "./data/Train/Train/X_forecast/2D_arpege_20170913.nc\n",
      "./data/Train/Train/X_forecast/arpege_3D_height_20170529.nc\n",
      "./data/Train/Train/X_forecast/arpege_3D_height_20170703.nc\n",
      "./data/Train/Train/X_forecast/2D_arpege_20160101.nc\n",
      "./data/Train/Train/X_forecast/2D_arome_20160831.nc\n",
      "./data/Train/Train/X_forecast/2D_arpege_20160309.nc\n",
      "./data/Train/Train/X_forecast/arpege_3D_height_20170626.nc\n",
      "./data/Train/Train/X_forecast/arpege_3D_isobar_20170920.nc\n",
      "./data/Train/Train/X_forecast/2D_arpege_20170119.nc\n",
      "./data/Train/Train/X_forecast/arpege_3D_height_20160811.nc\n",
      "./data/Train/Train/X_forecast/2D_arpege_20171126.nc\n",
      "./data/Train/Train/X_forecast/arpege_3D_isobar_20160926.nc\n",
      "./data/Train/Train/X_forecast/arpege_3D_isobar_20160616.nc\n",
      "./data/Train/Train/X_forecast/arpege_3D_height_20160222.nc\n",
      "./data/Train/Train/X_forecast/2D_arome_20160114.nc\n",
      "./data/Train/Train/X_forecast/2D_arpege_20171114.nc\n",
      "./data/Train/Train/X_forecast/arpege_3D_height_20170702.nc\n",
      "./data/Train/Train/X_forecast/arpege_3D_height_20160518.nc\n",
      "./data/Train/Train/X_forecast/2D_arome_20160906.nc\n",
      "./data/Train/Train/X_forecast/arpege_3D_height_20170411.nc\n",
      "./data/Train/Train/X_forecast/2D_arome_20170607.nc\n",
      "./data/Train/Train/X_forecast/arpege_3D_isobar_20160518.nc\n",
      "./data/Train/Train/X_forecast/arpege_3D_height_20160120.nc\n",
      "./data/Train/Train/X_forecast/arpege_3D_height_20170719.nc\n",
      "./data/Train/Train/X_forecast/2D_arome_20161203.nc\n",
      "./data/Train/Train/X_forecast/2D_arpege_20160426.nc\n",
      "./data/Train/Train/X_forecast/2D_arome_20171219.nc\n",
      "./data/Train/Train/X_forecast/2D_arpege_20170512.nc\n",
      "./data/Train/Train/X_forecast/2D_arome_20160108.nc\n",
      "./data/Train/Train/X_forecast/arpege_3D_isobar_20171126.nc\n",
      "./data/Train/Train/X_forecast/arpege_3D_height_20170913.nc\n",
      "./data/Train/Train/X_forecast/arpege_3D_isobar_20160930.nc\n",
      "./data/Train/Train/X_forecast/arpege_3D_isobar_20161225.nc\n",
      "./data/Train/Train/X_forecast/arpege_3D_height_20160605.nc\n",
      "./data/Train/Train/X_forecast/2D_arome_20170408.nc\n",
      "./data/Train/Train/X_forecast/2D_arome_20160917.nc\n",
      "./data/Train/Train/X_forecast/arpege_3D_height_20161206.nc\n",
      "./data/Train/Train/X_forecast/arpege_3D_isobar_20160628.nc\n",
      "./data/Train/Train/X_forecast/arpege_3D_height_20170605.nc\n",
      "./data/Train/Train/X_forecast/2D_arome_20161231.nc\n",
      "./data/Train/Train/X_forecast/2D_arome_20170416.nc\n",
      "./data/Train/Train/X_forecast/2D_arome_20171218.nc\n",
      "./data/Train/Train/X_forecast/arpege_3D_isobar_20170728.nc\n",
      "./data/Train/Train/X_forecast/arpege_3D_isobar_20161001.nc\n",
      "./data/Train/Train/X_forecast/2D_arome_20170228.nc\n",
      "./data/Train/Train/X_forecast/2D_arome_20170111.nc\n",
      "./data/Train/Train/X_forecast/arpege_3D_height_20160321.nc\n",
      "./data/Train/Train/X_forecast/2D_arome_20170522.nc\n",
      "./data/Train/Train/X_forecast/arpege_3D_isobar_20170925.nc\n",
      "./data/Train/Train/X_forecast/2D_arome_20160212.nc\n",
      "./data/Train/Train/X_forecast/2D_arome_20170114.nc\n",
      "./data/Train/Train/X_forecast/arpege_3D_height_20170329.nc\n",
      "./data/Train/Train/X_forecast/2D_arpege_20160205.nc\n",
      "./data/Train/Train/X_forecast/2D_arpege_20161225.nc\n",
      "./data/Train/Train/X_forecast/2D_arome_20170513.nc\n",
      "./data/Train/Train/X_forecast/2D_arpege_20160929.nc\n",
      "./data/Train/Train/X_forecast/arpege_3D_height_20160214.nc\n",
      "./data/Train/Train/X_forecast/2D_arome_20160404.nc\n",
      "./data/Train/Train/X_forecast/arpege_3D_height_20161010.nc\n",
      "./data/Train/Train/X_forecast/arpege_3D_height_20160408.nc\n",
      "./data/Train/Train/X_forecast/2D_arpege_20170508.nc\n",
      "./data/Train/Train/X_forecast/arpege_3D_height_20160428.nc\n",
      "./data/Train/Train/X_forecast/arpege_3D_isobar_20171003.nc\n",
      "./data/Train/Train/X_forecast/2D_arpege_20170311.nc\n",
      "./data/Train/Train/X_forecast/2D_arome_20160409.nc\n",
      "./data/Train/Train/X_forecast/2D_arome_20171217.nc\n",
      "./data/Train/Train/X_forecast/2D_arome_20161031.nc\n",
      "./data/Train/Train/X_forecast/2D_arome_20170726.nc\n",
      "./data/Train/Train/X_forecast/arpege_3D_height_20160902.nc\n",
      "./data/Train/Train/X_forecast/arpege_3D_isobar_20160130.nc\n",
      "./data/Train/Train/X_forecast/2D_arome_20170817.nc\n",
      "./data/Train/Train/X_forecast/2D_arpege_20160408.nc\n",
      "./data/Train/Train/X_forecast/arpege_3D_isobar_20170710.nc\n",
      "./data/Train/Train/X_forecast/2D_arome_20160512.nc\n",
      "./data/Train/Train/X_forecast/2D_arome_20160223.nc\n",
      "./data/Train/Train/X_forecast/arpege_3D_isobar_20160526.nc\n",
      "./data/Train/Train/X_forecast/2D_arpege_20160817.nc\n",
      "./data/Train/Train/X_forecast/arpege_3D_height_20170413.nc\n",
      "./data/Train/Train/X_forecast/2D_arpege_20161012.nc\n",
      "./data/Train/Train/X_forecast/2D_arpege_20160302.nc\n",
      "./data/Train/Train/X_forecast/2D_arome_20170222.nc\n",
      "./data/Train/Train/X_forecast/arpege_3D_isobar_20161206.nc\n",
      "./data/Train/Train/X_forecast/arpege_3D_height_20160515.nc\n",
      "./data/Train/Train/X_forecast/2D_arome_20160603.nc\n",
      "./data/Train/Train/X_forecast/arpege_3D_isobar_20170516.nc\n",
      "./data/Train/Train/X_forecast/arpege_3D_height_20160724.nc\n",
      "./data/Train/Train/X_forecast/arpege_3D_height_20160312.nc\n",
      "./data/Train/Train/X_forecast/2D_arpege_20170216.nc\n",
      "./data/Train/Train/X_forecast/arpege_3D_height_20160327.nc\n",
      "./data/Train/Train/X_forecast/arpege_3D_height_20160426.nc\n",
      "./data/Train/Train/X_forecast/arpege_3D_isobar_20170711.nc\n",
      "./data/Train/Train/X_forecast/arpege_3D_isobar_20170814.nc\n",
      "./data/Train/Train/X_forecast/arpege_3D_height_20171208.nc\n",
      "./data/Train/Train/X_forecast/arpege_3D_isobar_20160613.nc\n",
      "./data/Train/Train/X_forecast/arpege_3D_height_20160519.nc\n",
      "./data/Train/Train/X_forecast/arpege_3D_height_20170218.nc\n",
      "./data/Train/Train/X_forecast/2D_arpege_20160423.nc\n",
      "./data/Train/Train/X_forecast/2D_arome_20160525.nc\n",
      "./data/Train/Train/X_forecast/2D_arpege_20160427.nc\n",
      "./data/Train/Train/X_forecast/arpege_3D_height_20170622.nc\n",
      "./data/Train/Train/X_forecast/arpege_3D_height_20170618.nc\n",
      "./data/Train/Train/X_forecast/2D_arpege_20170515.nc\n",
      "./data/Train/Train/X_forecast/arpege_3D_height_20170322.nc\n",
      "./data/Train/Train/X_forecast/2D_arome_20160324.nc\n",
      "./data/Train/Train/X_forecast/2D_arome_20160312.nc\n",
      "./data/Train/Train/X_forecast/2D_arpege_20160304.nc\n",
      "./data/Train/Train/X_forecast/2D_arome_20171209.nc\n",
      "./data/Train/Train/X_forecast/arpege_3D_isobar_20171106.nc\n",
      "./data/Train/Train/X_forecast/2D_arome_20170325.nc\n",
      "./data/Train/Train/X_forecast/2D_arpege_20170309.nc\n",
      "./data/Train/Train/X_forecast/2D_arpege_20160715.nc\n",
      "./data/Train/Train/X_forecast/arpege_3D_isobar_20161006.nc\n",
      "./data/Train/Train/X_forecast/arpege_3D_isobar_20161109.nc\n",
      "./data/Train/Train/X_forecast/2D_arome_20160908.nc\n",
      "./data/Train/Train/X_forecast/2D_arpege_20170526.nc\n",
      "./data/Train/Train/X_forecast/arpege_3D_height_20160924.nc\n",
      "./data/Train/Train/X_forecast/arpege_3D_height_20160602.nc\n",
      "./data/Train/Train/X_forecast/2D_arpege_20170517.nc\n",
      "./data/Train/Train/X_forecast/arpege_3D_isobar_20170702.nc\n",
      "./data/Train/Train/X_forecast/arpege_3D_isobar_20170228.nc\n",
      "./data/Train/Train/X_forecast/arpege_3D_isobar_20170212.nc\n",
      "./data/Train/Train/X_forecast/arpege_3D_isobar_20160815.nc\n",
      "./data/Train/Train/X_forecast/arpege_3D_height_20160904.nc\n",
      "./data/Train/Train/X_forecast/2D_arome_20160921.nc\n",
      "./data/Train/Train/X_forecast/2D_arpege_20170228.nc\n",
      "./data/Train/Train/X_forecast/2D_arome_20160311.nc\n",
      "./data/Train/Train/X_forecast/arpege_3D_isobar_20160603.nc\n",
      "./data/Train/Train/X_forecast/arpege_3D_isobar_20160310.nc\n",
      "./data/Train/Train/X_forecast/2D_arome_20160715.nc\n",
      "./data/Train/Train/X_forecast/arpege_3D_height_20160525.nc\n",
      "./data/Train/Train/X_forecast/arpege_3D_isobar_20160622.nc\n",
      "./data/Train/Train/X_forecast/arpege_3D_isobar_20160315.nc\n",
      "./data/Train/Train/X_forecast/arpege_3D_height_20160830.nc\n",
      "./data/Train/Train/X_forecast/arpege_3D_isobar_20160219.nc\n",
      "./data/Train/Train/X_forecast/2D_arpege_20160603.nc\n",
      "./data/Train/Train/X_forecast/2D_arpege_20160625.nc\n",
      "./data/Train/Train/X_forecast/arpege_3D_height_20160711.nc\n",
      "./data/Train/Train/X_forecast/arpege_3D_height_20171021.nc\n",
      "./data/Train/Train/X_forecast/arpege_3D_isobar_20170531.nc\n",
      "./data/Train/Train/X_forecast/2D_arome_20160804.nc\n",
      "./data/Train/Train/X_forecast/arpege_3D_isobar_20171110.nc\n",
      "./data/Train/Train/X_forecast/2D_arome_20160820.nc\n",
      "./data/Train/Train/X_forecast/arpege_3D_height_20160721.nc\n",
      "./data/Train/Train/X_forecast/arpege_3D_isobar_20160904.nc\n",
      "./data/Train/Train/X_forecast/arpege_3D_height_20160313.nc\n",
      "./data/Train/Train/X_forecast/arpege_3D_height_20161104.nc\n",
      "./data/Train/Train/X_forecast/2D_arpege_20171219.nc\n",
      "./data/Train/Train/X_forecast/2D_arome_20170918.nc\n",
      "./data/Train/Train/X_forecast/arpege_3D_isobar_20160102.nc\n",
      "./data/Train/Train/X_forecast/2D_arpege_20170310.nc\n",
      "./data/Train/Train/X_forecast/arpege_3D_height_20160510.nc\n",
      "./data/Train/Train/X_forecast/2D_arome_20170521.nc\n",
      "./data/Train/Train/X_forecast/2D_arpege_20160512.nc\n",
      "./data/Train/Train/X_forecast/arpege_3D_height_20171109.nc\n",
      "./data/Train/Train/X_forecast/arpege_3D_isobar_20160615.nc\n",
      "./data/Train/Train/X_forecast/2D_arpege_20160312.nc\n",
      "./data/Train/Train/X_forecast/arpege_3D_height_20170709.nc\n",
      "./data/Train/Train/X_forecast/2D_arome_20170604.nc\n",
      "./data/Train/Train/X_forecast/arpege_3D_isobar_20160426.nc\n",
      "./data/Train/Train/X_forecast/2D_arpege_20170102.nc\n",
      "./data/Train/Train/X_forecast/arpege_3D_height_20170416.nc\n",
      "./data/Train/Train/X_forecast/2D_arome_20160406.nc\n",
      "./data/Train/Train/X_forecast/2D_arpege_20160130.nc\n",
      "./data/Train/Train/X_forecast/arpege_3D_height_20171227.nc\n",
      "./data/Train/Train/X_forecast/arpege_3D_isobar_20160910.nc\n",
      "./data/Train/Train/X_forecast/arpege_3D_height_20171005.nc\n",
      "./data/Train/Train/X_forecast/arpege_3D_isobar_20161011.nc\n",
      "./data/Train/Train/X_forecast/2D_arpege_20160912.nc\n",
      "./data/Train/Train/X_forecast/2D_arome_20161019.nc\n",
      "./data/Train/Train/X_forecast/arpege_3D_height_20170806.nc\n",
      "./data/Train/Train/X_forecast/arpege_3D_height_20170912.nc\n",
      "./data/Train/Train/X_forecast/arpege_3D_isobar_20160819.nc\n",
      "./data/Train/Train/X_forecast/arpege_3D_height_20170127.nc\n",
      "./data/Train/Train/X_forecast/arpege_3D_height_20171126.nc\n",
      "./data/Train/Train/X_forecast/arpege_3D_height_20160911.nc\n",
      "./data/Train/Train/X_forecast/2D_arome_20170523.nc\n",
      "./data/Train/Train/X_forecast/arpege_3D_isobar_20170603.nc\n",
      "./data/Train/Train/X_forecast/2D_arome_20171014.nc\n",
      "./data/Train/Train/X_forecast/2D_arome_20160115.nc\n",
      "./data/Train/Train/X_forecast/arpege_3D_isobar_20160212.nc\n",
      "./data/Train/Train/X_forecast/arpege_3D_height_20160116.nc\n",
      "./data/Train/Train/X_forecast/2D_arpege_20160612.nc\n",
      "./data/Train/Train/X_forecast/2D_arome_20170819.nc\n",
      "./data/Train/Train/X_forecast/arpege_3D_height_20170109.nc\n",
      "./data/Train/Train/X_forecast/2D_arpege_20160109.nc\n",
      "./data/Train/Train/X_forecast/arpege_3D_height_20160209.nc\n",
      "./data/Train/Train/X_forecast/arpege_3D_isobar_20160818.nc\n",
      "./data/Train/Train/X_forecast/2D_arpege_20160515.nc\n",
      "./data/Train/Train/X_forecast/arpege_3D_isobar_20160520.nc\n",
      "./data/Train/Train/X_forecast/2D_arpege_20160915.nc\n",
      "./data/Train/Train/X_forecast/arpege_3D_height_20160506.nc\n",
      "./data/Train/Train/X_forecast/arpege_3D_isobar_20171103.nc\n",
      "./data/Train/Train/X_forecast/2D_arome_20160306.nc\n",
      "./data/Train/Train/X_forecast/arpege_3D_isobar_20170305.nc\n",
      "./data/Train/Train/X_forecast/arpege_3D_height_20160303.nc\n",
      "./data/Train/Train/X_forecast/2D_arpege_20171103.nc\n",
      "./data/Train/Train/X_forecast/arpege_3D_isobar_20170215.nc\n",
      "./data/Train/Train/X_forecast/arpege_3D_isobar_20171120.nc\n",
      "./data/Train/Train/X_forecast/arpege_3D_height_20160119.nc\n",
      "./data/Train/Train/X_forecast/2D_arpege_20170920.nc\n",
      "./data/Train/Train/X_forecast/arpege_3D_isobar_20170226.nc\n",
      "./data/Train/Train/X_forecast/arpege_3D_height_20161226.nc\n",
      "./data/Train/Train/X_forecast/2D_arpege_20170317.nc\n",
      "./data/Train/Train/X_forecast/2D_arome_20170913.nc\n",
      "./data/Train/Train/X_forecast/arpege_3D_isobar_20170503.nc\n",
      "./data/Train/Train/X_forecast/2D_arome_20160505.nc\n",
      "./data/Train/Train/X_forecast/2D_arome_20161126.nc\n",
      "./data/Train/Train/X_forecast/arpege_3D_height_20160529.nc\n",
      "./data/Train/Train/X_forecast/2D_arome_20170920.nc\n",
      "./data/Train/Train/X_forecast/2D_arome_20160507.nc\n",
      "./data/Train/Train/X_forecast/2D_arpege_20160613.nc\n",
      "./data/Train/Train/X_forecast/arpege_3D_isobar_20170726.nc\n",
      "./data/Train/Train/X_forecast/arpege_3D_height_20160818.nc\n",
      "./data/Train/Train/X_forecast/arpege_3D_isobar_20170701.nc\n",
      "./data/Train/Train/X_forecast/arpege_3D_isobar_20171218.nc\n",
      "./data/Train/Train/X_forecast/arpege_3D_height_20160615.nc\n",
      "./data/Train/Train/X_forecast/arpege_3D_height_20160301.nc\n",
      "./data/Train/Train/X_forecast/2D_arome_20160720.nc\n",
      "./data/Train/Train/X_forecast/arpege_3D_height_20170810.nc\n",
      "./data/Train/Train/X_forecast/arpege_3D_isobar_20160801.nc\n",
      "./data/Train/Train/X_forecast/arpege_3D_height_20170129.nc\n",
      "./data/Train/Train/X_forecast/2D_arpege_20161102.nc\n",
      "./data/Train/Train/X_forecast/arpege_3D_height_20160103.nc\n",
      "./data/Train/Train/X_forecast/arpege_3D_isobar_20160909.nc\n",
      "./data/Train/Train/X_forecast/2D_arome_20170715.nc\n",
      "./data/Train/Train/X_forecast/arpege_3D_height_20160912.nc\n",
      "./data/Train/Train/X_forecast/arpege_3D_height_20171001.nc\n",
      "./data/Train/Train/X_forecast/arpege_3D_isobar_20160501.nc\n",
      "./data/Train/Train/X_forecast/arpege_3D_isobar_20160118.nc\n",
      "./data/Train/Train/X_forecast/arpege_3D_isobar_20160627.nc\n",
      "./data/Train/Train/X_forecast/2D_arpege_20160820.nc\n",
      "./data/Train/Train/X_forecast/2D_arome_20160413.nc\n",
      "./data/Train/Train/X_forecast/2D_arome_20161104.nc\n",
      "./data/Train/Train/X_forecast/2D_arpege_20160705.nc\n",
      "./data/Train/Train/X_forecast/arpege_3D_isobar_20160723.nc\n",
      "./data/Train/Train/X_forecast/2D_arpege_20170717.nc\n",
      "./data/Train/Train/X_forecast/arpege_3D_isobar_20171005.nc\n",
      "./data/Train/Train/X_forecast/arpege_3D_isobar_20160129.nc\n",
      "./data/Train/Train/X_forecast/2D_arpege_20170917.nc\n",
      "./data/Train/Train/X_forecast/2D_arpege_20161007.nc\n",
      "./data/Train/Train/X_forecast/arpege_3D_height_20171023.nc\n",
      "./data/Train/Train/X_forecast/2D_arome_20160508.nc\n",
      "./data/Train/Train/X_forecast/2D_arome_20160501.nc\n",
      "./data/Train/Train/X_forecast/arpege_3D_height_20170402.nc\n",
      "./data/Train/Train/X_forecast/arpege_3D_isobar_20160522.nc\n",
      "./data/Train/Train/X_forecast/2D_arpege_20170626.nc\n",
      "./data/Train/Train/X_forecast/2D_arome_20160705.nc\n",
      "./data/Train/Train/X_forecast/arpege_3D_isobar_20161205.nc\n",
      "./data/Train/Train/X_forecast/2D_arpege_20170620.nc\n",
      "./data/Train/Train/X_forecast/arpege_3D_isobar_20160402.nc\n",
      "./data/Train/Train/X_forecast/arpege_3D_isobar_20160127.nc\n",
      "./data/Train/Train/X_forecast/2D_arome_20160922.nc\n",
      "./data/Train/Train/X_forecast/arpege_3D_isobar_20161101.nc\n",
      "./data/Train/Train/X_forecast/2D_arome_20170216.nc\n",
      "./data/Train/Train/X_forecast/2D_arpege_20160324.nc\n",
      "./data/Train/Train/X_forecast/2D_arome_20171212.nc\n",
      "./data/Train/Train/X_forecast/arpege_3D_height_20171114.nc\n",
      "./data/Train/Train/X_forecast/2D_arome_20160730.nc\n",
      "./data/Train/Train/X_forecast/arpege_3D_height_20170111.nc\n",
      "./data/Train/Train/X_forecast/arpege_3D_isobar_20160629.nc\n",
      "./data/Train/Train/X_forecast/2D_arome_20170403.nc\n",
      "./data/Train/Train/X_forecast/arpege_3D_height_20170829.nc\n",
      "./data/Train/Train/X_forecast/arpege_3D_height_20160810.nc\n",
      "./data/Train/Train/X_forecast/arpege_3D_height_20171020.nc\n",
      "./data/Train/Train/X_forecast/arpege_3D_height_20160202.nc\n",
      "./data/Train/Train/X_forecast/arpege_3D_height_20160130.nc\n",
      "./data/Train/Train/X_forecast/arpege_3D_isobar_20161021.nc\n",
      "./data/Train/Train/X_forecast/2D_arpege_20160217.nc\n",
      "./data/Train/Train/X_forecast/2D_arpege_20170628.nc\n",
      "./data/Train/Train/X_forecast/2D_arome_20170709.nc\n",
      "./data/Train/Train/X_forecast/2D_arome_20161119.nc\n",
      "./data/Train/Train/X_forecast/2D_arpege_20170909.nc\n",
      "./data/Train/Train/X_forecast/arpege_3D_height_20160531.nc\n",
      "./data/Train/Train/X_forecast/2D_arpege_20170522.nc\n",
      "./data/Train/Train/X_forecast/arpege_3D_height_20160831.nc\n",
      "./data/Train/Train/X_forecast/arpege_3D_isobar_20160914.nc\n",
      "./data/Train/Train/X_forecast/arpege_3D_height_20170312.nc\n",
      "./data/Train/Train/X_forecast/2D_arome_20160609.nc\n",
      "./data/Train/Train/X_forecast/arpege_3D_isobar_20170719.nc\n",
      "./data/Train/Train/X_forecast/arpege_3D_height_20160430.nc\n",
      "./data/Train/Train/X_forecast/2D_arpege_20160121.nc\n",
      "./data/Train/Train/X_forecast/2D_arome_20160619.nc\n",
      "./data/Train/Train/X_forecast/2D_arome_20161110.nc\n",
      "./data/Train/Train/X_forecast/arpege_3D_isobar_20170930.nc\n",
      "./data/Train/Train/X_forecast/2D_arome_20160616.nc\n",
      "./data/Train/Train/X_forecast/arpege_3D_height_20170906.nc\n",
      "./data/Train/Train/X_forecast/2D_arome_20160307.nc\n",
      "./data/Train/Train/X_forecast/2D_arome_20170809.nc\n",
      "./data/Train/Train/X_forecast/arpege_3D_height_20160719.nc\n",
      "./data/Train/Train/X_forecast/arpege_3D_height_20160422.nc\n",
      "./data/Train/Train/X_forecast/arpege_3D_height_20170401.nc\n",
      "./data/Train/Train/X_forecast/2D_arpege_20160607.nc\n",
      "./data/Train/Train/X_forecast/2D_arpege_20160211.nc\n",
      "./data/Train/Train/X_forecast/2D_arome_20171108.nc\n",
      "./data/Train/Train/X_forecast/2D_arome_20160509.nc\n",
      "./data/Train/Train/X_forecast/2D_arome_20161211.nc\n",
      "./data/Train/Train/X_forecast/arpege_3D_height_20160323.nc\n",
      "./data/Train/Train/X_forecast/2D_arpege_20160624.nc\n",
      "./data/Train/Train/X_forecast/2D_arpege_20161222.nc\n",
      "./data/Train/Train/X_forecast/2D_arpege_20170610.nc\n",
      "./data/Train/Train/X_forecast/arpege_3D_height_20160504.nc\n",
      "./data/Train/Train/X_forecast/2D_arpege_20161203.nc\n",
      "./data/Train/Train/X_forecast/arpege_3D_height_20170418.nc\n",
      "./data/Train/Train/X_forecast/2D_arome_20171205.nc\n",
      "./data/Train/Train/X_forecast/2D_arpege_20160701.nc\n",
      "./data/Train/Train/X_forecast/arpege_3D_isobar_20170803.nc\n",
      "./data/Train/Train/X_forecast/arpege_3D_isobar_20160326.nc\n",
      "./data/Train/Train/X_forecast/arpege_3D_isobar_20170720.nc\n",
      "./data/Train/Train/X_forecast/arpege_3D_height_20161106.nc\n",
      "./data/Train/Train/X_forecast/2D_arome_20171211.nc\n",
      "./data/Train/Train/X_forecast/arpege_3D_height_20170716.nc\n",
      "./data/Train/Train/X_forecast/arpege_3D_height_20161222.nc\n",
      "./data/Train/Train/X_forecast/arpege_3D_isobar_20160331.nc\n",
      "./data/Train/Train/X_forecast/arpege_3D_isobar_20161117.nc\n",
      "./data/Train/Train/X_forecast/arpege_3D_isobar_20161115.nc\n",
      "./data/Train/Train/X_forecast/arpege_3D_isobar_20170922.nc\n",
      "./data/Train/Train/X_forecast/arpege_3D_height_20160806.nc\n",
      "./data/Train/Train/X_forecast/2D_arome_20160824.nc\n",
      "./data/Train/Train/X_forecast/2D_arpege_20160128.nc\n",
      "./data/Train/Train/X_forecast/arpege_3D_isobar_20170721.nc\n",
      "./data/Train/Train/X_forecast/2D_arpege_20170609.nc\n",
      "./data/Train/Train/X_forecast/2D_arpege_20160709.nc\n",
      "./data/Train/Train/X_forecast/2D_arome_20160110.nc\n",
      "./data/Train/Train/X_forecast/arpege_3D_height_20170211.nc\n",
      "./data/Train/Train/X_forecast/arpege_3D_height_20170920.nc\n",
      "./data/Train/Train/X_forecast/arpege_3D_height_20160404.nc\n",
      "./data/Train/Train/X_forecast/2D_arome_20170517.nc\n",
      "./data/Train/Train/X_forecast/2D_arpege_20160920.nc\n",
      "./data/Train/Train/X_forecast/arpege_3D_isobar_20160308.nc\n",
      "./data/Train/Train/X_forecast/2D_arome_20171105.nc\n",
      "./data/Train/Train/X_forecast/2D_arpege_20170303.nc\n",
      "./data/Train/Train/X_forecast/arpege_3D_isobar_20170607.nc\n",
      "./data/Train/Train/X_forecast/2D_arome_20170915.nc\n",
      "./data/Train/Train/X_forecast/2D_arpege_20160117.nc\n",
      "./data/Train/Train/X_forecast/2D_arpege_20160914.nc\n",
      "./data/Train/Train/X_forecast/arpege_3D_height_20170809.nc\n",
      "./data/Train/Train/X_forecast/2D_arpege_20171206.nc\n",
      "./data/Train/Train/X_forecast/arpege_3D_isobar_20160907.nc\n",
      "./data/Train/Train/X_forecast/2D_arome_20170622.nc\n",
      "./data/Train/Train/X_forecast/2D_arome_20170907.nc\n",
      "./data/Train/Train/X_forecast/arpege_3D_isobar_20160221.nc\n",
      "./data/Train/Train/X_forecast/2D_arome_20170123.nc\n",
      "./data/Train/Train/X_forecast/arpege_3D_height_20160908.nc\n",
      "./data/Train/Train/X_forecast/arpege_3D_isobar_20160302.nc\n",
      "./data/Train/Train/X_forecast/2D_arpege_20161114.nc\n",
      "./data/Train/Train/X_forecast/2D_arpege_20171228.nc\n",
      "./data/Train/Train/X_forecast/2D_arome_20170813.nc\n",
      "./data/Train/Train/X_forecast/arpege_3D_height_20160923.nc\n",
      "./data/Train/Train/X_forecast/2D_arpege_20161129.nc\n",
      "./data/Train/Train/X_forecast/arpege_3D_isobar_20171108.nc\n",
      "./data/Train/Train/X_forecast/arpege_3D_height_20161026.nc\n",
      "./data/Train/Train/X_forecast/arpege_3D_height_20160310.nc\n",
      "./data/Train/Train/X_forecast/arpege_3D_height_20160907.nc\n",
      "./data/Train/Train/X_forecast/arpege_3D_isobar_20160413.nc\n",
      "./data/Train/Train/X_forecast/2D_arome_20160808.nc\n",
      "./data/Train/Train/X_forecast/2D_arpege_20170906.nc\n",
      "./data/Train/Train/X_forecast/2D_arpege_20160714.nc\n",
      "./data/Train/Train/X_forecast/2D_arpege_20170608.nc\n",
      "./data/Train/Train/X_forecast/2D_arpege_20170604.nc\n",
      "./data/Train/Train/X_forecast/arpege_3D_isobar_20170630.nc\n",
      "./data/Train/Train/X_forecast/2D_arome_20170630.nc\n",
      "./data/Train/Train/X_forecast/2D_arome_20160319.nc\n",
      "./data/Train/Train/X_forecast/2D_arome_20170520.nc\n",
      "./data/Train/Train/X_forecast/arpege_3D_isobar_20160920.nc\n",
      "./data/Train/Train/X_forecast/arpege_3D_height_20160104.nc\n",
      "./data/Train/Train/X_forecast/2D_arome_20160524.nc\n",
      "./data/Train/Train/X_forecast/arpege_3D_height_20161205.nc\n",
      "./data/Train/Train/X_forecast/arpege_3D_isobar_20160820.nc\n",
      "./data/Train/Train/X_forecast/arpege_3D_isobar_20160103.nc\n",
      "./data/Train/Train/X_forecast/2D_arpege_20161006.nc\n",
      "./data/Train/Train/X_forecast/arpege_3D_isobar_20170704.nc\n",
      "./data/Train/Train/X_forecast/2D_arome_20161011.nc\n",
      "./data/Train/Train/X_forecast/arpege_3D_height_20170227.nc\n",
      "./data/Train/Train/X_forecast/arpege_3D_height_20160915.nc\n",
      "./data/Train/Train/X_forecast/arpege_3D_height_20170221.nc\n",
      "./data/Train/Train/X_forecast/arpege_3D_height_20161011.nc\n",
      "./data/Train/Train/X_forecast/2D_arpege_20160529.nc\n",
      "./data/Train/Train/X_forecast/2D_arome_20160109.nc\n",
      "./data/Train/Train/X_forecast/2D_arome_20161116.nc\n",
      "./data/Train/Train/X_forecast/arpege_3D_height_20170518.nc\n",
      "./data/Train/Train/X_forecast/arpege_3D_isobar_20160715.nc\n",
      "./data/Train/Train/X_forecast/arpege_3D_isobar_20160204.nc\n",
      "./data/Train/Train/X_forecast/2D_arome_20161130.nc\n",
      "./data/Train/Train/X_forecast/2D_arome_20170723.nc\n",
      "./data/Train/Train/X_forecast/arpege_3D_isobar_20160227.nc\n",
      "./data/Train/Train/X_forecast/arpege_3D_isobar_20160429.nc\n",
      "./data/Train/Train/X_forecast/arpege_3D_isobar_20160922.nc\n",
      "./data/Train/Train/X_forecast/arpege_3D_height_20160102.nc\n",
      "./data/Train/Train/X_forecast/arpege_3D_isobar_20170821.nc\n",
      "./data/Train/Train/X_forecast/arpege_3D_isobar_20160420.nc\n",
      "./data/Train/Train/X_forecast/arpege_3D_height_20170802.nc\n",
      "./data/Train/Train/X_forecast/arpege_3D_height_20170521.nc\n",
      "./data/Train/Train/X_forecast/2D_arpege_20170713.nc\n",
      "./data/Train/Train/X_forecast/arpege_3D_isobar_20170910.nc\n",
      "./data/Train/Train/X_forecast/2D_arpege_20161030.nc\n",
      "./data/Train/Train/X_forecast/arpege_3D_height_20160816.nc\n",
      "./data/Train/Train/X_forecast/2D_arome_20171125.nc\n",
      "./data/Train/Train/X_forecast/2D_arpege_20171119.nc\n",
      "./data/Train/Train/X_forecast/2D_arome_20170525.nc\n",
      "./data/Train/Train/X_forecast/arpege_3D_height_20170627.nc\n",
      "./data/Train/Train/X_forecast/2D_arome_20170212.nc\n",
      "./data/Train/Train/X_forecast/2D_arpege_20160119.nc\n",
      "./data/Train/Train/X_forecast/arpege_3D_isobar_20160706.nc\n",
      "./data/Train/Train/X_forecast/2D_arpege_20160313.nc\n",
      "./data/Train/Train/X_forecast/arpege_3D_isobar_20160826.nc\n",
      "./data/Train/Train/X_forecast/arpege_3D_height_20170805.nc\n",
      "./data/Train/Train/X_forecast/arpege_3D_height_20160914.nc\n",
      "./data/Train/Train/X_forecast/2D_arome_20160205.nc\n",
      "./data/Train/Train/X_forecast/2D_arpege_20160318.nc\n",
      "./data/Train/Train/X_forecast/arpege_3D_isobar_20160403.nc\n",
      "./data/Train/Train/X_forecast/2D_arpege_20170627.nc\n",
      "./data/Train/Train/X_forecast/2D_arome_20161008.nc\n",
      "./data/Train/Train/X_forecast/arpege_3D_height_20160109.nc\n",
      "./data/Train/Train/X_forecast/arpege_3D_height_20170320.nc\n",
      "./data/Train/Train/X_forecast/2D_arome_20161220.nc\n",
      "./data/Train/Train/X_forecast/arpege_3D_isobar_20160325.nc\n",
      "./data/Train/Train/X_forecast/2D_arome_20161212.nc\n",
      "./data/Train/Train/X_forecast/2D_arome_20171119.nc\n",
      "./data/Train/Train/X_forecast/2D_arpege_20161130.nc\n",
      "./data/Train/Train/X_forecast/2D_arpege_20170711.nc\n",
      "./data/Train/Train/X_forecast/2D_arome_20160428.nc\n",
      "./data/Train/Train/X_forecast/arpege_3D_isobar_20160513.nc\n",
      "./data/Train/Train/X_forecast/2D_arome_20170731.nc\n",
      "./data/Train/Train/X_forecast/2D_arpege_20170927.nc\n",
      "./data/Train/Train/X_forecast/arpege_3D_isobar_20160502.nc\n",
      "./data/Train/Train/X_forecast/arpege_3D_height_20170201.nc\n",
      "./data/Train/Train/X_forecast/2D_arpege_20170616.nc\n",
      "./data/Train/Train/X_forecast/arpege_3D_height_20161216.nc\n",
      "./data/Train/Train/X_forecast/arpege_3D_isobar_20160611.nc\n",
      "./data/Train/Train/X_forecast/arpege_3D_isobar_20160821.nc\n",
      "./data/Train/Train/X_forecast/arpege_3D_height_20160418.nc\n",
      "./data/Train/Train/X_forecast/arpege_3D_height_20170526.nc\n",
      "./data/Train/Train/X_forecast/arpege_3D_height_20170927.nc\n",
      "./data/Train/Train/X_forecast/arpege_3D_height_20161210.nc\n",
      "./data/Train/Train/X_forecast/arpege_3D_height_20160822.nc\n",
      "./data/Train/Train/X_forecast/arpege_3D_height_20170901.nc\n",
      "./data/Train/Train/X_forecast/arpege_3D_isobar_20171201.nc\n",
      "./data/Train/Train/X_forecast/2D_arpege_20160409.nc\n",
      "./data/Train/Train/X_forecast/2D_arome_20161006.nc\n",
      "./data/Train/Train/X_forecast/2D_arpege_20171217.nc\n",
      "./data/Train/Train/X_forecast/arpege_3D_isobar_20161028.nc\n",
      "./data/Train/Train/X_forecast/2D_arome_20170529.nc\n",
      "./data/Train/Train/X_forecast/2D_arpege_20171202.nc\n",
      "./data/Train/Train/X_forecast/2D_arpege_20170904.nc\n",
      "./data/Train/Train/X_forecast/arpege_3D_height_20161012.nc\n",
      "./data/Train/Train/X_forecast/arpege_3D_height_20160314.nc\n",
      "./data/Train/Train/X_forecast/arpege_3D_isobar_20160411.nc\n",
      "./data/Train/Train/X_forecast/2D_arpege_20161026.nc\n",
      "./data/Train/Train/X_forecast/arpege_3D_isobar_20161122.nc\n",
      "./data/Train/Train/X_forecast/arpege_3D_isobar_20170131.nc\n",
      "./data/Train/Train/X_forecast/arpege_3D_height_20170117.nc\n",
      "./data/Train/Train/X_forecast/2D_arome_20160207.nc\n",
      "./data/Train/Train/X_forecast/arpege_3D_height_20171130.nc\n",
      "./data/Train/Train/X_forecast/arpege_3D_isobar_20161126.nc\n",
      "./data/Train/Train/X_forecast/arpege_3D_height_20170522.nc\n",
      "./data/Train/Train/X_forecast/arpege_3D_isobar_20161024.nc\n",
      "./data/Train/Train/X_forecast/2D_arpege_20160118.nc\n",
      "./data/Train/Train/X_forecast/2D_arome_20160811.nc\n",
      "./data/Train/Train/X_forecast/arpege_3D_isobar_20170306.nc\n",
      "./data/Train/Train/X_forecast/arpege_3D_height_20171111.nc\n",
      "./data/Train/Train/X_forecast/2D_arome_20170217.nc\n",
      "./data/Train/Train/X_forecast/arpege_3D_height_20170412.nc\n",
      "./data/Train/Train/X_forecast/arpege_3D_height_20170406.nc\n",
      "./data/Train/Train/X_forecast/arpege_3D_height_20160521.nc\n",
      "./data/Train/Train/X_forecast/arpege_3D_height_20161211.nc\n",
      "./data/Train/Train/X_forecast/arpege_3D_height_20161031.nc\n",
      "./data/Train/Train/X_forecast/2D_arome_20170419.nc\n",
      "./data/Train/Train/X_forecast/2D_arome_20171202.nc\n",
      "./data/Train/Train/X_forecast/2D_arpege_20170521.nc\n",
      "./data/Train/Train/X_forecast/2D_arpege_20160904.nc\n",
      "./data/Train/Train/X_forecast/2D_arpege_20160621.nc\n",
      "./data/Train/Train/X_forecast/arpege_3D_height_20161020.nc\n",
      "./data/Train/Train/X_forecast/arpege_3D_height_20160713.nc\n",
      "./data/Train/Train/X_forecast/arpege_3D_height_20170313.nc\n",
      "./data/Train/Train/X_forecast/2D_arpege_20160520.nc\n",
      "./data/Train/Train/X_forecast/2D_arome_20170106.nc\n",
      "./data/Train/Train/X_forecast/2D_arpege_20171128.nc\n",
      "./data/Train/Train/X_forecast/2D_arpege_20161229.nc\n",
      "./data/Train/Train/X_forecast/2D_arome_20160617.nc\n",
      "./data/Train/Train/X_forecast/2D_arome_20170720.nc\n",
      "./data/Train/Train/X_forecast/arpege_3D_isobar_20170519.nc\n",
      "./data/Train/Train/X_forecast/2D_arpege_20170302.nc\n",
      "./data/Train/Train/X_forecast/2D_arome_20160218.nc\n",
      "./data/Train/Train/X_forecast/2D_arome_20171009.nc\n",
      "./data/Train/Train/X_forecast/2D_arpege_20160630.nc\n",
      "./data/Train/Train/X_forecast/arpege_3D_isobar_20170624.nc\n",
      "./data/Train/Train/X_forecast/2D_arpege_20160722.nc\n",
      "./data/Train/Train/X_forecast/arpege_3D_isobar_20170928.nc\n",
      "./data/Train/Train/X_forecast/2D_arpege_20160628.nc\n",
      "./data/Train/Train/X_forecast/2D_arpege_20170308.nc\n",
      "./data/Train/Train/X_forecast/2D_arome_20161120.nc\n",
      "./data/Train/Train/X_forecast/2D_arome_20160221.nc\n",
      "./data/Train/Train/X_forecast/arpege_3D_height_20170628.nc\n",
      "./data/Train/Train/X_forecast/2D_arpege_20170106.nc\n",
      "./data/Train/Train/X_forecast/2D_arome_20160310.nc\n",
      "./data/Train/Train/X_forecast/arpege_3D_isobar_20160511.nc\n",
      "./data/Train/Train/X_forecast/arpege_3D_isobar_20170917.nc\n",
      "./data/Train/Train/X_forecast/arpege_3D_isobar_20160705.nc\n",
      "./data/Train/Train/X_forecast/2D_arpege_20170327.nc\n",
      "./data/Train/Train/X_forecast/2D_arome_20160628.nc\n",
      "./data/Train/Train/X_forecast/2D_arome_20160621.nc\n",
      "./data/Train/Train/X_forecast/arpege_3D_height_20161212.nc\n",
      "./data/Train/Train/X_forecast/2D_arpege_20161123.nc\n",
      "./data/Train/Train/X_forecast/2D_arpege_20171201.nc\n",
      "./data/Train/Train/X_forecast/arpege_3D_height_20171204.nc\n",
      "./data/Train/Train/X_forecast/2D_arpege_20160225.nc\n",
      "./data/Train/Train/X_forecast/arpege_3D_isobar_20170219.nc\n",
      "./data/Train/Train/X_forecast/2D_arome_20170919.nc\n",
      "./data/Train/Train/X_forecast/arpege_3D_isobar_20170810.nc\n",
      "./data/Train/Train/X_forecast/arpege_3D_height_20160820.nc\n",
      "./data/Train/Train/X_forecast/arpege_3D_isobar_20160123.nc\n",
      "./data/Train/Train/X_forecast/arpege_3D_isobar_20161016.nc\n",
      "./data/Train/Train/X_forecast/2D_arpege_20170725.nc\n",
      "./data/Train/Train/X_forecast/arpege_3D_isobar_20171129.nc\n",
      "./data/Train/Train/X_forecast/arpege_3D_height_20170217.nc\n",
      "./data/Train/Train/X_forecast/2D_arome_20170205.nc\n",
      "./data/Train/Train/X_forecast/2D_arpege_20160913.nc\n",
      "./data/Train/Train/X_forecast/2D_arpege_20160506.nc\n",
      "./data/Train/Train/X_forecast/2D_arpege_20160604.nc\n",
      "./data/Train/Train/X_forecast/arpege_3D_height_20170723.nc\n",
      "./data/Train/Train/X_forecast/2D_arome_20170825.nc\n",
      "./data/Train/Train/X_forecast/2D_arpege_20171105.nc\n",
      "./data/Train/Train/X_forecast/arpege_3D_isobar_20170730.nc\n",
      "./data/Train/Train/X_forecast/2D_arpege_20171221.nc\n",
      "./data/Train/Train/X_forecast/2D_arpege_20160401.nc\n",
      "./data/Train/Train/X_forecast/2D_arpege_20160413.nc\n",
      "./data/Train/Train/X_forecast/2D_arome_20161012.nc\n",
      "./data/Train/Train/X_forecast/arpege_3D_height_20160916.nc\n",
      "./data/Train/Train/X_forecast/2D_arome_20170324.nc\n",
      "./data/Train/Train/X_forecast/2D_arome_20160329.nc\n",
      "./data/Train/Train/X_forecast/arpege_3D_height_20170324.nc\n",
      "./data/Train/Train/X_forecast/arpege_3D_isobar_20161119.nc\n",
      "./data/Train/Train/X_forecast/2D_arpege_20160930.nc\n",
      "./data/Train/Train/X_forecast/arpege_3D_isobar_20171209.nc\n",
      "./data/Train/Train/X_forecast/arpege_3D_height_20171221.nc\n",
      "./data/Train/Train/X_forecast/2D_arome_20170314.nc\n",
      "./data/Train/Train/X_forecast/arpege_3D_height_20170825.nc\n",
      "./data/Train/Train/X_forecast/2D_arome_20160610.nc\n",
      "./data/Train/Train/X_forecast/2D_arpege_20161228.nc\n",
      "./data/Train/Train/X_forecast/2D_arome_20170824.nc\n",
      "./data/Train/Train/X_forecast/arpege_3D_isobar_20171128.nc\n",
      "./data/Train/Train/X_forecast/arpege_3D_height_20170423.nc\n",
      "./data/Train/Train/X_forecast/2D_arpege_20160728.nc\n",
      "./data/Train/Train/X_forecast/2D_arome_20160618.nc\n",
      "./data/Train/Train/X_forecast/arpege_3D_height_20170713.nc\n",
      "./data/Train/Train/X_forecast/arpege_3D_height_20160727.nc\n",
      "./data/Train/Train/X_forecast/2D_arome_20170805.nc\n",
      "./data/Train/Train/X_forecast/arpege_3D_isobar_20171024.nc\n",
      "./data/Train/Train/X_forecast/arpege_3D_height_20161209.nc\n",
      "./data/Train/Train/X_forecast/2D_arome_20160224.nc\n",
      "./data/Train/Train/X_forecast/arpege_3D_height_20160211.nc\n",
      "./data/Train/Train/X_forecast/arpege_3D_isobar_20170225.nc\n",
      "./data/Train/Train/X_forecast/2D_arpege_20160111.nc\n",
      "./data/Train/Train/X_forecast/2D_arpege_20160104.nc\n",
      "./data/Train/Train/X_forecast/2D_arome_20170331.nc\n",
      "./data/Train/Train/X_forecast/2D_arpege_20170207.nc\n",
      "./data/Train/Train/X_forecast/arpege_3D_isobar_20171019.nc\n",
      "./data/Train/Train/X_forecast/2D_arome_20160708.nc\n",
      "./data/Train/Train/X_forecast/arpege_3D_height_20171027.nc\n",
      "./data/Train/Train/X_forecast/arpege_3D_height_20160604.nc\n",
      "./data/Train/Train/X_forecast/2D_arpege_20160321.nc\n",
      "./data/Train/Train/X_forecast/arpege_3D_height_20160117.nc\n",
      "./data/Train/Train/X_forecast/arpege_3D_height_20160709.nc\n",
      "./data/Train/Train/X_forecast/2D_arome_20171220.nc\n",
      "./data/Train/Train/X_forecast/2D_arome_20160326.nc\n",
      "./data/Train/Train/Baselines/Baseline_forecast_train.csv\n",
      "./data/Train/Train/Baselines/Baseline_observation_train.csv\n",
      "./.ipynb_checkpoints/casia-train-model-checkpoint.ipynb\n",
      "./working/train.csv\n",
      "./working/test.csv\n",
      "./working/my_baseline.csv\n",
      "./working/submission.csv\n",
      "./working/submission_svr.csv\n",
      "./.git/index\n",
      "./.git/config\n",
      "./.git/FETCH_HEAD\n",
      "./.git/description\n",
      "./.git/packed-refs\n",
      "./.git/HEAD\n",
      "./.git/ORIG_HEAD\n",
      "./.git/COMMIT_EDITMSG\n",
      "./.git/objects/57/08707e633550924fa13787435f3c9c255807ce\n",
      "./.git/objects/57/5323a02bf41fafc68180467c47aac750730adf\n",
      "./.git/objects/05/17e567f270329fddc3672ab53d3bf3a7425d7c\n",
      "./.git/objects/05/8fe4d7101bd102451e2ff9e95e7ec307f668ba\n",
      "./.git/objects/ef/e396fa9b59a966dbfa5705969152337067e173\n",
      "./.git/objects/5b/fcbab3107808f5b7cc9b34daa999176e0cf03a\n",
      "./.git/objects/5e/8baef0d3d40017197c5256f72547282521595a\n",
      "./.git/objects/90/e7f93ead44b81881e4d2a2bc460fbe01fa7812\n",
      "./.git/objects/48/67399e56079694ea6feb0037805c5042d09fb2\n",
      "./.git/objects/2e/1db2f533e01878be9e4ba6f8ec550d49d37aec\n",
      "./.git/objects/17/d82798140175652290932564c12a091cbaec28\n",
      "./.git/objects/dc/b3666889f7d0e91a32d603f42c966b6211279b\n",
      "./.git/objects/ed/2d3fff1b605ddb4469b290096837ea981c6f3e\n",
      "./.git/objects/ed/1a059b7a0ac7acc055bed00bdf0a5587c17c18\n",
      "./.git/objects/03/012690a86fe84f551010295a161af397381287\n",
      "./.git/objects/03/b8a32367e35769f3a07190f4a87e98b3ee9ede\n",
      "./.git/objects/cc/1c43008372d7d0315add46ad6e8e3dbaceb5bf\n",
      "./.git/objects/30/588fec1c1681eed096b31de41c6d1c817b52ce\n",
      "./.git/objects/0b/d4410c1a310a83203bd6a8931c27c101c517aa\n",
      "./.git/objects/2b/daddbb3a1986a1b17cf5b168857866f1379e93\n",
      "./.git/objects/ea/9b70d97dc6d21d8b5bfa50ff885398d485d4a4\n",
      "./.git/objects/ea/fb24729a83cbbdfa9aebf54e1f62699a41d6f5\n",
      "./.git/objects/82/76ceffa62560454da7b0b93c86d205c52dc8da\n",
      "./.git/objects/be/4c3973e835fa022d5e74cc2c7e6be030767182\n",
      "./.git/objects/87/e90c441565db1ad74767852edea155fd6e4c86\n",
      "./.git/objects/f7/1f97c3e74c62b96c6a4cdf90c6e19b4a84b9f5\n",
      "./.git/objects/20/6e393f0f64b7053254c7d6204348e0f805a4c3\n",
      "./.git/objects/de/8f401580cc6a071cd6fddd126647835f206485\n",
      "./.git/objects/8b/3f5edcfec8ee41845ea6d10e301084651e0ca8\n",
      "./.git/objects/8b/f847667bfcd1c33587b36529e158f47eb50ee5\n",
      "./.git/objects/34/7ad612eee30089146e940982f4402ba23b8e22\n",
      "./.git/objects/35/fc57703a3449d6867b3b06f829ef008d18081a\n",
      "./.git/objects/3e/fa2cbb8a51c726f878ed763184f483095af2f7\n",
      "./.git/objects/c7/19609985e06cf0ebd326b8d8071e12feffbe64\n",
      "./.git/objects/02/593fe6cd681f0def6f6286227a6cafe71fff13\n",
      "./.git/objects/02/c478d2c1ddb84108bb395b3a3689b6cffcd7b2\n",
      "./.git/objects/a9/6bb2f8f7ad475a5e32f419a348b9bdde6ca81e\n",
      "./.git/objects/a9/0401a81ddb2eb80a01b586cb3bac4fe8395c21\n",
      "./.git/objects/a9/4f29a3cbca34c73ba7e45508d99a53b8900a1e\n",
      "./.git/objects/d9/797c060a331efec3704215b57052fb22ad5e49\n",
      "./.git/objects/af/56e2ec3305e7cbd242d7bc5330283a2732b67e\n",
      "./.git/objects/f3/73eff936690ab2de119cae35c75366f7477e90\n",
      "./.git/objects/da/b2ff85f3b0635fd5bd6689cc5b9ae87554732a\n",
      "./.git/objects/12/dc0bf5898fba111b57001f5eac26276ade7230\n",
      "./.git/objects/12/b38f93ed0bbcad8697068677a63bf96883d9ae\n",
      "./.git/objects/d1/18ad41ae008ad0f4cdefdb136ac77fed1ad2de\n",
      "./.git/objects/8f/0baa0fd6df141be7e239a59038921d481e1fe5\n",
      "./.git/objects/8e/03cfcbf1133a33d748368b849b4ae108caef1c\n",
      "./.git/objects/f9/1f37e8e5cf58748e0d1a56efce8b262fbc2fb0\n",
      "./.git/objects/b2/6181062f47771010e93a0e76f69c24ef470730\n",
      "./.git/objects/5f/b085d8b819dc244cba3dd674526e6935ff11f3\n",
      "./.git/objects/d8/9d902acfab2abb893e4ae3a837c47e23c8c87a\n",
      "./.git/objects/fc/127c08b8cffef506ae8861c1168f454d12a969\n",
      "./.git/objects/00/0a9b4fd3e6faa8a06b1f00159d4a4b9d4c12cc\n",
      "./.git/objects/44/248ef819fd1f949bb2521c0b736433eca306b1\n",
      "./.git/objects/18/3f27e7e24f282e07566c3fab6f94844fd5f624\n",
      "./.git/objects/0a/a2231b72a7136ba3cbd6de568d59b84ff408c8\n",
      "./.git/objects/10/af9284608ccff8bdfd1361cbb6e9b0e4dfd225\n",
      "./.git/objects/ce/6f3efec6ecaaf1c5d96d579f0f3e1cb56abd90\n",
      "./.git/objects/62/827c9a53946441983fb0539d7fa1d4c3efbd55\n",
      "./.git/objects/eb/7121d3837cc61f36f9ffd8ab393bf6d5d49fad\n",
      "./.git/objects/6c/b92a0a6a95a1ea784ae186c417d2c1ca412005\n",
      "./.git/objects/ba/718ceb2d0d9b617cc5723eb660f6cc87396c80\n",
      "./.git/objects/97/52e62f6cf03bcdff5cedbababfd07d7294c03a\n",
      "./.git/objects/0f/c9cd10225c74a07ae7eab3329c2bf5e1ed81b2\n",
      "./.git/objects/0f/9525eb5ec335bf750126ba379340b8c6730481\n",
      "./.git/objects/0f/86f978b4f7a9793b652d6f2de307c1f647e62e\n",
      "./.git/objects/72/e8ffc0db8aad71a934dd11e5968bd5109e54b4\n",
      "./.git/objects/ae/7a422bdd073482a59d16f4e9b950e5f811723c\n",
      "./.git/objects/8c/61389c9d220a51c3b719735b3925ddc376d16a\n",
      "./.git/objects/1a/16a9bf23e27c83f1884ba199b63d5d317c7280\n",
      "./.git/objects/59/f71be20dda8e491ec9597c134d4886ca10b58b\n",
      "./.git/objects/c6/a7b1a83efb42f27dc1c0a2c944dbdc87af2fe9\n",
      "./.git/objects/47/00485f4047ae560779e3df22af7255dca52015\n",
      "./.git/objects/c1/5cf535d558935f0e872c0cd68c169993215d6e\n",
      "./.git/objects/01/5bf02b64ecb4f796bbdb04cc91d2257b63760a\n",
      "./.git/objects/a7/abe171ff0348e5ac333cab6752d62cc1534762\n",
      "./.git/objects/c5/3f8a6a1554b0cfea8437524bbf8b623f6314db\n",
      "./.git/objects/22/eebb73716e4a28bc7bfd301884ddc47ca9a9da\n",
      "./.git/objects/d5/b070efa6478c9c6c096b586c3937fead873583\n",
      "./.git/objects/f8/7b93139b15c52c5cbf21c41af5779a28038691\n",
      "./.git/objects/9c/4323b6c2e41b11b8bbe7d8c8a0f6d66fb89144\n",
      "./.git/objects/e7/6216a2a783f577374056d76d3064c5bc2d2f85\n",
      "./.git/objects/84/00e8b0479f26dea14a0fcae8333090a87006ff\n",
      "./.git/objects/96/61bc52eae5855b65a3fb8afc4bc7cc9630b3a5\n",
      "./.git/objects/4f/a5d2fd0b8162af327604f29d624a0d0b057d97\n",
      "./.git/objects/63/ecb7628a7048b7d537eb668b91e2856ffe2fa1\n",
      "./.git/objects/63/9ca0b1fd81e5f1305c28b93a65ee6e8734beb1\n",
      "./.git/hooks/pre-push.sample\n",
      "./.git/hooks/prepare-commit-msg.sample\n",
      "./.git/hooks/pre-applypatch.sample\n",
      "./.git/hooks/pre-rebase.sample\n",
      "./.git/hooks/commit-msg.sample\n",
      "./.git/hooks/fsmonitor-watchman.sample\n",
      "./.git/hooks/pre-merge-commit.sample\n",
      "./.git/hooks/post-update.sample\n",
      "./.git/hooks/pre-receive.sample\n",
      "./.git/hooks/update.sample\n",
      "./.git/hooks/pre-commit.sample\n",
      "./.git/hooks/applypatch-msg.sample\n"
     ]
    },
    {
     "name": "stdout",
     "output_type": "stream",
     "text": [
      "./.git/refs/heads/main\n",
      "./.git/refs/remotes/origin/HEAD\n",
      "./.git/refs/remotes/origin/main\n",
      "./.git/logs/HEAD\n",
      "./.git/logs/refs/heads/main\n",
      "./.git/logs/refs/remotes/origin/HEAD\n",
      "./.git/logs/refs/remotes/origin/main\n",
      "./.git/info/exclude\n"
     ]
    }
   ],
   "source": [
    "# This Python 3 environment comes with many helpful analytics libraries installed\n",
    "# It is defined by the kaggle/python Docker image: https://github.com/kaggle/docker-python\n",
    "# For example, here's several helpful packages to load\n",
    "\n",
    "import numpy as np # linear algebra\n",
    "import pandas as pd # data processing, CSV file I/O (e.g. pd.read_csv)\n",
    "import matplotlib.pyplot as plt\n",
    "import datetime\n",
    "import warnings\n",
    "warnings.filterwarnings(\"ignore\")\n",
    "# Input data files are available in the read-only \"../input/\" directory\n",
    "# For example, running this (by clicking run or pressing Shift+Enter) will list all files under the input directory\n",
    "\n",
    "import os\n",
    "for dirname, _, filenames in os.walk('./'):\n",
    "    for filename in filenames:\n",
    "        print(os.path.join(dirname, filename))\n",
    "\n",
    "# You can write up to 20GB to the current directory (/kaggle/working/) that gets preserved as output when you create a version using \"Save & Run All\" \n",
    "# You can also write temporary files to /kaggle/temp/, but they won't be saved outside of the current session"
   ]
  },
  {
   "cell_type": "code",
   "execution_count": 2,
   "id": "nominated-indie",
   "metadata": {},
   "outputs": [],
   "source": [
    "### Fonctions utiles :\n",
    "def percentile(n):\n",
    "    def percentile_(x):\n",
    "        return np.percentile(x, n)\n",
    "    percentile_.__name__ = 'percentile_%s' % n\n",
    "    return percentile_"
   ]
  },
  {
   "cell_type": "markdown",
   "id": "0b373a2e",
   "metadata": {
    "papermill": {
     "duration": 0.023397,
     "end_time": "2021-11-17T16:12:42.907328",
     "exception": false,
     "start_time": "2021-11-17T16:12:42.883931",
     "status": "completed"
    },
    "tags": []
   },
   "source": [
    "### load X_train"
   ]
  },
  {
   "cell_type": "code",
   "execution_count": 3,
   "id": "1aef4493",
   "metadata": {
    "execution": {
     "iopub.execute_input": "2021-11-17T16:12:42.953597Z",
     "iopub.status.busy": "2021-11-17T16:12:42.952907Z",
     "iopub.status.idle": "2021-11-17T16:12:42.957549Z",
     "shell.execute_reply": "2021-11-17T16:12:42.956844Z",
     "shell.execute_reply.started": "2021-11-17T14:36:40.25291Z"
    },
    "papermill": {
     "duration": 0.028914,
     "end_time": "2021-11-17T16:12:42.957697",
     "exception": false,
     "start_time": "2021-11-17T16:12:42.928783",
     "status": "completed"
    },
    "tags": []
   },
   "outputs": [],
   "source": [
    "first_date = datetime.datetime(2016,1,1)    \n",
    "last_date = datetime.datetime(2017,12,31)\n",
    "coords_fname  = './data/Other/Other/stations_coordinates.csv'\n",
    "fname = './data/Train/Train/X_station_train.csv'"
   ]
  },
  {
   "cell_type": "code",
   "execution_count": 4,
   "id": "dominican-selling",
   "metadata": {},
   "outputs": [],
   "source": [
    "# imputer = KNNImputer(n_neighbors=1)\n",
    "# imputer.fit(df_imput)\n",
    "# df_imput = train[[\"ff\",\"t\",\"td\",\"hu\",\"dd\",\"precip\"]].copy()\n",
    "# X = imputer.transform(df_imput)\n",
    "# print(\"Je commence l'imputation\")\n",
    "# df_imput= pd.DataFrame(X,columns = df_imput.columns)\n",
    "# train[[\"ff\",\"t\",\"td\",\"hu\",\"dd\",\"precip\"]] = df_imput[[\"ff\",\"t\",\"td\",\"hu\",\"dd\",\"precip\"]]\n",
    "# # reorganisation des données.\n",
    "# print(\"Fin de l'imputation\")"
   ]
  },
  {
   "cell_type": "code",
   "execution_count": 18,
   "id": "acd84f78",
   "metadata": {},
   "outputs": [],
   "source": [
    "# Cette fonction ne prend en compte que les données présentes dans Xstation\n",
    "def load_X_train(fname,coords_fname) :\n",
    "    to_shift = ['ff_mean', 'ff_min', 'ff_max', 'ff_std',\n",
    "       'ff_median', 'ff_sum', 'ff_count', 'ff_percentile_10',\n",
    "       'ff_percentile_25', 'ff_percentile_80', 'ff_percentile_95', 't_mean',\n",
    "       't_min', 't_max', 't_std', 't_median', 't_sum', 't_count',\n",
    "       't_percentile_10', 't_percentile_25', 't_percentile_80',\n",
    "       't_percentile_95', 'td_mean', 'td_min', 'td_max', 'td_std', 'td_median',\n",
    "       'td_sum', 'td_count', 'td_percentile_10', 'td_percentile_25',\n",
    "       'td_percentile_80', 'td_percentile_95', 'hu_mean', 'hu_min', 'hu_max',\n",
    "       'hu_std', 'hu_median', 'hu_sum', 'hu_count', 'hu_percentile_10',\n",
    "       'hu_percentile_25', 'hu_percentile_80', 'hu_percentile_95', 'dd_mean',\n",
    "       'dd_min', 'dd_max', 'dd_std', 'dd_median', 'dd_sum', 'dd_count',\n",
    "       'dd_percentile_10', 'dd_percentile_25', 'dd_percentile_80',\n",
    "       'dd_percentile_95', 'precip_sum']\n",
    "    coords = pd.read_csv(coords_fname)\n",
    "    train = pd.read_csv(fname,parse_dates=['date'],infer_datetime_format=True)\n",
    "    train['number_sta']=train['number_sta'].astype('category')\n",
    "    #sort by station, then by date \n",
    "    train = train.sort_values(['number_sta','date'])   \n",
    "    method_traitements = [\"mean\",\"min\",\"max\",\"std\",\"median\",\"sum\",\"count\",percentile(10),percentile(25),percentile(80),percentile(95)]\n",
    "    dict_to_split = {\"ff\":method_traitements,\"t\":method_traitements,\"td\":method_traitements\n",
    "                     ,\"hu\":method_traitements,\"dd\":method_traitements,\"precip\":\"sum\"}\n",
    "    Base_obs = train[{\"number_sta\",\"date\",\"ff\",\"t\",\"td\",\"hu\",\"dd\",\"precip\"}].copy()\n",
    "    Base_obs.set_index('date',inplace = True)  \n",
    "\n",
    "    # type de traitement.\n",
    "    Base_obs_type = Base_obs.groupby('number_sta').resample('D').agg(dict_to_split)\n",
    "    Base_obs_type.columns = ['_'.join(col).strip() for col in Base_obs_type.columns.values]\n",
    "    Base_obs_type = Base_obs_type.reset_index(['date','number_sta']) \n",
    "    Base_obs_type['number_sta'] = Base_obs_type['number_sta'].astype('category')   \n",
    "    #Select the observations the day before\n",
    "    Base_obs_type[to_shift] = Base_obs_type.groupby(['number_sta'])[to_shift].shift(1)    \n",
    "    Base_obs_type = Base_obs_type.sort_values(by=[\"number_sta\",\"date\"])\n",
    "    #del Base_obs['precip']\n",
    "    Base_obs_type.rename(columns={'precip_sum':'Prediction'},inplace=True)\n",
    "    #del Base_obs_type[\"precip_sum\"]\n",
    "    date = first_date\n",
    "    dates = []\n",
    "    while date <= (last_date - datetime.timedelta(days=1)):\n",
    "        date += datetime.timedelta(days=1)\n",
    "        dates.append(date)\n",
    "\n",
    "    d_dates =  pd.DataFrame(dates, columns = ['date'])\n",
    "    d_dates['day_index'] = d_dates.index\n",
    "    y_f = Base_obs_type.merge(d_dates,how=\"right\",on = [\"date\"])\n",
    "    y_f = y_f[y_f['date']!=last_date]\n",
    "    y_f['Id'] = y_f[list(y_f.columns)[0]].astype(str) + '_' + \\\n",
    "                      y_f['day_index'].astype(str) \n",
    "    #y_f[\"number_sta\"] = y_f[(\"number_sta\",\"\")]\n",
    "    y_f = y_f.merge(coords,on=[\"number_sta\"],how=\"right\")\n",
    "    X_train = y_f.copy()#drop([\"day_index\"],axis=1)\n",
    "    X_train[\"month\"] = X_train[\"date\"].dt.month\n",
    "    X_train[\"day\"] = X_train[\"date\"].dt.day\n",
    "    X_train.drop([\"date\"],axis=1,inplace=True)\n",
    "    return X_train"
   ]
  },
  {
   "cell_type": "code",
   "execution_count": 19,
   "id": "fallen-sunday",
   "metadata": {},
   "outputs": [],
   "source": [
    "train = load_X_train(fname,coords_fname)"
   ]
  },
  {
   "cell_type": "code",
   "execution_count": 20,
   "id": "announced-trustee",
   "metadata": {},
   "outputs": [],
   "source": [
    "train_forecast = pd.read_csv(\"./data/Train/Train/Baselines/Baseline_forecast_train.csv\")"
   ]
  },
  {
   "cell_type": "code",
   "execution_count": 21,
   "id": "wrapped-acceptance",
   "metadata": {},
   "outputs": [],
   "source": [
    "train_forecast.rename(columns={\"Prediction\":\"Forecasted\"},inplace = True)\n",
    "train_forecast.drop([\"date\",\"number_sta\"],axis = 1 ,inplace = True)"
   ]
  },
  {
   "cell_type": "code",
   "execution_count": 22,
   "id": "aggregate-young",
   "metadata": {},
   "outputs": [],
   "source": [
    "value_list = list(train[\"Id\"])\n",
    "boolean_series = train_forecast.Id.isin(value_list)\n",
    "train_forecast = train_forecast[boolean_series]"
   ]
  },
  {
   "cell_type": "code",
   "execution_count": 23,
   "id": "least-choice",
   "metadata": {},
   "outputs": [],
   "source": [
    "train = train.merge(train_forecast,on=[\"Id\"],how=\"right\")"
   ]
  },
  {
   "cell_type": "markdown",
   "id": "82c7458a",
   "metadata": {},
   "source": [
    "### Load Y_test"
   ]
  },
  {
   "cell_type": "code",
   "execution_count": 13,
   "id": "8398f8ef",
   "metadata": {},
   "outputs": [],
   "source": [
    "fname_test = \"./data/Test/Test/X_station_test.csv\"\n",
    "coords_fname_test = './data/Other/Other/stations_coordinates.csv'\n",
    "coords = pd.read_csv(coords_fname_test)\n",
    "def load_X_test(fname_test,coords_fname_test) :\n",
    "    test = pd.read_csv(fname_test)\n",
    "    test[\"Id\"] =test[\"Id\"].str.rsplit(\"_\",n=1,expand=True)[0]\n",
    "    month = test[\"month\"]\n",
    "    test.drop([\"precip\",\"month\"],axis = 1,inplace = True)\n",
    "    method_traitements = [\"mean\",\"min\",\"max\",\"std\",\"median\",\"sum\",\"count\",percentile(10),percentile(25),percentile(80),percentile(95)]\n",
    "    dict_to_split = {\"ff\":method_traitements,\"t\":method_traitements,\"td\":method_traitements\n",
    "                     ,\"hu\":method_traitements,\"dd\":method_traitements}\n",
    "    test[\"Id\"] = test[\"Id\"].astype(\"category\")\n",
    "    Base_obs = test[{\"Id\",\"ff\",\"t\",\"td\",\"hu\",\"dd\"}].copy()\n",
    "    # type de traitement.\n",
    "    Base_obs_type = Base_obs.groupby('Id').agg(dict_to_split)\n",
    "    Base_obs_type = Base_obs_type.sort_values(by=[\"Id\"])\n",
    "    test = Base_obs_type.copy()\n",
    "    test.columns = ['_'.join(col).strip() for col in test.columns.values]\n",
    "    test = test.reset_index(['Id'])\n",
    "    base_test = pd.read_csv(\"./data/Test/Test/Baselines/Baseline_observation_test.csv\")\n",
    "    test = test.merge(base_test,on=[\"Id\"],how=\"right\")\n",
    "    test[[\"number_sta\",\"day_index\"]] = test[\"Id\"].str.split(\"_\",expand=True)\n",
    "    test[\"number_sta\"] = test[\"number_sta\"].astype(int)\n",
    "    test = test.merge(coords,on=\"number_sta\",how='right')\n",
    "    date = first_date\n",
    "    dates = []\n",
    "    while date <= (last_date - datetime.timedelta(days=1)):\n",
    "        date += datetime.timedelta(days=1)\n",
    "        dates.append(date)\n",
    "\n",
    "    d_dates =  pd.DataFrame(dates, columns = ['date'])\n",
    "    d_dates['day_index'] = d_dates.index\n",
    "    d_dates[\"month\"]=month\n",
    "    d_dates[\"day\"] = d_dates[\"date\"].dt.day\n",
    "    del d_dates[\"date\"]\n",
    "    test.dropna(subset=[\"day_index\"],inplace=True)\n",
    "    test[\"day_index\"] = test[\"day_index\"].astype(int)\n",
    "    test = test.merge(d_dates,on=[\"day_index\"],how=\"right\")\n",
    "    test = test.dropna(subset=[\"lat\"])\n",
    "    return test\n"
   ]
  },
  {
   "cell_type": "code",
   "execution_count": 14,
   "id": "bd2ad8d2",
   "metadata": {},
   "outputs": [],
   "source": [
    "test = load_X_test(fname_test,coords_fname_test)"
   ]
  },
  {
   "cell_type": "code",
   "execution_count": 15,
   "id": "6955cfc0",
   "metadata": {},
   "outputs": [],
   "source": [
    "test_forecast = pd.read_csv(\"./data/Test/Test/Baselines/Baseline_forecast_test.csv\")"
   ]
  },
  {
   "cell_type": "code",
   "execution_count": 16,
   "id": "cf75a587",
   "metadata": {},
   "outputs": [],
   "source": [
    "test_forecast.rename(columns={\"Prediction\":\"Forecasted\"},inplace = True)\n",
    "value_list = list(test[\"Id\"])\n",
    "boolean_series = test_forecast.Id.isin(value_list)\n",
    "test_forecast = test_forecast[boolean_series]\n",
    "test = test_forecast.merge(test,on=[\"Id\"],how=\"right\")"
   ]
  },
  {
   "cell_type": "code",
   "execution_count": 17,
   "id": "73de81d7",
   "metadata": {},
   "outputs": [],
   "source": [
    "forcasted = list(test[\"Forecasted\"])\n",
    "del test[\"Forecasted\"]\n",
    "test[\"Forecasted\"] = forcasted\n"
   ]
  },
  {
   "cell_type": "code",
   "execution_count": 18,
   "id": "a70e0d16",
   "metadata": {},
   "outputs": [],
   "source": [
    "test[\"Forecasted\"] = test[\"Forecasted\"].fillna(test[\"Prediction\"])"
   ]
  },
  {
   "cell_type": "code",
   "execution_count": 21,
   "id": "finite-guest",
   "metadata": {},
   "outputs": [],
   "source": [
    "### train et déja réalisé\n",
    "train_c = pd.read_csv(\"./working/train.csv\")"
   ]
  },
  {
   "cell_type": "code",
   "execution_count": 26,
   "id": "exotic-liberty",
   "metadata": {},
   "outputs": [],
   "source": [
    "test = pd.read_csv(\"./working/test.csv\")"
   ]
  },
  {
   "cell_type": "markdown",
   "id": "0244934f",
   "metadata": {
    "papermill": {
     "duration": 0.019683,
     "end_time": "2021-11-17T16:13:26.335856",
     "exception": false,
     "start_time": "2021-11-17T16:13:26.316173",
     "status": "completed"
    },
    "tags": []
   },
   "source": [
    "### Load Y"
   ]
  },
  {
   "cell_type": "code",
   "execution_count": 27,
   "id": "14f74030",
   "metadata": {
    "execution": {
     "iopub.execute_input": "2021-11-17T16:13:26.379374Z",
     "iopub.status.busy": "2021-11-17T16:13:26.378681Z",
     "iopub.status.idle": "2021-11-17T16:13:26.755723Z",
     "shell.execute_reply": "2021-11-17T16:13:26.755120Z",
     "shell.execute_reply.started": "2021-11-17T15:30:46.764368Z"
    },
    "papermill": {
     "duration": 0.399977,
     "end_time": "2021-11-17T16:13:26.755869",
     "exception": false,
     "start_time": "2021-11-17T16:13:26.355892",
     "status": "completed"
    },
    "tags": []
   },
   "outputs": [],
   "source": [
    "fname = './data/Train/Train/Y_train.csv'\n",
    "param = 'Ground_truth'  #weather parameter name in the file ('Ground_truth' about Y and 'Prediction' about baseline)\n",
    "ytrain= pd.read_csv(fname, parse_dates=['date'], infer_datetime_format=True)\n",
    "ytrain['number_sta'] = ytrain['number_sta'].astype('category')"
   ]
  },
  {
   "cell_type": "code",
   "execution_count": 28,
   "id": "232261de",
   "metadata": {
    "execution": {
     "iopub.execute_input": "2021-11-17T16:13:26.866035Z",
     "iopub.status.busy": "2021-11-17T16:13:26.864633Z",
     "iopub.status.idle": "2021-11-17T16:13:26.878392Z",
     "shell.execute_reply": "2021-11-17T16:13:26.878934Z",
     "shell.execute_reply.started": "2021-11-17T15:34:18.140604Z"
    },
    "papermill": {
     "duration": 0.040193,
     "end_time": "2021-11-17T16:13:26.879138",
     "exception": false,
     "start_time": "2021-11-17T16:13:26.838945",
     "status": "completed"
    },
    "tags": []
   },
   "outputs": [],
   "source": [
    "ytrain = ytrain[ytrain[\"date\"]!=last_date].copy()"
   ]
  },
  {
   "cell_type": "code",
   "execution_count": 29,
   "id": "0df08ece",
   "metadata": {},
   "outputs": [],
   "source": [
    "### Methodologie drop_all_na\n",
    "X_full = train.dropna()\n",
    "Y_full = ytrain.dropna(subset=[\"Ground_truth\"])\n",
    "#X_full =X_full[X_full.index.isin(Y_full.index)].dropna()\n",
    "X_full = X_full.sort_values(\"Id\")\n",
    "Y_full = Y_full.sort_values(\"Id\")\n",
    "value_list = list(X_full[\"Id\"])\n",
    "boolean_series = Y_full.Id.isin(value_list)\n",
    "Y_full = Y_full[boolean_series]\n",
    "value_list = list(Y_full[\"Id\"])\n",
    "boolean_series = X_full.Id.isin(value_list)\n",
    "X_full = X_full[boolean_series]"
   ]
  },
  {
   "cell_type": "code",
   "execution_count": null,
   "id": "22478096",
   "metadata": {},
   "outputs": [],
   "source": [
    "X_full = train.copy()"
   ]
  },
  {
   "cell_type": "code",
   "execution_count": null,
   "id": "tough-feeding",
   "metadata": {},
   "outputs": [],
   "source": [
    "### Methodologie drop_na from Ytrain\n",
    "Y_full = ytrain.dropna(subset=[\"Ground_truth\"])"
   ]
  },
  {
   "cell_type": "code",
   "execution_count": null,
   "id": "electrical-oracle",
   "metadata": {},
   "outputs": [],
   "source": [
    "value_list = list(Y_full[\"Id\"])\n",
    "boolean_series = X_full.Id.isin(value_list)\n",
    "X_full = X_full[boolean_series]"
   ]
  },
  {
   "cell_type": "code",
   "execution_count": null,
   "id": "e089e832",
   "metadata": {},
   "outputs": [],
   "source": [
    "train.columns"
   ]
  },
  {
   "cell_type": "code",
   "execution_count": 30,
   "id": "6f02eea2",
   "metadata": {},
   "outputs": [],
   "source": [
    "to_drop = [\"Id\",\"number_sta\",\"day_index\",\"day\"]#,'lat', 'lon', 'height_sta']"
   ]
  },
  {
   "cell_type": "code",
   "execution_count": 31,
   "id": "attended-lindsay",
   "metadata": {},
   "outputs": [],
   "source": [
    "Ximp = X_full.drop(to_drop,axis=1).values#],\"lon\",\"lat\",\"height_sta\"\n",
    "Yimp = np.array(Y_full[\"Ground_truth\"])"
   ]
  },
  {
   "cell_type": "code",
   "execution_count": 94,
   "id": "characteristic-defense",
   "metadata": {},
   "outputs": [],
   "source": [
    "### pour l'ensemble test\n",
    "x_full = test.copy()"
   ]
  },
  {
   "cell_type": "code",
   "execution_count": 107,
   "id": "stuffed-heating",
   "metadata": {},
   "outputs": [],
   "source": [
    "ximp = x_full.drop(to_drop,axis=1).values"
   ]
  },
  {
   "cell_type": "markdown",
   "id": "18290a5d",
   "metadata": {
    "papermill": {
     "duration": 0.022743,
     "end_time": "2021-11-17T16:13:26.922939",
     "exception": false,
     "start_time": "2021-11-17T16:13:26.900196",
     "status": "completed"
    },
    "tags": []
   },
   "source": [
    "### Application du modèle."
   ]
  },
  {
   "cell_type": "code",
   "execution_count": 96,
   "id": "139e5d7d",
   "metadata": {},
   "outputs": [],
   "source": [
    "from sklearn.impute import KNNImputer"
   ]
  },
  {
   "cell_type": "code",
   "execution_count": 108,
   "id": "graduate-produce",
   "metadata": {},
   "outputs": [],
   "source": [
    "X_concat = np.concatenate((Ximp, ximp))"
   ]
  },
  {
   "cell_type": "code",
   "execution_count": 109,
   "id": "02975c06",
   "metadata": {
    "execution": {
     "iopub.execute_input": "2021-11-17T16:13:26.972229Z",
     "iopub.status.busy": "2021-11-17T16:13:26.971200Z",
     "iopub.status.idle": "2021-11-17T16:13:26.974302Z",
     "shell.execute_reply": "2021-11-17T16:13:26.974847Z"
    },
    "papermill": {
     "duration": 0.028077,
     "end_time": "2021-11-17T16:13:26.975026",
     "exception": false,
     "start_time": "2021-11-17T16:13:26.946949",
     "status": "completed"
    },
    "tags": []
   },
   "outputs": [
    {
     "data": {
      "text/plain": [
       "KNNImputer(n_neighbors=1)"
      ]
     },
     "execution_count": 109,
     "metadata": {},
     "output_type": "execute_result"
    }
   ],
   "source": [
    "### réaliser une imputation des données manquantes.\n",
    "imputer = KNNImputer(n_neighbors=1)\n",
    "imputer.fit(X_concat)"
   ]
  },
  {
   "cell_type": "code",
   "execution_count": 112,
   "id": "b04a1151",
   "metadata": {},
   "outputs": [],
   "source": [
    "ximp = imputer.transform(ximp)"
   ]
  },
  {
   "cell_type": "code",
   "execution_count": null,
   "id": "looking-center",
   "metadata": {},
   "outputs": [],
   "source": [
    "from sklearn.impute import SimpleImputer"
   ]
  },
  {
   "cell_type": "code",
   "execution_count": null,
   "id": "aggregate-aquatic",
   "metadata": {},
   "outputs": [],
   "source": [
    "imp = SimpleImputer(missing_values=np.nan, strategy='mean')"
   ]
  },
  {
   "cell_type": "code",
   "execution_count": null,
   "id": "starting-adjustment",
   "metadata": {},
   "outputs": [],
   "source": [
    "imp.fit(Ximp)"
   ]
  },
  {
   "cell_type": "code",
   "execution_count": null,
   "id": "hydraulic-working",
   "metadata": {},
   "outputs": [],
   "source": [
    "ximp=imp.transform(ximp)"
   ]
  },
  {
   "cell_type": "markdown",
   "id": "fc1c2ddb",
   "metadata": {},
   "source": [
    "### Fonction MAPE"
   ]
  },
  {
   "cell_type": "code",
   "execution_count": 32,
   "id": "83b8adb5",
   "metadata": {},
   "outputs": [],
   "source": [
    "def MAPE(yp,yt) :\n",
    "    taille = len(yp)\n",
    "    mape = 0\n",
    "    for i in range(taille) :\n",
    "        mape += abs((yt[i]-yp[i])/(yt[i]+1))\n",
    "    mape *= 100/taille\n",
    "    return mape"
   ]
  },
  {
   "cell_type": "code",
   "execution_count": 26,
   "id": "3e4566db",
   "metadata": {},
   "outputs": [],
   "source": [
    "def MAPE2(Y_Predicted,Y_actual):\n",
    "    mape = np.mean(np.abs((Y_actual - Y_Predicted)/(Y_actual+1)))*100\n",
    "    return mape"
   ]
  },
  {
   "cell_type": "code",
   "execution_count": 33,
   "id": "looking-sweet",
   "metadata": {},
   "outputs": [],
   "source": [
    "from sklearn.preprocessing import StandardScaler\n",
    "from sklearn import preprocessing"
   ]
  },
  {
   "cell_type": "code",
   "execution_count": 34,
   "id": "silver-court",
   "metadata": {},
   "outputs": [
    {
     "data": {
      "text/plain": [
       "StandardScaler()"
      ]
     },
     "execution_count": 34,
     "metadata": {},
     "output_type": "execute_result"
    }
   ],
   "source": [
    "scaler = StandardScaler()\n",
    "scaler.fit(Ximp)"
   ]
  },
  {
   "cell_type": "code",
   "execution_count": 35,
   "id": "palestinian-mechanics",
   "metadata": {},
   "outputs": [],
   "source": [
    "\n",
    "Ximp = scaler.transform(Ximp)"
   ]
  },
  {
   "cell_type": "code",
   "execution_count": 36,
   "id": "ed845a4b",
   "metadata": {},
   "outputs": [],
   "source": [
    "from sklearn.model_selection import train_test_split"
   ]
  },
  {
   "cell_type": "code",
   "execution_count": 37,
   "id": "ff07e3bc",
   "metadata": {},
   "outputs": [],
   "source": [
    "X_train, X_test, y_train, y_test = train_test_split(\n",
    "...     Ximp, Yimp, test_size=0.33, random_state=42)"
   ]
  },
  {
   "cell_type": "markdown",
   "id": "02ac5e7e",
   "metadata": {},
   "source": [
    "### Linear regression"
   ]
  },
  {
   "cell_type": "code",
   "execution_count": 38,
   "id": "5a715322",
   "metadata": {},
   "outputs": [],
   "source": [
    "from sklearn.linear_model import LinearRegression"
   ]
  },
  {
   "cell_type": "code",
   "execution_count": 39,
   "id": "f2c078e2",
   "metadata": {},
   "outputs": [],
   "source": [
    "reg = LinearRegression().fit(X_train, y_train)"
   ]
  },
  {
   "cell_type": "code",
   "execution_count": 40,
   "id": "8272b6cf",
   "metadata": {},
   "outputs": [
    {
     "data": {
      "text/plain": [
       "0.5947563846192753"
      ]
     },
     "execution_count": 40,
     "metadata": {},
     "output_type": "execute_result"
    }
   ],
   "source": [
    "reg.score(X_train, y_train)"
   ]
  },
  {
   "cell_type": "code",
   "execution_count": 41,
   "id": "0601833e",
   "metadata": {},
   "outputs": [],
   "source": [
    "y_predicted = reg.predict(X_train)"
   ]
  },
  {
   "cell_type": "code",
   "execution_count": 42,
   "id": "b22cc5ec",
   "metadata": {},
   "outputs": [],
   "source": [
    "y_predicted = [elt if elt >=0 else 0 for elt in y_predicted ]"
   ]
  },
  {
   "cell_type": "code",
   "execution_count": 43,
   "id": "c7ae23b6",
   "metadata": {},
   "outputs": [
    {
     "data": {
      "text/plain": [
       "47.51398907959694"
      ]
     },
     "execution_count": 43,
     "metadata": {},
     "output_type": "execute_result"
    }
   ],
   "source": [
    "MAPE(y_predicted,y_train)"
   ]
  },
  {
   "cell_type": "code",
   "execution_count": 44,
   "id": "c52f7642",
   "metadata": {},
   "outputs": [],
   "source": [
    "y_predicted = reg.predict(X_test)"
   ]
  },
  {
   "cell_type": "code",
   "execution_count": 45,
   "id": "e3a9df18",
   "metadata": {},
   "outputs": [],
   "source": [
    "y_predicted = [elt if elt >=0 else 0 for elt in y_predicted ]"
   ]
  },
  {
   "cell_type": "code",
   "execution_count": 46,
   "id": "56c13960",
   "metadata": {},
   "outputs": [
    {
     "data": {
      "text/plain": [
       "13669846.646709688"
      ]
     },
     "execution_count": 46,
     "metadata": {},
     "output_type": "execute_result"
    }
   ],
   "source": [
    "MAPE(y_predicted,y_test)"
   ]
  },
  {
   "cell_type": "markdown",
   "id": "bc152906",
   "metadata": {},
   "source": [
    "### RandomForestRegression"
   ]
  },
  {
   "cell_type": "code",
   "execution_count": 58,
   "id": "122347bc",
   "metadata": {},
   "outputs": [],
   "source": [
    "from sklearn.ensemble import RandomForestRegressor"
   ]
  },
  {
   "cell_type": "code",
   "execution_count": null,
   "id": "d445c829",
   "metadata": {},
   "outputs": [],
   "source": [
    "X_train_plus = np.concatenate([np.array(X_train),np.array(y_predicted_train_smv).reshape(len(X_train),1)] , axis=1)"
   ]
  },
  {
   "cell_type": "code",
   "execution_count": 59,
   "id": "b2819a9c",
   "metadata": {},
   "outputs": [
    {
     "data": {
      "text/plain": [
       "RandomForestRegressor()"
      ]
     },
     "execution_count": 59,
     "metadata": {},
     "output_type": "execute_result"
    }
   ],
   "source": [
    "regr = RandomForestRegressor()\n",
    "regr.fit(X_train, y_train)"
   ]
  },
  {
   "cell_type": "code",
   "execution_count": 60,
   "id": "d678703d",
   "metadata": {},
   "outputs": [
    {
     "data": {
      "text/plain": [
       "0.9487797533174545"
      ]
     },
     "execution_count": 60,
     "metadata": {},
     "output_type": "execute_result"
    }
   ],
   "source": [
    "regr.score(X_train,y_train)"
   ]
  },
  {
   "cell_type": "code",
   "execution_count": 61,
   "id": "c6d60fb1",
   "metadata": {},
   "outputs": [],
   "source": [
    "y_predicted_rf_train = regr.predict(X_train)\n",
    "#y_predicted_rf = [elt if elt >=0 else 0 for elt in y_predicted ]"
   ]
  },
  {
   "cell_type": "code",
   "execution_count": 62,
   "id": "expected-statistics",
   "metadata": {},
   "outputs": [
    {
     "data": {
      "text/plain": [
       "15.83750346706302"
      ]
     },
     "execution_count": 62,
     "metadata": {},
     "output_type": "execute_result"
    }
   ],
   "source": [
    "MAPE(y_predicted_rf_train  ,y_train)"
   ]
  },
  {
   "cell_type": "code",
   "execution_count": 63,
   "id": "cfa2d7ea",
   "metadata": {},
   "outputs": [],
   "source": [
    "#X_test_plus = np.concatenate([np.array(X_test),np.array(y_predicted_svm_test).reshape(len(X_test),1)] , axis=1)"
   ]
  },
  {
   "cell_type": "code",
   "execution_count": 64,
   "id": "42f75928",
   "metadata": {},
   "outputs": [],
   "source": [
    "y_predicted_rf_test = regr.predict(X_test)\n",
    "#y_predicted = [elt if elt >=0 else 0 for elt in y_predicted ]"
   ]
  },
  {
   "cell_type": "code",
   "execution_count": 65,
   "id": "946328ef",
   "metadata": {},
   "outputs": [
    {
     "data": {
      "text/plain": [
       "42.31408974100844"
      ]
     },
     "execution_count": 65,
     "metadata": {},
     "output_type": "execute_result"
    }
   ],
   "source": [
    "MAPE(y_predicted_rf_test ,y_test)"
   ]
  },
  {
   "cell_type": "markdown",
   "id": "standing-malpractice",
   "metadata": {},
   "source": [
    "### SVM"
   ]
  },
  {
   "cell_type": "code",
   "execution_count": 47,
   "id": "structured-productivity",
   "metadata": {},
   "outputs": [],
   "source": [
    "from sklearn import svm"
   ]
  },
  {
   "cell_type": "code",
   "execution_count": 48,
   "id": "split-drill",
   "metadata": {},
   "outputs": [],
   "source": [
    "#X_train_plus = np.concatenate([np.array(X_train),np.array(y_predicted_sgdr_train).reshape(len(X_train),1)] , axis=1)"
   ]
  },
  {
   "cell_type": "code",
   "execution_count": 49,
   "id": "distant-madison",
   "metadata": {},
   "outputs": [
    {
     "data": {
      "text/plain": [
       "SVR()"
      ]
     },
     "execution_count": 49,
     "metadata": {},
     "output_type": "execute_result"
    }
   ],
   "source": [
    "regr_svm = svm.SVR()\n",
    "regr_svm.fit(X_train,y_train)"
   ]
  },
  {
   "cell_type": "code",
   "execution_count": 50,
   "id": "leading-bhutan",
   "metadata": {},
   "outputs": [
    {
     "data": {
      "text/plain": [
       "0.5962568091075093"
      ]
     },
     "execution_count": 50,
     "metadata": {},
     "output_type": "execute_result"
    }
   ],
   "source": [
    "regr_svm.score(X_train,y_train)"
   ]
  },
  {
   "cell_type": "code",
   "execution_count": 51,
   "id": "91db1a52",
   "metadata": {},
   "outputs": [],
   "source": [
    "y_predicted_svm_train = regr_svm.predict(X_train)\n",
    "y_predicted_svm_train = [elt if elt >=0 else 0 for elt in y_predicted_svm_train ]"
   ]
  },
  {
   "cell_type": "code",
   "execution_count": 52,
   "id": "regional-assistant",
   "metadata": {},
   "outputs": [
    {
     "data": {
      "text/plain": [
       "29.703240517173285"
      ]
     },
     "execution_count": 52,
     "metadata": {},
     "output_type": "execute_result"
    }
   ],
   "source": [
    "MAPE(y_predicted_svm_train ,y_train)"
   ]
  },
  {
   "cell_type": "code",
   "execution_count": 53,
   "id": "operational-appreciation",
   "metadata": {},
   "outputs": [],
   "source": [
    "#X_test_plus = np.concatenate([np.array(X_test),np.array(y_predicted_sgdr_test).reshape(len(X_test),1)] , axis=1)"
   ]
  },
  {
   "cell_type": "code",
   "execution_count": 54,
   "id": "b9638e7b",
   "metadata": {},
   "outputs": [],
   "source": [
    "y_predicted_svm_test= regr_svm.predict(X_test)\n",
    "y_predicted_svm_test = [elt if elt >=0 else 0 for elt in y_predicted_svm_test ]"
   ]
  },
  {
   "cell_type": "code",
   "execution_count": 55,
   "id": "emotional-remark",
   "metadata": {},
   "outputs": [
    {
     "data": {
      "text/plain": [
       "30.2437332832594"
      ]
     },
     "execution_count": 55,
     "metadata": {},
     "output_type": "execute_result"
    }
   ],
   "source": [
    "MAPE(y_predicted_svm_test ,y_test)"
   ]
  },
  {
   "cell_type": "code",
   "execution_count": 67,
   "id": "bf092f32",
   "metadata": {},
   "outputs": [],
   "source": [
    "y_predicted_all = regr_svm.predict(Ximp)\n",
    "y_predicted_all = [elt if elt >=0 else 0 for elt in y_predicted_all ]\n"
   ]
  },
  {
   "cell_type": "code",
   "execution_count": 68,
   "id": "13ac38af",
   "metadata": {},
   "outputs": [],
   "source": [
    "#idée refaire une projection et faire de tels sorte que cela soit smooth"
   ]
  },
  {
   "cell_type": "code",
   "execution_count": 69,
   "id": "98af24fb",
   "metadata": {},
   "outputs": [
    {
     "data": {
      "text/plain": [
       "29.881605715849187"
      ]
     },
     "execution_count": 69,
     "metadata": {},
     "output_type": "execute_result"
    }
   ],
   "source": [
    "MAPE(y_predicted_all,Yimp)"
   ]
  },
  {
   "cell_type": "code",
   "execution_count": null,
   "id": "489854f0",
   "metadata": {},
   "outputs": [],
   "source": [
    "MAPE2(y_predicted_all,Yimp)"
   ]
  },
  {
   "cell_type": "code",
   "execution_count": null,
   "id": "8973d228",
   "metadata": {},
   "outputs": [],
   "source": []
  },
  {
   "cell_type": "code",
   "execution_count": null,
   "id": "26d53ec9",
   "metadata": {},
   "outputs": [],
   "source": [
    "len(y_predicted_all)"
   ]
  },
  {
   "cell_type": "code",
   "execution_count": null,
   "id": "advisory-research",
   "metadata": {},
   "outputs": [],
   "source": [
    "26.714607117563933,27.857640502040667"
   ]
  },
  {
   "cell_type": "markdown",
   "id": "d2d8a850",
   "metadata": {},
   "source": [
    "### SGD_REGRESSOR"
   ]
  },
  {
   "cell_type": "code",
   "execution_count": 70,
   "id": "1ca36260",
   "metadata": {},
   "outputs": [],
   "source": [
    "from sklearn.linear_model import SGDRegressor"
   ]
  },
  {
   "cell_type": "code",
   "execution_count": 71,
   "id": "64c28e43",
   "metadata": {},
   "outputs": [
    {
     "data": {
      "text/plain": [
       "SGDRegressor()"
      ]
     },
     "execution_count": 71,
     "metadata": {},
     "output_type": "execute_result"
    }
   ],
   "source": [
    "regr_sgdr = SGDRegressor()\n",
    "regr_sgdr.fit(X_train,y_train)"
   ]
  },
  {
   "cell_type": "code",
   "execution_count": 72,
   "id": "bdbfd784",
   "metadata": {},
   "outputs": [
    {
     "data": {
      "text/plain": [
       "-1.5179167746958072e+21"
      ]
     },
     "execution_count": 72,
     "metadata": {},
     "output_type": "execute_result"
    }
   ],
   "source": [
    "regr_sgdr.score(X_train,y_train)"
   ]
  },
  {
   "cell_type": "code",
   "execution_count": 73,
   "id": "17f8f548",
   "metadata": {},
   "outputs": [],
   "source": [
    "y_predicted_sgdr_train = regr_sgdr.predict(X_train)\n",
    "y_predicted_sgdr_train = [elt if elt >=0 else 0 for elt in y_predicted_sgdr_train ]"
   ]
  },
  {
   "cell_type": "code",
   "execution_count": 74,
   "id": "a6ee1616",
   "metadata": {},
   "outputs": [
    {
     "data": {
      "text/plain": [
       "11068472412.479572"
      ]
     },
     "execution_count": 74,
     "metadata": {},
     "output_type": "execute_result"
    }
   ],
   "source": [
    "MAPE( y_predicted_sgdr_train ,y_train)"
   ]
  },
  {
   "cell_type": "code",
   "execution_count": 75,
   "id": "d9edf179",
   "metadata": {},
   "outputs": [],
   "source": [
    "y_predicted_sgdr_test = regr_sgdr.predict(X_test)\n",
    "y_predicted_sgdr_test = [elt if elt >=0 else 0 for elt in y_predicted_sgdr_test ]"
   ]
  },
  {
   "cell_type": "code",
   "execution_count": 76,
   "id": "644724be",
   "metadata": {},
   "outputs": [
    {
     "data": {
      "text/plain": [
       "11026059679.26873"
      ]
     },
     "execution_count": 76,
     "metadata": {},
     "output_type": "execute_result"
    }
   ],
   "source": [
    "MAPE(y_predicted_sgdr_test ,y_test)"
   ]
  },
  {
   "cell_type": "markdown",
   "id": "close-melissa",
   "metadata": {},
   "source": [
    "### Lasso"
   ]
  },
  {
   "cell_type": "code",
   "execution_count": 47,
   "id": "copyrighted-brown",
   "metadata": {},
   "outputs": [],
   "source": [
    "from sklearn import linear_model"
   ]
  },
  {
   "cell_type": "code",
   "execution_count": 60,
   "id": "generous-fountain",
   "metadata": {},
   "outputs": [
    {
     "data": {
      "text/plain": [
       "Lasso(alpha=0.08)"
      ]
     },
     "execution_count": 60,
     "metadata": {},
     "output_type": "execute_result"
    }
   ],
   "source": [
    "reg_lasso = linear_model.Lasso(alpha=0.08)\n",
    "reg_lasso.fit(X_train,y_train)"
   ]
  },
  {
   "cell_type": "code",
   "execution_count": 81,
   "id": "united-national",
   "metadata": {},
   "outputs": [
    {
     "data": {
      "text/plain": [
       "0.5938253090608208"
      ]
     },
     "execution_count": 81,
     "metadata": {},
     "output_type": "execute_result"
    }
   ],
   "source": [
    "reg_lasso.score(X_train,y_train)"
   ]
  },
  {
   "cell_type": "code",
   "execution_count": 62,
   "id": "legal-powell",
   "metadata": {},
   "outputs": [
    {
     "data": {
      "text/plain": [
       "49.310606514719524"
      ]
     },
     "execution_count": 62,
     "metadata": {},
     "output_type": "execute_result"
    }
   ],
   "source": [
    "MAPE(reg_lasso.predict(X_train),y_train)"
   ]
  },
  {
   "cell_type": "code",
   "execution_count": 63,
   "id": "close-password",
   "metadata": {},
   "outputs": [
    {
     "data": {
      "text/plain": [
       "49.548805790555"
      ]
     },
     "execution_count": 63,
     "metadata": {},
     "output_type": "execute_result"
    }
   ],
   "source": [
    "MAPE(reg_lasso.predict(X_test),y_test)"
   ]
  },
  {
   "cell_type": "markdown",
   "id": "compound-philadelphia",
   "metadata": {},
   "source": [
    "### MLP-NN "
   ]
  },
  {
   "cell_type": "code",
   "execution_count": 77,
   "id": "functioning-italic",
   "metadata": {},
   "outputs": [],
   "source": [
    "from sklearn.neural_network import MLPRegressor"
   ]
  },
  {
   "cell_type": "code",
   "execution_count": 78,
   "id": "digital-tattoo",
   "metadata": {},
   "outputs": [],
   "source": [
    "regr_mlpr = MLPRegressor(random_state=1, max_iter=1000).fit(X_train, y_train)"
   ]
  },
  {
   "cell_type": "code",
   "execution_count": 79,
   "id": "applied-petersburg",
   "metadata": {},
   "outputs": [
    {
     "data": {
      "text/plain": [
       "0.6712929375944849"
      ]
     },
     "execution_count": 79,
     "metadata": {},
     "output_type": "execute_result"
    }
   ],
   "source": [
    "regr_mlpr.score(X_train,y_train)"
   ]
  },
  {
   "cell_type": "code",
   "execution_count": 80,
   "id": "classical-thermal",
   "metadata": {},
   "outputs": [
    {
     "data": {
      "text/plain": [
       "54.96168616659592"
      ]
     },
     "execution_count": 80,
     "metadata": {},
     "output_type": "execute_result"
    }
   ],
   "source": [
    "MAPE(regr_mlpr.predict(X_train),y_train)"
   ]
  },
  {
   "cell_type": "code",
   "execution_count": 81,
   "id": "capital-router",
   "metadata": {},
   "outputs": [
    {
     "data": {
      "text/plain": [
       "57.38363530607435"
      ]
     },
     "execution_count": 81,
     "metadata": {},
     "output_type": "execute_result"
    }
   ],
   "source": [
    "MAPE(regr_mlpr.predict(X_test),y_test)"
   ]
  },
  {
   "cell_type": "markdown",
   "id": "reasonable-latin",
   "metadata": {},
   "source": [
    "### Ridge"
   ]
  },
  {
   "cell_type": "code",
   "execution_count": 82,
   "id": "hidden-morris",
   "metadata": {},
   "outputs": [],
   "source": [
    "from sklearn.linear_model import Ridge"
   ]
  },
  {
   "cell_type": "code",
   "execution_count": 92,
   "id": "sufficient-lincoln",
   "metadata": {},
   "outputs": [
    {
     "data": {
      "text/plain": [
       "Ridge(alpha=0.5)"
      ]
     },
     "execution_count": 92,
     "metadata": {},
     "output_type": "execute_result"
    }
   ],
   "source": [
    "ridge= Ridge(alpha=0.50)\n",
    "ridge.fit(X_train,y_train)"
   ]
  },
  {
   "cell_type": "code",
   "execution_count": 95,
   "id": "sized-darkness",
   "metadata": {},
   "outputs": [
    {
     "data": {
      "text/plain": [
       "0.5999630706644143"
      ]
     },
     "execution_count": 95,
     "metadata": {},
     "output_type": "execute_result"
    }
   ],
   "source": [
    "ridge.score(X_train,y_train)"
   ]
  },
  {
   "cell_type": "code",
   "execution_count": 93,
   "id": "funded-socket",
   "metadata": {},
   "outputs": [
    {
     "data": {
      "text/plain": [
       "52.98441872854264"
      ]
     },
     "execution_count": 93,
     "metadata": {},
     "output_type": "execute_result"
    }
   ],
   "source": [
    "MAPE(ridge.predict(X_train),y_train)"
   ]
  },
  {
   "cell_type": "code",
   "execution_count": 94,
   "id": "ordered-vacation",
   "metadata": {},
   "outputs": [
    {
     "data": {
      "text/plain": [
       "53.295853004235795"
      ]
     },
     "execution_count": 94,
     "metadata": {},
     "output_type": "execute_result"
    }
   ],
   "source": [
    "MAPE(ridge.predict(X_test),y_test)"
   ]
  },
  {
   "cell_type": "markdown",
   "id": "greater-angle",
   "metadata": {},
   "source": [
    "### Ransac regression"
   ]
  },
  {
   "cell_type": "code",
   "execution_count": 96,
   "id": "vulnerable-crash",
   "metadata": {},
   "outputs": [],
   "source": [
    "from sklearn.linear_model import RANSACRegressor"
   ]
  },
  {
   "cell_type": "code",
   "execution_count": 98,
   "id": "becoming-cotton",
   "metadata": {},
   "outputs": [
    {
     "data": {
      "text/plain": [
       "RANSACRegressor()"
      ]
     },
     "execution_count": 98,
     "metadata": {},
     "output_type": "execute_result"
    }
   ],
   "source": [
    "ransac= RANSACRegressor()\n",
    "ransac.fit(X_train,y_train)"
   ]
  },
  {
   "cell_type": "code",
   "execution_count": 99,
   "id": "coastal-recording",
   "metadata": {},
   "outputs": [
    {
     "data": {
      "text/plain": [
       "0.17446199836671894"
      ]
     },
     "execution_count": 99,
     "metadata": {},
     "output_type": "execute_result"
    }
   ],
   "source": [
    "ransac.score(X_train,y_train)"
   ]
  },
  {
   "cell_type": "code",
   "execution_count": 100,
   "id": "daily-update",
   "metadata": {},
   "outputs": [
    {
     "data": {
      "text/plain": [
       "154.79309455898243"
      ]
     },
     "execution_count": 100,
     "metadata": {},
     "output_type": "execute_result"
    }
   ],
   "source": [
    "MAPE(ransac.predict(X_train),y_train)"
   ]
  },
  {
   "cell_type": "code",
   "execution_count": 101,
   "id": "genetic-consolidation",
   "metadata": {},
   "outputs": [
    {
     "data": {
      "text/plain": [
       "156.27591506440234"
      ]
     },
     "execution_count": 101,
     "metadata": {},
     "output_type": "execute_result"
    }
   ],
   "source": [
    "MAPE(ransac.predict(X_test),y_test)"
   ]
  },
  {
   "cell_type": "markdown",
   "id": "given-reflection",
   "metadata": {},
   "source": [
    "### Gaussian processor"
   ]
  },
  {
   "cell_type": "code",
   "execution_count": 77,
   "id": "swiss-aruba",
   "metadata": {},
   "outputs": [],
   "source": [
    "from sklearn.gaussian_process import GaussianProcessRegressor\n",
    "from sklearn.gaussian_process.kernels import DotProduct, WhiteKernel"
   ]
  },
  {
   "cell_type": "code",
   "execution_count": null,
   "id": "sunrise-telescope",
   "metadata": {},
   "outputs": [],
   "source": [
    "gpr = GaussianProcessRegressor().fit(X_train, y_train)"
   ]
  },
  {
   "cell_type": "code",
   "execution_count": null,
   "id": "sporting-witch",
   "metadata": {},
   "outputs": [],
   "source": [
    "MAPE(gpr.predict(X_test),y_test)"
   ]
  },
  {
   "cell_type": "markdown",
   "id": "forty-romania",
   "metadata": {},
   "source": [
    "### XG-Boost"
   ]
  },
  {
   "cell_type": "code",
   "execution_count": 82,
   "id": "welcome-panama",
   "metadata": {},
   "outputs": [],
   "source": [
    "from sklearn.ensemble import GradientBoostingRegressor"
   ]
  },
  {
   "cell_type": "code",
   "execution_count": 83,
   "id": "quality-check",
   "metadata": {},
   "outputs": [
    {
     "data": {
      "text/plain": [
       "GradientBoostingRegressor()"
      ]
     },
     "execution_count": 83,
     "metadata": {},
     "output_type": "execute_result"
    }
   ],
   "source": [
    "reg_xgBoost = GradientBoostingRegressor()\n",
    "reg_xgBoost.fit(X_train, y_train)"
   ]
  },
  {
   "cell_type": "code",
   "execution_count": 84,
   "id": "certified-natural",
   "metadata": {},
   "outputs": [
    {
     "data": {
      "text/plain": [
       "0.6523217399227538"
      ]
     },
     "execution_count": 84,
     "metadata": {},
     "output_type": "execute_result"
    }
   ],
   "source": [
    "reg_xgBoost.score(X_train,y_train)"
   ]
  },
  {
   "cell_type": "code",
   "execution_count": 85,
   "id": "female-klein",
   "metadata": {},
   "outputs": [
    {
     "data": {
      "text/plain": [
       "40.845565419315676"
      ]
     },
     "execution_count": 85,
     "metadata": {},
     "output_type": "execute_result"
    }
   ],
   "source": [
    "MAPE(reg_xgBoost.predict(X_train),y_train)"
   ]
  },
  {
   "cell_type": "code",
   "execution_count": 86,
   "id": "straight-burner",
   "metadata": {},
   "outputs": [
    {
     "data": {
      "text/plain": [
       "41.08475588441167"
      ]
     },
     "execution_count": 86,
     "metadata": {},
     "output_type": "execute_result"
    }
   ],
   "source": [
    "MAPE(reg_xgBoost.predict(X_test),y_test)"
   ]
  },
  {
   "cell_type": "markdown",
   "id": "f92f95f6",
   "metadata": {},
   "source": [
    "### Gérer les données manquantes"
   ]
  },
  {
   "cell_type": "code",
   "execution_count": 87,
   "id": "d5760d94",
   "metadata": {},
   "outputs": [],
   "source": [
    "Xna = train[~train.index.isin(train.dropna().index)]"
   ]
  },
  {
   "cell_type": "code",
   "execution_count": 88,
   "id": "85c18938",
   "metadata": {},
   "outputs": [],
   "source": [
    "# pour chaque station présente dans le Xna\n",
    "Xna_reduit = Xna[[\"Id\",\"lat\",\"lon\",\"height_sta\",\"day_index\"]].copy()\n",
    "Xna_reduit[\"Prediction\"] = None\n",
    "Xc_reduit = X_full[[\"Id\",\"lat\",\"lon\",\"height_sta\",\"day_index\"]].copy()\n",
    "Xc_reduit[\"Prediction\"] = list(y_predicted_all)\n",
    "Xna_reduit.set_index(\"Id\",inplace = True)\n",
    "Xc_reduit.set_index(\"Id\",inplace = True)"
   ]
  },
  {
   "cell_type": "code",
   "execution_count": 89,
   "id": "c79935f1",
   "metadata": {},
   "outputs": [],
   "source": [
    "from sklearn.impute import KNNImputer"
   ]
  },
  {
   "cell_type": "code",
   "execution_count": 90,
   "id": "cdb722db",
   "metadata": {},
   "outputs": [],
   "source": [
    "df_feed = pd.concat([Xc_reduit,Xna_reduit],ignore_index=True)"
   ]
  },
  {
   "cell_type": "code",
   "execution_count": 91,
   "id": "4a60227e",
   "metadata": {},
   "outputs": [
    {
     "data": {
      "text/plain": [
       "KNNImputer(n_neighbors=1)"
      ]
     },
     "execution_count": 91,
     "metadata": {},
     "output_type": "execute_result"
    }
   ],
   "source": [
    "### réaliser une imputation des données manquantes.\n",
    "imputer = KNNImputer(n_neighbors=1)\n",
    "imputer.fit(Xc_reduit)"
   ]
  },
  {
   "cell_type": "code",
   "execution_count": 92,
   "id": "90a021fc",
   "metadata": {},
   "outputs": [],
   "source": [
    "result = imputer.transform(Xna_reduit)"
   ]
  },
  {
   "cell_type": "code",
   "execution_count": 93,
   "id": "60b2805e",
   "metadata": {},
   "outputs": [],
   "source": [
    "df = pd.DataFrame()\n",
    "df[\"Id\"] = ytrain.dropna(subset = [\"Ground_truth\"])[\"Id\"]\n",
    "df[\"Prediction\"] = ytrain.dropna(subset = [\"Ground_truth\"])[\"Ground_truth\"]"
   ]
  },
  {
   "cell_type": "code",
   "execution_count": 94,
   "id": "69043798",
   "metadata": {},
   "outputs": [],
   "source": [
    "Xna[\"result\"] = result[:,4]"
   ]
  },
  {
   "cell_type": "code",
   "execution_count": 95,
   "id": "dec78ff9",
   "metadata": {},
   "outputs": [],
   "source": [
    "Xna = Xna.merge(df,on=[\"Id\"],how=\"right\").dropna(subset=[\"lat\"])"
   ]
  },
  {
   "cell_type": "code",
   "execution_count": 96,
   "id": "b9441154",
   "metadata": {},
   "outputs": [
    {
     "data": {
      "text/plain": [
       "48.58948192663525"
      ]
     },
     "execution_count": 96,
     "metadata": {},
     "output_type": "execute_result"
    }
   ],
   "source": [
    "MAPE(list(Xna[\"result\"]),list(Xna[\"Prediction_y\"]))"
   ]
  },
  {
   "cell_type": "code",
   "execution_count": 97,
   "id": "cd4c0bf9",
   "metadata": {},
   "outputs": [],
   "source": [
    "Xasc = Xna[[\"lat\",\"lon\",\"height_sta\",\"Forecasted\",\"result\",\"month\",\"Prediction_x\"]].copy().values"
   ]
  },
  {
   "cell_type": "code",
   "execution_count": 98,
   "id": "6f069d7e",
   "metadata": {},
   "outputs": [],
   "source": [
    "Yasc = np.array(Xna[\"Prediction_y\"])"
   ]
  },
  {
   "cell_type": "code",
   "execution_count": 99,
   "id": "4f934d86",
   "metadata": {},
   "outputs": [],
   "source": [
    "Xasc = StandardScaler().fit_transform(Xasc)"
   ]
  },
  {
   "cell_type": "code",
   "execution_count": 100,
   "id": "ab394cff",
   "metadata": {},
   "outputs": [],
   "source": [
    "X_train, X_test, y_train, y_test = train_test_split(\n",
    "...     Xasc, Yasc, test_size=0.50, random_state=42)"
   ]
  },
  {
   "cell_type": "code",
   "execution_count": 101,
   "id": "69c0b967",
   "metadata": {},
   "outputs": [
    {
     "data": {
      "text/plain": [
       "SVR()"
      ]
     },
     "execution_count": 101,
     "metadata": {},
     "output_type": "execute_result"
    }
   ],
   "source": [
    "# modele to complete missing data \n",
    "regr_svm_na = svm.SVR()\n",
    "regr_svm_na.fit(X_train,y_train)"
   ]
  },
  {
   "cell_type": "code",
   "execution_count": 102,
   "id": "varying-alarm",
   "metadata": {},
   "outputs": [
    {
     "data": {
      "text/plain": [
       "31.48471481862903"
      ]
     },
     "execution_count": 102,
     "metadata": {},
     "output_type": "execute_result"
    }
   ],
   "source": [
    "MAPE(regr_svm_na.predict(X_test),y_test)"
   ]
  },
  {
   "cell_type": "code",
   "execution_count": null,
   "id": "103905a8",
   "metadata": {},
   "outputs": [],
   "source": [
    "xasc = Xna[[\"lat\",\"lon\",\"height_sta\",\"Forecasted\",\"result\",\"month\",\"day\",\"Prediction_x\"]].copy()\n",
    "xasc[\"Forecasted\"] = list(xasc[\"Forecasted\"])[0:50000] + [None]*(71829-50000)"
   ]
  },
  {
   "cell_type": "code",
   "execution_count": null,
   "id": "6a6ebb20",
   "metadata": {},
   "outputs": [],
   "source": [
    "xasc[\"Forecasted\"] = xasc[\"Prediction_x\"]"
   ]
  },
  {
   "cell_type": "code",
   "execution_count": null,
   "id": "0611763e",
   "metadata": {},
   "outputs": [],
   "source": [
    "xasc_v = xasc.values"
   ]
  },
  {
   "cell_type": "code",
   "execution_count": null,
   "id": "c7e0344c",
   "metadata": {},
   "outputs": [],
   "source": [
    "xasc_v = StandardScaler().fit_transform(xasc_v)"
   ]
  },
  {
   "cell_type": "code",
   "execution_count": null,
   "id": "e5e75f61",
   "metadata": {},
   "outputs": [],
   "source": [
    "MAPE(regr_svm_na.predict(xasc_v),Yasc)"
   ]
  },
  {
   "cell_type": "code",
   "execution_count": null,
   "id": "e89baa0d",
   "metadata": {},
   "outputs": [],
   "source": [
    "MAPE2(regr_svm_na.predict(xasc_v),Yasc)"
   ]
  },
  {
   "cell_type": "code",
   "execution_count": null,
   "id": "d4742f2c",
   "metadata": {},
   "outputs": [],
   "source": [
    "MAPE(list(Xna[\"Forecasted\"]),list(Xna[\"Prediction_y\"]))"
   ]
  },
  {
   "cell_type": "markdown",
   "id": "ce3b0e45",
   "metadata": {},
   "source": [
    "### Prédire la partie test:"
   ]
  },
  {
   "cell_type": "markdown",
   "id": "08fe9c78",
   "metadata": {},
   "source": [
    "#### Sans nan "
   ]
  },
  {
   "cell_type": "code",
   "execution_count": 103,
   "id": "1744ed6a",
   "metadata": {},
   "outputs": [],
   "source": [
    "X_full_tp = test.dropna() # tp stands for to predict\n",
    "id_predicted_1 = list(X_full_tp[\"Id\"])\n",
    "Ximp_tp = X_full_tp.drop(to_drop,axis=1).values\n",
    "Ximp_tp = StandardScaler().fit_transform(Ximp_tp)\n",
    "y_predicted_1 = list(regr_svm.predict(Ximp_tp))"
   ]
  },
  {
   "cell_type": "markdown",
   "id": "687eae87",
   "metadata": {},
   "source": [
    "#### Avec nan "
   ]
  },
  {
   "cell_type": "code",
   "execution_count": 104,
   "id": "ac7eee54",
   "metadata": {},
   "outputs": [],
   "source": [
    "Xna_tp = test[~test.index.isin(test.dropna().index)]"
   ]
  },
  {
   "cell_type": "code",
   "execution_count": 105,
   "id": "d1818bf0",
   "metadata": {},
   "outputs": [],
   "source": [
    "# pour chaque station présente dans le Xna\n",
    "Xna_reduit_tp = Xna_tp[[\"Id\",\"lat\",\"lon\",\"height_sta\",\"month\"]].copy()\n",
    "id_predicted_2 = list(Xna_tp[\"Id\"])\n",
    "Xna_reduit_tp[\"Prediction\"] = None\n",
    "Xna_reduit_tp.set_index(\"Id\",inplace = True)"
   ]
  },
  {
   "cell_type": "code",
   "execution_count": 106,
   "id": "4b417c97",
   "metadata": {},
   "outputs": [],
   "source": [
    "Xc_reduit_tp = X_full_tp[[\"Id\",\"lat\",\"lon\",\"height_sta\",\"month\"]].copy()\n",
    "Xc_reduit_tp[\"Prediction\"] = list(y_predicted_1)\n",
    "Xc_reduit_tp.set_index(\"Id\",inplace = True)"
   ]
  },
  {
   "cell_type": "code",
   "execution_count": 107,
   "id": "49cb47b5",
   "metadata": {},
   "outputs": [],
   "source": [
    "imputer = KNNImputer(n_neighbors=1).fit(Xc_reduit_tp)"
   ]
  },
  {
   "cell_type": "code",
   "execution_count": 108,
   "id": "44c9912b",
   "metadata": {},
   "outputs": [],
   "source": [
    "result_tp = imputer.transform(Xna_reduit_tp)"
   ]
  },
  {
   "cell_type": "code",
   "execution_count": 109,
   "id": "b56ec59c",
   "metadata": {},
   "outputs": [],
   "source": [
    "Xna_tp[\"result\"] = result_tp[:,4]"
   ]
  },
  {
   "cell_type": "code",
   "execution_count": 110,
   "id": "35c5505d",
   "metadata": {},
   "outputs": [],
   "source": [
    "Xasc_tp = Xna_tp[[\"lat\",\"lon\",\"height_sta\",\"Forecasted\",\"result\",\"month\",\"Prediction\"]].copy().values"
   ]
  },
  {
   "cell_type": "code",
   "execution_count": 111,
   "id": "d95a282f",
   "metadata": {},
   "outputs": [],
   "source": [
    "Xasc_tp = StandardScaler().fit_transform(Xasc_tp)"
   ]
  },
  {
   "cell_type": "code",
   "execution_count": 112,
   "id": "59ca9948",
   "metadata": {},
   "outputs": [],
   "source": [
    "y_predicted_2 = list(Xna_tp[\"Forecasted\"])#list(regr_svm_na.predict(Xasc_tp))"
   ]
  },
  {
   "cell_type": "code",
   "execution_count": null,
   "id": "e3f49f95",
   "metadata": {},
   "outputs": [],
   "source": [
    "backup_1 = 0.5 * np.array(X_full_tp[\"Forecasted\"]) + 0.5 * np.array(X_full_tp[\"Prediction\"])\n",
    "backup_2 = 0.5 * np.array(Xna_tp[\"Forecasted\"]) + 0.5 * np.array(Xna_tp[\"Prediction\"])"
   ]
  },
  {
   "cell_type": "code",
   "execution_count": 113,
   "id": "45cc0679",
   "metadata": {},
   "outputs": [],
   "source": [
    "y_pred_1 = [e1 if e1>=0 else 0 for e1 in y_predicted_1]\n",
    "y_pred_2 = [e1 if e1>=0 else 0 for e1 in y_predicted_2]"
   ]
  },
  {
   "cell_type": "code",
   "execution_count": 114,
   "id": "67627fe8",
   "metadata": {},
   "outputs": [],
   "source": [
    "df1 = pd.DataFrame()\n",
    "df1[\"Id\"] = id_predicted_1\n",
    "df1[\"Prediction\"] = y_pred_1"
   ]
  },
  {
   "cell_type": "code",
   "execution_count": 115,
   "id": "2825f06b",
   "metadata": {},
   "outputs": [],
   "source": [
    "df2 = pd.DataFrame()\n",
    "df2[\"Id\"] = id_predicted_2\n",
    "df2[\"Prediction\"] = y_pred_2"
   ]
  },
  {
   "cell_type": "code",
   "execution_count": 116,
   "id": "bbb69b48",
   "metadata": {},
   "outputs": [],
   "source": [
    "df_submit = pd.concat([df1,df2],ignore_index=True)"
   ]
  },
  {
   "cell_type": "markdown",
   "id": "339034da",
   "metadata": {},
   "source": [
    "### Partie submission"
   ]
  },
  {
   "cell_type": "code",
   "execution_count": 114,
   "id": "temporal-disclosure",
   "metadata": {},
   "outputs": [],
   "source": [
    "y_predicted = list(regr_svm.predict(ximp))\n",
    "id_predicted = list(test[\"Id\"])"
   ]
  },
  {
   "cell_type": "code",
   "execution_count": null,
   "id": "862f6178",
   "metadata": {},
   "outputs": [],
   "source": []
  },
  {
   "cell_type": "code",
   "execution_count": 115,
   "id": "breeding-probe",
   "metadata": {},
   "outputs": [],
   "source": [
    "df_submit = pd.DataFrame()\n",
    "df_submit[\"Id\"] = id_predicted\n",
    "df_submit[\"Prediction\"] = y_predicted"
   ]
  },
  {
   "cell_type": "markdown",
   "id": "1926d601",
   "metadata": {},
   "source": [
    "#### enregistrement"
   ]
  },
  {
   "cell_type": "code",
   "execution_count": 116,
   "id": "indian-fraction",
   "metadata": {},
   "outputs": [],
   "source": [
    "df_submit[\"Prediction\"] = df_submit.Prediction.apply(lambda s : s if s>=0 else 0)"
   ]
  },
  {
   "cell_type": "code",
   "execution_count": 117,
   "id": "fatal-establishment",
   "metadata": {},
   "outputs": [],
   "source": [
    "df_submit[\"Prediction\"] = df_submit.Prediction.apply(lambda s : s + 1)"
   ]
  },
  {
   "cell_type": "code",
   "execution_count": 118,
   "id": "blocked-barrier",
   "metadata": {},
   "outputs": [],
   "source": [
    "df_submit.to_csv('./working/' + \"submission.csv\",index=False)"
   ]
  },
  {
   "cell_type": "code",
   "execution_count": 184,
   "id": "f34e6df0",
   "metadata": {},
   "outputs": [
    {
     "data": {
      "text/plain": [
       "(85140, 2)"
      ]
     },
     "execution_count": 184,
     "metadata": {},
     "output_type": "execute_result"
    }
   ],
   "source": [
    "df_submit.shape"
   ]
  },
  {
   "cell_type": "markdown",
   "id": "42db81dc",
   "metadata": {},
   "source": [
    "#### reload"
   ]
  },
  {
   "cell_type": "code",
   "execution_count": null,
   "id": "165fb91f",
   "metadata": {},
   "outputs": [],
   "source": [
    "df_submit = pd.read_csv(\"./working/submission.csv\")"
   ]
  },
  {
   "cell_type": "code",
   "execution_count": null,
   "id": "c5bee62a",
   "metadata": {},
   "outputs": [],
   "source": [
    "df_submit"
   ]
  },
  {
   "cell_type": "code",
   "execution_count": 25,
   "id": "6d398e2d",
   "metadata": {},
   "outputs": [],
   "source": [
    "train.to_csv('./working/' + \"train.csv\",index=False)\n",
    "#test.to_csv('./working/' + \"test.csv\",index=False)"
   ]
  },
  {
   "cell_type": "markdown",
   "id": "cardiac-apparatus",
   "metadata": {},
   "source": [
    "### Data visualisation"
   ]
  },
  {
   "cell_type": "code",
   "execution_count": 24,
   "id": "interesting-polymer",
   "metadata": {},
   "outputs": [],
   "source": [
    "import matplotlib.pyplot as plt"
   ]
  },
  {
   "cell_type": "code",
   "execution_count": 20,
   "id": "unauthorized-preference",
   "metadata": {},
   "outputs": [],
   "source": [
    "viz = train.head(100000)"
   ]
  },
  {
   "cell_type": "code",
   "execution_count": 65,
   "id": "another-sewing",
   "metadata": {},
   "outputs": [
    {
     "data": {
      "text/plain": [
       "<matplotlib.collections.PathCollection at 0x7fe85f48eb38>"
      ]
     },
     "execution_count": 65,
     "metadata": {},
     "output_type": "execute_result"
    },
    {
     "data": {
      "image/png": "[encoded data removed]",
      "text/plain": [
       "<Figure size 432x288 with 1 Axes>"
      ]
     },
     "metadata": {
      "needs_background": "light"
     },
     "output_type": "display_data"
    }
   ],
   "source": [
    "plt.scatter(y_test,np.array(y_predicted_svm_test))"
   ]
  },
  {
   "cell_type": "code",
   "execution_count": 66,
   "id": "federal-ratio",
   "metadata": {},
   "outputs": [
    {
     "data": {
      "text/html": [
       "<div>\n",
       "<style scoped>\n",
       "    .dataframe tbody tr th:only-of-type {\n",
       "        vertical-align: middle;\n",
       "    }\n",
       "\n",
       "    .dataframe tbody tr th {\n",
       "        vertical-align: top;\n",
       "    }\n",
       "\n",
       "    .dataframe thead th {\n",
       "        text-align: right;\n",
       "    }\n",
       "</style>\n",
       "<table border=\"1\" class=\"dataframe\">\n",
       "  <thead>\n",
       "    <tr style=\"text-align: right;\">\n",
       "      <th></th>\n",
       "      <th>Ground_truth</th>\n",
       "    </tr>\n",
       "  </thead>\n",
       "  <tbody>\n",
       "    <tr>\n",
       "      <th>count</th>\n",
       "      <td>161879.000000</td>\n",
       "    </tr>\n",
       "    <tr>\n",
       "      <th>mean</th>\n",
       "      <td>1.942551</td>\n",
       "    </tr>\n",
       "    <tr>\n",
       "      <th>std</th>\n",
       "      <td>4.186512</td>\n",
       "    </tr>\n",
       "    <tr>\n",
       "      <th>min</th>\n",
       "      <td>0.000000</td>\n",
       "    </tr>\n",
       "    <tr>\n",
       "      <th>25%</th>\n",
       "      <td>0.000000</td>\n",
       "    </tr>\n",
       "    <tr>\n",
       "      <th>50%</th>\n",
       "      <td>0.200000</td>\n",
       "    </tr>\n",
       "    <tr>\n",
       "      <th>75%</th>\n",
       "      <td>1.600000</td>\n",
       "    </tr>\n",
       "    <tr>\n",
       "      <th>max</th>\n",
       "      <td>93.500000</td>\n",
       "    </tr>\n",
       "  </tbody>\n",
       "</table>\n",
       "</div>"
      ],
      "text/plain": [
       "        Ground_truth\n",
       "count  161879.000000\n",
       "mean        1.942551\n",
       "std         4.186512\n",
       "min         0.000000\n",
       "25%         0.000000\n",
       "50%         0.200000\n",
       "75%         1.600000\n",
       "max        93.500000"
      ]
     },
     "execution_count": 66,
     "metadata": {},
     "output_type": "execute_result"
    }
   ],
   "source": [
    "ytrain.describe()"
   ]
  },
  {
   "cell_type": "code",
   "execution_count": 67,
   "id": "tracked-playing",
   "metadata": {},
   "outputs": [
    {
     "data": {
      "text/plain": [
       "Index(['number_sta', 'ff_mean', 'ff_min', 'ff_max', 'ff_std', 'ff_median',\n",
       "       'ff_sum', 'ff_count', 'ff_percentile_10', 'ff_percentile_25',\n",
       "       'ff_percentile_80', 'ff_percentile_95', 't_mean', 't_min', 't_max',\n",
       "       't_std', 't_median', 't_sum', 't_count', 't_percentile_10',\n",
       "       't_percentile_25', 't_percentile_80', 't_percentile_95', 'td_mean',\n",
       "       'td_min', 'td_max', 'td_std', 'td_median', 'td_sum', 'td_count',\n",
       "       'td_percentile_10', 'td_percentile_25', 'td_percentile_80',\n",
       "       'td_percentile_95', 'hu_mean', 'hu_min', 'hu_max', 'hu_std',\n",
       "       'hu_median', 'hu_sum', 'hu_count', 'hu_percentile_10',\n",
       "       'hu_percentile_25', 'hu_percentile_80', 'hu_percentile_95', 'dd_mean',\n",
       "       'dd_min', 'dd_max', 'dd_std', 'dd_median', 'dd_sum', 'dd_count',\n",
       "       'dd_percentile_10', 'dd_percentile_25', 'dd_percentile_80',\n",
       "       'dd_percentile_95', 'Prediction', 'day_index', 'Id', 'lat', 'lon',\n",
       "       'height_sta', 'month', 'day', 'Forecasted'],\n",
       "      dtype='object')"
      ]
     },
     "execution_count": 67,
     "metadata": {},
     "output_type": "execute_result"
    }
   ],
   "source": [
    "train.columns"
   ]
  },
  {
   "cell_type": "code",
   "execution_count": 119,
   "id": "thick-chocolate",
   "metadata": {},
   "outputs": [],
   "source": [
    "import joblib"
   ]
  },
  {
   "cell_type": "code",
   "execution_count": 121,
   "id": "5f2ba531",
   "metadata": {},
   "outputs": [
    {
     "data": {
      "text/plain": [
       "['regr_svm.sav']"
      ]
     },
     "execution_count": 121,
     "metadata": {},
     "output_type": "execute_result"
    }
   ],
   "source": [
    "filename = 'regr_svm_na.sav'\n",
    "joblib.dump(regr_svm_na, filename)\n",
    "filename = \"regr_svm.sav\"\n",
    "joblib.dump(regr_svm,filename)"
   ]
  },
  {
   "cell_type": "code",
   "execution_count": null,
   "id": "824e7505",
   "metadata": {},
   "outputs": [],
   "source": []
  }
 ],
 "metadata": {
  "kernelspec": {
   "display_name": "Python 3 (ipykernel)",
   "language": "python",
   "name": "python3"
  },
  "language_info": {
   "codemirror_mode": {
    "name": "ipython",
    "version": 3
   },
   "file_extension": ".py",
   "mimetype": "text/x-python",
   "name": "python",
   "nbconvert_exporter": "python",
   "pygments_lexer": "ipython3",
   "version": "3.9.7"
  },
  "papermill": {
   "default_parameters": {},
   "duration": 54.798373,
   "end_time": "2021-11-17T16:13:27.806509",
   "environment_variables": {},
   "exception": null,
   "input_path": "__notebook__.ipynb",
   "output_path": "__notebook__.ipynb",
   "parameters": {},
   "start_time": "2021-11-17T16:12:33.008136",
   "version": "2.3.3"
  }
 },
 "nbformat": 4,
 "nbformat_minor": 5
}
