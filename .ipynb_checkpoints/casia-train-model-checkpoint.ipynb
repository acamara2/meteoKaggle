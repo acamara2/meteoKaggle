{
 "cells": [
  {
   "cell_type": "code",
   "execution_count": 2,
   "id": "2fd81fad",
   "metadata": {
    "_cell_guid": "b1076dfc-b9ad-4769-8c92-a6c4dae69d19",
    "_uuid": "8f2839f25d086af736a60e9eeb907d3b93b6e0e5",
    "execution": {
     "iopub.execute_input": "2021-11-17T16:12:42.808946Z",
     "iopub.status.busy": "2021-11-17T16:12:42.808167Z",
     "iopub.status.idle": "2021-11-17T16:12:42.860751Z",
     "shell.execute_reply": "2021-11-17T16:12:42.861525Z",
     "shell.execute_reply.started": "2021-11-17T14:36:30.268307Z"
    },
    "papermill": {
     "duration": 0.085687,
     "end_time": "2021-11-17T16:12:42.861890",
     "exception": false,
     "start_time": "2021-11-17T16:12:42.776203",
     "status": "completed"
    },
    "tags": []
   },
   "outputs": [
    {
     "name": "stdout",
     "output_type": "stream",
     "text": [
      "./casia-train-model.ipynb\n",
      "./README.md\n",
      "./prise_en_main/open-y-and-baselines.ipynb\n",
      "./prise_en_main/compute-baseline-obs.ipynb\n",
      "./prise_en_main/open-x-forecast-3d-train.ipynb\n",
      "./prise_en_main/open-x-station.ipynb\n",
      "./prise_en_main/open-x-forecast-2d-train.ipynb\n",
      "./prise_en_main/open-mask-data.ipynb\n",
      "./prise_en_main/open-x-forecast-3d-test.ipynb\n",
      "./prise_en_main/open-x-forecast-2d-test.ipynb\n",
      "./prise_en_main/.ipynb_checkpoints/open-x-station-checkpoint.ipynb\n",
      "./prise_en_main/.ipynb_checkpoints/open-y-and-baselines-checkpoint.ipynb\n",
      "./prise_en_main/.ipynb_checkpoints/compute-baseline-obs-checkpoint.ipynb\n",
      "./prise_en_main/.ipynb_checkpoints/open-x-forecast-3d-train-checkpoint.ipynb\n",
      "./data/.gitignore\n",
      "./data/Other/Other/stations_coordinates.csv\n",
      "./data/Other/Other/NW_masks.nc\n",
      "./data/Test/Test/Id_month_test.csv\n",
      "./data/Test/Test/X_station_test.csv\n",
      "./data/Test/Test/X_forecast/2D_arpege_119.nc\n",
      "./data/Test/Test/X_forecast/arpege_3D_isobar_118.nc\n",
      "./data/Test/Test/X_forecast/2D_arome_119.nc\n",
      "./data/Test/Test/X_forecast/arpege_3D_height_119.nc\n",
      "./data/Test/Test/Baselines/Baseline_forecast_test.csv\n",
      "./data/Test/Test/Baselines/Baseline_observation_test.csv\n",
      "./data/Train/Train/Y_train.csv\n",
      "./data/Train/Train/X_station_train.csv\n",
      "./data/Train/Train/X_forecast/2D_arome_20170214.nc\n",
      "./data/Train/Train/X_forecast/arpege_3D_isobar_20170214.nc\n",
      "./data/Train/Train/X_forecast/arpege_3D_height_20170214.nc\n",
      "./data/Train/Train/X_forecast/2D_arpege_20170214.nc\n",
      "./data/Train/Train/Baselines/Baseline_forecast_train.csv\n",
      "./data/Train/Train/Baselines/Baseline_observation_train.csv\n",
      "./.ipynb_checkpoints/casia-train-model-checkpoint.ipynb\n",
      "./working/my_baseline.csv\n",
      "./.git/index\n",
      "./.git/config\n",
      "./.git/FETCH_HEAD\n",
      "./.git/description\n",
      "./.git/packed-refs\n",
      "./.git/HEAD\n",
      "./.git/ORIG_HEAD\n",
      "./.git/COMMIT_EDITMSG\n",
      "./.git/objects/57/08707e633550924fa13787435f3c9c255807ce\n",
      "./.git/objects/2e/1db2f533e01878be9e4ba6f8ec550d49d37aec\n",
      "./.git/objects/17/d82798140175652290932564c12a091cbaec28\n",
      "./.git/objects/cc/1c43008372d7d0315add46ad6e8e3dbaceb5bf\n",
      "./.git/objects/ea/9b70d97dc6d21d8b5bfa50ff885398d485d4a4\n",
      "./.git/objects/8b/3f5edcfec8ee41845ea6d10e301084651e0ca8\n",
      "./.git/objects/c7/19609985e06cf0ebd326b8d8071e12feffbe64\n",
      "./.git/objects/02/593fe6cd681f0def6f6286227a6cafe71fff13\n",
      "./.git/objects/02/c478d2c1ddb84108bb395b3a3689b6cffcd7b2\n",
      "./.git/objects/a9/6bb2f8f7ad475a5e32f419a348b9bdde6ca81e\n",
      "./.git/objects/a9/4f29a3cbca34c73ba7e45508d99a53b8900a1e\n",
      "./.git/objects/b2/6181062f47771010e93a0e76f69c24ef470730\n",
      "./.git/objects/00/0a9b4fd3e6faa8a06b1f00159d4a4b9d4c12cc\n",
      "./.git/objects/0a/a2231b72a7136ba3cbd6de568d59b84ff408c8\n",
      "./.git/objects/ce/6f3efec6ecaaf1c5d96d579f0f3e1cb56abd90\n",
      "./.git/objects/97/52e62f6cf03bcdff5cedbababfd07d7294c03a\n",
      "./.git/objects/0f/c9cd10225c74a07ae7eab3329c2bf5e1ed81b2\n",
      "./.git/objects/72/e8ffc0db8aad71a934dd11e5968bd5109e54b4\n",
      "./.git/objects/c6/a7b1a83efb42f27dc1c0a2c944dbdc87af2fe9\n",
      "./.git/objects/d5/b070efa6478c9c6c096b586c3937fead873583\n",
      "./.git/objects/f8/7b93139b15c52c5cbf21c41af5779a28038691\n",
      "./.git/objects/e7/6216a2a783f577374056d76d3064c5bc2d2f85\n",
      "./.git/hooks/pre-push.sample\n",
      "./.git/hooks/prepare-commit-msg.sample\n",
      "./.git/hooks/pre-applypatch.sample\n",
      "./.git/hooks/pre-rebase.sample\n",
      "./.git/hooks/commit-msg.sample\n",
      "./.git/hooks/fsmonitor-watchman.sample\n",
      "./.git/hooks/pre-merge-commit.sample\n",
      "./.git/hooks/post-update.sample\n",
      "./.git/hooks/pre-receive.sample\n",
      "./.git/hooks/update.sample\n",
      "./.git/hooks/pre-commit.sample\n",
      "./.git/hooks/applypatch-msg.sample\n",
      "./.git/refs/heads/main\n",
      "./.git/refs/remotes/origin/HEAD\n",
      "./.git/refs/remotes/origin/main\n",
      "./.git/logs/HEAD\n",
      "./.git/logs/refs/heads/main\n",
      "./.git/logs/refs/remotes/origin/HEAD\n",
      "./.git/logs/refs/remotes/origin/main\n",
      "./.git/info/exclude\n"
     ]
    }
   ],
   "source": [
    "# This Python 3 environment comes with many helpful analytics libraries installed\n",
    "# It is defined by the kaggle/python Docker image: https://github.com/kaggle/docker-python\n",
    "# For example, here's several helpful packages to load\n",
    "\n",
    "import numpy as np # linear algebra\n",
    "import pandas as pd # data processing, CSV file I/O (e.g. pd.read_csv)\n",
    "import matplotlib.pyplot as plt\n",
    "import datetime\n",
    "import warnings\n",
    "warnings.filterwarnings(\"ignore\")\n",
    "# Input data files are available in the read-only \"../input/\" directory\n",
    "# For example, running this (by clicking run or pressing Shift+Enter) will list all files under the input directory\n",
    "\n",
    "import os\n",
    "for dirname, _, filenames in os.walk('./'):\n",
    "    for filename in filenames:\n",
    "        print(os.path.join(dirname, filename))\n",
    "\n",
    "# You can write up to 20GB to the current directory (/kaggle/working/) that gets preserved as output when you create a version using \"Save & Run All\" \n",
    "# You can also write temporary files to /kaggle/temp/, but they won't be saved outside of the current session"
   ]
  },
  {
   "cell_type": "markdown",
   "id": "0b373a2e",
   "metadata": {
    "papermill": {
     "duration": 0.023397,
     "end_time": "2021-11-17T16:12:42.907328",
     "exception": false,
     "start_time": "2021-11-17T16:12:42.883931",
     "status": "completed"
    },
    "tags": []
   },
   "source": [
    "### load X_train"
   ]
  },
  {
   "cell_type": "code",
   "execution_count": 130,
   "id": "1aef4493",
   "metadata": {
    "execution": {
     "iopub.execute_input": "2021-11-17T16:12:42.953597Z",
     "iopub.status.busy": "2021-11-17T16:12:42.952907Z",
     "iopub.status.idle": "2021-11-17T16:12:42.957549Z",
     "shell.execute_reply": "2021-11-17T16:12:42.956844Z",
     "shell.execute_reply.started": "2021-11-17T14:36:40.25291Z"
    },
    "papermill": {
     "duration": 0.028914,
     "end_time": "2021-11-17T16:12:42.957697",
     "exception": false,
     "start_time": "2021-11-17T16:12:42.928783",
     "status": "completed"
    },
    "tags": []
   },
   "outputs": [],
   "source": [
    "first_date = datetime.datetime(2016,1,1)    \n",
    "last_date = datetime.datetime(2017,12,31)\n",
    "coords_fname  = './data/Other/Other/stations_coordinates.csv'\n",
    "fname = './data/Train/Train/X_station_train.csv'"
   ]
  },
  {
   "cell_type": "code",
   "execution_count": 128,
   "id": "acd84f78",
   "metadata": {},
   "outputs": [],
   "source": [
    "def load_X_train(fname,coords_fname) :\n",
    "    coords = pd.read_csv(coords_fname)\n",
    "    train = pd.read_csv(fname,parse_dates=['date'],infer_datetime_format=True)\n",
    "    # reorganisation des données.\n",
    "    train['number_sta']=train['number_sta'].astype('category')\n",
    "    #sort by station, then by date \n",
    "    train = train.sort_values(['number_sta','date'])\n",
    "    method_traitements = [\"mean\",\"min\",\"max\",\"std\"]\n",
    "    dict_to_split = {\"ff\":method_traitements,\"t\":method_traitements,\"td\":method_traitements\n",
    "                     ,\"hu\":method_traitements,\"dd\":method_traitements,\"precip\":\"sum\"}\n",
    "    Base_obs = train[{\"number_sta\",\"date\",\"ff\",\"t\",\"td\",\"hu\",\"dd\",\"precip\"}].copy()\n",
    "    Base_obs.set_index('date',inplace = True)  \n",
    "\n",
    "    # type de traitement.\n",
    "    Base_obs_type = Base_obs.groupby('number_sta').resample('D').agg(dict_to_split)\n",
    "    Base_obs_type = Base_obs_type.reset_index(['date','number_sta'])\n",
    "    Base_obs_type['number_sta'] = Base_obs_type['number_sta'].astype('category')   \n",
    "    #Select the observations the day before \n",
    "    Base_obs_type['baseline_obs'] = Base_obs_type['precip'][\"sum\"].shift(1)\n",
    "    Base_obs_type = Base_obs_type.sort_values(by=[\"number_sta\",\"date\"])\n",
    "    #del Base_obs['precip']\n",
    "    #Base_obs = Base_obs.rename(columns={'baseline_obs':'precip'})\n",
    "    del Base_obs_type[\"precip\"]\n",
    "    date = first_date\n",
    "    dates = []\n",
    "    while date <= (last_date - datetime.timedelta(days=1)):\n",
    "        date += datetime.timedelta(days=1)\n",
    "        dates.append(date)\n",
    "\n",
    "    d_dates =  pd.DataFrame(dates, columns = ['date'])\n",
    "    d_dates['day_index'] = d_dates.index\n",
    "    y_f = Base_obs_type.merge(d_dates,how=\"right\",on = [\"date\"])\n",
    "    y_f = y_f[y_f['date']!=last_date]\n",
    "    y_f['Id'] = y_f[list(y_f.columns)[1]].astype(str) + '_' + \\\n",
    "                      y_f['day_index'].astype(str) \n",
    "    #y_f[\"number_sta\"] = y_f[(\"number_sta\",\"\")]\n",
    "    #y_f = y_f.merge(coords,on=[\"number_sta\"],how=\"right\")\n",
    "    X_train = y_f.drop([\"day_index\",(\"number_sta\",\"\")],axis=1)\n",
    "    X_train[\"month\"] = X_train[(\"date\",\"\")].dt.month\n",
    "    X_train[\"day\"] = X_train[(\"date\",\"\")].dt.day\n",
    "    X_train.drop([\"date\",(\"date\",\"\")],axis=1,inplace=True)\n",
    "    return X_train"
   ]
  },
  {
   "cell_type": "code",
   "execution_count": 131,
   "id": "6d82930d",
   "metadata": {},
   "outputs": [],
   "source": [
    "train = load_X_train(fname,coords_fname)"
   ]
  },
  {
   "cell_type": "markdown",
   "id": "82c7458a",
   "metadata": {},
   "source": [
    "### Load Y_test"
   ]
  },
  {
   "cell_type": "code",
   "execution_count": 187,
   "id": "8398f8ef",
   "metadata": {},
   "outputs": [],
   "source": [
    "fname_test = \"./data/Test/Test/X_station_test.csv\"\n",
    "coords_fname_test = './data/Other/Other/stations_coordinates.csv'\n",
    "coords = pd.read_csv(coords_fname_test)\n",
    "test = pd.read_csv(fname_test)"
   ]
  },
  {
   "cell_type": "code",
   "execution_count": 188,
   "id": "9b5d676f",
   "metadata": {},
   "outputs": [],
   "source": [
    "test[\"Id\"] =test[\"Id\"].str.rsplit(\"_\",n=1,expand=True)[0]"
   ]
  },
  {
   "cell_type": "code",
   "execution_count": 189,
   "id": "24b4a90d",
   "metadata": {},
   "outputs": [],
   "source": [
    "test.drop([\"precip\",\"month\"],axis = 1,inplace = True)"
   ]
  },
  {
   "cell_type": "code",
   "execution_count": 190,
   "id": "7d5ed8c3",
   "metadata": {},
   "outputs": [],
   "source": [
    "method_traitements = [\"mean\",\"min\",\"max\",\"std\"]\n",
    "dict_to_split = {\"ff\":method_traitements,\"t\":method_traitements,\"td\":method_traitements\n",
    "                 ,\"hu\":method_traitements,\"dd\":method_traitements}"
   ]
  },
  {
   "cell_type": "code",
   "execution_count": 191,
   "id": "85b28a80",
   "metadata": {},
   "outputs": [],
   "source": [
    "test[\"Id\"] = test[\"Id\"].astype(\"category\")"
   ]
  },
  {
   "cell_type": "code",
   "execution_count": 192,
   "id": "6d735d7f",
   "metadata": {},
   "outputs": [],
   "source": [
    "Base_obs = test[{\"Id\",\"ff\",\"t\",\"td\",\"hu\",\"dd\"}].copy()"
   ]
  },
  {
   "cell_type": "code",
   "execution_count": 193,
   "id": "0723d9e8",
   "metadata": {},
   "outputs": [],
   "source": [
    "# type de traitement.\n",
    "Base_obs_type = Base_obs.groupby('Id').agg(dict_to_split)\n",
    "Base_obs_type = Base_obs_type.sort_values(by=[\"Id\"])"
   ]
  },
  {
   "cell_type": "code",
   "execution_count": 194,
   "id": "bf3ac736",
   "metadata": {},
   "outputs": [],
   "source": [
    "test = Base_obs_type.copy()"
   ]
  },
  {
   "cell_type": "code",
   "execution_count": 195,
   "id": "7a5ae2e7",
   "metadata": {},
   "outputs": [],
   "source": [
    "test.columns = ['_'.join(col).strip() for col in test.columns.values]"
   ]
  },
  {
   "cell_type": "code",
   "execution_count": 196,
   "id": "7d4e6870",
   "metadata": {},
   "outputs": [],
   "source": [
    "test = test.reset_index(['Id'])"
   ]
  },
  {
   "cell_type": "code",
   "execution_count": 197,
   "id": "d30d8e3e",
   "metadata": {},
   "outputs": [],
   "source": [
    "base_test = pd.read_csv(\"./data/Test/Test/Baselines/Baseline_observation_test.csv\")"
   ]
  },
  {
   "cell_type": "code",
   "execution_count": 200,
   "id": "5301609b",
   "metadata": {},
   "outputs": [],
   "source": [
    "test = test.merge(base_test,on=[\"Id\"],how=\"right\")"
   ]
  },
  {
   "cell_type": "code",
   "execution_count": 202,
   "id": "2c209697",
   "metadata": {},
   "outputs": [],
   "source": [
    "test[[\"number_sta\",\"day_index\"]] = test[\"Id\"].str.split(\"_\",expand=True)"
   ]
  },
  {
   "cell_type": "code",
   "execution_count": 203,
   "id": "1e6d9bb0",
   "metadata": {},
   "outputs": [],
   "source": [
    "test[\"number_sta\"] = test[\"number_sta\"].astype(int)"
   ]
  },
  {
   "cell_type": "code",
   "execution_count": 204,
   "id": "67c114b2",
   "metadata": {},
   "outputs": [],
   "source": [
    "test = test.merge(coords,on=\"number_sta\",how='right')"
   ]
  },
  {
   "cell_type": "code",
   "execution_count": 206,
   "id": "a6323991",
   "metadata": {},
   "outputs": [],
   "source": [
    "date = first_date\n",
    "dates = []\n",
    "while date <= (last_date - datetime.timedelta(days=1)):\n",
    "    date += datetime.timedelta(days=1)\n",
    "    dates.append(date)\n",
    "\n",
    "d_dates =  pd.DataFrame(dates, columns = ['date'])\n",
    "d_dates['day_index'] = d_dates.index"
   ]
  },
  {
   "cell_type": "code",
   "execution_count": 207,
   "id": "d44df5ec",
   "metadata": {},
   "outputs": [],
   "source": [
    "d_dates[\"month\"]=d_dates[\"date\"].dt.month\n",
    "d_dates[\"day\"] = d_dates[\"date\"].dt.day\n",
    "del d_dates[\"date\"]"
   ]
  },
  {
   "cell_type": "code",
   "execution_count": 208,
   "id": "5a1eb4d5",
   "metadata": {},
   "outputs": [],
   "source": [
    "test.dropna(subset=[\"day_index\"],inplace=True)"
   ]
  },
  {
   "cell_type": "code",
   "execution_count": 210,
   "id": "a6a63ec1",
   "metadata": {},
   "outputs": [],
   "source": [
    "test[\"day_index\"] = test[\"day_index\"].astype(int)"
   ]
  },
  {
   "cell_type": "code",
   "execution_count": 211,
   "id": "28464fc2",
   "metadata": {},
   "outputs": [
    {
     "data": {
      "text/html": [
       "<div>\n",
       "<style scoped>\n",
       "    .dataframe tbody tr th:only-of-type {\n",
       "        vertical-align: middle;\n",
       "    }\n",
       "\n",
       "    .dataframe tbody tr th {\n",
       "        vertical-align: top;\n",
       "    }\n",
       "\n",
       "    .dataframe thead th {\n",
       "        text-align: right;\n",
       "    }\n",
       "</style>\n",
       "<table border=\"1\" class=\"dataframe\">\n",
       "  <thead>\n",
       "    <tr style=\"text-align: right;\">\n",
       "      <th></th>\n",
       "      <th>Id</th>\n",
       "      <th>ff_mean</th>\n",
       "      <th>ff_min</th>\n",
       "      <th>ff_max</th>\n",
       "      <th>ff_std</th>\n",
       "      <th>t_mean</th>\n",
       "      <th>t_min</th>\n",
       "      <th>t_max</th>\n",
       "      <th>t_std</th>\n",
       "      <th>td_mean</th>\n",
       "      <th>...</th>\n",
       "      <th>dd_max</th>\n",
       "      <th>dd_std</th>\n",
       "      <th>Prediction</th>\n",
       "      <th>number_sta</th>\n",
       "      <th>day_index</th>\n",
       "      <th>lat</th>\n",
       "      <th>lon</th>\n",
       "      <th>height_sta</th>\n",
       "      <th>month</th>\n",
       "      <th>day</th>\n",
       "    </tr>\n",
       "  </thead>\n",
       "  <tbody>\n",
       "    <tr>\n",
       "      <th>0</th>\n",
       "      <td>78140001_0</td>\n",
       "      <td>NaN</td>\n",
       "      <td>NaN</td>\n",
       "      <td>NaN</td>\n",
       "      <td>NaN</td>\n",
       "      <td>NaN</td>\n",
       "      <td>NaN</td>\n",
       "      <td>NaN</td>\n",
       "      <td>NaN</td>\n",
       "      <td>NaN</td>\n",
       "      <td>...</td>\n",
       "      <td>NaN</td>\n",
       "      <td>NaN</td>\n",
       "      <td>0.2</td>\n",
       "      <td>78140001.0</td>\n",
       "      <td>0</td>\n",
       "      <td>48.964</td>\n",
       "      <td>1.925</td>\n",
       "      <td>42.0</td>\n",
       "      <td>1</td>\n",
       "      <td>2</td>\n",
       "    </tr>\n",
       "    <tr>\n",
       "      <th>1</th>\n",
       "      <td>86272002_0</td>\n",
       "      <td>NaN</td>\n",
       "      <td>NaN</td>\n",
       "      <td>NaN</td>\n",
       "      <td>NaN</td>\n",
       "      <td>281.354167</td>\n",
       "      <td>280.25</td>\n",
       "      <td>283.65</td>\n",
       "      <td>1.077428</td>\n",
       "      <td>NaN</td>\n",
       "      <td>...</td>\n",
       "      <td>NaN</td>\n",
       "      <td>NaN</td>\n",
       "      <td>0.0</td>\n",
       "      <td>86272002.0</td>\n",
       "      <td>0</td>\n",
       "      <td>46.839</td>\n",
       "      <td>0.457</td>\n",
       "      <td>120.0</td>\n",
       "      <td>1</td>\n",
       "      <td>2</td>\n",
       "    </tr>\n",
       "    <tr>\n",
       "      <th>2</th>\n",
       "      <td>14577003_0</td>\n",
       "      <td>NaN</td>\n",
       "      <td>NaN</td>\n",
       "      <td>NaN</td>\n",
       "      <td>NaN</td>\n",
       "      <td>278.689583</td>\n",
       "      <td>274.40</td>\n",
       "      <td>284.35</td>\n",
       "      <td>3.365844</td>\n",
       "      <td>277.572917</td>\n",
       "      <td>...</td>\n",
       "      <td>NaN</td>\n",
       "      <td>NaN</td>\n",
       "      <td>0.5</td>\n",
       "      <td>14577003.0</td>\n",
       "      <td>0</td>\n",
       "      <td>49.280</td>\n",
       "      <td>-0.564</td>\n",
       "      <td>15.0</td>\n",
       "      <td>1</td>\n",
       "      <td>2</td>\n",
       "    </tr>\n",
       "    <tr>\n",
       "      <th>3</th>\n",
       "      <td>14126001_0</td>\n",
       "      <td>NaN</td>\n",
       "      <td>NaN</td>\n",
       "      <td>NaN</td>\n",
       "      <td>NaN</td>\n",
       "      <td>279.164583</td>\n",
       "      <td>276.20</td>\n",
       "      <td>283.35</td>\n",
       "      <td>2.375394</td>\n",
       "      <td>278.152083</td>\n",
       "      <td>...</td>\n",
       "      <td>NaN</td>\n",
       "      <td>NaN</td>\n",
       "      <td>0.5</td>\n",
       "      <td>14126001.0</td>\n",
       "      <td>0</td>\n",
       "      <td>49.145</td>\n",
       "      <td>0.042</td>\n",
       "      <td>125.0</td>\n",
       "      <td>1</td>\n",
       "      <td>2</td>\n",
       "    </tr>\n",
       "    <tr>\n",
       "      <th>4</th>\n",
       "      <td>14066001_0</td>\n",
       "      <td>3.37</td>\n",
       "      <td>2.15</td>\n",
       "      <td>4.87</td>\n",
       "      <td>0.695764</td>\n",
       "      <td>279.474583</td>\n",
       "      <td>276.28</td>\n",
       "      <td>284.57</td>\n",
       "      <td>2.634342</td>\n",
       "      <td>277.683750</td>\n",
       "      <td>...</td>\n",
       "      <td>244.0</td>\n",
       "      <td>18.66699</td>\n",
       "      <td>0.2</td>\n",
       "      <td>14066001.0</td>\n",
       "      <td>0</td>\n",
       "      <td>49.334</td>\n",
       "      <td>-0.431</td>\n",
       "      <td>2.0</td>\n",
       "      <td>1</td>\n",
       "      <td>2</td>\n",
       "    </tr>\n",
       "    <tr>\n",
       "      <th>...</th>\n",
       "      <td>...</td>\n",
       "      <td>...</td>\n",
       "      <td>...</td>\n",
       "      <td>...</td>\n",
       "      <td>...</td>\n",
       "      <td>...</td>\n",
       "      <td>...</td>\n",
       "      <td>...</td>\n",
       "      <td>...</td>\n",
       "      <td>...</td>\n",
       "      <td>...</td>\n",
       "      <td>...</td>\n",
       "      <td>...</td>\n",
       "      <td>...</td>\n",
       "      <td>...</td>\n",
       "      <td>...</td>\n",
       "      <td>...</td>\n",
       "      <td>...</td>\n",
       "      <td>...</td>\n",
       "      <td>...</td>\n",
       "      <td>...</td>\n",
       "    </tr>\n",
       "    <tr>\n",
       "      <th>85502</th>\n",
       "      <td>NaN</td>\n",
       "      <td>NaN</td>\n",
       "      <td>NaN</td>\n",
       "      <td>NaN</td>\n",
       "      <td>NaN</td>\n",
       "      <td>NaN</td>\n",
       "      <td>NaN</td>\n",
       "      <td>NaN</td>\n",
       "      <td>NaN</td>\n",
       "      <td>NaN</td>\n",
       "      <td>...</td>\n",
       "      <td>NaN</td>\n",
       "      <td>NaN</td>\n",
       "      <td>NaN</td>\n",
       "      <td>NaN</td>\n",
       "      <td>725</td>\n",
       "      <td>NaN</td>\n",
       "      <td>NaN</td>\n",
       "      <td>NaN</td>\n",
       "      <td>12</td>\n",
       "      <td>27</td>\n",
       "    </tr>\n",
       "    <tr>\n",
       "      <th>85503</th>\n",
       "      <td>NaN</td>\n",
       "      <td>NaN</td>\n",
       "      <td>NaN</td>\n",
       "      <td>NaN</td>\n",
       "      <td>NaN</td>\n",
       "      <td>NaN</td>\n",
       "      <td>NaN</td>\n",
       "      <td>NaN</td>\n",
       "      <td>NaN</td>\n",
       "      <td>NaN</td>\n",
       "      <td>...</td>\n",
       "      <td>NaN</td>\n",
       "      <td>NaN</td>\n",
       "      <td>NaN</td>\n",
       "      <td>NaN</td>\n",
       "      <td>726</td>\n",
       "      <td>NaN</td>\n",
       "      <td>NaN</td>\n",
       "      <td>NaN</td>\n",
       "      <td>12</td>\n",
       "      <td>28</td>\n",
       "    </tr>\n",
       "    <tr>\n",
       "      <th>85504</th>\n",
       "      <td>NaN</td>\n",
       "      <td>NaN</td>\n",
       "      <td>NaN</td>\n",
       "      <td>NaN</td>\n",
       "      <td>NaN</td>\n",
       "      <td>NaN</td>\n",
       "      <td>NaN</td>\n",
       "      <td>NaN</td>\n",
       "      <td>NaN</td>\n",
       "      <td>NaN</td>\n",
       "      <td>...</td>\n",
       "      <td>NaN</td>\n",
       "      <td>NaN</td>\n",
       "      <td>NaN</td>\n",
       "      <td>NaN</td>\n",
       "      <td>727</td>\n",
       "      <td>NaN</td>\n",
       "      <td>NaN</td>\n",
       "      <td>NaN</td>\n",
       "      <td>12</td>\n",
       "      <td>29</td>\n",
       "    </tr>\n",
       "    <tr>\n",
       "      <th>85505</th>\n",
       "      <td>NaN</td>\n",
       "      <td>NaN</td>\n",
       "      <td>NaN</td>\n",
       "      <td>NaN</td>\n",
       "      <td>NaN</td>\n",
       "      <td>NaN</td>\n",
       "      <td>NaN</td>\n",
       "      <td>NaN</td>\n",
       "      <td>NaN</td>\n",
       "      <td>NaN</td>\n",
       "      <td>...</td>\n",
       "      <td>NaN</td>\n",
       "      <td>NaN</td>\n",
       "      <td>NaN</td>\n",
       "      <td>NaN</td>\n",
       "      <td>728</td>\n",
       "      <td>NaN</td>\n",
       "      <td>NaN</td>\n",
       "      <td>NaN</td>\n",
       "      <td>12</td>\n",
       "      <td>30</td>\n",
       "    </tr>\n",
       "    <tr>\n",
       "      <th>85506</th>\n",
       "      <td>NaN</td>\n",
       "      <td>NaN</td>\n",
       "      <td>NaN</td>\n",
       "      <td>NaN</td>\n",
       "      <td>NaN</td>\n",
       "      <td>NaN</td>\n",
       "      <td>NaN</td>\n",
       "      <td>NaN</td>\n",
       "      <td>NaN</td>\n",
       "      <td>NaN</td>\n",
       "      <td>...</td>\n",
       "      <td>NaN</td>\n",
       "      <td>NaN</td>\n",
       "      <td>NaN</td>\n",
       "      <td>NaN</td>\n",
       "      <td>729</td>\n",
       "      <td>NaN</td>\n",
       "      <td>NaN</td>\n",
       "      <td>NaN</td>\n",
       "      <td>12</td>\n",
       "      <td>31</td>\n",
       "    </tr>\n",
       "  </tbody>\n",
       "</table>\n",
       "<p>85507 rows × 29 columns</p>\n",
       "</div>"
      ],
      "text/plain": [
       "               Id  ff_mean  ff_min  ff_max    ff_std      t_mean   t_min  \\\n",
       "0      78140001_0      NaN     NaN     NaN       NaN         NaN     NaN   \n",
       "1      86272002_0      NaN     NaN     NaN       NaN  281.354167  280.25   \n",
       "2      14577003_0      NaN     NaN     NaN       NaN  278.689583  274.40   \n",
       "3      14126001_0      NaN     NaN     NaN       NaN  279.164583  276.20   \n",
       "4      14066001_0     3.37    2.15    4.87  0.695764  279.474583  276.28   \n",
       "...           ...      ...     ...     ...       ...         ...     ...   \n",
       "85502         NaN      NaN     NaN     NaN       NaN         NaN     NaN   \n",
       "85503         NaN      NaN     NaN     NaN       NaN         NaN     NaN   \n",
       "85504         NaN      NaN     NaN     NaN       NaN         NaN     NaN   \n",
       "85505         NaN      NaN     NaN     NaN       NaN         NaN     NaN   \n",
       "85506         NaN      NaN     NaN     NaN       NaN         NaN     NaN   \n",
       "\n",
       "        t_max     t_std     td_mean  ...  dd_max    dd_std  Prediction  \\\n",
       "0         NaN       NaN         NaN  ...     NaN       NaN         0.2   \n",
       "1      283.65  1.077428         NaN  ...     NaN       NaN         0.0   \n",
       "2      284.35  3.365844  277.572917  ...     NaN       NaN         0.5   \n",
       "3      283.35  2.375394  278.152083  ...     NaN       NaN         0.5   \n",
       "4      284.57  2.634342  277.683750  ...   244.0  18.66699         0.2   \n",
       "...       ...       ...         ...  ...     ...       ...         ...   \n",
       "85502     NaN       NaN         NaN  ...     NaN       NaN         NaN   \n",
       "85503     NaN       NaN         NaN  ...     NaN       NaN         NaN   \n",
       "85504     NaN       NaN         NaN  ...     NaN       NaN         NaN   \n",
       "85505     NaN       NaN         NaN  ...     NaN       NaN         NaN   \n",
       "85506     NaN       NaN         NaN  ...     NaN       NaN         NaN   \n",
       "\n",
       "       number_sta  day_index     lat    lon  height_sta  month  day  \n",
       "0      78140001.0          0  48.964  1.925        42.0      1    2  \n",
       "1      86272002.0          0  46.839  0.457       120.0      1    2  \n",
       "2      14577003.0          0  49.280 -0.564        15.0      1    2  \n",
       "3      14126001.0          0  49.145  0.042       125.0      1    2  \n",
       "4      14066001.0          0  49.334 -0.431         2.0      1    2  \n",
       "...           ...        ...     ...    ...         ...    ...  ...  \n",
       "85502         NaN        725     NaN    NaN         NaN     12   27  \n",
       "85503         NaN        726     NaN    NaN         NaN     12   28  \n",
       "85504         NaN        727     NaN    NaN         NaN     12   29  \n",
       "85505         NaN        728     NaN    NaN         NaN     12   30  \n",
       "85506         NaN        729     NaN    NaN         NaN     12   31  \n",
       "\n",
       "[85507 rows x 29 columns]"
      ]
     },
     "execution_count": 211,
     "metadata": {},
     "output_type": "execute_result"
    }
   ],
   "source": [
    "test.merge(d_dates,on=[\"day_index\"],how=\"right\")"
   ]
  },
  {
   "cell_type": "code",
   "execution_count": 213,
   "id": "bbad274f",
   "metadata": {},
   "outputs": [],
   "source": [
    "test = test.dropna(subset=[\"lat\"])"
   ]
  },
  {
   "cell_type": "markdown",
   "id": "0244934f",
   "metadata": {
    "papermill": {
     "duration": 0.019683,
     "end_time": "2021-11-17T16:13:26.335856",
     "exception": false,
     "start_time": "2021-11-17T16:13:26.316173",
     "status": "completed"
    },
    "tags": []
   },
   "source": [
    "### Load Y"
   ]
  },
  {
   "cell_type": "code",
   "execution_count": 132,
   "id": "14f74030",
   "metadata": {
    "execution": {
     "iopub.execute_input": "2021-11-17T16:13:26.379374Z",
     "iopub.status.busy": "2021-11-17T16:13:26.378681Z",
     "iopub.status.idle": "2021-11-17T16:13:26.755723Z",
     "shell.execute_reply": "2021-11-17T16:13:26.755120Z",
     "shell.execute_reply.started": "2021-11-17T15:30:46.764368Z"
    },
    "papermill": {
     "duration": 0.399977,
     "end_time": "2021-11-17T16:13:26.755869",
     "exception": false,
     "start_time": "2021-11-17T16:13:26.355892",
     "status": "completed"
    },
    "tags": []
   },
   "outputs": [],
   "source": [
    "fname = './data/Train/Train/Y_train.csv'\n",
    "param = 'Ground_truth'  #weather parameter name in the file ('Ground_truth' about Y and 'Prediction' about baseline)\n",
    "ytrain= pd.read_csv(fname, parse_dates=['date'], infer_datetime_format=True)\n",
    "ytrain['number_sta'] = Y_train['number_sta'].astype('category')"
   ]
  },
  {
   "cell_type": "code",
   "execution_count": 133,
   "id": "232261de",
   "metadata": {
    "execution": {
     "iopub.execute_input": "2021-11-17T16:13:26.866035Z",
     "iopub.status.busy": "2021-11-17T16:13:26.864633Z",
     "iopub.status.idle": "2021-11-17T16:13:26.878392Z",
     "shell.execute_reply": "2021-11-17T16:13:26.878934Z",
     "shell.execute_reply.started": "2021-11-17T15:34:18.140604Z"
    },
    "papermill": {
     "duration": 0.040193,
     "end_time": "2021-11-17T16:13:26.879138",
     "exception": false,
     "start_time": "2021-11-17T16:13:26.838945",
     "status": "completed"
    },
    "tags": []
   },
   "outputs": [],
   "source": [
    "ytrain = ytrain[ytrain[\"date\"]!=last_date].copy()"
   ]
  },
  {
   "cell_type": "code",
   "execution_count": 134,
   "id": "0df08ece",
   "metadata": {},
   "outputs": [],
   "source": [
    "X_full = train.dropna()\n",
    "Y_full = ytrain[ytrain.index.isin(X_full.index)].dropna()\n",
    "X_full =X_full[X_full.index.isin(Y_full.index)].dropna()\n",
    "Ximp = X_full.drop(\"Id\",axis=1).values\n",
    "Yimp = np.array(Y_full[\"Ground_truth\"])"
   ]
  },
  {
   "cell_type": "code",
   "execution_count": 135,
   "id": "ed845a4b",
   "metadata": {},
   "outputs": [],
   "source": [
    "from sklearn.model_selection import train_test_split"
   ]
  },
  {
   "cell_type": "code",
   "execution_count": 136,
   "id": "ff07e3bc",
   "metadata": {},
   "outputs": [],
   "source": [
    "X_train, X_test, y_train, y_test = train_test_split(\n",
    "...     Ximp, Yimp, test_size=0.10, random_state=42)"
   ]
  },
  {
   "cell_type": "markdown",
   "id": "18290a5d",
   "metadata": {
    "papermill": {
     "duration": 0.022743,
     "end_time": "2021-11-17T16:13:26.922939",
     "exception": false,
     "start_time": "2021-11-17T16:13:26.900196",
     "status": "completed"
    },
    "tags": []
   },
   "source": [
    "### Application du modèle."
   ]
  },
  {
   "cell_type": "code",
   "execution_count": 21,
   "id": "139e5d7d",
   "metadata": {},
   "outputs": [],
   "source": [
    "from sklearn.impute import KNNImputer"
   ]
  },
  {
   "cell_type": "code",
   "execution_count": 22,
   "id": "02975c06",
   "metadata": {
    "execution": {
     "iopub.execute_input": "2021-11-17T16:13:26.972229Z",
     "iopub.status.busy": "2021-11-17T16:13:26.971200Z",
     "iopub.status.idle": "2021-11-17T16:13:26.974302Z",
     "shell.execute_reply": "2021-11-17T16:13:26.974847Z"
    },
    "papermill": {
     "duration": 0.028077,
     "end_time": "2021-11-17T16:13:26.975026",
     "exception": false,
     "start_time": "2021-11-17T16:13:26.946949",
     "status": "completed"
    },
    "tags": []
   },
   "outputs": [
    {
     "data": {
      "text/plain": [
       "KNNImputer(n_neighbors=2)"
      ]
     },
     "execution_count": 22,
     "metadata": {},
     "output_type": "execute_result"
    }
   ],
   "source": [
    "### réaliser une imputation des données manquantes.\n",
    "\n",
    "X = X_train.drop(\"Id\",axis=1).values\n",
    "imputer = KNNImputer(n_neighbors=2)\n",
    "imputer.fit(X)"
   ]
  },
  {
   "cell_type": "markdown",
   "id": "fc1c2ddb",
   "metadata": {},
   "source": [
    "### Fonction MAPE"
   ]
  },
  {
   "cell_type": "code",
   "execution_count": 12,
   "id": "83b8adb5",
   "metadata": {},
   "outputs": [],
   "source": [
    "yp = np.array([1,2,3,5,6])\n",
    "yt = np.array([1.2,2.6,3.7,5.8,6.2])\n",
    "def MAPE(yp,yt) :\n",
    "    taille = len(yp)\n",
    "    mape = 0\n",
    "    for i in range(taille) :\n",
    "        mape += abs((yt[i]-yp[i])/(yt[i]+1))\n",
    "    mape *= 100/taille\n",
    "    return mape"
   ]
  },
  {
   "cell_type": "markdown",
   "id": "02ac5e7e",
   "metadata": {},
   "source": [
    "### Linear regression"
   ]
  },
  {
   "cell_type": "code",
   "execution_count": 68,
   "id": "5a715322",
   "metadata": {},
   "outputs": [],
   "source": [
    "from sklearn.linear_model import LinearRegression"
   ]
  },
  {
   "cell_type": "code",
   "execution_count": 141,
   "id": "f2c078e2",
   "metadata": {},
   "outputs": [],
   "source": [
    "reg = LinearRegression().fit(X_train, y_train)"
   ]
  },
  {
   "cell_type": "code",
   "execution_count": 142,
   "id": "8272b6cf",
   "metadata": {},
   "outputs": [
    {
     "data": {
      "text/plain": [
       "0.23240890767167122"
      ]
     },
     "execution_count": 142,
     "metadata": {},
     "output_type": "execute_result"
    }
   ],
   "source": [
    "reg.score(X_train, y_train)"
   ]
  },
  {
   "cell_type": "code",
   "execution_count": 143,
   "id": "c7ae23b6",
   "metadata": {},
   "outputs": [
    {
     "data": {
      "text/plain": [
       "104.6640436654025"
      ]
     },
     "execution_count": 143,
     "metadata": {},
     "output_type": "execute_result"
    }
   ],
   "source": [
    "MAPE(reg.predict(X_train),y_train)"
   ]
  },
  {
   "cell_type": "code",
   "execution_count": 144,
   "id": "56c13960",
   "metadata": {},
   "outputs": [
    {
     "data": {
      "text/plain": [
       "104.24008913023096"
      ]
     },
     "execution_count": 144,
     "metadata": {},
     "output_type": "execute_result"
    }
   ],
   "source": [
    "MAPE(reg.predict(X_test),y_test)"
   ]
  },
  {
   "cell_type": "code",
   "execution_count": 133,
   "id": "a2647d58",
   "metadata": {},
   "outputs": [
    {
     "data": {
      "text/plain": [
       "(58097, 23)"
      ]
     },
     "execution_count": 133,
     "metadata": {},
     "output_type": "execute_result"
    }
   ],
   "source": [
    "X_train.shape"
   ]
  },
  {
   "cell_type": "markdown",
   "id": "bc152906",
   "metadata": {},
   "source": [
    "### RandomForestRegression"
   ]
  },
  {
   "cell_type": "code",
   "execution_count": 15,
   "id": "122347bc",
   "metadata": {},
   "outputs": [],
   "source": [
    "from sklearn.ensemble import RandomForestRegressor"
   ]
  },
  {
   "cell_type": "code",
   "execution_count": 137,
   "id": "b2819a9c",
   "metadata": {},
   "outputs": [
    {
     "data": {
      "text/plain": [
       "RandomForestRegressor()"
      ]
     },
     "execution_count": 137,
     "metadata": {},
     "output_type": "execute_result"
    }
   ],
   "source": [
    "regr = RandomForestRegressor()\n",
    "regr.fit(X_train, y_train)"
   ]
  },
  {
   "cell_type": "code",
   "execution_count": 138,
   "id": "d678703d",
   "metadata": {},
   "outputs": [
    {
     "data": {
      "text/plain": [
       "0.9329040473108308"
      ]
     },
     "execution_count": 138,
     "metadata": {},
     "output_type": "execute_result"
    }
   ],
   "source": [
    "regr.score(X_train,y_train)"
   ]
  },
  {
   "cell_type": "code",
   "execution_count": 139,
   "id": "946328ef",
   "metadata": {},
   "outputs": [
    {
     "data": {
      "text/plain": [
       "24.012247772028854"
      ]
     },
     "execution_count": 139,
     "metadata": {},
     "output_type": "execute_result"
    }
   ],
   "source": [
    "MAPE(regr.predict(X_train),y_train)"
   ]
  },
  {
   "cell_type": "code",
   "execution_count": 140,
   "id": "d8305782",
   "metadata": {},
   "outputs": [
    {
     "data": {
      "text/plain": [
       "63.326865301446084"
      ]
     },
     "execution_count": 140,
     "metadata": {},
     "output_type": "execute_result"
    }
   ],
   "source": [
    "MAPE(regr.predict(X_test),y_test)"
   ]
  },
  {
   "cell_type": "code",
   "execution_count": null,
   "id": "ccf44f95",
   "metadata": {},
   "outputs": [],
   "source": []
  }
 ],
 "metadata": {
  "kernelspec": {
   "display_name": "Python 3 (ipykernel)",
   "language": "python",
   "name": "python3"
  },
  "language_info": {
   "codemirror_mode": {
    "name": "ipython",
    "version": 3
   },
   "file_extension": ".py",
   "mimetype": "text/x-python",
   "name": "python",
   "nbconvert_exporter": "python",
   "pygments_lexer": "ipython3",
   "version": "3.9.7"
  },
  "papermill": {
   "default_parameters": {},
   "duration": 54.798373,
   "end_time": "2021-11-17T16:13:27.806509",
   "environment_variables": {},
   "exception": null,
   "input_path": "__notebook__.ipynb",
   "output_path": "__notebook__.ipynb",
   "parameters": {},
   "start_time": "2021-11-17T16:12:33.008136",
   "version": "2.3.3"
  }
 },
 "nbformat": 4,
 "nbformat_minor": 5
}
